{
 "cells": [
  {
   "cell_type": "code",
   "execution_count": 112,
   "id": "0d75a2fe-69e0-4a61-a98d-c914865e0287",
   "metadata": {},
   "outputs": [],
   "source": [
    "import pandas as pd\n",
    "import hvplot.pandas\n",
    "from pathlib import Path"
   ]
  },
  {
   "cell_type": "code",
   "execution_count": 113,
   "id": "26a0c058-9684-476d-915b-f1c27e4e2476",
   "metadata": {},
   "outputs": [
    {
     "data": {
      "text/html": [
       "<div>\n",
       "<style scoped>\n",
       "    .dataframe tbody tr th:only-of-type {\n",
       "        vertical-align: middle;\n",
       "    }\n",
       "\n",
       "    .dataframe tbody tr th {\n",
       "        vertical-align: top;\n",
       "    }\n",
       "\n",
       "    .dataframe thead th {\n",
       "        text-align: right;\n",
       "    }\n",
       "</style>\n",
       "<table border=\"1\" class=\"dataframe\">\n",
       "  <thead>\n",
       "    <tr style=\"text-align: right;\">\n",
       "      <th></th>\n",
       "      <th>Quarter</th>\n",
       "      <th>Govt Spending as a % of GDP</th>\n",
       "    </tr>\n",
       "  </thead>\n",
       "  <tbody>\n",
       "    <tr>\n",
       "      <th>0</th>\n",
       "      <td>Jan-60</td>\n",
       "      <td>11.189358</td>\n",
       "    </tr>\n",
       "    <tr>\n",
       "      <th>1</th>\n",
       "      <td>Apr-60</td>\n",
       "      <td>11.248349</td>\n",
       "    </tr>\n",
       "    <tr>\n",
       "      <th>2</th>\n",
       "      <td>Jul-60</td>\n",
       "      <td>11.307339</td>\n",
       "    </tr>\n",
       "    <tr>\n",
       "      <th>3</th>\n",
       "      <td>Oct-60</td>\n",
       "      <td>11.366330</td>\n",
       "    </tr>\n",
       "    <tr>\n",
       "      <th>4</th>\n",
       "      <td>Jan-61</td>\n",
       "      <td>11.425320</td>\n",
       "    </tr>\n",
       "  </tbody>\n",
       "</table>\n",
       "</div>"
      ],
      "text/plain": [
       "  Quarter  Govt Spending as a % of GDP\n",
       "0  Jan-60                    11.189358\n",
       "1  Apr-60                    11.248349\n",
       "2  Jul-60                    11.307339\n",
       "3  Oct-60                    11.366330\n",
       "4  Jan-61                    11.425320"
      ]
     },
     "execution_count": 113,
     "metadata": {},
     "output_type": "execute_result"
    }
   ],
   "source": [
    "govt_spending_df = pd.read_csv(Path(\"govt_spending_%_gdp.csv\"))\n",
    "govt_spending_df.head()"
   ]
  },
  {
   "cell_type": "code",
   "execution_count": 114,
   "id": "f7d56229-9677-4584-a6e8-ab5fccb1dc85",
   "metadata": {},
   "outputs": [],
   "source": [
    "govt_spending_df = govt_spending_df.set_index('Quarter')"
   ]
  },
  {
   "cell_type": "code",
   "execution_count": 115,
   "id": "8b14b824-06b5-4671-99c9-f101649c722e",
   "metadata": {},
   "outputs": [
    {
     "data": {
      "text/html": [
       "<div>\n",
       "<style scoped>\n",
       "    .dataframe tbody tr th:only-of-type {\n",
       "        vertical-align: middle;\n",
       "    }\n",
       "\n",
       "    .dataframe tbody tr th {\n",
       "        vertical-align: top;\n",
       "    }\n",
       "\n",
       "    .dataframe thead th {\n",
       "        text-align: right;\n",
       "    }\n",
       "</style>\n",
       "<table border=\"1\" class=\"dataframe\">\n",
       "  <thead>\n",
       "    <tr style=\"text-align: right;\">\n",
       "      <th></th>\n",
       "      <th>Govt Spending as a % of GDP</th>\n",
       "    </tr>\n",
       "    <tr>\n",
       "      <th>Quarter</th>\n",
       "      <th></th>\n",
       "    </tr>\n",
       "  </thead>\n",
       "  <tbody>\n",
       "    <tr>\n",
       "      <th>Jan-60</th>\n",
       "      <td>11.189358</td>\n",
       "    </tr>\n",
       "    <tr>\n",
       "      <th>Apr-60</th>\n",
       "      <td>11.248349</td>\n",
       "    </tr>\n",
       "    <tr>\n",
       "      <th>Jul-60</th>\n",
       "      <td>11.307339</td>\n",
       "    </tr>\n",
       "    <tr>\n",
       "      <th>Oct-60</th>\n",
       "      <td>11.366330</td>\n",
       "    </tr>\n",
       "    <tr>\n",
       "      <th>Jan-61</th>\n",
       "      <td>11.425320</td>\n",
       "    </tr>\n",
       "  </tbody>\n",
       "</table>\n",
       "</div>"
      ],
      "text/plain": [
       "         Govt Spending as a % of GDP\n",
       "Quarter                             \n",
       "Jan-60                     11.189358\n",
       "Apr-60                     11.248349\n",
       "Jul-60                     11.307339\n",
       "Oct-60                     11.366330\n",
       "Jan-61                     11.425320"
      ]
     },
     "execution_count": 115,
     "metadata": {},
     "output_type": "execute_result"
    }
   ],
   "source": [
    "govt_spending_df.head()"
   ]
  },
  {
   "cell_type": "code",
   "execution_count": 116,
   "id": "0ba637ad-b291-4d8a-956d-905af5bc4139",
   "metadata": {},
   "outputs": [
    {
     "data": {},
     "metadata": {},
     "output_type": "display_data"
    },
    {
     "data": {
      "application/vnd.holoviews_exec.v0+json": "",
      "text/html": [
       "<div id='1446'>\n",
       "  <div class=\"bk-root\" id=\"a81c92a9-9c0e-4a9d-93c2-e88acf517879\" data-root-id=\"1446\"></div>\n",
       "</div>\n",
       "<script type=\"application/javascript\">(function(root) {\n",
       "  function embed_document(root) {\n",
       "    var docs_json = {\"ae3b94a5-933e-402b-90e1-c97a856a685c\":{\"defs\":[{\"extends\":null,\"module\":null,\"name\":\"ReactiveHTML1\",\"overrides\":[],\"properties\":[]},{\"extends\":null,\"module\":null,\"name\":\"FlexBox1\",\"overrides\":[],\"properties\":[{\"default\":\"flex-start\",\"kind\":null,\"name\":\"align_content\"},{\"default\":\"flex-start\",\"kind\":null,\"name\":\"align_items\"},{\"default\":\"row\",\"kind\":null,\"name\":\"flex_direction\"},{\"default\":\"wrap\",\"kind\":null,\"name\":\"flex_wrap\"},{\"default\":\"flex-start\",\"kind\":null,\"name\":\"justify_content\"}]},{\"extends\":null,\"module\":null,\"name\":\"GridStack1\",\"overrides\":[],\"properties\":[{\"default\":\"warn\",\"kind\":null,\"name\":\"mode\"},{\"default\":null,\"kind\":null,\"name\":\"ncols\"},{\"default\":null,\"kind\":null,\"name\":\"nrows\"},{\"default\":true,\"kind\":null,\"name\":\"allow_resize\"},{\"default\":true,\"kind\":null,\"name\":\"allow_drag\"},{\"default\":[],\"kind\":null,\"name\":\"state\"}]},{\"extends\":null,\"module\":null,\"name\":\"click1\",\"overrides\":[],\"properties\":[{\"default\":\"\",\"kind\":null,\"name\":\"terminal_output\"},{\"default\":\"\",\"kind\":null,\"name\":\"debug_name\"},{\"default\":0,\"kind\":null,\"name\":\"clears\"}]},{\"extends\":null,\"module\":null,\"name\":\"NotificationAreaBase1\",\"overrides\":[],\"properties\":[{\"default\":\"bottom-right\",\"kind\":null,\"name\":\"position\"},{\"default\":0,\"kind\":null,\"name\":\"_clear\"}]},{\"extends\":null,\"module\":null,\"name\":\"NotificationArea1\",\"overrides\":[],\"properties\":[{\"default\":[],\"kind\":null,\"name\":\"notifications\"},{\"default\":\"bottom-right\",\"kind\":null,\"name\":\"position\"},{\"default\":0,\"kind\":null,\"name\":\"_clear\"},{\"default\":[{\"background\":\"#ffc107\",\"icon\":{\"className\":\"fas fa-exclamation-triangle\",\"color\":\"white\",\"tagName\":\"i\"},\"type\":\"warning\"},{\"background\":\"#007bff\",\"icon\":{\"className\":\"fas fa-info-circle\",\"color\":\"white\",\"tagName\":\"i\"},\"type\":\"info\"}],\"kind\":null,\"name\":\"types\"}]},{\"extends\":null,\"module\":null,\"name\":\"Notification\",\"overrides\":[],\"properties\":[{\"default\":null,\"kind\":null,\"name\":\"background\"},{\"default\":3000,\"kind\":null,\"name\":\"duration\"},{\"default\":null,\"kind\":null,\"name\":\"icon\"},{\"default\":\"\",\"kind\":null,\"name\":\"message\"},{\"default\":null,\"kind\":null,\"name\":\"notification_type\"},{\"default\":false,\"kind\":null,\"name\":\"_destroyed\"}]},{\"extends\":null,\"module\":null,\"name\":\"TemplateActions1\",\"overrides\":[],\"properties\":[{\"default\":0,\"kind\":null,\"name\":\"open_modal\"},{\"default\":0,\"kind\":null,\"name\":\"close_modal\"}]},{\"extends\":null,\"module\":null,\"name\":\"MaterialTemplateActions1\",\"overrides\":[],\"properties\":[{\"default\":0,\"kind\":null,\"name\":\"open_modal\"},{\"default\":0,\"kind\":null,\"name\":\"close_modal\"}]}],\"roots\":{\"references\":[{\"attributes\":{\"data\":{\"Govt Spending as a % of GDP\":{\"__ndarray__\":\"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\",\"dtype\":\"float64\",\"order\":\"little\",\"shape\":[245]},\"Govt_Spending_as_a_percent_of_GDP\":{\"__ndarray__\":\"bL+MlPNgJkAzGpaSJ38mQPt0n5BbnSZA/rX+jo+7JkDGEAiNw9kmQF9MyEHoLCdA+YeI9gyAJ0BY3fKqMdMnQPIYs19WJihAWnDURH4BKECH4Z8pptwnQLRSaw7OtydA4cM28/WSJ0DTcZBrnmonQIg5lONGQidAPgGYW+8ZJ0D0yJvTl/EmQDnDolz5NCdAQ9dT5Vp4J0CI0VpuvLsnQJHlC/cd/ydASJqJM9B0KED/TgdwguooQHodL6w0YClAMdKs6ObVKUCwMbeUVtIpQPSqa0DGzilAOCQg7DXLKUC3gyqYpccpQMYqrdjCMipAELiFGeCdKkAfXwha/QgrQGns4JoadCtAhTAr0swsK0Bmjh8Jf+UqQILSaUAxnipAnRa0d+NWKkCIOyhy0mUqQK9G8mzBdCpA1VG8Z7CDKkD8XIZin5IqQFyyhXvA8SpAvAeFlOFQK0AcXYStArArQLiY2cYjDyxAxy0oBFlQLEARqcxBjpEsQFokcX/D0ixAabm/vPgTLUC5OKb+rC0tQM7RNkBhRy1AH1EdghVhLUA06q3DyXotQHxRUMQBZi1AidKcxDlRLUCWU+nEcTwtQKPUNcWpJy1AuEeIVTBWLkAIoTDmtoQvQA6KQbueWTBAmMNqA+LwMEA99i8g5jYxQOEo9TzqfDFAhlu6We7CMUArjn928ggyQLRa/WTO7TFAWxqmU6rSMUDl5iNChrcxQIymzDBinDFABuDZ/a60MUB/GefK+8wxQPlS9JdI5TFAcowBZZX9MUDxndoRNd8xQFK8iL7UwDFA0M1ha3SiMUAx7A8YFIQxQKNAn8iTejFA9qEDeRNxMUBn9pIpk2cxQNlKItoSXjFAoKuMynaEMUCE/yG72qoxQEtgjKs+0TFAMLQhnKL3MUBA50VYGvMxQFAaahSS7jFAQlpj0AnqMUBTjYeMgeUxQIVrpFtlIDJAmVaWKklbMkDLNLP5LJYyQP0S0MgQ0TJAnHXflGa7MkA62O5gvKUyQNk6/iwSkDJAd50N+Wd6MkDkovcZWZ8yQDO1tjpKxDJAgsd1WzvpMkDR2TR8LA4zQMWJM6+4EzNAuTky4kQZM0Ct6TAV0R4zQKGZL0hdJDNAgQx49BohM0BEjJWg2B0zQCT/3UyWGjNA5377+FMXM0BI/tynFd4yQKp9vlbXpDJAC/2fBZlrMkBsfIG0WjIyQMEQpBhBBzJAFaXGfCfcMUBMRr7gDbExQKHa4ET0hTFAzna/6eF7MUD7Ep6Oz3ExQCivfDO9ZzFAVUtb2KpdMUA/IflSkZsxQCj3ls132TFAEc00SF4XMkD7otLCRFUyQEfku5S6izJAlCWlZjDCMkDhZo44pvgyQC2odwocLzNA8G5lic4nM0CUQigIgSAzQFcJFoczGTNA+9zYBeYRM0CZgvOx1O0yQDcoDl7DyTJA1c0oCrKlMkByc0O2oIEyQKTL9nwoazJA1SOqQ7BUMkAHfF0KOD4yQDnUENG/JzJAlLEMNwEkMkDwjgidQiAyQEtsBAOEHDJAiVbVaMUYMkBApedpAgQyQPfz+Wo/7zFAkU/ha3zaMUBInvNsucUxQMEyPuX7wzFAV7qzXT7CMUDQTv7VgMAxQEnjSE7DvjFA2rppbfnXMUBNn1+ML/ExQMCDVatlCjJAUVt2ypsjMkAW4WBOVBUyQNxmS9IMBzJAoew1VsX4MUBJf/XZfeoxQA0y6tZC6TFAtfGz0wfoMUBcsX3QzOYxQCFkcs2R5TFAWDGFnDHYMUCP/pdr0coxQMbLqjpxvTFA/Zi9CRGwMUBBDNcXx7IxQIR/8CV9tTFAyPIJNDO4MUAMZiNC6boxQEkNrxwIszFAh7Q69yarMUDEW8bRRaMxQCD2fKxkmzFAWKnivryfMUCuT3PRFKQxQOYC2eNsqDFAPKlp9sSsMUA4Sj2PeqcxQDXrECgwojFAT38PweWcMUBLIONZm5cxQDJq58lvjzFANqcWOkSHMUAd8RqqGH8xQAQ7HxrtdjFAcV9ih4xxMUDAkHr0K2wxQC21vWHLZjFAmtkAz2phMUAumTr6JXcxQOBLnyXhjDFAkv4DUZyiMUAnvj18V7gxQJRwvmQl0TFAASM/TfPpMUBu1b81wQIyQNqHQB6PGzJA46KcYOYPMkDPys2iPQQyQLry/uSU+DFAww1bJ+zsMUACKRSWNvsxQF83+ASBCTJAnlKxc8sXMkD7YJXiFSYyQKrpYQVLITJAd2VZKIAcMkAm7iVLtRcyQPNpHW7qEjJAWvJXTJUMMkDBepIqQAYyQEb29wjr/zFArX4y55X5MUAvTbYmghEyQLAbOmZuKTJAE/eSpVpBMkCUxRblRlkyQHDniJ2liDJASwn7VQS4MkAnK20OY+cyQAJN38bBFjNAgps54pgTM0Dk9mj9bxAzQGVFwxhHDTNAx6DyMx4KM0BPYHRYZQ4zQNcf9nysEjNAfdKiofMWM0AGkiTGOhszQDvZ9guwMjNAjhP0USVKM0DDWsaXmmEzQPihmN0PeTNAUx+rCPXRM0CunL0z2io0QAka0F6/gzRAZJfiiaTcNECbh7je2wA1QLWEYzMTJTVA7HQ5iEpJNUAjZQ/dgW01QA==\",\"dtype\":\"float64\",\"order\":\"little\",\"shape\":[245]},\"Quarter\":[\"Jan-60\",\"Apr-60\",\"Jul-60\",\"Oct-60\",\"Jan-61\",\"Apr-61\",\"Jul-61\",\"Oct-61\",\"Jan-62\",\"Apr-62\",\"Jul-62\",\"Oct-62\",\"Jan-63\",\"Apr-63\",\"Jul-63\",\"Oct-63\",\"Jan-64\",\"Apr-64\",\"Jul-64\",\"Oct-64\",\"Jan-65\",\"Apr-65\",\"Jul-65\",\"Oct-65\",\"Jan-66\",\"Apr-66\",\"Jul-66\",\"Oct-66\",\"Jan-67\",\"Apr-67\",\"Jul-67\",\"Oct-67\",\"Jan-68\",\"Apr-68\",\"Jul-68\",\"Oct-68\",\"Jan-69\",\"Apr-69\",\"Jul-69\",\"Oct-69\",\"Jan-70\",\"Apr-70\",\"Jul-70\",\"Oct-70\",\"Jan-71\",\"Apr-71\",\"Jul-71\",\"Oct-71\",\"Jan-72\",\"Apr-72\",\"Jul-72\",\"Oct-72\",\"Jan-73\",\"Apr-73\",\"Jul-73\",\"Oct-73\",\"Jan-74\",\"Apr-74\",\"Jul-74\",\"Oct-74\",\"Jan-75\",\"Apr-75\",\"Jul-75\",\"Oct-75\",\"Jan-76\",\"Apr-76\",\"Jul-76\",\"Oct-76\",\"Jan-77\",\"Apr-77\",\"Jul-77\",\"Oct-77\",\"Jan-78\",\"Apr-78\",\"Jul-78\",\"Oct-78\",\"Jan-79\",\"Apr-79\",\"Jul-79\",\"Oct-79\",\"Jan-80\",\"Apr-80\",\"Jul-80\",\"Oct-80\",\"Jan-81\",\"Apr-81\",\"Jul-81\",\"Oct-81\",\"Jan-82\",\"Apr-82\",\"Jul-82\",\"Oct-82\",\"Jan-83\",\"Apr-83\",\"Jul-83\",\"Oct-83\",\"Jan-84\",\"Apr-84\",\"Jul-84\",\"Oct-84\",\"Jan-85\",\"Apr-85\",\"Jul-85\",\"Oct-85\",\"Jan-86\",\"Apr-86\",\"Jul-86\",\"Oct-86\",\"Jan-87\",\"Apr-87\",\"Jul-87\",\"Oct-87\",\"Jan-88\",\"Apr-88\",\"Jul-88\",\"Oct-88\",\"Jan-89\",\"Apr-89\",\"Jul-89\",\"Oct-89\",\"Jan-90\",\"Apr-90\",\"Jul-90\",\"Oct-90\",\"Jan-91\",\"Apr-91\",\"Jul-91\",\"Oct-91\",\"Jan-92\",\"Apr-92\",\"Jul-92\",\"Oct-92\",\"Jan-93\",\"Apr-93\",\"Jul-93\",\"Oct-93\",\"Jan-94\",\"Apr-94\",\"Jul-94\",\"Oct-94\",\"Jan-95\",\"Apr-95\",\"Jul-95\",\"Oct-95\",\"Jan-96\",\"Apr-96\",\"Jul-96\",\"Oct-96\",\"Jan-97\",\"Apr-97\",\"Jul-97\",\"Oct-97\",\"Jan-98\",\"Apr-98\",\"Jul-98\",\"Oct-98\",\"Jan-99\",\"Apr-99\",\"Jul-99\",\"Oct-99\",\"Jan-00\",\"Apr-00\",\"Jul-00\",\"Oct-00\",\"Jan-01\",\"Apr-01\",\"Jul-01\",\"Oct-01\",\"Jan-02\",\"Apr-02\",\"Jul-02\",\"Oct-02\",\"Jan-03\",\"Apr-03\",\"Jul-03\",\"Oct-03\",\"Jan-04\",\"Apr-04\",\"Jul-04\",\"Oct-04\",\"Jan-05\",\"Apr-05\",\"Jul-05\",\"Oct-05\",\"Jan-06\",\"Apr-06\",\"Jul-06\",\"Oct-06\",\"Jan-07\",\"Apr-07\",\"Jul-07\",\"Oct-07\",\"Jan-08\",\"Apr-08\",\"Jul-08\",\"Oct-08\",\"Jan-09\",\"Apr-09\",\"Jul-09\",\"Oct-09\",\"Jan-10\",\"Apr-10\",\"Jul-10\",\"Oct-10\",\"Jan-11\",\"Apr-11\",\"Jul-11\",\"Oct-11\",\"Jan-12\",\"Apr-12\",\"Jul-12\",\"Oct-12\",\"Jan-13\",\"Apr-13\",\"Jul-13\",\"Oct-13\",\"Jan-14\",\"Apr-14\",\"Jul-14\",\"Oct-14\",\"Jan-15\",\"Apr-15\",\"Jul-15\",\"Oct-15\",\"Jan-16\",\"Apr-16\",\"Jul-16\",\"Oct-16\",\"Jan-17\",\"Apr-17\",\"Jul-17\",\"Oct-17\",\"Jan-18\",\"Apr-18\",\"Jul-18\",\"Oct-18\",\"Jan-19\",\"Apr-19\",\"Jul-19\",\"Oct-19\",\"Jan-20\",\"Apr-20\",\"Jul-20\",\"Oct-20\",\"Jan-21\"]},\"selected\":{\"id\":\"1481\"},\"selection_policy\":{\"id\":\"1502\"}},\"id\":\"1480\",\"type\":\"ColumnDataSource\"},{\"attributes\":{\"line_color\":\"#30a2da\",\"line_width\":2,\"x\":{\"field\":\"Quarter\"},\"y\":{\"field\":\"Govt Spending as a % of GDP\"}},\"id\":\"1483\",\"type\":\"Line\"},{\"attributes\":{},\"id\":\"1481\",\"type\":\"Selection\"},{\"attributes\":{\"below\":[{\"id\":\"1460\"}],\"center\":[{\"id\":\"1462\"},{\"id\":\"1466\"}],\"height\":300,\"left\":[{\"id\":\"1463\"}],\"margin\":[5,5,5,5],\"min_border_bottom\":10,\"min_border_left\":10,\"min_border_right\":10,\"min_border_top\":10,\"renderers\":[{\"id\":\"1486\"}],\"sizing_mode\":\"fixed\",\"title\":{\"id\":\"1452\"},\"toolbar\":{\"id\":\"1473\"},\"width\":700,\"x_range\":{\"id\":\"1448\"},\"x_scale\":{\"id\":\"1456\"},\"y_range\":{\"id\":\"1449\"},\"y_scale\":{\"id\":\"1458\"}},\"id\":\"1451\",\"subtype\":\"Figure\",\"type\":\"Plot\"},{\"attributes\":{\"line_alpha\":0.2,\"line_color\":\"#30a2da\",\"line_width\":2,\"x\":{\"field\":\"Quarter\"},\"y\":{\"field\":\"Govt Spending as a % of GDP\"}},\"id\":\"1485\",\"type\":\"Line\"},{\"attributes\":{},\"id\":\"1502\",\"type\":\"UnionRenderers\"},{\"attributes\":{\"tools\":[{\"id\":\"1450\"},{\"id\":\"1467\"},{\"id\":\"1468\"},{\"id\":\"1469\"},{\"id\":\"1470\"},{\"id\":\"1471\"}]},\"id\":\"1473\",\"type\":\"Toolbar\"},{\"attributes\":{\"children\":[{\"id\":\"1447\"},{\"id\":\"1451\"},{\"id\":\"1505\"}],\"margin\":[0,0,0,0],\"name\":\"Row01288\",\"tags\":[\"embedded\"]},\"id\":\"1446\",\"type\":\"Row\"},{\"attributes\":{\"end\":22.451603254000002,\"reset_end\":22.451603254000002,\"reset_start\":10.165517926000001,\"start\":10.165517926000001,\"tags\":[[[\"Govt Spending as a % of GDP\",\"Govt Spending as a % of GDP\",null]]]},\"id\":\"1449\",\"type\":\"Range1d\"},{\"attributes\":{\"bottom_units\":\"screen\",\"coordinates\":null,\"fill_alpha\":0.5,\"fill_color\":\"lightgrey\",\"group\":null,\"left_units\":\"screen\",\"level\":\"overlay\",\"line_alpha\":1.0,\"line_color\":\"black\",\"line_dash\":[4,4],\"line_width\":2,\"right_units\":\"screen\",\"syncable\":false,\"top_units\":\"screen\"},\"id\":\"1472\",\"type\":\"BoxAnnotation\"},{\"attributes\":{},\"id\":\"1467\",\"type\":\"SaveTool\"},{\"attributes\":{},\"id\":\"1468\",\"type\":\"PanTool\"},{\"attributes\":{\"coordinates\":null,\"data_source\":{\"id\":\"1480\"},\"glyph\":{\"id\":\"1483\"},\"group\":null,\"hover_glyph\":null,\"muted_glyph\":{\"id\":\"1485\"},\"nonselection_glyph\":{\"id\":\"1484\"},\"selection_glyph\":{\"id\":\"1488\"},\"view\":{\"id\":\"1487\"}},\"id\":\"1486\",\"type\":\"GlyphRenderer\"},{\"attributes\":{},\"id\":\"1471\",\"type\":\"ResetTool\"},{\"attributes\":{},\"id\":\"1469\",\"type\":\"WheelZoomTool\"},{\"attributes\":{},\"id\":\"1494\",\"type\":\"AllLabels\"},{\"attributes\":{\"callback\":null,\"renderers\":[{\"id\":\"1486\"}],\"tags\":[\"hv_created\"],\"tooltips\":[[\"Quarter\",\"@{Quarter}\"],[\"Govt Spending as a % of GDP\",\"@{Govt_Spending_as_a_percent_of_GDP}\"]]},\"id\":\"1450\",\"type\":\"HoverTool\"},{\"attributes\":{\"overlay\":{\"id\":\"1472\"}},\"id\":\"1470\",\"type\":\"BoxZoomTool\"},{\"attributes\":{\"line_color\":\"#30a2da\",\"line_width\":2,\"x\":{\"field\":\"Quarter\"},\"y\":{\"field\":\"Govt Spending as a % of GDP\"}},\"id\":\"1488\",\"type\":\"Line\"},{\"attributes\":{\"source\":{\"id\":\"1480\"}},\"id\":\"1487\",\"type\":\"CDSView\"},{\"attributes\":{},\"id\":\"1490\",\"type\":\"CategoricalTickFormatter\"},{\"attributes\":{\"margin\":[5,5,5,5],\"name\":\"HSpacer01293\",\"sizing_mode\":\"stretch_width\"},\"id\":\"1505\",\"type\":\"Spacer\"},{\"attributes\":{\"factors\":[\"Jan-60\",\"Apr-60\",\"Jul-60\",\"Oct-60\",\"Jan-61\",\"Apr-61\",\"Jul-61\",\"Oct-61\",\"Jan-62\",\"Apr-62\",\"Jul-62\",\"Oct-62\",\"Jan-63\",\"Apr-63\",\"Jul-63\",\"Oct-63\",\"Jan-64\",\"Apr-64\",\"Jul-64\",\"Oct-64\",\"Jan-65\",\"Apr-65\",\"Jul-65\",\"Oct-65\",\"Jan-66\",\"Apr-66\",\"Jul-66\",\"Oct-66\",\"Jan-67\",\"Apr-67\",\"Jul-67\",\"Oct-67\",\"Jan-68\",\"Apr-68\",\"Jul-68\",\"Oct-68\",\"Jan-69\",\"Apr-69\",\"Jul-69\",\"Oct-69\",\"Jan-70\",\"Apr-70\",\"Jul-70\",\"Oct-70\",\"Jan-71\",\"Apr-71\",\"Jul-71\",\"Oct-71\",\"Jan-72\",\"Apr-72\",\"Jul-72\",\"Oct-72\",\"Jan-73\",\"Apr-73\",\"Jul-73\",\"Oct-73\",\"Jan-74\",\"Apr-74\",\"Jul-74\",\"Oct-74\",\"Jan-75\",\"Apr-75\",\"Jul-75\",\"Oct-75\",\"Jan-76\",\"Apr-76\",\"Jul-76\",\"Oct-76\",\"Jan-77\",\"Apr-77\",\"Jul-77\",\"Oct-77\",\"Jan-78\",\"Apr-78\",\"Jul-78\",\"Oct-78\",\"Jan-79\",\"Apr-79\",\"Jul-79\",\"Oct-79\",\"Jan-80\",\"Apr-80\",\"Jul-80\",\"Oct-80\",\"Jan-81\",\"Apr-81\",\"Jul-81\",\"Oct-81\",\"Jan-82\",\"Apr-82\",\"Jul-82\",\"Oct-82\",\"Jan-83\",\"Apr-83\",\"Jul-83\",\"Oct-83\",\"Jan-84\",\"Apr-84\",\"Jul-84\",\"Oct-84\",\"Jan-85\",\"Apr-85\",\"Jul-85\",\"Oct-85\",\"Jan-86\",\"Apr-86\",\"Jul-86\",\"Oct-86\",\"Jan-87\",\"Apr-87\",\"Jul-87\",\"Oct-87\",\"Jan-88\",\"Apr-88\",\"Jul-88\",\"Oct-88\",\"Jan-89\",\"Apr-89\",\"Jul-89\",\"Oct-89\",\"Jan-90\",\"Apr-90\",\"Jul-90\",\"Oct-90\",\"Jan-91\",\"Apr-91\",\"Jul-91\",\"Oct-91\",\"Jan-92\",\"Apr-92\",\"Jul-92\",\"Oct-92\",\"Jan-93\",\"Apr-93\",\"Jul-93\",\"Oct-93\",\"Jan-94\",\"Apr-94\",\"Jul-94\",\"Oct-94\",\"Jan-95\",\"Apr-95\",\"Jul-95\",\"Oct-95\",\"Jan-96\",\"Apr-96\",\"Jul-96\",\"Oct-96\",\"Jan-97\",\"Apr-97\",\"Jul-97\",\"Oct-97\",\"Jan-98\",\"Apr-98\",\"Jul-98\",\"Oct-98\",\"Jan-99\",\"Apr-99\",\"Jul-99\",\"Oct-99\",\"Jan-00\",\"Apr-00\",\"Jul-00\",\"Oct-00\",\"Jan-01\",\"Apr-01\",\"Jul-01\",\"Oct-01\",\"Jan-02\",\"Apr-02\",\"Jul-02\",\"Oct-02\",\"Jan-03\",\"Apr-03\",\"Jul-03\",\"Oct-03\",\"Jan-04\",\"Apr-04\",\"Jul-04\",\"Oct-04\",\"Jan-05\",\"Apr-05\",\"Jul-05\",\"Oct-05\",\"Jan-06\",\"Apr-06\",\"Jul-06\",\"Oct-06\",\"Jan-07\",\"Apr-07\",\"Jul-07\",\"Oct-07\",\"Jan-08\",\"Apr-08\",\"Jul-08\",\"Oct-08\",\"Jan-09\",\"Apr-09\",\"Jul-09\",\"Oct-09\",\"Jan-10\",\"Apr-10\",\"Jul-10\",\"Oct-10\",\"Jan-11\",\"Apr-11\",\"Jul-11\",\"Oct-11\",\"Jan-12\",\"Apr-12\",\"Jul-12\",\"Oct-12\",\"Jan-13\",\"Apr-13\",\"Jul-13\",\"Oct-13\",\"Jan-14\",\"Apr-14\",\"Jul-14\",\"Oct-14\",\"Jan-15\",\"Apr-15\",\"Jul-15\",\"Oct-15\",\"Jan-16\",\"Apr-16\",\"Jul-16\",\"Oct-16\",\"Jan-17\",\"Apr-17\",\"Jul-17\",\"Oct-17\",\"Jan-18\",\"Apr-18\",\"Jul-18\",\"Oct-18\",\"Jan-19\",\"Apr-19\",\"Jul-19\",\"Oct-19\",\"Jan-20\",\"Apr-20\",\"Jul-20\",\"Oct-20\",\"Jan-21\"],\"tags\":[[[\"Quarter\",\"Quarter\",null]]]},\"id\":\"1448\",\"type\":\"FactorRange\"},{\"attributes\":{},\"id\":\"1491\",\"type\":\"AllLabels\"},{\"attributes\":{\"margin\":[5,5,5,5],\"name\":\"HSpacer01292\",\"sizing_mode\":\"stretch_width\"},\"id\":\"1447\",\"type\":\"Spacer\"},{\"attributes\":{\"coordinates\":null,\"group\":null,\"text_color\":\"black\",\"text_font_size\":\"12pt\"},\"id\":\"1452\",\"type\":\"Title\"},{\"attributes\":{\"axis\":{\"id\":\"1460\"},\"coordinates\":null,\"grid_line_color\":null,\"group\":null,\"ticker\":null},\"id\":\"1462\",\"type\":\"Grid\"},{\"attributes\":{\"axis_label\":\"Quarter\",\"coordinates\":null,\"formatter\":{\"id\":\"1490\"},\"group\":null,\"major_label_policy\":{\"id\":\"1491\"},\"ticker\":{\"id\":\"1461\"}},\"id\":\"1460\",\"type\":\"CategoricalAxis\"},{\"attributes\":{},\"id\":\"1458\",\"type\":\"LinearScale\"},{\"attributes\":{},\"id\":\"1456\",\"type\":\"CategoricalScale\"},{\"attributes\":{},\"id\":\"1464\",\"type\":\"BasicTicker\"},{\"attributes\":{},\"id\":\"1461\",\"type\":\"CategoricalTicker\"},{\"attributes\":{},\"id\":\"1493\",\"type\":\"BasicTickFormatter\"},{\"attributes\":{\"axis_label\":\"Govt Spending as a % of GDP\",\"coordinates\":null,\"formatter\":{\"id\":\"1493\"},\"group\":null,\"major_label_policy\":{\"id\":\"1494\"},\"ticker\":{\"id\":\"1464\"}},\"id\":\"1463\",\"type\":\"LinearAxis\"},{\"attributes\":{\"axis\":{\"id\":\"1463\"},\"coordinates\":null,\"dimension\":1,\"grid_line_color\":null,\"group\":null,\"ticker\":null},\"id\":\"1466\",\"type\":\"Grid\"},{\"attributes\":{\"line_alpha\":0.1,\"line_color\":\"#30a2da\",\"line_width\":2,\"x\":{\"field\":\"Quarter\"},\"y\":{\"field\":\"Govt Spending as a % of GDP\"}},\"id\":\"1484\",\"type\":\"Line\"}],\"root_ids\":[\"1446\"]},\"title\":\"Bokeh Application\",\"version\":\"2.4.3\"}};\n",
       "    var render_items = [{\"docid\":\"ae3b94a5-933e-402b-90e1-c97a856a685c\",\"root_ids\":[\"1446\"],\"roots\":{\"1446\":\"a81c92a9-9c0e-4a9d-93c2-e88acf517879\"}}];\n",
       "    root.Bokeh.embed.embed_items_notebook(docs_json, render_items);\n",
       "  }\n",
       "  if (root.Bokeh !== undefined && root.Bokeh.Panel !== undefined) {\n",
       "    embed_document(root);\n",
       "  } else {\n",
       "    var attempts = 0;\n",
       "    var timer = setInterval(function(root) {\n",
       "      if (root.Bokeh !== undefined && root.Bokeh.Panel !== undefined) {\n",
       "        clearInterval(timer);\n",
       "        embed_document(root);\n",
       "      } else if (document.readyState == \"complete\") {\n",
       "        attempts++;\n",
       "        if (attempts > 200) {\n",
       "          clearInterval(timer);\n",
       "          console.log(\"Bokeh: ERROR: Unable to run BokehJS code because BokehJS library is missing\");\n",
       "        }\n",
       "      }\n",
       "    }, 25, root)\n",
       "  }\n",
       "})(window);</script>"
      ],
      "text/plain": [
       ":Curve   [Quarter]   (Govt Spending as a % of GDP)"
      ]
     },
     "execution_count": 116,
     "metadata": {
      "application/vnd.holoviews_exec.v0+json": {
       "id": "1446"
      }
     },
     "output_type": "execute_result"
    }
   ],
   "source": [
    "govt_spending_df.hvplot.line(x='Quarter')"
   ]
  },
  {
   "cell_type": "code",
   "execution_count": 117,
   "id": "19a87f28-7995-4260-a14c-0c88fda3562c",
   "metadata": {},
   "outputs": [
    {
     "data": {
      "text/html": [
       "<div>\n",
       "<style scoped>\n",
       "    .dataframe tbody tr th:only-of-type {\n",
       "        vertical-align: middle;\n",
       "    }\n",
       "\n",
       "    .dataframe tbody tr th {\n",
       "        vertical-align: top;\n",
       "    }\n",
       "\n",
       "    .dataframe thead th {\n",
       "        text-align: right;\n",
       "    }\n",
       "</style>\n",
       "<table border=\"1\" class=\"dataframe\">\n",
       "  <thead>\n",
       "    <tr style=\"text-align: right;\">\n",
       "      <th></th>\n",
       "      <th>Govt Spending as a % of GDP</th>\n",
       "    </tr>\n",
       "    <tr>\n",
       "      <th>Quarter</th>\n",
       "      <th></th>\n",
       "    </tr>\n",
       "  </thead>\n",
       "  <tbody>\n",
       "    <tr>\n",
       "      <th>Jan-60</th>\n",
       "      <td>11.189358</td>\n",
       "    </tr>\n",
       "    <tr>\n",
       "      <th>Apr-60</th>\n",
       "      <td>11.248349</td>\n",
       "    </tr>\n",
       "    <tr>\n",
       "      <th>Jul-60</th>\n",
       "      <td>11.307339</td>\n",
       "    </tr>\n",
       "    <tr>\n",
       "      <th>Oct-60</th>\n",
       "      <td>11.366330</td>\n",
       "    </tr>\n",
       "    <tr>\n",
       "      <th>Jan-61</th>\n",
       "      <td>11.425320</td>\n",
       "    </tr>\n",
       "  </tbody>\n",
       "</table>\n",
       "</div>"
      ],
      "text/plain": [
       "         Govt Spending as a % of GDP\n",
       "Quarter                             \n",
       "Jan-60                     11.189358\n",
       "Apr-60                     11.248349\n",
       "Jul-60                     11.307339\n",
       "Oct-60                     11.366330\n",
       "Jan-61                     11.425320"
      ]
     },
     "execution_count": 117,
     "metadata": {},
     "output_type": "execute_result"
    }
   ],
   "source": [
    "govt_spending_60s = govt_spending_df[0:40]\n",
    "govt_spending_60s.head()"
   ]
  },
  {
   "cell_type": "code",
   "execution_count": 118,
   "id": "fdb3c04f-3c30-4adc-8442-9b40f437e46c",
   "metadata": {},
   "outputs": [
    {
     "data": {
      "text/html": [
       "<div>\n",
       "<style scoped>\n",
       "    .dataframe tbody tr th:only-of-type {\n",
       "        vertical-align: middle;\n",
       "    }\n",
       "\n",
       "    .dataframe tbody tr th {\n",
       "        vertical-align: top;\n",
       "    }\n",
       "\n",
       "    .dataframe thead th {\n",
       "        text-align: right;\n",
       "    }\n",
       "</style>\n",
       "<table border=\"1\" class=\"dataframe\">\n",
       "  <thead>\n",
       "    <tr style=\"text-align: right;\">\n",
       "      <th></th>\n",
       "      <th>Govt Spending as a % of GDP</th>\n",
       "    </tr>\n",
       "    <tr>\n",
       "      <th>Quarter</th>\n",
       "      <th></th>\n",
       "    </tr>\n",
       "  </thead>\n",
       "  <tbody>\n",
       "    <tr>\n",
       "      <th>Apr-11</th>\n",
       "      <td>17.981302</td>\n",
       "    </tr>\n",
       "    <tr>\n",
       "      <th>Jul-11</th>\n",
       "      <td>18.037125</td>\n",
       "    </tr>\n",
       "    <tr>\n",
       "      <th>Oct-11</th>\n",
       "      <td>18.092948</td>\n",
       "    </tr>\n",
       "    <tr>\n",
       "      <th>Jan-12</th>\n",
       "      <td>18.148771</td>\n",
       "    </tr>\n",
       "    <tr>\n",
       "      <th>Apr-12</th>\n",
       "      <td>18.130051</td>\n",
       "    </tr>\n",
       "  </tbody>\n",
       "</table>\n",
       "</div>"
      ],
      "text/plain": [
       "         Govt Spending as a % of GDP\n",
       "Quarter                             \n",
       "Apr-11                     17.981302\n",
       "Jul-11                     18.037125\n",
       "Oct-11                     18.092948\n",
       "Jan-12                     18.148771\n",
       "Apr-12                     18.130051"
      ]
     },
     "execution_count": 118,
     "metadata": {},
     "output_type": "execute_result"
    }
   ],
   "source": [
    "govt_spending_now = govt_spending_df[-40:]\n",
    "govt_spending_now.head()"
   ]
  },
  {
   "cell_type": "code",
   "execution_count": 119,
   "id": "dc86ce72-9f48-46d8-9deb-8d65415be216",
   "metadata": {},
   "outputs": [
    {
     "data": {
      "text/html": [
       "<div>\n",
       "<style scoped>\n",
       "    .dataframe tbody tr th:only-of-type {\n",
       "        vertical-align: middle;\n",
       "    }\n",
       "\n",
       "    .dataframe tbody tr th {\n",
       "        vertical-align: top;\n",
       "    }\n",
       "\n",
       "    .dataframe thead th {\n",
       "        text-align: right;\n",
       "    }\n",
       "</style>\n",
       "<table border=\"1\" class=\"dataframe\">\n",
       "  <thead>\n",
       "    <tr style=\"text-align: right;\">\n",
       "      <th></th>\n",
       "      <th>Quarter</th>\n",
       "      <th>Govt Spending as a % of GDP</th>\n",
       "    </tr>\n",
       "  </thead>\n",
       "  <tbody>\n",
       "    <tr>\n",
       "      <th>0</th>\n",
       "      <td>Jan-60</td>\n",
       "      <td>11.189358</td>\n",
       "    </tr>\n",
       "    <tr>\n",
       "      <th>1</th>\n",
       "      <td>Apr-60</td>\n",
       "      <td>11.248349</td>\n",
       "    </tr>\n",
       "    <tr>\n",
       "      <th>2</th>\n",
       "      <td>Jul-60</td>\n",
       "      <td>11.307339</td>\n",
       "    </tr>\n",
       "    <tr>\n",
       "      <th>3</th>\n",
       "      <td>Oct-60</td>\n",
       "      <td>11.366330</td>\n",
       "    </tr>\n",
       "    <tr>\n",
       "      <th>4</th>\n",
       "      <td>Jan-61</td>\n",
       "      <td>11.425320</td>\n",
       "    </tr>\n",
       "  </tbody>\n",
       "</table>\n",
       "</div>"
      ],
      "text/plain": [
       "  Quarter  Govt Spending as a % of GDP\n",
       "0  Jan-60                    11.189358\n",
       "1  Apr-60                    11.248349\n",
       "2  Jul-60                    11.307339\n",
       "3  Oct-60                    11.366330\n",
       "4  Jan-61                    11.425320"
      ]
     },
     "execution_count": 119,
     "metadata": {},
     "output_type": "execute_result"
    }
   ],
   "source": [
    "govt_spending_60s = govt_spending_60s.reset_index()\n",
    "govt_spending_60s.head()"
   ]
  },
  {
   "cell_type": "code",
   "execution_count": 120,
   "id": "721d7028-bc94-4d82-bfbf-a2f6fde72f91",
   "metadata": {},
   "outputs": [
    {
     "data": {
      "text/html": [
       "<div>\n",
       "<style scoped>\n",
       "    .dataframe tbody tr th:only-of-type {\n",
       "        vertical-align: middle;\n",
       "    }\n",
       "\n",
       "    .dataframe tbody tr th {\n",
       "        vertical-align: top;\n",
       "    }\n",
       "\n",
       "    .dataframe thead th {\n",
       "        text-align: right;\n",
       "    }\n",
       "</style>\n",
       "<table border=\"1\" class=\"dataframe\">\n",
       "  <thead>\n",
       "    <tr style=\"text-align: right;\">\n",
       "      <th></th>\n",
       "      <th>1960-1970</th>\n",
       "    </tr>\n",
       "  </thead>\n",
       "  <tbody>\n",
       "    <tr>\n",
       "      <th>0</th>\n",
       "      <td>11.189358</td>\n",
       "    </tr>\n",
       "    <tr>\n",
       "      <th>1</th>\n",
       "      <td>11.248349</td>\n",
       "    </tr>\n",
       "    <tr>\n",
       "      <th>2</th>\n",
       "      <td>11.307339</td>\n",
       "    </tr>\n",
       "    <tr>\n",
       "      <th>3</th>\n",
       "      <td>11.366330</td>\n",
       "    </tr>\n",
       "    <tr>\n",
       "      <th>4</th>\n",
       "      <td>11.425320</td>\n",
       "    </tr>\n",
       "  </tbody>\n",
       "</table>\n",
       "</div>"
      ],
      "text/plain": [
       "   1960-1970\n",
       "0  11.189358\n",
       "1  11.248349\n",
       "2  11.307339\n",
       "3  11.366330\n",
       "4  11.425320"
      ]
     },
     "execution_count": 120,
     "metadata": {},
     "output_type": "execute_result"
    }
   ],
   "source": [
    "govt_spending_60s = govt_spending_60s.drop(columns=['Quarter'])\n",
    "govt_spending_60s = govt_spending_60s.rename(columns={\"Govt Spending as a % of GDP\":\"1960-1970\"})\n",
    "govt_spending_60s.head()"
   ]
  },
  {
   "cell_type": "code",
   "execution_count": 121,
   "id": "e361965c-d822-4908-b0b9-70ea6d05dce8",
   "metadata": {},
   "outputs": [
    {
     "data": {
      "text/html": [
       "<div>\n",
       "<style scoped>\n",
       "    .dataframe tbody tr th:only-of-type {\n",
       "        vertical-align: middle;\n",
       "    }\n",
       "\n",
       "    .dataframe tbody tr th {\n",
       "        vertical-align: top;\n",
       "    }\n",
       "\n",
       "    .dataframe thead th {\n",
       "        text-align: right;\n",
       "    }\n",
       "</style>\n",
       "<table border=\"1\" class=\"dataframe\">\n",
       "  <thead>\n",
       "    <tr style=\"text-align: right;\">\n",
       "      <th></th>\n",
       "      <th>Quarter</th>\n",
       "      <th>Govt Spending as a % of GDP</th>\n",
       "    </tr>\n",
       "  </thead>\n",
       "  <tbody>\n",
       "    <tr>\n",
       "      <th>0</th>\n",
       "      <td>Apr-11</td>\n",
       "      <td>17.981302</td>\n",
       "    </tr>\n",
       "    <tr>\n",
       "      <th>1</th>\n",
       "      <td>Jul-11</td>\n",
       "      <td>18.037125</td>\n",
       "    </tr>\n",
       "    <tr>\n",
       "      <th>2</th>\n",
       "      <td>Oct-11</td>\n",
       "      <td>18.092948</td>\n",
       "    </tr>\n",
       "    <tr>\n",
       "      <th>3</th>\n",
       "      <td>Jan-12</td>\n",
       "      <td>18.148771</td>\n",
       "    </tr>\n",
       "    <tr>\n",
       "      <th>4</th>\n",
       "      <td>Apr-12</td>\n",
       "      <td>18.130051</td>\n",
       "    </tr>\n",
       "  </tbody>\n",
       "</table>\n",
       "</div>"
      ],
      "text/plain": [
       "  Quarter  Govt Spending as a % of GDP\n",
       "0  Apr-11                    17.981302\n",
       "1  Jul-11                    18.037125\n",
       "2  Oct-11                    18.092948\n",
       "3  Jan-12                    18.148771\n",
       "4  Apr-12                    18.130051"
      ]
     },
     "execution_count": 121,
     "metadata": {},
     "output_type": "execute_result"
    }
   ],
   "source": [
    "govt_spending_now = govt_spending_now.reset_index()\n",
    "govt_spending_now.head()"
   ]
  },
  {
   "cell_type": "code",
   "execution_count": 122,
   "id": "19fcf2a3-dcc6-467b-be5f-90abb7584e27",
   "metadata": {},
   "outputs": [
    {
     "data": {
      "text/html": [
       "<div>\n",
       "<style scoped>\n",
       "    .dataframe tbody tr th:only-of-type {\n",
       "        vertical-align: middle;\n",
       "    }\n",
       "\n",
       "    .dataframe tbody tr th {\n",
       "        vertical-align: top;\n",
       "    }\n",
       "\n",
       "    .dataframe thead th {\n",
       "        text-align: right;\n",
       "    }\n",
       "</style>\n",
       "<table border=\"1\" class=\"dataframe\">\n",
       "  <thead>\n",
       "    <tr style=\"text-align: right;\">\n",
       "      <th></th>\n",
       "      <th>2011-2021</th>\n",
       "    </tr>\n",
       "  </thead>\n",
       "  <tbody>\n",
       "    <tr>\n",
       "      <th>0</th>\n",
       "      <td>17.981302</td>\n",
       "    </tr>\n",
       "    <tr>\n",
       "      <th>1</th>\n",
       "      <td>18.037125</td>\n",
       "    </tr>\n",
       "    <tr>\n",
       "      <th>2</th>\n",
       "      <td>18.092948</td>\n",
       "    </tr>\n",
       "    <tr>\n",
       "      <th>3</th>\n",
       "      <td>18.148771</td>\n",
       "    </tr>\n",
       "    <tr>\n",
       "      <th>4</th>\n",
       "      <td>18.130051</td>\n",
       "    </tr>\n",
       "  </tbody>\n",
       "</table>\n",
       "</div>"
      ],
      "text/plain": [
       "   2011-2021\n",
       "0  17.981302\n",
       "1  18.037125\n",
       "2  18.092948\n",
       "3  18.148771\n",
       "4  18.130051"
      ]
     },
     "execution_count": 122,
     "metadata": {},
     "output_type": "execute_result"
    }
   ],
   "source": [
    "govt_spending_now = govt_spending_now.drop(columns=['Quarter'])\n",
    "govt_spending_now = govt_spending_now.rename(columns={\"Govt Spending as a % of GDP\":\"2011-2021\"})\n",
    "govt_spending_now.head()"
   ]
  },
  {
   "cell_type": "code",
   "execution_count": 127,
   "id": "6feb6e76-0fd7-4543-8fbd-275b73f3eb1c",
   "metadata": {},
   "outputs": [
    {
     "data": {
      "text/html": [
       "<div>\n",
       "<style scoped>\n",
       "    .dataframe tbody tr th:only-of-type {\n",
       "        vertical-align: middle;\n",
       "    }\n",
       "\n",
       "    .dataframe tbody tr th {\n",
       "        vertical-align: top;\n",
       "    }\n",
       "\n",
       "    .dataframe thead th {\n",
       "        text-align: right;\n",
       "    }\n",
       "</style>\n",
       "<table border=\"1\" class=\"dataframe\">\n",
       "  <thead>\n",
       "    <tr style=\"text-align: right;\">\n",
       "      <th></th>\n",
       "      <th>1960-1970</th>\n",
       "      <th>2011-2021</th>\n",
       "    </tr>\n",
       "  </thead>\n",
       "  <tbody>\n",
       "    <tr>\n",
       "      <th>0</th>\n",
       "      <td>11.189358</td>\n",
       "      <td>17.981302</td>\n",
       "    </tr>\n",
       "    <tr>\n",
       "      <th>1</th>\n",
       "      <td>11.248349</td>\n",
       "      <td>18.037125</td>\n",
       "    </tr>\n",
       "    <tr>\n",
       "      <th>2</th>\n",
       "      <td>11.307339</td>\n",
       "      <td>18.092948</td>\n",
       "    </tr>\n",
       "    <tr>\n",
       "      <th>3</th>\n",
       "      <td>11.366330</td>\n",
       "      <td>18.148771</td>\n",
       "    </tr>\n",
       "    <tr>\n",
       "      <th>4</th>\n",
       "      <td>11.425320</td>\n",
       "      <td>18.130051</td>\n",
       "    </tr>\n",
       "  </tbody>\n",
       "</table>\n",
       "</div>"
      ],
      "text/plain": [
       "   1960-1970  2011-2021\n",
       "0  11.189358  17.981302\n",
       "1  11.248349  18.037125\n",
       "2  11.307339  18.092948\n",
       "3  11.366330  18.148771\n",
       "4  11.425320  18.130051"
      ]
     },
     "execution_count": 127,
     "metadata": {},
     "output_type": "execute_result"
    }
   ],
   "source": [
    "gs_comparison = pd.concat([govt_spending_60s,govt_spending_now],axis=\"columns\",join=\"inner\")\n",
    "gs_comparison.head()"
   ]
  },
  {
   "cell_type": "code",
   "execution_count": 130,
   "id": "3af1e575-1d1c-4f1c-bedc-eff2d8b8bde9",
   "metadata": {},
   "outputs": [
    {
     "data": {},
     "metadata": {},
     "output_type": "display_data"
    },
    {
     "data": {
      "application/vnd.holoviews_exec.v0+json": "",
      "text/html": [
       "<div id='1875'>\n",
       "  <div class=\"bk-root\" id=\"87b9a042-3cbc-4dd7-b8b4-df1b3324f4fa\" data-root-id=\"1875\"></div>\n",
       "</div>\n",
       "<script type=\"application/javascript\">(function(root) {\n",
       "  function embed_document(root) {\n",
       "    var docs_json = {\"f891ca6e-5495-469c-90b6-99e8d5b28954\":{\"defs\":[{\"extends\":null,\"module\":null,\"name\":\"ReactiveHTML1\",\"overrides\":[],\"properties\":[]},{\"extends\":null,\"module\":null,\"name\":\"FlexBox1\",\"overrides\":[],\"properties\":[{\"default\":\"flex-start\",\"kind\":null,\"name\":\"align_content\"},{\"default\":\"flex-start\",\"kind\":null,\"name\":\"align_items\"},{\"default\":\"row\",\"kind\":null,\"name\":\"flex_direction\"},{\"default\":\"wrap\",\"kind\":null,\"name\":\"flex_wrap\"},{\"default\":\"flex-start\",\"kind\":null,\"name\":\"justify_content\"}]},{\"extends\":null,\"module\":null,\"name\":\"GridStack1\",\"overrides\":[],\"properties\":[{\"default\":\"warn\",\"kind\":null,\"name\":\"mode\"},{\"default\":null,\"kind\":null,\"name\":\"ncols\"},{\"default\":null,\"kind\":null,\"name\":\"nrows\"},{\"default\":true,\"kind\":null,\"name\":\"allow_resize\"},{\"default\":true,\"kind\":null,\"name\":\"allow_drag\"},{\"default\":[],\"kind\":null,\"name\":\"state\"}]},{\"extends\":null,\"module\":null,\"name\":\"click1\",\"overrides\":[],\"properties\":[{\"default\":\"\",\"kind\":null,\"name\":\"terminal_output\"},{\"default\":\"\",\"kind\":null,\"name\":\"debug_name\"},{\"default\":0,\"kind\":null,\"name\":\"clears\"}]},{\"extends\":null,\"module\":null,\"name\":\"NotificationAreaBase1\",\"overrides\":[],\"properties\":[{\"default\":\"bottom-right\",\"kind\":null,\"name\":\"position\"},{\"default\":0,\"kind\":null,\"name\":\"_clear\"}]},{\"extends\":null,\"module\":null,\"name\":\"NotificationArea1\",\"overrides\":[],\"properties\":[{\"default\":[],\"kind\":null,\"name\":\"notifications\"},{\"default\":\"bottom-right\",\"kind\":null,\"name\":\"position\"},{\"default\":0,\"kind\":null,\"name\":\"_clear\"},{\"default\":[{\"background\":\"#ffc107\",\"icon\":{\"className\":\"fas fa-exclamation-triangle\",\"color\":\"white\",\"tagName\":\"i\"},\"type\":\"warning\"},{\"background\":\"#007bff\",\"icon\":{\"className\":\"fas fa-info-circle\",\"color\":\"white\",\"tagName\":\"i\"},\"type\":\"info\"}],\"kind\":null,\"name\":\"types\"}]},{\"extends\":null,\"module\":null,\"name\":\"Notification\",\"overrides\":[],\"properties\":[{\"default\":null,\"kind\":null,\"name\":\"background\"},{\"default\":3000,\"kind\":null,\"name\":\"duration\"},{\"default\":null,\"kind\":null,\"name\":\"icon\"},{\"default\":\"\",\"kind\":null,\"name\":\"message\"},{\"default\":null,\"kind\":null,\"name\":\"notification_type\"},{\"default\":false,\"kind\":null,\"name\":\"_destroyed\"}]},{\"extends\":null,\"module\":null,\"name\":\"TemplateActions1\",\"overrides\":[],\"properties\":[{\"default\":0,\"kind\":null,\"name\":\"open_modal\"},{\"default\":0,\"kind\":null,\"name\":\"close_modal\"}]},{\"extends\":null,\"module\":null,\"name\":\"MaterialTemplateActions1\",\"overrides\":[],\"properties\":[{\"default\":0,\"kind\":null,\"name\":\"open_modal\"},{\"default\":0,\"kind\":null,\"name\":\"close_modal\"}]}],\"roots\":{\"references\":[{\"attributes\":{\"axis_label\":\"Govt. Spending as a % of GDP\",\"coordinates\":null,\"formatter\":{\"id\":\"1915\"},\"group\":null,\"major_label_policy\":{\"id\":\"1916\"},\"ticker\":{\"id\":\"1895\"}},\"id\":\"1894\",\"type\":\"LinearAxis\"},{\"attributes\":{},\"id\":\"1939\",\"type\":\"Selection\"},{\"attributes\":{\"tools\":[{\"id\":\"1879\"},{\"id\":\"1898\"},{\"id\":\"1899\"},{\"id\":\"1900\"},{\"id\":\"1901\"},{\"id\":\"1902\"}]},\"id\":\"1904\",\"type\":\"Toolbar\"},{\"attributes\":{\"axis_label\":\"Quarters\",\"coordinates\":null,\"formatter\":{\"id\":\"1912\"},\"group\":null,\"major_label_policy\":{\"id\":\"1913\"},\"ticker\":{\"id\":\"1891\"}},\"id\":\"1890\",\"type\":\"LinearAxis\"},{\"attributes\":{\"click_policy\":\"mute\",\"coordinates\":null,\"group\":null,\"items\":[{\"id\":\"1936\"},{\"id\":\"1958\"}],\"location\":[0,0],\"title\":\"Variable\"},\"id\":\"1935\",\"type\":\"Legend\"},{\"attributes\":{\"axis\":{\"id\":\"1894\"},\"coordinates\":null,\"dimension\":1,\"grid_line_color\":null,\"group\":null,\"ticker\":null},\"id\":\"1897\",\"type\":\"Grid\"},{\"attributes\":{\"data\":{\"Variable\":[\"1960-1970\",\"1960-1970\",\"1960-1970\",\"1960-1970\",\"1960-1970\",\"1960-1970\",\"1960-1970\",\"1960-1970\",\"1960-1970\",\"1960-1970\",\"1960-1970\",\"1960-1970\",\"1960-1970\",\"1960-1970\",\"1960-1970\",\"1960-1970\",\"1960-1970\",\"1960-1970\",\"1960-1970\",\"1960-1970\",\"1960-1970\",\"1960-1970\",\"1960-1970\",\"1960-1970\",\"1960-1970\",\"1960-1970\",\"1960-1970\",\"1960-1970\",\"1960-1970\",\"1960-1970\",\"1960-1970\",\"1960-1970\",\"1960-1970\",\"1960-1970\",\"1960-1970\",\"1960-1970\",\"1960-1970\",\"1960-1970\",\"1960-1970\",\"1960-1970\"],\"index\":[0,1,2,3,4,5,6,7,8,9,10,11,12,13,14,15,16,17,18,19,20,21,22,23,24,25,26,27,28,29,30,31,32,33,34,35,36,37,38,39],\"value\":{\"__ndarray__\":\"bL+MlPNgJkAzGpaSJ38mQPt0n5BbnSZA/rX+jo+7JkDGEAiNw9kmQF9MyEHoLCdA+YeI9gyAJ0BY3fKqMdMnQPIYs19WJihAWnDURH4BKECH4Z8pptwnQLRSaw7OtydA4cM28/WSJ0DTcZBrnmonQIg5lONGQidAPgGYW+8ZJ0D0yJvTl/EmQDnDolz5NCdAQ9dT5Vp4J0CI0VpuvLsnQJHlC/cd/ydASJqJM9B0KED/TgdwguooQHodL6w0YClAMdKs6ObVKUCwMbeUVtIpQPSqa0DGzilAOCQg7DXLKUC3gyqYpccpQMYqrdjCMipAELiFGeCdKkAfXwha/QgrQGns4JoadCtAhTAr0swsK0Bmjh8Jf+UqQILSaUAxnipAnRa0d+NWKkCIOyhy0mUqQK9G8mzBdCpA1VG8Z7CDKkA=\",\"dtype\":\"float64\",\"order\":\"little\",\"shape\":[40]}},\"selected\":{\"id\":\"1918\"},\"selection_policy\":{\"id\":\"1932\"}},\"id\":\"1917\",\"type\":\"ColumnDataSource\"},{\"attributes\":{\"line_color\":\"#30a2da\",\"line_width\":2,\"x\":{\"field\":\"index\"},\"y\":{\"field\":\"value\"}},\"id\":\"1920\",\"type\":\"Line\"},{\"attributes\":{\"source\":{\"id\":\"1917\"}},\"id\":\"1924\",\"type\":\"CDSView\"},{\"attributes\":{},\"id\":\"1913\",\"type\":\"AllLabels\"},{\"attributes\":{},\"id\":\"1955\",\"type\":\"UnionRenderers\"},{\"attributes\":{\"data\":{\"Variable\":[\"2011-2021\",\"2011-2021\",\"2011-2021\",\"2011-2021\",\"2011-2021\",\"2011-2021\",\"2011-2021\",\"2011-2021\",\"2011-2021\",\"2011-2021\",\"2011-2021\",\"2011-2021\",\"2011-2021\",\"2011-2021\",\"2011-2021\",\"2011-2021\",\"2011-2021\",\"2011-2021\",\"2011-2021\",\"2011-2021\",\"2011-2021\",\"2011-2021\",\"2011-2021\",\"2011-2021\",\"2011-2021\",\"2011-2021\",\"2011-2021\",\"2011-2021\",\"2011-2021\",\"2011-2021\",\"2011-2021\",\"2011-2021\",\"2011-2021\",\"2011-2021\",\"2011-2021\",\"2011-2021\",\"2011-2021\",\"2011-2021\",\"2011-2021\",\"2011-2021\"],\"index\":[0,1,2,3,4,5,6,7,8,9,10,11,12,13,14,15,16,17,18,19,20,21,22,23,24,25,26,27,28,29,30,31,32,33,34,35,36,37,38,39],\"value\":{\"__ndarray__\":\"AikUljb7MUBfN/gEgQkyQJ5SsXPLFzJA+2CV4hUmMkCq6WEFSyEyQHdlWSiAHDJAJu4lS7UXMkDzaR1u6hIyQFryV0yVDDJAwXqSKkAGMkBG9vcI6/8xQK1+MueV+TFAL022JoIRMkCwGzpmbikyQBP3kqVaQTJAlMUW5UZZMkBw54idpYgyQEsJ+1UEuDJAJyttDmPnMkACTd/GwRYzQIKbOeKYEzNA5PZo/W8QM0BlRcMYRw0zQMeg8jMeCjNAT2B0WGUOM0DXH/Z8rBIzQH3SoqHzFjNABpIkxjobM0A72fYLsDIzQI4T9FElSjNAw1rGl5phM0D4oZjdD3kzQFMfqwj10TNArpy9M9oqNEAJGtBev4M0QGSX4omk3DRAm4e43tsANUC1hGMzEyU1QOx0OYhKSTVAI2UP3YFtNUA=\",\"dtype\":\"float64\",\"order\":\"little\",\"shape\":[40]}},\"selected\":{\"id\":\"1939\"},\"selection_policy\":{\"id\":\"1955\"}},\"id\":\"1938\",\"type\":\"ColumnDataSource\"},{\"attributes\":{\"end\":39.0,\"reset_end\":39.0,\"reset_start\":0.0,\"tags\":[[[\"index\",\"index\",null]]]},\"id\":\"1877\",\"type\":\"Range1d\"},{\"attributes\":{\"coordinates\":null,\"data_source\":{\"id\":\"1917\"},\"glyph\":{\"id\":\"1920\"},\"group\":null,\"hover_glyph\":null,\"muted_glyph\":{\"id\":\"1922\"},\"nonselection_glyph\":{\"id\":\"1921\"},\"selection_glyph\":{\"id\":\"1937\"},\"view\":{\"id\":\"1924\"}},\"id\":\"1923\",\"type\":\"GlyphRenderer\"},{\"attributes\":{\"below\":[{\"id\":\"1890\"}],\"center\":[{\"id\":\"1893\"},{\"id\":\"1897\"}],\"height\":300,\"left\":[{\"id\":\"1894\"}],\"margin\":[5,5,5,5],\"min_border_bottom\":10,\"min_border_left\":10,\"min_border_right\":10,\"min_border_top\":10,\"renderers\":[{\"id\":\"1923\"},{\"id\":\"1944\"}],\"right\":[{\"id\":\"1935\"}],\"sizing_mode\":\"fixed\",\"title\":{\"id\":\"1882\"},\"toolbar\":{\"id\":\"1904\"},\"width\":700,\"x_range\":{\"id\":\"1877\"},\"x_scale\":{\"id\":\"1886\"},\"y_range\":{\"id\":\"1878\"},\"y_scale\":{\"id\":\"1888\"}},\"id\":\"1881\",\"subtype\":\"Figure\",\"type\":\"Plot\"},{\"attributes\":{\"source\":{\"id\":\"1938\"}},\"id\":\"1945\",\"type\":\"CDSView\"},{\"attributes\":{},\"id\":\"1918\",\"type\":\"Selection\"},{\"attributes\":{},\"id\":\"1916\",\"type\":\"AllLabels\"},{\"attributes\":{\"label\":{\"value\":\"2011-2021\"},\"renderers\":[{\"id\":\"1944\"}]},\"id\":\"1958\",\"type\":\"LegendItem\"},{\"attributes\":{},\"id\":\"1888\",\"type\":\"LinearScale\"},{\"attributes\":{\"line_alpha\":0.1,\"line_color\":\"#30a2da\",\"line_width\":2,\"x\":{\"field\":\"index\"},\"y\":{\"field\":\"value\"}},\"id\":\"1921\",\"type\":\"Line\"},{\"attributes\":{\"callback\":null,\"renderers\":[{\"id\":\"1923\"},{\"id\":\"1944\"}],\"tags\":[\"hv_created\"],\"tooltips\":[[\"Variable\",\"@{Variable}\"],[\"index\",\"@{index}\"],[\"value\",\"@{value}\"]]},\"id\":\"1879\",\"type\":\"HoverTool\"},{\"attributes\":{\"end\":22.451603254000002,\"reset_end\":22.451603254000002,\"reset_start\":10.165517926000001,\"start\":10.165517926000001,\"tags\":[[[\"value\",\"value\",null]]]},\"id\":\"1878\",\"type\":\"Range1d\"},{\"attributes\":{},\"id\":\"1898\",\"type\":\"SaveTool\"},{\"attributes\":{},\"id\":\"1899\",\"type\":\"PanTool\"},{\"attributes\":{\"label\":{\"value\":\"1960-1970\"},\"renderers\":[{\"id\":\"1923\"}]},\"id\":\"1936\",\"type\":\"LegendItem\"},{\"attributes\":{\"line_alpha\":0.1,\"line_color\":\"#fc4f30\",\"line_width\":2,\"x\":{\"field\":\"index\"},\"y\":{\"field\":\"value\"}},\"id\":\"1942\",\"type\":\"Line\"},{\"attributes\":{},\"id\":\"1902\",\"type\":\"ResetTool\"},{\"attributes\":{},\"id\":\"1900\",\"type\":\"WheelZoomTool\"},{\"attributes\":{},\"id\":\"1932\",\"type\":\"UnionRenderers\"},{\"attributes\":{\"coordinates\":null,\"group\":null,\"text\":\"Govt. Spending as a % of GDP\",\"text_color\":\"black\",\"text_font_size\":\"12pt\"},\"id\":\"1882\",\"type\":\"Title\"},{\"attributes\":{\"line_alpha\":0.2,\"line_color\":\"#30a2da\",\"line_width\":2,\"x\":{\"field\":\"index\"},\"y\":{\"field\":\"value\"}},\"id\":\"1922\",\"type\":\"Line\"},{\"attributes\":{\"overlay\":{\"id\":\"1903\"}},\"id\":\"1901\",\"type\":\"BoxZoomTool\"},{\"attributes\":{\"line_color\":\"#30a2da\",\"line_width\":2,\"x\":{\"field\":\"index\"},\"y\":{\"field\":\"value\"}},\"id\":\"1937\",\"type\":\"Line\"},{\"attributes\":{\"margin\":[5,5,5,5],\"name\":\"HSpacer01711\",\"sizing_mode\":\"stretch_width\"},\"id\":\"1972\",\"type\":\"Spacer\"},{\"attributes\":{\"line_alpha\":0.2,\"line_color\":\"#fc4f30\",\"line_width\":2,\"x\":{\"field\":\"index\"},\"y\":{\"field\":\"value\"}},\"id\":\"1943\",\"type\":\"Line\"},{\"attributes\":{\"coordinates\":null,\"data_source\":{\"id\":\"1938\"},\"glyph\":{\"id\":\"1941\"},\"group\":null,\"hover_glyph\":null,\"muted_glyph\":{\"id\":\"1943\"},\"nonselection_glyph\":{\"id\":\"1942\"},\"selection_glyph\":{\"id\":\"1959\"},\"view\":{\"id\":\"1945\"}},\"id\":\"1944\",\"type\":\"GlyphRenderer\"},{\"attributes\":{},\"id\":\"1895\",\"type\":\"BasicTicker\"},{\"attributes\":{},\"id\":\"1915\",\"type\":\"BasicTickFormatter\"},{\"attributes\":{},\"id\":\"1886\",\"type\":\"LinearScale\"},{\"attributes\":{},\"id\":\"1912\",\"type\":\"BasicTickFormatter\"},{\"attributes\":{},\"id\":\"1891\",\"type\":\"BasicTicker\"},{\"attributes\":{\"bottom_units\":\"screen\",\"coordinates\":null,\"fill_alpha\":0.5,\"fill_color\":\"lightgrey\",\"group\":null,\"left_units\":\"screen\",\"level\":\"overlay\",\"line_alpha\":1.0,\"line_color\":\"black\",\"line_dash\":[4,4],\"line_width\":2,\"right_units\":\"screen\",\"syncable\":false,\"top_units\":\"screen\"},\"id\":\"1903\",\"type\":\"BoxAnnotation\"},{\"attributes\":{\"axis\":{\"id\":\"1890\"},\"coordinates\":null,\"grid_line_color\":null,\"group\":null,\"ticker\":null},\"id\":\"1893\",\"type\":\"Grid\"},{\"attributes\":{\"margin\":[5,5,5,5],\"name\":\"HSpacer01710\",\"sizing_mode\":\"stretch_width\"},\"id\":\"1876\",\"type\":\"Spacer\"},{\"attributes\":{\"line_color\":\"#fc4f30\",\"line_width\":2,\"x\":{\"field\":\"index\"},\"y\":{\"field\":\"value\"}},\"id\":\"1941\",\"type\":\"Line\"},{\"attributes\":{\"line_color\":\"#fc4f30\",\"line_width\":2,\"x\":{\"field\":\"index\"},\"y\":{\"field\":\"value\"}},\"id\":\"1959\",\"type\":\"Line\"},{\"attributes\":{\"children\":[{\"id\":\"1876\"},{\"id\":\"1881\"},{\"id\":\"1972\"}],\"margin\":[0,0,0,0],\"name\":\"Row01706\",\"tags\":[\"embedded\"]},\"id\":\"1875\",\"type\":\"Row\"}],\"root_ids\":[\"1875\"]},\"title\":\"Bokeh Application\",\"version\":\"2.4.3\"}};\n",
       "    var render_items = [{\"docid\":\"f891ca6e-5495-469c-90b6-99e8d5b28954\",\"root_ids\":[\"1875\"],\"roots\":{\"1875\":\"87b9a042-3cbc-4dd7-b8b4-df1b3324f4fa\"}}];\n",
       "    root.Bokeh.embed.embed_items_notebook(docs_json, render_items);\n",
       "  }\n",
       "  if (root.Bokeh !== undefined && root.Bokeh.Panel !== undefined) {\n",
       "    embed_document(root);\n",
       "  } else {\n",
       "    var attempts = 0;\n",
       "    var timer = setInterval(function(root) {\n",
       "      if (root.Bokeh !== undefined && root.Bokeh.Panel !== undefined) {\n",
       "        clearInterval(timer);\n",
       "        embed_document(root);\n",
       "      } else if (document.readyState == \"complete\") {\n",
       "        attempts++;\n",
       "        if (attempts > 200) {\n",
       "          clearInterval(timer);\n",
       "          console.log(\"Bokeh: ERROR: Unable to run BokehJS code because BokehJS library is missing\");\n",
       "        }\n",
       "      }\n",
       "    }, 25, root)\n",
       "  }\n",
       "})(window);</script>"
      ],
      "text/plain": [
       ":NdOverlay   [Variable]\n",
       "   :Curve   [index]   (value)"
      ]
     },
     "execution_count": 130,
     "metadata": {
      "application/vnd.holoviews_exec.v0+json": {
       "id": "1875"
      }
     },
     "output_type": "execute_result"
    }
   ],
   "source": [
    "gs_comparison.hvplot.line(\n",
    "    title = \"Govt. Spending as a % of GDP\",\n",
    "    ylabel = \"Govt. Spending as a % of GDP\",\n",
    "    xlabel = \"Quarters\"\n",
    ")"
   ]
  },
  {
   "cell_type": "code",
   "execution_count": 135,
   "id": "10448e21-2885-4fd5-9e8a-1f7d45a28da6",
   "metadata": {},
   "outputs": [
    {
     "data": {
      "text/html": [
       "<div>\n",
       "<style scoped>\n",
       "    .dataframe tbody tr th:only-of-type {\n",
       "        vertical-align: middle;\n",
       "    }\n",
       "\n",
       "    .dataframe tbody tr th {\n",
       "        vertical-align: top;\n",
       "    }\n",
       "\n",
       "    .dataframe thead th {\n",
       "        text-align: right;\n",
       "    }\n",
       "</style>\n",
       "<table border=\"1\" class=\"dataframe\">\n",
       "  <thead>\n",
       "    <tr style=\"text-align: right;\">\n",
       "      <th></th>\n",
       "      <th>1960-1970</th>\n",
       "      <th>2011-2021</th>\n",
       "    </tr>\n",
       "  </thead>\n",
       "  <tbody>\n",
       "    <tr>\n",
       "      <th>2</th>\n",
       "      <td>-0.005244</td>\n",
       "      <td>-0.003095</td>\n",
       "    </tr>\n",
       "    <tr>\n",
       "      <th>3</th>\n",
       "      <td>-0.005217</td>\n",
       "      <td>-0.003085</td>\n",
       "    </tr>\n",
       "    <tr>\n",
       "      <th>4</th>\n",
       "      <td>-0.005190</td>\n",
       "      <td>-1.334321</td>\n",
       "    </tr>\n",
       "    <tr>\n",
       "      <th>5</th>\n",
       "      <td>1.738597</td>\n",
       "      <td>0.001032</td>\n",
       "    </tr>\n",
       "    <tr>\n",
       "      <th>6</th>\n",
       "      <td>-0.014014</td>\n",
       "      <td>0.001034</td>\n",
       "    </tr>\n",
       "  </tbody>\n",
       "</table>\n",
       "</div>"
      ],
      "text/plain": [
       "   1960-1970  2011-2021\n",
       "2  -0.005244  -0.003095\n",
       "3  -0.005217  -0.003085\n",
       "4  -0.005190  -1.334321\n",
       "5   1.738597   0.001032\n",
       "6  -0.014014   0.001034"
      ]
     },
     "execution_count": 135,
     "metadata": {},
     "output_type": "execute_result"
    }
   ],
   "source": [
    "gs_comparison = gs_comparison.pct_change()\n",
    "gs_comparison = gs_comparison.dropna()\n",
    "gs_comparison.head()"
   ]
  },
  {
   "cell_type": "code",
   "execution_count": null,
   "id": "ef4029f9-0836-463b-8123-bd307aa75883",
   "metadata": {},
   "outputs": [],
   "source": []
  },
  {
   "cell_type": "code",
   "execution_count": null,
   "id": "ac323eb2-e8c9-427f-8a07-544bdbd1e81d",
   "metadata": {},
   "outputs": [],
   "source": []
  }
 ],
 "metadata": {
  "kernelspec": {
   "display_name": "Python 3 (ipykernel)",
   "language": "python",
   "name": "python3"
  },
  "language_info": {
   "codemirror_mode": {
    "name": "ipython",
    "version": 3
   },
   "file_extension": ".py",
   "mimetype": "text/x-python",
   "name": "python",
   "nbconvert_exporter": "python",
   "pygments_lexer": "ipython3",
   "version": "3.7.13"
  }
 },
 "nbformat": 4,
 "nbformat_minor": 5
}
