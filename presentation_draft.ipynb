{
 "cells": [
  {
   "cell_type": "code",
   "execution_count": 2,
   "id": "30ba593f-453e-465c-9cf6-033a24b20135",
   "metadata": {},
   "outputs": [],
   "source": [
    "import pandas as pd\n",
    "import numpy as np\n",
    "import hvplot.pandas"
   ]
  },
  {
   "cell_type": "code",
   "execution_count": 3,
   "id": "109f3016-5811-4f6b-994b-eb5baa5b938e",
   "metadata": {},
   "outputs": [],
   "source": [
    "# this website had the hsitorical inflation rate in table form\n",
    "\n",
    "inf_url = \"https://www.rateinflation.com/inflation-rate/australia-historical-inflation-rate/\""
   ]
  },
  {
   "cell_type": "code",
   "execution_count": 4,
   "id": "d434f957-ff53-4c7e-a7b7-27f56d109767",
   "metadata": {},
   "outputs": [
    {
     "data": {
      "text/plain": [
       "[    Year    mar    jun    sep    dec  Annual\n",
       " 0   2022   5.1%   6.1%    NaN    NaN     NaN\n",
       " 1   2021   1.1%   3.8%   3.0%   3.5%    2.9%\n",
       " 2   2020   2.2%  -0.3%   0.7%   0.9%    0.8%\n",
       " 3   2019   1.3%   1.6%   1.7%   1.8%    1.6%\n",
       " 4   2018   1.9%   2.1%   1.9%   1.8%    1.9%\n",
       " ..   ...    ...    ...    ...    ...     ...\n",
       " 69  1953   6.8%   4.9%   4.8%   1.6%    4.5%\n",
       " 70  1952  22.9%  19.6%  17.0%  10.5%   17.2%\n",
       " 71  1951  14.3%  18.6%  20.5%  23.9%   19.4%\n",
       " 72  1950   7.7%   7.5%   7.3%  12.2%    8.7%\n",
       " 73  1949     ∞%     ∞%  10.8%   7.9%  114.7%\n",
       " \n",
       " [74 rows x 6 columns]]"
      ]
     },
     "execution_count": 4,
     "metadata": {},
     "output_type": "execute_result"
    }
   ],
   "source": [
    "# I use the read_html method to grab the table data from the website\n",
    "\n",
    "inflation_df = pd.read_html(inf_url)\n",
    "inflation_df"
   ]
  },
  {
   "cell_type": "code",
   "execution_count": 5,
   "id": "6fcaa384-b324-4b6b-a602-27444768e35e",
   "metadata": {},
   "outputs": [
    {
     "data": {
      "text/html": [
       "<div>\n",
       "<style scoped>\n",
       "    .dataframe tbody tr th:only-of-type {\n",
       "        vertical-align: middle;\n",
       "    }\n",
       "\n",
       "    .dataframe tbody tr th {\n",
       "        vertical-align: top;\n",
       "    }\n",
       "\n",
       "    .dataframe thead th {\n",
       "        text-align: right;\n",
       "    }\n",
       "</style>\n",
       "<table border=\"1\" class=\"dataframe\">\n",
       "  <thead>\n",
       "    <tr style=\"text-align: right;\">\n",
       "      <th></th>\n",
       "      <th>Year</th>\n",
       "      <th>mar</th>\n",
       "      <th>jun</th>\n",
       "      <th>sep</th>\n",
       "      <th>dec</th>\n",
       "      <th>Annual</th>\n",
       "    </tr>\n",
       "  </thead>\n",
       "  <tbody>\n",
       "    <tr>\n",
       "      <th>0</th>\n",
       "      <td>2022</td>\n",
       "      <td>5.1%</td>\n",
       "      <td>6.1%</td>\n",
       "      <td>NaN</td>\n",
       "      <td>NaN</td>\n",
       "      <td>NaN</td>\n",
       "    </tr>\n",
       "    <tr>\n",
       "      <th>1</th>\n",
       "      <td>2021</td>\n",
       "      <td>1.1%</td>\n",
       "      <td>3.8%</td>\n",
       "      <td>3.0%</td>\n",
       "      <td>3.5%</td>\n",
       "      <td>2.9%</td>\n",
       "    </tr>\n",
       "    <tr>\n",
       "      <th>2</th>\n",
       "      <td>2020</td>\n",
       "      <td>2.2%</td>\n",
       "      <td>-0.3%</td>\n",
       "      <td>0.7%</td>\n",
       "      <td>0.9%</td>\n",
       "      <td>0.8%</td>\n",
       "    </tr>\n",
       "    <tr>\n",
       "      <th>3</th>\n",
       "      <td>2019</td>\n",
       "      <td>1.3%</td>\n",
       "      <td>1.6%</td>\n",
       "      <td>1.7%</td>\n",
       "      <td>1.8%</td>\n",
       "      <td>1.6%</td>\n",
       "    </tr>\n",
       "    <tr>\n",
       "      <th>4</th>\n",
       "      <td>2018</td>\n",
       "      <td>1.9%</td>\n",
       "      <td>2.1%</td>\n",
       "      <td>1.9%</td>\n",
       "      <td>1.8%</td>\n",
       "      <td>1.9%</td>\n",
       "    </tr>\n",
       "    <tr>\n",
       "      <th>...</th>\n",
       "      <td>...</td>\n",
       "      <td>...</td>\n",
       "      <td>...</td>\n",
       "      <td>...</td>\n",
       "      <td>...</td>\n",
       "      <td>...</td>\n",
       "    </tr>\n",
       "    <tr>\n",
       "      <th>69</th>\n",
       "      <td>1953</td>\n",
       "      <td>6.8%</td>\n",
       "      <td>4.9%</td>\n",
       "      <td>4.8%</td>\n",
       "      <td>1.6%</td>\n",
       "      <td>4.5%</td>\n",
       "    </tr>\n",
       "    <tr>\n",
       "      <th>70</th>\n",
       "      <td>1952</td>\n",
       "      <td>22.9%</td>\n",
       "      <td>19.6%</td>\n",
       "      <td>17.0%</td>\n",
       "      <td>10.5%</td>\n",
       "      <td>17.2%</td>\n",
       "    </tr>\n",
       "    <tr>\n",
       "      <th>71</th>\n",
       "      <td>1951</td>\n",
       "      <td>14.3%</td>\n",
       "      <td>18.6%</td>\n",
       "      <td>20.5%</td>\n",
       "      <td>23.9%</td>\n",
       "      <td>19.4%</td>\n",
       "    </tr>\n",
       "    <tr>\n",
       "      <th>72</th>\n",
       "      <td>1950</td>\n",
       "      <td>7.7%</td>\n",
       "      <td>7.5%</td>\n",
       "      <td>7.3%</td>\n",
       "      <td>12.2%</td>\n",
       "      <td>8.7%</td>\n",
       "    </tr>\n",
       "    <tr>\n",
       "      <th>73</th>\n",
       "      <td>1949</td>\n",
       "      <td>∞%</td>\n",
       "      <td>∞%</td>\n",
       "      <td>10.8%</td>\n",
       "      <td>7.9%</td>\n",
       "      <td>114.7%</td>\n",
       "    </tr>\n",
       "  </tbody>\n",
       "</table>\n",
       "<p>74 rows × 6 columns</p>\n",
       "</div>"
      ],
      "text/plain": [
       "    Year    mar    jun    sep    dec  Annual\n",
       "0   2022   5.1%   6.1%    NaN    NaN     NaN\n",
       "1   2021   1.1%   3.8%   3.0%   3.5%    2.9%\n",
       "2   2020   2.2%  -0.3%   0.7%   0.9%    0.8%\n",
       "3   2019   1.3%   1.6%   1.7%   1.8%    1.6%\n",
       "4   2018   1.9%   2.1%   1.9%   1.8%    1.9%\n",
       "..   ...    ...    ...    ...    ...     ...\n",
       "69  1953   6.8%   4.9%   4.8%   1.6%    4.5%\n",
       "70  1952  22.9%  19.6%  17.0%  10.5%   17.2%\n",
       "71  1951  14.3%  18.6%  20.5%  23.9%   19.4%\n",
       "72  1950   7.7%   7.5%   7.3%  12.2%    8.7%\n",
       "73  1949     ∞%     ∞%  10.8%   7.9%  114.7%\n",
       "\n",
       "[74 rows x 6 columns]"
      ]
     },
     "execution_count": 5,
     "metadata": {},
     "output_type": "execute_result"
    }
   ],
   "source": [
    "# I take the object returned and save it as a dataframe\n",
    "\n",
    "inflation_df = inflation_df[0]\n",
    "inflation_df"
   ]
  },
  {
   "cell_type": "code",
   "execution_count": 6,
   "id": "3f3657e5-72aa-4469-878f-82f642ef12f1",
   "metadata": {},
   "outputs": [
    {
     "data": {
      "text/plain": [
       "Int64Index([2022, 2021, 2020, 2019, 2018, 2017, 2016, 2015, 2014, 2013, 2012,\n",
       "            2011, 2010, 2009, 2008, 2007, 2006, 2005, 2004, 2003, 2002, 2001,\n",
       "            2000, 1999, 1998, 1997, 1996, 1995, 1994, 1993, 1992, 1991, 1990,\n",
       "            1989, 1988, 1987, 1986, 1985, 1984, 1983, 1982, 1981, 1980, 1979,\n",
       "            1978, 1977, 1976, 1975, 1974, 1973, 1972, 1971, 1970, 1969, 1968,\n",
       "            1967, 1966, 1965, 1964, 1963, 1962, 1961, 1960, 1959, 1958, 1957,\n",
       "            1956, 1955, 1954, 1953, 1952, 1951, 1950, 1949],\n",
       "           dtype='int64', name='Year')"
      ]
     },
     "execution_count": 6,
     "metadata": {},
     "output_type": "execute_result"
    }
   ],
   "source": [
    "# I set the index for the inflation data as \"Year\"\n",
    "\n",
    "inflation_df = inflation_df.set_index(\"Year\")\n",
    "inflation_df.index"
   ]
  },
  {
   "cell_type": "code",
   "execution_count": 7,
   "id": "37b75608-8d8c-4208-bd2e-ec3215d8ee2a",
   "metadata": {},
   "outputs": [
    {
     "data": {
      "text/plain": [
       "Year\n",
       "2022      NaN\n",
       "2021      2.9\n",
       "2020      0.8\n",
       "2019      1.6\n",
       "2018      1.9\n",
       "        ...  \n",
       "1953      4.5\n",
       "1952     17.2\n",
       "1951     19.4\n",
       "1950      8.7\n",
       "1949    114.7\n",
       "Name: Annual, Length: 74, dtype: float64"
      ]
     },
     "execution_count": 7,
     "metadata": {},
     "output_type": "execute_result"
    }
   ],
   "source": [
    "# I pulled out only the annual inflation rate\n",
    "# I also clean this column by removing the '%' and convert to a float\n",
    "\n",
    "inflation_df[\"Annual\"] = inflation_df[\"Annual\"].str.replace(\"%\", \"\").astype(float)\n",
    "inflation_df[\"Annual\"]"
   ]
  },
  {
   "cell_type": "code",
   "execution_count": 8,
   "id": "97ea9e85-c918-41c6-8eb4-5de07f09df5b",
   "metadata": {},
   "outputs": [
    {
     "data": {
      "text/html": [
       "<div>\n",
       "<style scoped>\n",
       "    .dataframe tbody tr th:only-of-type {\n",
       "        vertical-align: middle;\n",
       "    }\n",
       "\n",
       "    .dataframe tbody tr th {\n",
       "        vertical-align: top;\n",
       "    }\n",
       "\n",
       "    .dataframe thead th {\n",
       "        text-align: right;\n",
       "    }\n",
       "</style>\n",
       "<table border=\"1\" class=\"dataframe\">\n",
       "  <thead>\n",
       "    <tr style=\"text-align: right;\">\n",
       "      <th></th>\n",
       "      <th>mar</th>\n",
       "      <th>jun</th>\n",
       "      <th>sep</th>\n",
       "      <th>dec</th>\n",
       "      <th>Annual</th>\n",
       "    </tr>\n",
       "    <tr>\n",
       "      <th>Year</th>\n",
       "      <th></th>\n",
       "      <th></th>\n",
       "      <th></th>\n",
       "      <th></th>\n",
       "      <th></th>\n",
       "    </tr>\n",
       "  </thead>\n",
       "  <tbody>\n",
       "    <tr>\n",
       "      <th>2022</th>\n",
       "      <td>5.1%</td>\n",
       "      <td>6.1%</td>\n",
       "      <td>NaN</td>\n",
       "      <td>NaN</td>\n",
       "      <td>NaN</td>\n",
       "    </tr>\n",
       "    <tr>\n",
       "      <th>2021</th>\n",
       "      <td>1.1%</td>\n",
       "      <td>3.8%</td>\n",
       "      <td>3.0%</td>\n",
       "      <td>3.5%</td>\n",
       "      <td>2.9</td>\n",
       "    </tr>\n",
       "    <tr>\n",
       "      <th>2020</th>\n",
       "      <td>2.2%</td>\n",
       "      <td>-0.3%</td>\n",
       "      <td>0.7%</td>\n",
       "      <td>0.9%</td>\n",
       "      <td>0.8</td>\n",
       "    </tr>\n",
       "    <tr>\n",
       "      <th>2019</th>\n",
       "      <td>1.3%</td>\n",
       "      <td>1.6%</td>\n",
       "      <td>1.7%</td>\n",
       "      <td>1.8%</td>\n",
       "      <td>1.6</td>\n",
       "    </tr>\n",
       "    <tr>\n",
       "      <th>2018</th>\n",
       "      <td>1.9%</td>\n",
       "      <td>2.1%</td>\n",
       "      <td>1.9%</td>\n",
       "      <td>1.8%</td>\n",
       "      <td>1.9</td>\n",
       "    </tr>\n",
       "  </tbody>\n",
       "</table>\n",
       "</div>"
      ],
      "text/plain": [
       "       mar    jun   sep   dec  Annual\n",
       "Year                                 \n",
       "2022  5.1%   6.1%   NaN   NaN     NaN\n",
       "2021  1.1%   3.8%  3.0%  3.5%     2.9\n",
       "2020  2.2%  -0.3%  0.7%  0.9%     0.8\n",
       "2019  1.3%   1.6%  1.7%  1.8%     1.6\n",
       "2018  1.9%   2.1%  1.9%  1.8%     1.9"
      ]
     },
     "execution_count": 8,
     "metadata": {},
     "output_type": "execute_result"
    }
   ],
   "source": [
    "inflation_df.head()"
   ]
  },
  {
   "cell_type": "code",
   "execution_count": 9,
   "id": "92dcd85b-c7f0-44b6-8a5e-4ba6224c8620",
   "metadata": {},
   "outputs": [
    {
     "data": {
      "text/html": [
       "<div>\n",
       "<style scoped>\n",
       "    .dataframe tbody tr th:only-of-type {\n",
       "        vertical-align: middle;\n",
       "    }\n",
       "\n",
       "    .dataframe tbody tr th {\n",
       "        vertical-align: top;\n",
       "    }\n",
       "\n",
       "    .dataframe thead th {\n",
       "        text-align: right;\n",
       "    }\n",
       "</style>\n",
       "<table border=\"1\" class=\"dataframe\">\n",
       "  <thead>\n",
       "    <tr style=\"text-align: right;\">\n",
       "      <th></th>\n",
       "      <th>mar</th>\n",
       "      <th>jun</th>\n",
       "      <th>sep</th>\n",
       "      <th>dec</th>\n",
       "      <th>Annual_Inflation</th>\n",
       "    </tr>\n",
       "    <tr>\n",
       "      <th>Year</th>\n",
       "      <th></th>\n",
       "      <th></th>\n",
       "      <th></th>\n",
       "      <th></th>\n",
       "      <th></th>\n",
       "    </tr>\n",
       "  </thead>\n",
       "  <tbody>\n",
       "    <tr>\n",
       "      <th>2022</th>\n",
       "      <td>5.1%</td>\n",
       "      <td>6.1%</td>\n",
       "      <td>NaN</td>\n",
       "      <td>NaN</td>\n",
       "      <td>NaN</td>\n",
       "    </tr>\n",
       "    <tr>\n",
       "      <th>2021</th>\n",
       "      <td>1.1%</td>\n",
       "      <td>3.8%</td>\n",
       "      <td>3.0%</td>\n",
       "      <td>3.5%</td>\n",
       "      <td>2.9</td>\n",
       "    </tr>\n",
       "    <tr>\n",
       "      <th>2020</th>\n",
       "      <td>2.2%</td>\n",
       "      <td>-0.3%</td>\n",
       "      <td>0.7%</td>\n",
       "      <td>0.9%</td>\n",
       "      <td>0.8</td>\n",
       "    </tr>\n",
       "    <tr>\n",
       "      <th>2019</th>\n",
       "      <td>1.3%</td>\n",
       "      <td>1.6%</td>\n",
       "      <td>1.7%</td>\n",
       "      <td>1.8%</td>\n",
       "      <td>1.6</td>\n",
       "    </tr>\n",
       "    <tr>\n",
       "      <th>2018</th>\n",
       "      <td>1.9%</td>\n",
       "      <td>2.1%</td>\n",
       "      <td>1.9%</td>\n",
       "      <td>1.8%</td>\n",
       "      <td>1.9</td>\n",
       "    </tr>\n",
       "    <tr>\n",
       "      <th>...</th>\n",
       "      <td>...</td>\n",
       "      <td>...</td>\n",
       "      <td>...</td>\n",
       "      <td>...</td>\n",
       "      <td>...</td>\n",
       "    </tr>\n",
       "    <tr>\n",
       "      <th>1953</th>\n",
       "      <td>6.8%</td>\n",
       "      <td>4.9%</td>\n",
       "      <td>4.8%</td>\n",
       "      <td>1.6%</td>\n",
       "      <td>4.5</td>\n",
       "    </tr>\n",
       "    <tr>\n",
       "      <th>1952</th>\n",
       "      <td>22.9%</td>\n",
       "      <td>19.6%</td>\n",
       "      <td>17.0%</td>\n",
       "      <td>10.5%</td>\n",
       "      <td>17.2</td>\n",
       "    </tr>\n",
       "    <tr>\n",
       "      <th>1951</th>\n",
       "      <td>14.3%</td>\n",
       "      <td>18.6%</td>\n",
       "      <td>20.5%</td>\n",
       "      <td>23.9%</td>\n",
       "      <td>19.4</td>\n",
       "    </tr>\n",
       "    <tr>\n",
       "      <th>1950</th>\n",
       "      <td>7.7%</td>\n",
       "      <td>7.5%</td>\n",
       "      <td>7.3%</td>\n",
       "      <td>12.2%</td>\n",
       "      <td>8.7</td>\n",
       "    </tr>\n",
       "    <tr>\n",
       "      <th>1949</th>\n",
       "      <td>∞%</td>\n",
       "      <td>∞%</td>\n",
       "      <td>10.8%</td>\n",
       "      <td>7.9%</td>\n",
       "      <td>114.7</td>\n",
       "    </tr>\n",
       "  </tbody>\n",
       "</table>\n",
       "<p>74 rows × 5 columns</p>\n",
       "</div>"
      ],
      "text/plain": [
       "        mar    jun    sep    dec  Annual_Inflation\n",
       "Year                                              \n",
       "2022   5.1%   6.1%    NaN    NaN               NaN\n",
       "2021   1.1%   3.8%   3.0%   3.5%               2.9\n",
       "2020   2.2%  -0.3%   0.7%   0.9%               0.8\n",
       "2019   1.3%   1.6%   1.7%   1.8%               1.6\n",
       "2018   1.9%   2.1%   1.9%   1.8%               1.9\n",
       "...     ...    ...    ...    ...               ...\n",
       "1953   6.8%   4.9%   4.8%   1.6%               4.5\n",
       "1952  22.9%  19.6%  17.0%  10.5%              17.2\n",
       "1951  14.3%  18.6%  20.5%  23.9%              19.4\n",
       "1950   7.7%   7.5%   7.3%  12.2%               8.7\n",
       "1949     ∞%     ∞%  10.8%   7.9%             114.7\n",
       "\n",
       "[74 rows x 5 columns]"
      ]
     },
     "execution_count": 9,
     "metadata": {},
     "output_type": "execute_result"
    }
   ],
   "source": [
    "# Here I rename the Annual column as this will conflict with CPI dataset\n",
    "\n",
    "inflation_df.rename(columns = {'Annual':'Annual_Inflation'}, inplace = True)\n",
    "inflation_df"
   ]
  },
  {
   "cell_type": "code",
   "execution_count": 10,
   "id": "061a3fd6-b593-483e-8ab0-cc3c2fa93eef",
   "metadata": {},
   "outputs": [
    {
     "data": {},
     "metadata": {},
     "output_type": "display_data"
    },
    {
     "data": {
      "application/vnd.holoviews_exec.v0+json": "",
      "text/html": [
       "<div id='1002'>\n",
       "\n",
       "\n",
       "\n",
       "\n",
       "\n",
       "  <div class=\"bk-root\" id=\"3497b0e1-afa8-46a8-ac6d-57fd8f9c4ba9\" data-root-id=\"1002\"></div>\n",
       "</div>\n",
       "<script type=\"application/javascript\">(function(root) {\n",
       "  function embed_document(root) {\n",
       "    var docs_json = {\"ed680619-cf65-4554-b223-11c926f279db\":{\"defs\":[{\"extends\":null,\"module\":null,\"name\":\"ReactiveHTML1\",\"overrides\":[],\"properties\":[]},{\"extends\":null,\"module\":null,\"name\":\"FlexBox1\",\"overrides\":[],\"properties\":[{\"default\":\"flex-start\",\"kind\":null,\"name\":\"align_content\"},{\"default\":\"flex-start\",\"kind\":null,\"name\":\"align_items\"},{\"default\":\"row\",\"kind\":null,\"name\":\"flex_direction\"},{\"default\":\"wrap\",\"kind\":null,\"name\":\"flex_wrap\"},{\"default\":\"flex-start\",\"kind\":null,\"name\":\"justify_content\"}]},{\"extends\":null,\"module\":null,\"name\":\"GridStack1\",\"overrides\":[],\"properties\":[{\"default\":\"warn\",\"kind\":null,\"name\":\"mode\"},{\"default\":null,\"kind\":null,\"name\":\"ncols\"},{\"default\":null,\"kind\":null,\"name\":\"nrows\"},{\"default\":true,\"kind\":null,\"name\":\"allow_resize\"},{\"default\":true,\"kind\":null,\"name\":\"allow_drag\"},{\"default\":[],\"kind\":null,\"name\":\"state\"}]},{\"extends\":null,\"module\":null,\"name\":\"click1\",\"overrides\":[],\"properties\":[{\"default\":\"\",\"kind\":null,\"name\":\"terminal_output\"},{\"default\":\"\",\"kind\":null,\"name\":\"debug_name\"},{\"default\":0,\"kind\":null,\"name\":\"clears\"}]},{\"extends\":null,\"module\":null,\"name\":\"TemplateActions1\",\"overrides\":[],\"properties\":[{\"default\":0,\"kind\":null,\"name\":\"open_modal\"},{\"default\":0,\"kind\":null,\"name\":\"close_modal\"}]},{\"extends\":null,\"module\":null,\"name\":\"MaterialTemplateActions1\",\"overrides\":[],\"properties\":[{\"default\":0,\"kind\":null,\"name\":\"open_modal\"},{\"default\":0,\"kind\":null,\"name\":\"close_modal\"}]}],\"roots\":{\"references\":[{\"attributes\":{},\"id\":\"1048\",\"type\":\"AllLabels\"},{\"attributes\":{\"line_alpha\":0.1,\"line_color\":\"#30a2da\",\"line_width\":2,\"x\":{\"field\":\"Year\"},\"y\":{\"field\":\"Annual_Inflation\"}},\"id\":\"1041\",\"type\":\"Line\"},{\"attributes\":{\"bottom_units\":\"screen\",\"coordinates\":null,\"fill_alpha\":0.5,\"fill_color\":\"lightgrey\",\"group\":null,\"left_units\":\"screen\",\"level\":\"overlay\",\"line_alpha\":1.0,\"line_color\":\"black\",\"line_dash\":[4,4],\"line_width\":2,\"right_units\":\"screen\",\"syncable\":false,\"top_units\":\"screen\"},\"id\":\"1029\",\"type\":\"BoxAnnotation\"},{\"attributes\":{},\"id\":\"1024\",\"type\":\"SaveTool\"},{\"attributes\":{},\"id\":\"1025\",\"type\":\"PanTool\"},{\"attributes\":{},\"id\":\"1028\",\"type\":\"ResetTool\"},{\"attributes\":{\"children\":[{\"id\":\"1003\"},{\"id\":\"1007\"},{\"id\":\"1072\"}],\"margin\":[0,0,0,0],\"name\":\"Row01626\",\"tags\":[\"embedded\"]},\"id\":\"1002\",\"type\":\"Row\"},{\"attributes\":{},\"id\":\"1026\",\"type\":\"WheelZoomTool\"},{\"attributes\":{},\"id\":\"1059\",\"type\":\"UnionRenderers\"},{\"attributes\":{},\"id\":\"1038\",\"type\":\"Selection\"},{\"attributes\":{\"data\":{\"Annual_Inflation\":{\"__ndarray__\":\"AAAAAAAA+H8zMzMzMzMHQJqZmZmZmek/mpmZmZmZ+T9mZmZmZmb+P2ZmZmZmZv4/zczMzMzM9D8AAAAAAAD4PwAAAAAAAARAMzMzMzMzA0DNzMzMzMz8P2ZmZmZmZgpAMzMzMzMzB0DNzMzMzMz8P5qZmZmZmRFAZmZmZmZmAkDNzMzMzMwMQJqZmZmZmQVAZmZmZmZmAkCamZmZmZkFQAAAAAAAAAhAmpmZmZmZEUAAAAAAAAASQAAAAAAAAPg/zczMzMzM7D+amZmZmZnJP83MzMzMzARAZmZmZmZmEkAAAAAAAAAAQM3MzMzMzPw/AAAAAAAA8D+amZmZmZkJQDMzMzMzMx1AAAAAAAAAHkDNzMzMzMwcQAAAAAAAACFAMzMzMzMzIkDNzMzMzMwaQAAAAAAAABBAAAAAAAAAJEDNzMzMzMwmQAAAAAAAACNAMzMzMzMzJEAzMzMzMzMiQAAAAAAAACBAmpmZmZmZKECamZmZmZkqQGZmZmZmZi5AzczMzMzMLkAzMzMzMzMiQAAAAAAAABhAZmZmZmZmGEAzMzMzMzMLQGZmZmZmZgpAAAAAAAAABEAAAAAAAAAMQGZmZmZmZgpAMzMzMzMzC0AzMzMzMzMHQDMzMzMzM+M/MzMzMzMz079mZmZmZmYCQJqZmZmZmQ1AzczMzMzMAEBmZmZmZmbmPzMzMzMzMwdAzczMzMzMFkAAAAAAAAD4P5qZmZmZmfk/AAAAAAAAEkAzMzMzMzMxQGZmZmZmZjNAZmZmZmZmIUDNzMzMzKxcQA==\",\"dtype\":\"float64\",\"order\":\"little\",\"shape\":[74]},\"Year\":[2022,2021,2020,2019,2018,2017,2016,2015,2014,2013,2012,2011,2010,2009,2008,2007,2006,2005,2004,2003,2002,2001,2000,1999,1998,1997,1996,1995,1994,1993,1992,1991,1990,1989,1988,1987,1986,1985,1984,1983,1982,1981,1980,1979,1978,1977,1976,1975,1974,1973,1972,1971,1970,1969,1968,1967,1966,1965,1964,1963,1962,1961,1960,1959,1958,1957,1956,1955,1954,1953,1952,1951,1950,1949]},\"selected\":{\"id\":\"1038\"},\"selection_policy\":{\"id\":\"1059\"}},\"id\":\"1037\",\"type\":\"ColumnDataSource\"},{\"attributes\":{\"overlay\":{\"id\":\"1029\"}},\"id\":\"1027\",\"type\":\"BoxZoomTool\"},{\"attributes\":{\"below\":[{\"id\":\"1016\"}],\"center\":[{\"id\":\"1019\"},{\"id\":\"1023\"}],\"height\":300,\"left\":[{\"id\":\"1020\"}],\"margin\":[5,5,5,5],\"min_border_bottom\":10,\"min_border_left\":10,\"min_border_right\":10,\"min_border_top\":10,\"renderers\":[{\"id\":\"1043\"}],\"sizing_mode\":\"fixed\",\"title\":{\"id\":\"1008\"},\"toolbar\":{\"id\":\"1030\"},\"width\":700,\"x_range\":{\"id\":\"1004\"},\"x_scale\":{\"id\":\"1012\"},\"y_range\":{\"id\":\"1005\"},\"y_scale\":{\"id\":\"1014\"}},\"id\":\"1007\",\"subtype\":\"Figure\",\"type\":\"Plot\"},{\"attributes\":{},\"id\":\"1017\",\"type\":\"BasicTicker\"},{\"attributes\":{\"source\":{\"id\":\"1037\"}},\"id\":\"1044\",\"type\":\"CDSView\"},{\"attributes\":{},\"id\":\"1021\",\"type\":\"BasicTicker\"},{\"attributes\":{\"coordinates\":null,\"group\":null,\"text\":\"Annual Inflation\",\"text_color\":\"black\",\"text_font_size\":\"12pt\"},\"id\":\"1008\",\"type\":\"Title\"},{\"attributes\":{},\"id\":\"1050\",\"type\":\"BasicTickFormatter\"},{\"attributes\":{\"axis\":{\"id\":\"1016\"},\"coordinates\":null,\"grid_line_color\":null,\"group\":null,\"ticker\":null},\"id\":\"1019\",\"type\":\"Grid\"},{\"attributes\":{},\"id\":\"1051\",\"type\":\"AllLabels\"},{\"attributes\":{},\"id\":\"1014\",\"type\":\"LinearScale\"},{\"attributes\":{\"tools\":[{\"id\":\"1006\"},{\"id\":\"1024\"},{\"id\":\"1025\"},{\"id\":\"1026\"},{\"id\":\"1027\"},{\"id\":\"1028\"}]},\"id\":\"1030\",\"type\":\"Toolbar\"},{\"attributes\":{\"axis_label\":\"Inflation Rate\",\"coordinates\":null,\"formatter\":{\"id\":\"1050\"},\"group\":null,\"major_label_policy\":{\"id\":\"1051\"},\"ticker\":{\"id\":\"1021\"}},\"id\":\"1020\",\"type\":\"LinearAxis\"},{\"attributes\":{\"line_color\":\"#30a2da\",\"line_width\":2,\"x\":{\"field\":\"Year\"},\"y\":{\"field\":\"Annual_Inflation\"}},\"id\":\"1045\",\"type\":\"Line\"},{\"attributes\":{\"axis_label\":\"Year\",\"coordinates\":null,\"formatter\":{\"id\":\"1047\"},\"group\":null,\"major_label_policy\":{\"id\":\"1048\"},\"ticker\":{\"id\":\"1017\"}},\"id\":\"1016\",\"type\":\"LinearAxis\"},{\"attributes\":{\"callback\":null,\"renderers\":[{\"id\":\"1043\"}],\"tags\":[\"hv_created\"],\"tooltips\":[[\"Year\",\"@{Year}\"],[\"Annual_Inflation\",\"@{Annual_Inflation}\"]]},\"id\":\"1006\",\"type\":\"HoverTool\"},{\"attributes\":{\"end\":2022.0,\"reset_end\":2022.0,\"reset_start\":1949.0,\"start\":1949.0,\"tags\":[[[\"Year\",\"Year\",null]]]},\"id\":\"1004\",\"type\":\"Range1d\"},{\"attributes\":{\"end\":126.2,\"reset_end\":126.2,\"reset_start\":-11.8,\"start\":-11.8,\"tags\":[[[\"Annual_Inflation\",\"Annual_Inflation\",null]]]},\"id\":\"1005\",\"type\":\"Range1d\"},{\"attributes\":{},\"id\":\"1012\",\"type\":\"LinearScale\"},{\"attributes\":{\"line_alpha\":0.2,\"line_color\":\"#30a2da\",\"line_width\":2,\"x\":{\"field\":\"Year\"},\"y\":{\"field\":\"Annual_Inflation\"}},\"id\":\"1042\",\"type\":\"Line\"},{\"attributes\":{},\"id\":\"1047\",\"type\":\"BasicTickFormatter\"},{\"attributes\":{\"margin\":[5,5,5,5],\"name\":\"HSpacer01630\",\"sizing_mode\":\"stretch_width\"},\"id\":\"1003\",\"type\":\"Spacer\"},{\"attributes\":{\"axis\":{\"id\":\"1020\"},\"coordinates\":null,\"dimension\":1,\"grid_line_color\":null,\"group\":null,\"ticker\":null},\"id\":\"1023\",\"type\":\"Grid\"},{\"attributes\":{\"coordinates\":null,\"data_source\":{\"id\":\"1037\"},\"glyph\":{\"id\":\"1040\"},\"group\":null,\"hover_glyph\":null,\"muted_glyph\":{\"id\":\"1042\"},\"nonselection_glyph\":{\"id\":\"1041\"},\"selection_glyph\":{\"id\":\"1045\"},\"view\":{\"id\":\"1044\"}},\"id\":\"1043\",\"type\":\"GlyphRenderer\"},{\"attributes\":{\"line_color\":\"#30a2da\",\"line_width\":2,\"x\":{\"field\":\"Year\"},\"y\":{\"field\":\"Annual_Inflation\"}},\"id\":\"1040\",\"type\":\"Line\"},{\"attributes\":{\"margin\":[5,5,5,5],\"name\":\"HSpacer01631\",\"sizing_mode\":\"stretch_width\"},\"id\":\"1072\",\"type\":\"Spacer\"}],\"root_ids\":[\"1002\"]},\"title\":\"Bokeh Application\",\"version\":\"2.4.2\"}};\n",
       "    var render_items = [{\"docid\":\"ed680619-cf65-4554-b223-11c926f279db\",\"root_ids\":[\"1002\"],\"roots\":{\"1002\":\"3497b0e1-afa8-46a8-ac6d-57fd8f9c4ba9\"}}];\n",
       "    root.Bokeh.embed.embed_items_notebook(docs_json, render_items);\n",
       "  }\n",
       "  if (root.Bokeh !== undefined && root.Bokeh.Panel !== undefined) {\n",
       "    embed_document(root);\n",
       "  } else {\n",
       "    var attempts = 0;\n",
       "    var timer = setInterval(function(root) {\n",
       "      if (root.Bokeh !== undefined && root.Bokeh.Panel !== undefined) {\n",
       "        clearInterval(timer);\n",
       "        embed_document(root);\n",
       "      } else if (document.readyState == \"complete\") {\n",
       "        attempts++;\n",
       "        if (attempts > 200) {\n",
       "          clearInterval(timer);\n",
       "          console.log(\"Bokeh: ERROR: Unable to run BokehJS code because BokehJS library is missing\");\n",
       "        }\n",
       "      }\n",
       "    }, 25, root)\n",
       "  }\n",
       "})(window);</script>"
      ],
      "text/plain": [
       ":Curve   [Year]   (Annual_Inflation)"
      ]
     },
     "execution_count": 10,
     "metadata": {
      "application/vnd.holoviews_exec.v0+json": {
       "id": "1002"
      }
     },
     "output_type": "execute_result"
    }
   ],
   "source": [
    "# And finally I plot the \"Annual Inflation dataset\n",
    "\n",
    "inflation_df[\"Annual_Inflation\"].hvplot(\n",
    "    label=\"Annual Inflation\",\n",
    "    xlabel=\"Year\",\n",
    "    ylabel=\"Inflation Rate\"\n",
    ")"
   ]
  },
  {
   "cell_type": "markdown",
   "id": "3ee8dccc-d665-4cc5-a687-69f9991c0e7c",
   "metadata": {},
   "source": [
    "## Analysis\n",
    "\n",
    "In the above plot we can see the rise in inflation rate during the 1970's, declining from a peak of 15.4 in 1974.\n",
    "Looking at the 2020's we see a marked increase in the inflation rate. The question is, will this trend continue."
   ]
  },
  {
   "cell_type": "code",
   "execution_count": 11,
   "id": "70d5ecf1-09b6-4d95-b5ea-909b83a9fa50",
   "metadata": {},
   "outputs": [
    {
     "data": {
      "text/plain": [
       "Year\n",
       "1979     9.1\n",
       "1978     8.0\n",
       "1977    12.3\n",
       "1976    13.3\n",
       "1975    15.2\n",
       "1974    15.4\n",
       "1973     9.1\n",
       "1972     6.0\n",
       "1971     6.1\n",
       "1970     3.4\n",
       "1969     3.3\n",
       "1968     2.5\n",
       "1967     3.5\n",
       "1966     3.3\n",
       "Name: seventies_inflation, dtype: float64"
      ]
     },
     "execution_count": 11,
     "metadata": {},
     "output_type": "execute_result"
    }
   ],
   "source": [
    "# here is split the inflation data. I isolate 1966 - 1979\n",
    "# I can thereby see the lead up to the spiralling inflation of the 70's\n",
    "\n",
    "seventies_df = inflation_df.rename(columns = {'Annual_Inflation':'seventies_inflation'})\n",
    "seventies_df = seventies_df[\"seventies_inflation\"].iloc[43:57]\n",
    "seventies_df"
   ]
  },
  {
   "cell_type": "code",
   "execution_count": 12,
   "id": "79649c63-5069-4acc-8c04-13c3603b8280",
   "metadata": {},
   "outputs": [
    {
     "data": {},
     "metadata": {},
     "output_type": "display_data"
    },
    {
     "data": {
      "application/vnd.holoviews_exec.v0+json": "",
      "text/html": [
       "<div id='1124'>\n",
       "\n",
       "\n",
       "\n",
       "\n",
       "\n",
       "  <div class=\"bk-root\" id=\"9924f997-aca9-4a28-84c3-ebf2c6a48adf\" data-root-id=\"1124\"></div>\n",
       "</div>\n",
       "<script type=\"application/javascript\">(function(root) {\n",
       "  function embed_document(root) {\n",
       "    var docs_json = {\"c0b43f29-1978-46e3-a2be-fd10582dc57c\":{\"defs\":[{\"extends\":null,\"module\":null,\"name\":\"ReactiveHTML1\",\"overrides\":[],\"properties\":[]},{\"extends\":null,\"module\":null,\"name\":\"FlexBox1\",\"overrides\":[],\"properties\":[{\"default\":\"flex-start\",\"kind\":null,\"name\":\"align_content\"},{\"default\":\"flex-start\",\"kind\":null,\"name\":\"align_items\"},{\"default\":\"row\",\"kind\":null,\"name\":\"flex_direction\"},{\"default\":\"wrap\",\"kind\":null,\"name\":\"flex_wrap\"},{\"default\":\"flex-start\",\"kind\":null,\"name\":\"justify_content\"}]},{\"extends\":null,\"module\":null,\"name\":\"GridStack1\",\"overrides\":[],\"properties\":[{\"default\":\"warn\",\"kind\":null,\"name\":\"mode\"},{\"default\":null,\"kind\":null,\"name\":\"ncols\"},{\"default\":null,\"kind\":null,\"name\":\"nrows\"},{\"default\":true,\"kind\":null,\"name\":\"allow_resize\"},{\"default\":true,\"kind\":null,\"name\":\"allow_drag\"},{\"default\":[],\"kind\":null,\"name\":\"state\"}]},{\"extends\":null,\"module\":null,\"name\":\"click1\",\"overrides\":[],\"properties\":[{\"default\":\"\",\"kind\":null,\"name\":\"terminal_output\"},{\"default\":\"\",\"kind\":null,\"name\":\"debug_name\"},{\"default\":0,\"kind\":null,\"name\":\"clears\"}]},{\"extends\":null,\"module\":null,\"name\":\"TemplateActions1\",\"overrides\":[],\"properties\":[{\"default\":0,\"kind\":null,\"name\":\"open_modal\"},{\"default\":0,\"kind\":null,\"name\":\"close_modal\"}]},{\"extends\":null,\"module\":null,\"name\":\"MaterialTemplateActions1\",\"overrides\":[],\"properties\":[{\"default\":0,\"kind\":null,\"name\":\"open_modal\"},{\"default\":0,\"kind\":null,\"name\":\"close_modal\"}]}],\"roots\":{\"references\":[{\"attributes\":{},\"id\":\"1170\",\"type\":\"AllLabels\"},{\"attributes\":{\"line_color\":\"#30a2da\",\"line_width\":2,\"x\":{\"field\":\"Year\"},\"y\":{\"field\":\"seventies_inflation\"}},\"id\":\"1162\",\"type\":\"Line\"},{\"attributes\":{\"tools\":[{\"id\":\"1128\"},{\"id\":\"1146\"},{\"id\":\"1147\"},{\"id\":\"1148\"},{\"id\":\"1149\"},{\"id\":\"1150\"}]},\"id\":\"1152\",\"type\":\"Toolbar\"},{\"attributes\":{\"bottom_units\":\"screen\",\"coordinates\":null,\"fill_alpha\":0.5,\"fill_color\":\"lightgrey\",\"group\":null,\"left_units\":\"screen\",\"level\":\"overlay\",\"line_alpha\":1.0,\"line_color\":\"black\",\"line_dash\":[4,4],\"line_width\":2,\"right_units\":\"screen\",\"syncable\":false,\"top_units\":\"screen\"},\"id\":\"1151\",\"type\":\"BoxAnnotation\"},{\"attributes\":{\"below\":[{\"id\":\"1138\"}],\"center\":[{\"id\":\"1141\"},{\"id\":\"1145\"}],\"height\":300,\"left\":[{\"id\":\"1142\"}],\"margin\":[5,5,5,5],\"min_border_bottom\":10,\"min_border_left\":10,\"min_border_right\":10,\"min_border_top\":10,\"renderers\":[{\"id\":\"1165\"}],\"sizing_mode\":\"fixed\",\"title\":{\"id\":\"1130\"},\"toolbar\":{\"id\":\"1152\"},\"width\":700,\"x_range\":{\"id\":\"1126\"},\"x_scale\":{\"id\":\"1134\"},\"y_range\":{\"id\":\"1127\"},\"y_scale\":{\"id\":\"1136\"}},\"id\":\"1129\",\"subtype\":\"Figure\",\"type\":\"Plot\"},{\"attributes\":{},\"id\":\"1146\",\"type\":\"SaveTool\"},{\"attributes\":{},\"id\":\"1147\",\"type\":\"PanTool\"},{\"attributes\":{},\"id\":\"1181\",\"type\":\"UnionRenderers\"},{\"attributes\":{\"line_alpha\":0.2,\"line_color\":\"#30a2da\",\"line_width\":2,\"x\":{\"field\":\"Year\"},\"y\":{\"field\":\"seventies_inflation\"}},\"id\":\"1164\",\"type\":\"Line\"},{\"attributes\":{\"callback\":null,\"renderers\":[{\"id\":\"1165\"}],\"tags\":[\"hv_created\"],\"tooltips\":[[\"Year\",\"@{Year}\"],[\"seventies_inflation\",\"@{seventies_inflation}\"]]},\"id\":\"1128\",\"type\":\"HoverTool\"},{\"attributes\":{},\"id\":\"1150\",\"type\":\"ResetTool\"},{\"attributes\":{\"source\":{\"id\":\"1159\"}},\"id\":\"1166\",\"type\":\"CDSView\"},{\"attributes\":{},\"id\":\"1148\",\"type\":\"WheelZoomTool\"},{\"attributes\":{\"overlay\":{\"id\":\"1151\"}},\"id\":\"1149\",\"type\":\"BoxZoomTool\"},{\"attributes\":{\"line_alpha\":0.1,\"line_color\":\"#30a2da\",\"line_width\":2,\"x\":{\"field\":\"Year\"},\"y\":{\"field\":\"seventies_inflation\"}},\"id\":\"1163\",\"type\":\"Line\"},{\"attributes\":{},\"id\":\"1143\",\"type\":\"BasicTicker\"},{\"attributes\":{},\"id\":\"1160\",\"type\":\"Selection\"},{\"attributes\":{},\"id\":\"1139\",\"type\":\"BasicTicker\"},{\"attributes\":{},\"id\":\"1134\",\"type\":\"LinearScale\"},{\"attributes\":{\"coordinates\":null,\"group\":null,\"text\":\"Seventies Inflation\",\"text_color\":\"black\",\"text_font_size\":\"12pt\"},\"id\":\"1130\",\"type\":\"Title\"},{\"attributes\":{\"children\":[{\"id\":\"1125\"},{\"id\":\"1129\"},{\"id\":\"1194\"}],\"margin\":[0,0,0,0],\"name\":\"Row01803\",\"tags\":[\"embedded\"]},\"id\":\"1124\",\"type\":\"Row\"},{\"attributes\":{},\"id\":\"1173\",\"type\":\"AllLabels\"},{\"attributes\":{\"coordinates\":null,\"data_source\":{\"id\":\"1159\"},\"glyph\":{\"id\":\"1162\"},\"group\":null,\"hover_glyph\":null,\"muted_glyph\":{\"id\":\"1164\"},\"nonselection_glyph\":{\"id\":\"1163\"},\"selection_glyph\":{\"id\":\"1167\"},\"view\":{\"id\":\"1166\"}},\"id\":\"1165\",\"type\":\"GlyphRenderer\"},{\"attributes\":{\"axis\":{\"id\":\"1138\"},\"coordinates\":null,\"grid_line_color\":null,\"group\":null,\"ticker\":null},\"id\":\"1141\",\"type\":\"Grid\"},{\"attributes\":{},\"id\":\"1136\",\"type\":\"LinearScale\"},{\"attributes\":{\"axis_label\":\"Inflation Rate\",\"coordinates\":null,\"formatter\":{\"id\":\"1172\"},\"group\":null,\"major_label_policy\":{\"id\":\"1173\"},\"ticker\":{\"id\":\"1143\"}},\"id\":\"1142\",\"type\":\"LinearAxis\"},{\"attributes\":{\"axis_label\":\"Year\",\"coordinates\":null,\"formatter\":{\"id\":\"1169\"},\"group\":null,\"major_label_policy\":{\"id\":\"1170\"},\"ticker\":{\"id\":\"1139\"}},\"id\":\"1138\",\"type\":\"LinearAxis\"},{\"attributes\":{\"line_color\":\"#30a2da\",\"line_width\":2,\"x\":{\"field\":\"Year\"},\"y\":{\"field\":\"seventies_inflation\"}},\"id\":\"1167\",\"type\":\"Line\"},{\"attributes\":{\"margin\":[5,5,5,5],\"name\":\"HSpacer01807\",\"sizing_mode\":\"stretch_width\"},\"id\":\"1125\",\"type\":\"Spacer\"},{\"attributes\":{\"margin\":[5,5,5,5],\"name\":\"HSpacer01808\",\"sizing_mode\":\"stretch_width\"},\"id\":\"1194\",\"type\":\"Spacer\"},{\"attributes\":{},\"id\":\"1172\",\"type\":\"BasicTickFormatter\"},{\"attributes\":{},\"id\":\"1169\",\"type\":\"BasicTickFormatter\"},{\"attributes\":{\"end\":1979.0,\"reset_end\":1979.0,\"reset_start\":1966.0,\"start\":1966.0,\"tags\":[[[\"Year\",\"Year\",null]]]},\"id\":\"1126\",\"type\":\"Range1d\"},{\"attributes\":{\"axis\":{\"id\":\"1142\"},\"coordinates\":null,\"dimension\":1,\"grid_line_color\":null,\"group\":null,\"ticker\":null},\"id\":\"1145\",\"type\":\"Grid\"},{\"attributes\":{\"data\":{\"Year\":[1979,1978,1977,1976,1975,1974,1973,1972,1971,1970,1969,1968,1967,1966],\"seventies_inflation\":{\"__ndarray__\":\"MzMzMzMzIkAAAAAAAAAgQJqZmZmZmShAmpmZmZmZKkBmZmZmZmYuQM3MzMzMzC5AMzMzMzMzIkAAAAAAAAAYQGZmZmZmZhhAMzMzMzMzC0BmZmZmZmYKQAAAAAAAAARAAAAAAAAADEBmZmZmZmYKQA==\",\"dtype\":\"float64\",\"order\":\"little\",\"shape\":[14]}},\"selected\":{\"id\":\"1160\"},\"selection_policy\":{\"id\":\"1181\"}},\"id\":\"1159\",\"type\":\"ColumnDataSource\"},{\"attributes\":{\"end\":16.69,\"reset_end\":16.69,\"reset_start\":1.21,\"start\":1.21,\"tags\":[[[\"seventies_inflation\",\"seventies_inflation\",null]]]},\"id\":\"1127\",\"type\":\"Range1d\"}],\"root_ids\":[\"1124\"]},\"title\":\"Bokeh Application\",\"version\":\"2.4.2\"}};\n",
       "    var render_items = [{\"docid\":\"c0b43f29-1978-46e3-a2be-fd10582dc57c\",\"root_ids\":[\"1124\"],\"roots\":{\"1124\":\"9924f997-aca9-4a28-84c3-ebf2c6a48adf\"}}];\n",
       "    root.Bokeh.embed.embed_items_notebook(docs_json, render_items);\n",
       "  }\n",
       "  if (root.Bokeh !== undefined && root.Bokeh.Panel !== undefined) {\n",
       "    embed_document(root);\n",
       "  } else {\n",
       "    var attempts = 0;\n",
       "    var timer = setInterval(function(root) {\n",
       "      if (root.Bokeh !== undefined && root.Bokeh.Panel !== undefined) {\n",
       "        clearInterval(timer);\n",
       "        embed_document(root);\n",
       "      } else if (document.readyState == \"complete\") {\n",
       "        attempts++;\n",
       "        if (attempts > 200) {\n",
       "          clearInterval(timer);\n",
       "          console.log(\"Bokeh: ERROR: Unable to run BokehJS code because BokehJS library is missing\");\n",
       "        }\n",
       "      }\n",
       "    }, 25, root)\n",
       "  }\n",
       "})(window);</script>"
      ],
      "text/plain": [
       ":Curve   [Year]   (seventies_inflation)"
      ]
     },
     "execution_count": 12,
     "metadata": {
      "application/vnd.holoviews_exec.v0+json": {
       "id": "1124"
      }
     },
     "output_type": "execute_result"
    }
   ],
   "source": [
    "# here is a plot of 1966-1979 inflation rate\n",
    "# from steady to a massive increase in the middle of the decade\n",
    "\n",
    "seventies_df.hvplot(\n",
    "    label=\"Seventies Inflation\",\n",
    "    xlabel=\"Year\",\n",
    "    ylabel=\"Inflation Rate\"\n",
    ")"
   ]
  },
  {
   "cell_type": "markdown",
   "id": "e4524cea-1404-4495-bed8-6bd08ac843e8",
   "metadata": {},
   "source": [
    "### Analysis\n",
    "\n",
    "In the above graph of inflation from 1966 to 1979, we see a relatively flate rate during the latter half of the 1960's. From 1970's there is a marked increase which continues to increase in the first half of the decade, peaking at 15.4% in 1974."
   ]
  },
  {
   "cell_type": "code",
   "execution_count": 18,
   "id": "eec76867-d457-47dc-bd2c-cadfc4c1f4a7",
   "metadata": {},
   "outputs": [],
   "source": [
    "# here I pull out the recent inflation rate\n",
    "# I call it twenties however it includes 2010 - 2021\n",
    "\n",
    "twenties_df = inflation_df.rename(columns = {'Annual_Inflation':'twenties_inflation'})\n",
    "twenties_df = twenties_df[\"twenties_inflation\"].iloc[1:13]"
   ]
  },
  {
   "cell_type": "code",
   "execution_count": 19,
   "id": "74c7b47e-1798-4def-8a8e-7d620471aaa0",
   "metadata": {},
   "outputs": [
    {
     "data": {
      "text/plain": [
       "Year\n",
       "2021    2.9\n",
       "2020    0.8\n",
       "2019    1.6\n",
       "2018    1.9\n",
       "2017    1.9\n",
       "2016    1.3\n",
       "2015    1.5\n",
       "2014    2.5\n",
       "2013    2.4\n",
       "2012    1.8\n",
       "2011    3.3\n",
       "2010    2.9\n",
       "Name: twenties_inflation, dtype: float64"
      ]
     },
     "execution_count": 19,
     "metadata": {},
     "output_type": "execute_result"
    }
   ],
   "source": [
    "twenties_df"
   ]
  },
  {
   "cell_type": "code",
   "execution_count": 20,
   "id": "569cedfd-1777-4b9a-ad71-24037556dbfa",
   "metadata": {},
   "outputs": [
    {
     "data": {},
     "metadata": {},
     "output_type": "display_data"
    },
    {
     "data": {
      "application/vnd.holoviews_exec.v0+json": "",
      "text/html": [
       "<div id='1368'>\n",
       "\n",
       "\n",
       "\n",
       "\n",
       "\n",
       "  <div class=\"bk-root\" id=\"29ba0e64-c10a-4f6a-91f7-30fbb4567d7d\" data-root-id=\"1368\"></div>\n",
       "</div>\n",
       "<script type=\"application/javascript\">(function(root) {\n",
       "  function embed_document(root) {\n",
       "    var docs_json = {\"2083cf4b-a514-4a99-b85b-e257cf3b2ab6\":{\"defs\":[{\"extends\":null,\"module\":null,\"name\":\"ReactiveHTML1\",\"overrides\":[],\"properties\":[]},{\"extends\":null,\"module\":null,\"name\":\"FlexBox1\",\"overrides\":[],\"properties\":[{\"default\":\"flex-start\",\"kind\":null,\"name\":\"align_content\"},{\"default\":\"flex-start\",\"kind\":null,\"name\":\"align_items\"},{\"default\":\"row\",\"kind\":null,\"name\":\"flex_direction\"},{\"default\":\"wrap\",\"kind\":null,\"name\":\"flex_wrap\"},{\"default\":\"flex-start\",\"kind\":null,\"name\":\"justify_content\"}]},{\"extends\":null,\"module\":null,\"name\":\"GridStack1\",\"overrides\":[],\"properties\":[{\"default\":\"warn\",\"kind\":null,\"name\":\"mode\"},{\"default\":null,\"kind\":null,\"name\":\"ncols\"},{\"default\":null,\"kind\":null,\"name\":\"nrows\"},{\"default\":true,\"kind\":null,\"name\":\"allow_resize\"},{\"default\":true,\"kind\":null,\"name\":\"allow_drag\"},{\"default\":[],\"kind\":null,\"name\":\"state\"}]},{\"extends\":null,\"module\":null,\"name\":\"click1\",\"overrides\":[],\"properties\":[{\"default\":\"\",\"kind\":null,\"name\":\"terminal_output\"},{\"default\":\"\",\"kind\":null,\"name\":\"debug_name\"},{\"default\":0,\"kind\":null,\"name\":\"clears\"}]},{\"extends\":null,\"module\":null,\"name\":\"TemplateActions1\",\"overrides\":[],\"properties\":[{\"default\":0,\"kind\":null,\"name\":\"open_modal\"},{\"default\":0,\"kind\":null,\"name\":\"close_modal\"}]},{\"extends\":null,\"module\":null,\"name\":\"MaterialTemplateActions1\",\"overrides\":[],\"properties\":[{\"default\":0,\"kind\":null,\"name\":\"open_modal\"},{\"default\":0,\"kind\":null,\"name\":\"close_modal\"}]}],\"roots\":{\"references\":[{\"attributes\":{\"source\":{\"id\":\"1403\"}},\"id\":\"1410\",\"type\":\"CDSView\"},{\"attributes\":{\"callback\":null,\"renderers\":[{\"id\":\"1409\"}],\"tags\":[\"hv_created\"],\"tooltips\":[[\"Year\",\"@{Year}\"],[\"twenties_inflation\",\"@{twenties_inflation}\"]]},\"id\":\"1372\",\"type\":\"HoverTool\"},{\"attributes\":{},\"id\":\"1390\",\"type\":\"SaveTool\"},{\"attributes\":{},\"id\":\"1391\",\"type\":\"PanTool\"},{\"attributes\":{\"line_alpha\":0.2,\"line_color\":\"#30a2da\",\"line_width\":2,\"x\":{\"field\":\"Year\"},\"y\":{\"field\":\"twenties_inflation\"}},\"id\":\"1408\",\"type\":\"Line\"},{\"attributes\":{},\"id\":\"1394\",\"type\":\"ResetTool\"},{\"attributes\":{},\"id\":\"1392\",\"type\":\"WheelZoomTool\"},{\"attributes\":{},\"id\":\"1413\",\"type\":\"BasicTickFormatter\"},{\"attributes\":{\"overlay\":{\"id\":\"1395\"}},\"id\":\"1393\",\"type\":\"BoxZoomTool\"},{\"attributes\":{},\"id\":\"1404\",\"type\":\"Selection\"},{\"attributes\":{\"end\":2021.0,\"reset_end\":2021.0,\"reset_start\":2010.0,\"start\":2010.0,\"tags\":[[[\"Year\",\"Year\",null]]]},\"id\":\"1370\",\"type\":\"Range1d\"},{\"attributes\":{\"margin\":[5,5,5,5],\"name\":\"HSpacer02166\",\"sizing_mode\":\"stretch_width\"},\"id\":\"1438\",\"type\":\"Spacer\"},{\"attributes\":{},\"id\":\"1383\",\"type\":\"BasicTicker\"},{\"attributes\":{},\"id\":\"1378\",\"type\":\"LinearScale\"},{\"attributes\":{\"coordinates\":null,\"group\":null,\"text\":\"Annual Inflation\",\"text_color\":\"black\",\"text_font_size\":\"12pt\"},\"id\":\"1374\",\"type\":\"Title\"},{\"attributes\":{\"axis\":{\"id\":\"1382\"},\"coordinates\":null,\"grid_line_color\":null,\"group\":null,\"ticker\":null},\"id\":\"1385\",\"type\":\"Grid\"},{\"attributes\":{\"tools\":[{\"id\":\"1372\"},{\"id\":\"1390\"},{\"id\":\"1391\"},{\"id\":\"1392\"},{\"id\":\"1393\"},{\"id\":\"1394\"}]},\"id\":\"1396\",\"type\":\"Toolbar\"},{\"attributes\":{},\"id\":\"1380\",\"type\":\"LinearScale\"},{\"attributes\":{\"axis_label\":\"Inflation Rate\",\"coordinates\":null,\"formatter\":{\"id\":\"1416\"},\"group\":null,\"major_label_policy\":{\"id\":\"1417\"},\"ticker\":{\"id\":\"1387\"}},\"id\":\"1386\",\"type\":\"LinearAxis\"},{\"attributes\":{\"axis_label\":\"Year\",\"coordinates\":null,\"formatter\":{\"id\":\"1413\"},\"group\":null,\"major_label_policy\":{\"id\":\"1414\"},\"ticker\":{\"id\":\"1383\"}},\"id\":\"1382\",\"type\":\"LinearAxis\"},{\"attributes\":{\"bottom_units\":\"screen\",\"coordinates\":null,\"fill_alpha\":0.5,\"fill_color\":\"lightgrey\",\"group\":null,\"left_units\":\"screen\",\"level\":\"overlay\",\"line_alpha\":1.0,\"line_color\":\"black\",\"line_dash\":[4,4],\"line_width\":2,\"right_units\":\"screen\",\"syncable\":false,\"top_units\":\"screen\"},\"id\":\"1395\",\"type\":\"BoxAnnotation\"},{\"attributes\":{},\"id\":\"1414\",\"type\":\"AllLabels\"},{\"attributes\":{\"line_color\":\"#30a2da\",\"line_width\":2,\"x\":{\"field\":\"Year\"},\"y\":{\"field\":\"twenties_inflation\"}},\"id\":\"1411\",\"type\":\"Line\"},{\"attributes\":{\"data\":{\"Year\":[2021,2020,2019,2018,2017,2016,2015,2014,2013,2012,2011,2010],\"twenties_inflation\":{\"__ndarray__\":\"MzMzMzMzB0CamZmZmZnpP5qZmZmZmfk/ZmZmZmZm/j9mZmZmZmb+P83MzMzMzPQ/AAAAAAAA+D8AAAAAAAAEQDMzMzMzMwNAzczMzMzM/D9mZmZmZmYKQDMzMzMzMwdA\",\"dtype\":\"float64\",\"order\":\"little\",\"shape\":[12]}},\"selected\":{\"id\":\"1404\"},\"selection_policy\":{\"id\":\"1425\"}},\"id\":\"1403\",\"type\":\"ColumnDataSource\"},{\"attributes\":{\"axis\":{\"id\":\"1386\"},\"coordinates\":null,\"dimension\":1,\"grid_line_color\":null,\"group\":null,\"ticker\":null},\"id\":\"1389\",\"type\":\"Grid\"},{\"attributes\":{\"coordinates\":null,\"data_source\":{\"id\":\"1403\"},\"glyph\":{\"id\":\"1406\"},\"group\":null,\"hover_glyph\":null,\"muted_glyph\":{\"id\":\"1408\"},\"nonselection_glyph\":{\"id\":\"1407\"},\"selection_glyph\":{\"id\":\"1411\"},\"view\":{\"id\":\"1410\"}},\"id\":\"1409\",\"type\":\"GlyphRenderer\"},{\"attributes\":{\"end\":3.55,\"reset_end\":3.55,\"reset_start\":0.55,\"start\":0.55,\"tags\":[[[\"twenties_inflation\",\"twenties_inflation\",null]]]},\"id\":\"1371\",\"type\":\"Range1d\"},{\"attributes\":{},\"id\":\"1416\",\"type\":\"BasicTickFormatter\"},{\"attributes\":{},\"id\":\"1425\",\"type\":\"UnionRenderers\"},{\"attributes\":{\"margin\":[5,5,5,5],\"name\":\"HSpacer02165\",\"sizing_mode\":\"stretch_width\"},\"id\":\"1369\",\"type\":\"Spacer\"},{\"attributes\":{},\"id\":\"1387\",\"type\":\"BasicTicker\"},{\"attributes\":{\"line_alpha\":0.1,\"line_color\":\"#30a2da\",\"line_width\":2,\"x\":{\"field\":\"Year\"},\"y\":{\"field\":\"twenties_inflation\"}},\"id\":\"1407\",\"type\":\"Line\"},{\"attributes\":{},\"id\":\"1417\",\"type\":\"AllLabels\"},{\"attributes\":{\"children\":[{\"id\":\"1369\"},{\"id\":\"1373\"},{\"id\":\"1438\"}],\"margin\":[0,0,0,0],\"name\":\"Row02161\",\"tags\":[\"embedded\"]},\"id\":\"1368\",\"type\":\"Row\"},{\"attributes\":{\"line_color\":\"#30a2da\",\"line_width\":2,\"x\":{\"field\":\"Year\"},\"y\":{\"field\":\"twenties_inflation\"}},\"id\":\"1406\",\"type\":\"Line\"},{\"attributes\":{\"below\":[{\"id\":\"1382\"}],\"center\":[{\"id\":\"1385\"},{\"id\":\"1389\"}],\"height\":300,\"left\":[{\"id\":\"1386\"}],\"margin\":[5,5,5,5],\"min_border_bottom\":10,\"min_border_left\":10,\"min_border_right\":10,\"min_border_top\":10,\"renderers\":[{\"id\":\"1409\"}],\"sizing_mode\":\"fixed\",\"title\":{\"id\":\"1374\"},\"toolbar\":{\"id\":\"1396\"},\"width\":700,\"x_range\":{\"id\":\"1370\"},\"x_scale\":{\"id\":\"1378\"},\"y_range\":{\"id\":\"1371\"},\"y_scale\":{\"id\":\"1380\"}},\"id\":\"1373\",\"subtype\":\"Figure\",\"type\":\"Plot\"}],\"root_ids\":[\"1368\"]},\"title\":\"Bokeh Application\",\"version\":\"2.4.2\"}};\n",
       "    var render_items = [{\"docid\":\"2083cf4b-a514-4a99-b85b-e257cf3b2ab6\",\"root_ids\":[\"1368\"],\"roots\":{\"1368\":\"29ba0e64-c10a-4f6a-91f7-30fbb4567d7d\"}}];\n",
       "    root.Bokeh.embed.embed_items_notebook(docs_json, render_items);\n",
       "  }\n",
       "  if (root.Bokeh !== undefined && root.Bokeh.Panel !== undefined) {\n",
       "    embed_document(root);\n",
       "  } else {\n",
       "    var attempts = 0;\n",
       "    var timer = setInterval(function(root) {\n",
       "      if (root.Bokeh !== undefined && root.Bokeh.Panel !== undefined) {\n",
       "        clearInterval(timer);\n",
       "        embed_document(root);\n",
       "      } else if (document.readyState == \"complete\") {\n",
       "        attempts++;\n",
       "        if (attempts > 200) {\n",
       "          clearInterval(timer);\n",
       "          console.log(\"Bokeh: ERROR: Unable to run BokehJS code because BokehJS library is missing\");\n",
       "        }\n",
       "      }\n",
       "    }, 25, root)\n",
       "  }\n",
       "})(window);</script>"
      ],
      "text/plain": [
       ":Curve   [Year]   (twenties_inflation)"
      ]
     },
     "execution_count": 20,
     "metadata": {
      "application/vnd.holoviews_exec.v0+json": {
       "id": "1368"
      }
     },
     "output_type": "execute_result"
    }
   ],
   "source": [
    "twenties_df.hvplot(\n",
    "    label=\"Annual Inflation\",\n",
    "    xlabel=\"Year\",\n",
    "    ylabel=\"Inflation Rate\"\n",
    ")"
   ]
  },
  {
   "cell_type": "markdown",
   "id": "c3ba5fca-f1e4-42b6-9c67-1c7fa92f1f1b",
   "metadata": {
    "tags": []
   },
   "source": [
    "### Analysis\n",
    "\n",
    "The above plot for inflation in the period 2010 to 2021 shows a declining rate during the 2010's from a high of 3.3% in 2011. In 2020 we see a marked increase, rising from 0.8% in 2020 to 2.9% in 2021 (and continuing to rise in 2022 to 6.1% currently).\n",
    "\n",
    "The similarities between 2020 and 1970, at least in inflation rates, is cause for a closer look."
   ]
  },
  {
   "cell_type": "code",
   "execution_count": 21,
   "id": "46b390d2-9250-4111-b713-a035ab0bbe5d",
   "metadata": {},
   "outputs": [
    {
     "data": {
      "text/plain": [
       "Year\n",
       "1979     9.1\n",
       "1978     8.0\n",
       "1977    12.3\n",
       "1976    13.3\n",
       "1975    15.2\n",
       "Name: seventies_inflation, dtype: float64"
      ]
     },
     "metadata": {},
     "output_type": "display_data"
    },
    {
     "data": {
      "text/plain": [
       "Year\n",
       "2021    2.9\n",
       "2020    0.8\n",
       "2019    1.6\n",
       "2018    1.9\n",
       "2017    1.9\n",
       "Name: twenties_inflation, dtype: float64"
      ]
     },
     "metadata": {},
     "output_type": "display_data"
    }
   ],
   "source": [
    "display(seventies_df.head(5))\n",
    "display(twenties_df.head(5))"
   ]
  },
  {
   "cell_type": "code",
   "execution_count": 24,
   "id": "f70f8d76-56b7-4585-9a97-5d99daba5d0c",
   "metadata": {},
   "outputs": [
    {
     "data": {
      "text/html": [
       "<div>\n",
       "<style scoped>\n",
       "    .dataframe tbody tr th:only-of-type {\n",
       "        vertical-align: middle;\n",
       "    }\n",
       "\n",
       "    .dataframe tbody tr th {\n",
       "        vertical-align: top;\n",
       "    }\n",
       "\n",
       "    .dataframe thead th {\n",
       "        text-align: right;\n",
       "    }\n",
       "</style>\n",
       "<table border=\"1\" class=\"dataframe\">\n",
       "  <thead>\n",
       "    <tr style=\"text-align: right;\">\n",
       "      <th></th>\n",
       "      <th>seventies_inflation</th>\n",
       "    </tr>\n",
       "  </thead>\n",
       "  <tbody>\n",
       "    <tr>\n",
       "      <th>0</th>\n",
       "      <td>9.1</td>\n",
       "    </tr>\n",
       "    <tr>\n",
       "      <th>1</th>\n",
       "      <td>8.0</td>\n",
       "    </tr>\n",
       "    <tr>\n",
       "      <th>2</th>\n",
       "      <td>12.3</td>\n",
       "    </tr>\n",
       "    <tr>\n",
       "      <th>3</th>\n",
       "      <td>13.3</td>\n",
       "    </tr>\n",
       "    <tr>\n",
       "      <th>4</th>\n",
       "      <td>15.2</td>\n",
       "    </tr>\n",
       "    <tr>\n",
       "      <th>5</th>\n",
       "      <td>15.4</td>\n",
       "    </tr>\n",
       "    <tr>\n",
       "      <th>6</th>\n",
       "      <td>9.1</td>\n",
       "    </tr>\n",
       "    <tr>\n",
       "      <th>7</th>\n",
       "      <td>6.0</td>\n",
       "    </tr>\n",
       "    <tr>\n",
       "      <th>8</th>\n",
       "      <td>6.1</td>\n",
       "    </tr>\n",
       "    <tr>\n",
       "      <th>9</th>\n",
       "      <td>3.4</td>\n",
       "    </tr>\n",
       "    <tr>\n",
       "      <th>10</th>\n",
       "      <td>3.3</td>\n",
       "    </tr>\n",
       "    <tr>\n",
       "      <th>11</th>\n",
       "      <td>2.5</td>\n",
       "    </tr>\n",
       "    <tr>\n",
       "      <th>12</th>\n",
       "      <td>3.5</td>\n",
       "    </tr>\n",
       "    <tr>\n",
       "      <th>13</th>\n",
       "      <td>3.3</td>\n",
       "    </tr>\n",
       "  </tbody>\n",
       "</table>\n",
       "</div>"
      ],
      "text/plain": [
       "    seventies_inflation\n",
       "0                   9.1\n",
       "1                   8.0\n",
       "2                  12.3\n",
       "3                  13.3\n",
       "4                  15.2\n",
       "5                  15.4\n",
       "6                   9.1\n",
       "7                   6.0\n",
       "8                   6.1\n",
       "9                   3.4\n",
       "10                  3.3\n",
       "11                  2.5\n",
       "12                  3.5\n",
       "13                  3.3"
      ]
     },
     "execution_count": 24,
     "metadata": {},
     "output_type": "execute_result"
    }
   ],
   "source": [
    "seventies_inf = seventies_df.reset_index().drop([\"Year\"], axis=1)\n",
    "seventies_inf"
   ]
  },
  {
   "cell_type": "code",
   "execution_count": 25,
   "id": "5bd001fb-079b-4329-afff-e9f84bb36004",
   "metadata": {},
   "outputs": [
    {
     "data": {
      "text/html": [
       "<div>\n",
       "<style scoped>\n",
       "    .dataframe tbody tr th:only-of-type {\n",
       "        vertical-align: middle;\n",
       "    }\n",
       "\n",
       "    .dataframe tbody tr th {\n",
       "        vertical-align: top;\n",
       "    }\n",
       "\n",
       "    .dataframe thead th {\n",
       "        text-align: right;\n",
       "    }\n",
       "</style>\n",
       "<table border=\"1\" class=\"dataframe\">\n",
       "  <thead>\n",
       "    <tr style=\"text-align: right;\">\n",
       "      <th></th>\n",
       "      <th>twenties_inflation</th>\n",
       "    </tr>\n",
       "  </thead>\n",
       "  <tbody>\n",
       "    <tr>\n",
       "      <th>0</th>\n",
       "      <td>2.9</td>\n",
       "    </tr>\n",
       "    <tr>\n",
       "      <th>1</th>\n",
       "      <td>0.8</td>\n",
       "    </tr>\n",
       "    <tr>\n",
       "      <th>2</th>\n",
       "      <td>1.6</td>\n",
       "    </tr>\n",
       "    <tr>\n",
       "      <th>3</th>\n",
       "      <td>1.9</td>\n",
       "    </tr>\n",
       "    <tr>\n",
       "      <th>4</th>\n",
       "      <td>1.9</td>\n",
       "    </tr>\n",
       "    <tr>\n",
       "      <th>5</th>\n",
       "      <td>1.3</td>\n",
       "    </tr>\n",
       "    <tr>\n",
       "      <th>6</th>\n",
       "      <td>1.5</td>\n",
       "    </tr>\n",
       "    <tr>\n",
       "      <th>7</th>\n",
       "      <td>2.5</td>\n",
       "    </tr>\n",
       "    <tr>\n",
       "      <th>8</th>\n",
       "      <td>2.4</td>\n",
       "    </tr>\n",
       "    <tr>\n",
       "      <th>9</th>\n",
       "      <td>1.8</td>\n",
       "    </tr>\n",
       "    <tr>\n",
       "      <th>10</th>\n",
       "      <td>3.3</td>\n",
       "    </tr>\n",
       "    <tr>\n",
       "      <th>11</th>\n",
       "      <td>2.9</td>\n",
       "    </tr>\n",
       "  </tbody>\n",
       "</table>\n",
       "</div>"
      ],
      "text/plain": [
       "    twenties_inflation\n",
       "0                  2.9\n",
       "1                  0.8\n",
       "2                  1.6\n",
       "3                  1.9\n",
       "4                  1.9\n",
       "5                  1.3\n",
       "6                  1.5\n",
       "7                  2.5\n",
       "8                  2.4\n",
       "9                  1.8\n",
       "10                 3.3\n",
       "11                 2.9"
      ]
     },
     "execution_count": 25,
     "metadata": {},
     "output_type": "execute_result"
    }
   ],
   "source": [
    "twenties_inf = twenties_df.reset_index().drop([\"Year\"], axis=1)\n",
    "twenties_inf"
   ]
  },
  {
   "cell_type": "code",
   "execution_count": 26,
   "id": "1e2d6a1b-c3fc-45c8-9bde-edf4b1edea41",
   "metadata": {},
   "outputs": [],
   "source": [
    "comparison = pd.concat([seventies_inf, twenties_inf], axis=1)"
   ]
  },
  {
   "cell_type": "code",
   "execution_count": 27,
   "id": "a2691257-55e2-4497-9691-6f63ba9567d0",
   "metadata": {},
   "outputs": [
    {
     "data": {
      "text/html": [
       "<div>\n",
       "<style scoped>\n",
       "    .dataframe tbody tr th:only-of-type {\n",
       "        vertical-align: middle;\n",
       "    }\n",
       "\n",
       "    .dataframe tbody tr th {\n",
       "        vertical-align: top;\n",
       "    }\n",
       "\n",
       "    .dataframe thead th {\n",
       "        text-align: right;\n",
       "    }\n",
       "</style>\n",
       "<table border=\"1\" class=\"dataframe\">\n",
       "  <thead>\n",
       "    <tr style=\"text-align: right;\">\n",
       "      <th></th>\n",
       "      <th>seventies_inflation</th>\n",
       "      <th>twenties_inflation</th>\n",
       "    </tr>\n",
       "  </thead>\n",
       "  <tbody>\n",
       "    <tr>\n",
       "      <th>0</th>\n",
       "      <td>9.1</td>\n",
       "      <td>2.9</td>\n",
       "    </tr>\n",
       "    <tr>\n",
       "      <th>1</th>\n",
       "      <td>8.0</td>\n",
       "      <td>0.8</td>\n",
       "    </tr>\n",
       "    <tr>\n",
       "      <th>2</th>\n",
       "      <td>12.3</td>\n",
       "      <td>1.6</td>\n",
       "    </tr>\n",
       "    <tr>\n",
       "      <th>3</th>\n",
       "      <td>13.3</td>\n",
       "      <td>1.9</td>\n",
       "    </tr>\n",
       "    <tr>\n",
       "      <th>4</th>\n",
       "      <td>15.2</td>\n",
       "      <td>1.9</td>\n",
       "    </tr>\n",
       "    <tr>\n",
       "      <th>5</th>\n",
       "      <td>15.4</td>\n",
       "      <td>1.3</td>\n",
       "    </tr>\n",
       "    <tr>\n",
       "      <th>6</th>\n",
       "      <td>9.1</td>\n",
       "      <td>1.5</td>\n",
       "    </tr>\n",
       "    <tr>\n",
       "      <th>7</th>\n",
       "      <td>6.0</td>\n",
       "      <td>2.5</td>\n",
       "    </tr>\n",
       "    <tr>\n",
       "      <th>8</th>\n",
       "      <td>6.1</td>\n",
       "      <td>2.4</td>\n",
       "    </tr>\n",
       "    <tr>\n",
       "      <th>9</th>\n",
       "      <td>3.4</td>\n",
       "      <td>1.8</td>\n",
       "    </tr>\n",
       "    <tr>\n",
       "      <th>10</th>\n",
       "      <td>3.3</td>\n",
       "      <td>3.3</td>\n",
       "    </tr>\n",
       "    <tr>\n",
       "      <th>11</th>\n",
       "      <td>2.5</td>\n",
       "      <td>2.9</td>\n",
       "    </tr>\n",
       "    <tr>\n",
       "      <th>12</th>\n",
       "      <td>3.5</td>\n",
       "      <td>NaN</td>\n",
       "    </tr>\n",
       "    <tr>\n",
       "      <th>13</th>\n",
       "      <td>3.3</td>\n",
       "      <td>NaN</td>\n",
       "    </tr>\n",
       "  </tbody>\n",
       "</table>\n",
       "</div>"
      ],
      "text/plain": [
       "    seventies_inflation  twenties_inflation\n",
       "0                   9.1                 2.9\n",
       "1                   8.0                 0.8\n",
       "2                  12.3                 1.6\n",
       "3                  13.3                 1.9\n",
       "4                  15.2                 1.9\n",
       "5                  15.4                 1.3\n",
       "6                   9.1                 1.5\n",
       "7                   6.0                 2.5\n",
       "8                   6.1                 2.4\n",
       "9                   3.4                 1.8\n",
       "10                  3.3                 3.3\n",
       "11                  2.5                 2.9\n",
       "12                  3.5                 NaN\n",
       "13                  3.3                 NaN"
      ]
     },
     "execution_count": 27,
     "metadata": {},
     "output_type": "execute_result"
    }
   ],
   "source": [
    "comparison"
   ]
  },
  {
   "cell_type": "code",
   "execution_count": 28,
   "id": "847fe2b2-b20c-4956-81f0-e7c73f10181d",
   "metadata": {},
   "outputs": [
    {
     "data": {},
     "metadata": {},
     "output_type": "display_data"
    },
    {
     "data": {
      "application/vnd.holoviews_exec.v0+json": "",
      "text/html": [
       "<div id='1490'>\n",
       "\n",
       "\n",
       "\n",
       "\n",
       "\n",
       "  <div class=\"bk-root\" id=\"62c44d4b-80e1-4cee-a131-2cd6a7705aa2\" data-root-id=\"1490\"></div>\n",
       "</div>\n",
       "<script type=\"application/javascript\">(function(root) {\n",
       "  function embed_document(root) {\n",
       "    var docs_json = {\"fee76981-24b0-4660-9e21-31cb86e9e37e\":{\"defs\":[{\"extends\":null,\"module\":null,\"name\":\"ReactiveHTML1\",\"overrides\":[],\"properties\":[]},{\"extends\":null,\"module\":null,\"name\":\"FlexBox1\",\"overrides\":[],\"properties\":[{\"default\":\"flex-start\",\"kind\":null,\"name\":\"align_content\"},{\"default\":\"flex-start\",\"kind\":null,\"name\":\"align_items\"},{\"default\":\"row\",\"kind\":null,\"name\":\"flex_direction\"},{\"default\":\"wrap\",\"kind\":null,\"name\":\"flex_wrap\"},{\"default\":\"flex-start\",\"kind\":null,\"name\":\"justify_content\"}]},{\"extends\":null,\"module\":null,\"name\":\"GridStack1\",\"overrides\":[],\"properties\":[{\"default\":\"warn\",\"kind\":null,\"name\":\"mode\"},{\"default\":null,\"kind\":null,\"name\":\"ncols\"},{\"default\":null,\"kind\":null,\"name\":\"nrows\"},{\"default\":true,\"kind\":null,\"name\":\"allow_resize\"},{\"default\":true,\"kind\":null,\"name\":\"allow_drag\"},{\"default\":[],\"kind\":null,\"name\":\"state\"}]},{\"extends\":null,\"module\":null,\"name\":\"click1\",\"overrides\":[],\"properties\":[{\"default\":\"\",\"kind\":null,\"name\":\"terminal_output\"},{\"default\":\"\",\"kind\":null,\"name\":\"debug_name\"},{\"default\":0,\"kind\":null,\"name\":\"clears\"}]},{\"extends\":null,\"module\":null,\"name\":\"TemplateActions1\",\"overrides\":[],\"properties\":[{\"default\":0,\"kind\":null,\"name\":\"open_modal\"},{\"default\":0,\"kind\":null,\"name\":\"close_modal\"}]},{\"extends\":null,\"module\":null,\"name\":\"MaterialTemplateActions1\",\"overrides\":[],\"properties\":[{\"default\":0,\"kind\":null,\"name\":\"open_modal\"},{\"default\":0,\"kind\":null,\"name\":\"close_modal\"}]}],\"roots\":{\"references\":[{\"attributes\":{\"coordinates\":null,\"group\":null,\"text_color\":\"black\",\"text_font_size\":\"12pt\"},\"id\":\"1497\",\"type\":\"Title\"},{\"attributes\":{\"callback\":null,\"renderers\":[{\"id\":\"1538\"},{\"id\":\"1559\"}],\"tags\":[\"hv_created\"],\"tooltips\":[[\"Variable\",\"@{Variable}\"],[\"index\",\"@{index}\"],[\"value\",\"@{value}\"]]},\"id\":\"1494\",\"type\":\"HoverTool\"},{\"attributes\":{},\"id\":\"1517\",\"type\":\"ResetTool\"},{\"attributes\":{\"end\":13.0,\"reset_end\":13.0,\"reset_start\":0.0,\"tags\":[[[\"index\",\"index\",null]]]},\"id\":\"1492\",\"type\":\"Range1d\"},{\"attributes\":{\"coordinates\":null,\"data_source\":{\"id\":\"1553\"},\"glyph\":{\"id\":\"1556\"},\"group\":null,\"hover_glyph\":null,\"muted_glyph\":{\"id\":\"1558\"},\"nonselection_glyph\":{\"id\":\"1557\"},\"selection_glyph\":{\"id\":\"1574\"},\"view\":{\"id\":\"1560\"}},\"id\":\"1559\",\"type\":\"GlyphRenderer\"},{\"attributes\":{},\"id\":\"1515\",\"type\":\"WheelZoomTool\"},{\"attributes\":{\"overlay\":{\"id\":\"1518\"}},\"id\":\"1516\",\"type\":\"BoxZoomTool\"},{\"attributes\":{},\"id\":\"1547\",\"type\":\"UnionRenderers\"},{\"attributes\":{\"click_policy\":\"mute\",\"coordinates\":null,\"group\":null,\"items\":[{\"id\":\"1551\"},{\"id\":\"1573\"}],\"location\":[0,0],\"title\":\"Variable\"},\"id\":\"1550\",\"type\":\"Legend\"},{\"attributes\":{\"line_color\":\"#30a2da\",\"line_width\":2,\"x\":{\"field\":\"index\"},\"y\":{\"field\":\"value\"}},\"id\":\"1552\",\"type\":\"Line\"},{\"attributes\":{\"below\":[{\"id\":\"1505\"}],\"center\":[{\"id\":\"1508\"},{\"id\":\"1512\"}],\"height\":300,\"left\":[{\"id\":\"1509\"}],\"margin\":[5,5,5,5],\"min_border_bottom\":10,\"min_border_left\":10,\"min_border_right\":10,\"min_border_top\":10,\"renderers\":[{\"id\":\"1538\"},{\"id\":\"1559\"}],\"right\":[{\"id\":\"1550\"}],\"sizing_mode\":\"fixed\",\"title\":{\"id\":\"1497\"},\"toolbar\":{\"id\":\"1519\"},\"width\":700,\"x_range\":{\"id\":\"1492\"},\"x_scale\":{\"id\":\"1501\"},\"y_range\":{\"id\":\"1493\"},\"y_scale\":{\"id\":\"1503\"}},\"id\":\"1496\",\"subtype\":\"Figure\",\"type\":\"Plot\"},{\"attributes\":{},\"id\":\"1506\",\"type\":\"BasicTicker\"},{\"attributes\":{},\"id\":\"1533\",\"type\":\"Selection\"},{\"attributes\":{\"axis\":{\"id\":\"1505\"},\"coordinates\":null,\"grid_line_color\":null,\"group\":null,\"ticker\":null},\"id\":\"1508\",\"type\":\"Grid\"},{\"attributes\":{\"line_alpha\":0.2,\"line_color\":\"#30a2da\",\"line_width\":2,\"x\":{\"field\":\"index\"},\"y\":{\"field\":\"value\"}},\"id\":\"1537\",\"type\":\"Line\"},{\"attributes\":{\"end\":16.86,\"reset_end\":16.86,\"reset_start\":-0.6599999999999999,\"start\":-0.6599999999999999,\"tags\":[[[\"value\",\"value\",null]]]},\"id\":\"1493\",\"type\":\"Range1d\"},{\"attributes\":{},\"id\":\"1503\",\"type\":\"LinearScale\"},{\"attributes\":{\"tools\":[{\"id\":\"1494\"},{\"id\":\"1513\"},{\"id\":\"1514\"},{\"id\":\"1515\"},{\"id\":\"1516\"},{\"id\":\"1517\"}]},\"id\":\"1519\",\"type\":\"Toolbar\"},{\"attributes\":{\"margin\":[5,5,5,5],\"name\":\"HSpacer02365\",\"sizing_mode\":\"stretch_width\"},\"id\":\"1491\",\"type\":\"Spacer\"},{\"attributes\":{\"axis_label\":\"\",\"coordinates\":null,\"formatter\":{\"id\":\"1530\"},\"group\":null,\"major_label_policy\":{\"id\":\"1531\"},\"ticker\":{\"id\":\"1510\"}},\"id\":\"1509\",\"type\":\"LinearAxis\"},{\"attributes\":{\"axis_label\":\"\",\"coordinates\":null,\"formatter\":{\"id\":\"1527\"},\"group\":null,\"major_label_policy\":{\"id\":\"1528\"},\"ticker\":{\"id\":\"1506\"}},\"id\":\"1505\",\"type\":\"LinearAxis\"},{\"attributes\":{\"bottom_units\":\"screen\",\"coordinates\":null,\"fill_alpha\":0.5,\"fill_color\":\"lightgrey\",\"group\":null,\"left_units\":\"screen\",\"level\":\"overlay\",\"line_alpha\":1.0,\"line_color\":\"black\",\"line_dash\":[4,4],\"line_width\":2,\"right_units\":\"screen\",\"syncable\":false,\"top_units\":\"screen\"},\"id\":\"1518\",\"type\":\"BoxAnnotation\"},{\"attributes\":{\"source\":{\"id\":\"1532\"}},\"id\":\"1539\",\"type\":\"CDSView\"},{\"attributes\":{},\"id\":\"1528\",\"type\":\"AllLabels\"},{\"attributes\":{\"data\":{\"Variable\":[\"twenties_inflation\",\"twenties_inflation\",\"twenties_inflation\",\"twenties_inflation\",\"twenties_inflation\",\"twenties_inflation\",\"twenties_inflation\",\"twenties_inflation\",\"twenties_inflation\",\"twenties_inflation\",\"twenties_inflation\",\"twenties_inflation\",\"twenties_inflation\",\"twenties_inflation\"],\"index\":[0,1,2,3,4,5,6,7,8,9,10,11,12,13],\"value\":{\"__ndarray__\":\"MzMzMzMzB0CamZmZmZnpP5qZmZmZmfk/ZmZmZmZm/j9mZmZmZmb+P83MzMzMzPQ/AAAAAAAA+D8AAAAAAAAEQDMzMzMzMwNAzczMzMzM/D9mZmZmZmYKQDMzMzMzMwdAAAAAAAAA+H8AAAAAAAD4fw==\",\"dtype\":\"float64\",\"order\":\"little\",\"shape\":[14]}},\"selected\":{\"id\":\"1554\"},\"selection_policy\":{\"id\":\"1570\"}},\"id\":\"1553\",\"type\":\"ColumnDataSource\"},{\"attributes\":{\"label\":{\"value\":\"twenties_inflation\"},\"renderers\":[{\"id\":\"1559\"}]},\"id\":\"1573\",\"type\":\"LegendItem\"},{\"attributes\":{},\"id\":\"1510\",\"type\":\"BasicTicker\"},{\"attributes\":{\"axis\":{\"id\":\"1509\"},\"coordinates\":null,\"dimension\":1,\"grid_line_color\":null,\"group\":null,\"ticker\":null},\"id\":\"1512\",\"type\":\"Grid\"},{\"attributes\":{\"children\":[{\"id\":\"1491\"},{\"id\":\"1496\"},{\"id\":\"1683\"}],\"margin\":[0,0,0,0],\"name\":\"Row02361\",\"tags\":[\"embedded\"]},\"id\":\"1490\",\"type\":\"Row\"},{\"attributes\":{\"line_color\":\"#fc4f30\",\"line_width\":2,\"x\":{\"field\":\"index\"},\"y\":{\"field\":\"value\"}},\"id\":\"1556\",\"type\":\"Line\"},{\"attributes\":{},\"id\":\"1531\",\"type\":\"AllLabels\"},{\"attributes\":{\"line_alpha\":0.1,\"line_color\":\"#fc4f30\",\"line_width\":2,\"x\":{\"field\":\"index\"},\"y\":{\"field\":\"value\"}},\"id\":\"1557\",\"type\":\"Line\"},{\"attributes\":{\"data\":{\"Variable\":[\"seventies_inflation\",\"seventies_inflation\",\"seventies_inflation\",\"seventies_inflation\",\"seventies_inflation\",\"seventies_inflation\",\"seventies_inflation\",\"seventies_inflation\",\"seventies_inflation\",\"seventies_inflation\",\"seventies_inflation\",\"seventies_inflation\",\"seventies_inflation\",\"seventies_inflation\"],\"index\":[0,1,2,3,4,5,6,7,8,9,10,11,12,13],\"value\":{\"__ndarray__\":\"MzMzMzMzIkAAAAAAAAAgQJqZmZmZmShAmpmZmZmZKkBmZmZmZmYuQM3MzMzMzC5AMzMzMzMzIkAAAAAAAAAYQGZmZmZmZhhAMzMzMzMzC0BmZmZmZmYKQAAAAAAAAARAAAAAAAAADEBmZmZmZmYKQA==\",\"dtype\":\"float64\",\"order\":\"little\",\"shape\":[14]}},\"selected\":{\"id\":\"1533\"},\"selection_policy\":{\"id\":\"1547\"}},\"id\":\"1532\",\"type\":\"ColumnDataSource\"},{\"attributes\":{\"line_color\":\"#fc4f30\",\"line_width\":2,\"x\":{\"field\":\"index\"},\"y\":{\"field\":\"value\"}},\"id\":\"1574\",\"type\":\"Line\"},{\"attributes\":{\"line_alpha\":0.2,\"line_color\":\"#fc4f30\",\"line_width\":2,\"x\":{\"field\":\"index\"},\"y\":{\"field\":\"value\"}},\"id\":\"1558\",\"type\":\"Line\"},{\"attributes\":{},\"id\":\"1570\",\"type\":\"UnionRenderers\"},{\"attributes\":{},\"id\":\"1501\",\"type\":\"LinearScale\"},{\"attributes\":{},\"id\":\"1530\",\"type\":\"BasicTickFormatter\"},{\"attributes\":{},\"id\":\"1527\",\"type\":\"BasicTickFormatter\"},{\"attributes\":{},\"id\":\"1554\",\"type\":\"Selection\"},{\"attributes\":{\"margin\":[5,5,5,5],\"name\":\"HSpacer02366\",\"sizing_mode\":\"stretch_width\"},\"id\":\"1683\",\"type\":\"Spacer\"},{\"attributes\":{\"coordinates\":null,\"data_source\":{\"id\":\"1532\"},\"glyph\":{\"id\":\"1535\"},\"group\":null,\"hover_glyph\":null,\"muted_glyph\":{\"id\":\"1537\"},\"nonselection_glyph\":{\"id\":\"1536\"},\"selection_glyph\":{\"id\":\"1552\"},\"view\":{\"id\":\"1539\"}},\"id\":\"1538\",\"type\":\"GlyphRenderer\"},{\"attributes\":{\"line_alpha\":0.1,\"line_color\":\"#30a2da\",\"line_width\":2,\"x\":{\"field\":\"index\"},\"y\":{\"field\":\"value\"}},\"id\":\"1536\",\"type\":\"Line\"},{\"attributes\":{\"source\":{\"id\":\"1553\"}},\"id\":\"1560\",\"type\":\"CDSView\"},{\"attributes\":{},\"id\":\"1513\",\"type\":\"SaveTool\"},{\"attributes\":{},\"id\":\"1514\",\"type\":\"PanTool\"},{\"attributes\":{\"label\":{\"value\":\"seventies_inflation\"},\"renderers\":[{\"id\":\"1538\"}]},\"id\":\"1551\",\"type\":\"LegendItem\"},{\"attributes\":{\"line_color\":\"#30a2da\",\"line_width\":2,\"x\":{\"field\":\"index\"},\"y\":{\"field\":\"value\"}},\"id\":\"1535\",\"type\":\"Line\"}],\"root_ids\":[\"1490\"]},\"title\":\"Bokeh Application\",\"version\":\"2.4.2\"}};\n",
       "    var render_items = [{\"docid\":\"fee76981-24b0-4660-9e21-31cb86e9e37e\",\"root_ids\":[\"1490\"],\"roots\":{\"1490\":\"62c44d4b-80e1-4cee-a131-2cd6a7705aa2\"}}];\n",
       "    root.Bokeh.embed.embed_items_notebook(docs_json, render_items);\n",
       "  }\n",
       "  if (root.Bokeh !== undefined && root.Bokeh.Panel !== undefined) {\n",
       "    embed_document(root);\n",
       "  } else {\n",
       "    var attempts = 0;\n",
       "    var timer = setInterval(function(root) {\n",
       "      if (root.Bokeh !== undefined && root.Bokeh.Panel !== undefined) {\n",
       "        clearInterval(timer);\n",
       "        embed_document(root);\n",
       "      } else if (document.readyState == \"complete\") {\n",
       "        attempts++;\n",
       "        if (attempts > 200) {\n",
       "          clearInterval(timer);\n",
       "          console.log(\"Bokeh: ERROR: Unable to run BokehJS code because BokehJS library is missing\");\n",
       "        }\n",
       "      }\n",
       "    }, 25, root)\n",
       "  }\n",
       "})(window);</script>"
      ],
      "text/plain": [
       ":NdOverlay   [Variable]\n",
       "   :Curve   [index]   (value)"
      ]
     },
     "execution_count": 28,
     "metadata": {
      "application/vnd.holoviews_exec.v0+json": {
       "id": "1490"
      }
     },
     "output_type": "execute_result"
    }
   ],
   "source": [
    "comparison.hvplot()"
   ]
  },
  {
   "cell_type": "code",
   "execution_count": 58,
   "id": "8a47625f-f08f-4b3b-a91c-b5beec8ee55e",
   "metadata": {},
   "outputs": [
    {
     "data": {
      "text/html": [
       "<div>\n",
       "<style scoped>\n",
       "    .dataframe tbody tr th:only-of-type {\n",
       "        vertical-align: middle;\n",
       "    }\n",
       "\n",
       "    .dataframe tbody tr th {\n",
       "        vertical-align: top;\n",
       "    }\n",
       "\n",
       "    .dataframe thead th {\n",
       "        text-align: right;\n",
       "    }\n",
       "</style>\n",
       "<table border=\"1\" class=\"dataframe\">\n",
       "  <thead>\n",
       "    <tr style=\"text-align: right;\">\n",
       "      <th></th>\n",
       "      <th>seventies_inflation</th>\n",
       "      <th>twenties_inflation</th>\n",
       "    </tr>\n",
       "  </thead>\n",
       "  <tbody>\n",
       "    <tr>\n",
       "      <th>seventies_inflation</th>\n",
       "      <td>1.000000</td>\n",
       "      <td>-0.536657</td>\n",
       "    </tr>\n",
       "    <tr>\n",
       "      <th>twenties_inflation</th>\n",
       "      <td>-0.536657</td>\n",
       "      <td>1.000000</td>\n",
       "    </tr>\n",
       "  </tbody>\n",
       "</table>\n",
       "</div>"
      ],
      "text/plain": [
       "                     seventies_inflation  twenties_inflation\n",
       "seventies_inflation             1.000000           -0.536657\n",
       "twenties_inflation             -0.536657            1.000000"
      ]
     },
     "execution_count": 58,
     "metadata": {},
     "output_type": "execute_result"
    }
   ],
   "source": [
    "comparison.corr()"
   ]
  },
  {
   "cell_type": "markdown",
   "id": "5eb33f6b-0a03-4c20-b281-914fbd5ae5f5",
   "metadata": {},
   "source": [
    "## CPI"
   ]
  },
  {
   "cell_type": "code",
   "execution_count": 31,
   "id": "c20e8f4f-d8cb-4454-9ba0-fd92a05a1566",
   "metadata": {},
   "outputs": [],
   "source": [
    "# This website had the historical data for CPI back to 1948\n",
    "\n",
    "cpi_url = \"https://www.rateinflation.com/consumer-price-index/australia-historical-cpi/\""
   ]
  },
  {
   "cell_type": "code",
   "execution_count": 32,
   "id": "d9bfa0cb-5995-4375-843d-64919eb87155",
   "metadata": {},
   "outputs": [
    {
     "data": {
      "text/plain": [
       "[    Year    mar    jun    sep    dec  Annual\n",
       " 0   2022  123.9  126.1    NaN    NaN     NaN\n",
       " 1   2021  117.9  118.8  119.7  121.3   119.4\n",
       " 2   2020  116.6  114.4  116.2  117.2   116.1\n",
       " 3   2019  114.1  114.8  115.4  116.2   115.1\n",
       " 4   2018  112.6  113.0  113.5  114.1   113.3\n",
       " ..   ...    ...    ...    ...    ...     ...\n",
       " 70  1952    5.9    6.1    6.2    6.3     6.1\n",
       " 71  1951    4.8    5.1    5.3    5.7     5.2\n",
       " 72  1950    4.2    4.3    4.4    4.6     4.4\n",
       " 73  1949    3.9    4.0    4.1    4.1     4.0\n",
       " 74  1948    NaN    NaN    3.7    3.8     NaN\n",
       " \n",
       " [75 rows x 6 columns]]"
      ]
     },
     "execution_count": 32,
     "metadata": {},
     "output_type": "execute_result"
    }
   ],
   "source": [
    "# I use the read_html method to read in the table data\n",
    "\n",
    "df = pd.read_html(cpi_url)\n",
    "df"
   ]
  },
  {
   "cell_type": "code",
   "execution_count": 33,
   "id": "8da3d586-5f4c-400b-ab3e-02bedb0141e8",
   "metadata": {},
   "outputs": [],
   "source": [
    "# I then convert it to a pandas DataFrame\n",
    "\n",
    "cpi_df = df[0]"
   ]
  },
  {
   "cell_type": "code",
   "execution_count": 34,
   "id": "6653a14c-936f-469d-b87b-9e5a7b2efef6",
   "metadata": {},
   "outputs": [
    {
     "data": {
      "text/plain": [
       "pandas.core.frame.DataFrame"
      ]
     },
     "execution_count": 34,
     "metadata": {},
     "output_type": "execute_result"
    }
   ],
   "source": [
    "type(cpi_df)"
   ]
  },
  {
   "cell_type": "code",
   "execution_count": 35,
   "id": "18950b7e-631f-4f6b-bcb3-ea65ba536575",
   "metadata": {},
   "outputs": [],
   "source": [
    "# set the index as the 'Year' column\n",
    "\n",
    "cpi_df = cpi_df.set_index(\"Year\")"
   ]
  },
  {
   "cell_type": "code",
   "execution_count": 36,
   "id": "02019773-4b63-451f-8880-879803b5faf8",
   "metadata": {},
   "outputs": [],
   "source": [
    "# sort the index so that it is ascending (1948 - 2022)\n",
    "\n",
    "cpi_df = cpi_df.sort_index()"
   ]
  },
  {
   "cell_type": "code",
   "execution_count": 37,
   "id": "d3773bd8-d54e-4af1-9f04-d12e34507ea6",
   "metadata": {},
   "outputs": [
    {
     "data": {
      "text/plain": [
       "Int64Index([1948, 1949, 1950, 1951, 1952, 1953, 1954, 1955, 1956, 1957, 1958,\n",
       "            1959, 1960, 1961, 1962, 1963, 1964, 1965, 1966, 1967, 1968, 1969,\n",
       "            1970, 1971, 1972, 1973, 1974, 1975, 1976, 1977, 1978, 1979, 1980,\n",
       "            1981, 1982, 1983, 1984, 1985, 1986, 1987, 1988, 1989, 1990, 1991,\n",
       "            1992, 1993, 1994, 1995, 1996, 1997, 1998, 1999, 2000, 2001, 2002,\n",
       "            2003, 2004, 2005, 2006, 2007, 2008, 2009, 2010, 2011, 2012, 2013,\n",
       "            2014, 2015, 2016, 2017, 2018, 2019, 2020, 2021, 2022],\n",
       "           dtype='int64', name='Year')"
      ]
     },
     "execution_count": 37,
     "metadata": {},
     "output_type": "execute_result"
    }
   ],
   "source": [
    "cpi_df.index"
   ]
  },
  {
   "cell_type": "code",
   "execution_count": 38,
   "id": "4cc0e731-a44a-4a9b-916a-bffa6d2dd801",
   "metadata": {},
   "outputs": [
    {
     "data": {},
     "metadata": {},
     "output_type": "display_data"
    },
    {
     "data": {
      "application/vnd.holoviews_exec.v0+json": "",
      "text/html": [
       "<div id='2000'>\n",
       "\n",
       "\n",
       "\n",
       "\n",
       "\n",
       "  <div class=\"bk-root\" id=\"6fb032e6-2b21-4475-8717-64030bf5c292\" data-root-id=\"2000\"></div>\n",
       "</div>\n",
       "<script type=\"application/javascript\">(function(root) {\n",
       "  function embed_document(root) {\n",
       "    var docs_json = {\"439e78c3-0aa5-4e77-8659-0f1b8f2862fc\":{\"defs\":[{\"extends\":null,\"module\":null,\"name\":\"ReactiveHTML1\",\"overrides\":[],\"properties\":[]},{\"extends\":null,\"module\":null,\"name\":\"FlexBox1\",\"overrides\":[],\"properties\":[{\"default\":\"flex-start\",\"kind\":null,\"name\":\"align_content\"},{\"default\":\"flex-start\",\"kind\":null,\"name\":\"align_items\"},{\"default\":\"row\",\"kind\":null,\"name\":\"flex_direction\"},{\"default\":\"wrap\",\"kind\":null,\"name\":\"flex_wrap\"},{\"default\":\"flex-start\",\"kind\":null,\"name\":\"justify_content\"}]},{\"extends\":null,\"module\":null,\"name\":\"GridStack1\",\"overrides\":[],\"properties\":[{\"default\":\"warn\",\"kind\":null,\"name\":\"mode\"},{\"default\":null,\"kind\":null,\"name\":\"ncols\"},{\"default\":null,\"kind\":null,\"name\":\"nrows\"},{\"default\":true,\"kind\":null,\"name\":\"allow_resize\"},{\"default\":true,\"kind\":null,\"name\":\"allow_drag\"},{\"default\":[],\"kind\":null,\"name\":\"state\"}]},{\"extends\":null,\"module\":null,\"name\":\"click1\",\"overrides\":[],\"properties\":[{\"default\":\"\",\"kind\":null,\"name\":\"terminal_output\"},{\"default\":\"\",\"kind\":null,\"name\":\"debug_name\"},{\"default\":0,\"kind\":null,\"name\":\"clears\"}]},{\"extends\":null,\"module\":null,\"name\":\"TemplateActions1\",\"overrides\":[],\"properties\":[{\"default\":0,\"kind\":null,\"name\":\"open_modal\"},{\"default\":0,\"kind\":null,\"name\":\"close_modal\"}]},{\"extends\":null,\"module\":null,\"name\":\"MaterialTemplateActions1\",\"overrides\":[],\"properties\":[{\"default\":0,\"kind\":null,\"name\":\"open_modal\"},{\"default\":0,\"kind\":null,\"name\":\"close_modal\"}]}],\"roots\":{\"references\":[{\"attributes\":{},\"id\":\"2021\",\"type\":\"SaveTool\"},{\"attributes\":{},\"id\":\"2022\",\"type\":\"PanTool\"},{\"attributes\":{},\"id\":\"2044\",\"type\":\"CategoricalTickFormatter\"},{\"attributes\":{\"coordinates\":null,\"data_source\":{\"id\":\"2034\"},\"glyph\":{\"id\":\"2037\"},\"group\":null,\"hover_glyph\":null,\"muted_glyph\":{\"id\":\"2039\"},\"nonselection_glyph\":{\"id\":\"2038\"},\"selection_glyph\":{\"id\":\"2042\"},\"view\":{\"id\":\"2041\"}},\"id\":\"2040\",\"type\":\"GlyphRenderer\"},{\"attributes\":{},\"id\":\"2025\",\"type\":\"ResetTool\"},{\"attributes\":{},\"id\":\"2047\",\"type\":\"BasicTickFormatter\"},{\"attributes\":{\"fill_alpha\":{\"value\":0.2},\"fill_color\":{\"value\":\"#30a2da\"},\"hatch_alpha\":{\"value\":0.2},\"hatch_color\":{\"value\":\"#30a2da\"},\"line_alpha\":{\"value\":0.2},\"top\":{\"field\":\"Annual\"},\"width\":{\"value\":0.8},\"x\":{\"field\":\"Year\"}},\"id\":\"2039\",\"type\":\"VBar\"},{\"attributes\":{},\"id\":\"2023\",\"type\":\"WheelZoomTool\"},{\"attributes\":{\"children\":[{\"id\":\"2001\"},{\"id\":\"2005\"},{\"id\":\"2069\"}],\"margin\":[0,0,0,0],\"name\":\"Row03228\",\"tags\":[\"embedded\"]},\"id\":\"2000\",\"type\":\"Row\"},{\"attributes\":{\"overlay\":{\"id\":\"2026\"}},\"id\":\"2024\",\"type\":\"BoxZoomTool\"},{\"attributes\":{},\"id\":\"2035\",\"type\":\"Selection\"},{\"attributes\":{\"fill_alpha\":{\"value\":0.1},\"fill_color\":{\"value\":\"#30a2da\"},\"hatch_alpha\":{\"value\":0.1},\"hatch_color\":{\"value\":\"#30a2da\"},\"line_alpha\":{\"value\":0.1},\"top\":{\"field\":\"Annual\"},\"width\":{\"value\":0.8},\"x\":{\"field\":\"Year\"}},\"id\":\"2038\",\"type\":\"VBar\"},{\"attributes\":{},\"id\":\"2045\",\"type\":\"AllLabels\"},{\"attributes\":{\"axis_label\":\"Year\",\"coordinates\":null,\"formatter\":{\"id\":\"2044\"},\"group\":null,\"major_label_orientation\":1.5707963267948966,\"major_label_policy\":{\"id\":\"2045\"},\"ticker\":{\"id\":\"2015\"}},\"id\":\"2014\",\"type\":\"CategoricalAxis\"},{\"attributes\":{\"fill_color\":{\"value\":\"#30a2da\"},\"hatch_color\":{\"value\":\"#30a2da\"},\"top\":{\"field\":\"Annual\"},\"width\":{\"value\":0.8},\"x\":{\"field\":\"Year\"}},\"id\":\"2037\",\"type\":\"VBar\"},{\"attributes\":{},\"id\":\"2010\",\"type\":\"CategoricalScale\"},{\"attributes\":{\"coordinates\":null,\"group\":null,\"text\":\"Annual CPI 1948-2022\",\"text_color\":\"black\",\"text_font_size\":\"12pt\"},\"id\":\"2006\",\"type\":\"Title\"},{\"attributes\":{\"tools\":[{\"id\":\"2004\"},{\"id\":\"2021\"},{\"id\":\"2022\"},{\"id\":\"2023\"},{\"id\":\"2024\"},{\"id\":\"2025\"}]},\"id\":\"2027\",\"type\":\"Toolbar\"},{\"attributes\":{},\"id\":\"2012\",\"type\":\"LinearScale\"},{\"attributes\":{\"bottom\":{\"value\":0},\"fill_alpha\":{\"value\":1.0},\"fill_color\":{\"value\":\"#30a2da\"},\"hatch_alpha\":{\"value\":1.0},\"hatch_color\":{\"value\":\"#30a2da\"},\"hatch_scale\":{\"value\":12.0},\"hatch_weight\":{\"value\":1.0},\"line_alpha\":{\"value\":1.0},\"line_cap\":{\"value\":\"butt\"},\"line_color\":{\"value\":\"black\"},\"line_dash\":{\"value\":[]},\"line_dash_offset\":{\"value\":0},\"line_join\":{\"value\":\"bevel\"},\"line_width\":{\"value\":1},\"top\":{\"field\":\"Annual\"},\"width\":{\"value\":0.8},\"x\":{\"field\":\"Year\"}},\"id\":\"2042\",\"type\":\"VBar\"},{\"attributes\":{\"bottom_units\":\"screen\",\"coordinates\":null,\"fill_alpha\":0.5,\"fill_color\":\"lightgrey\",\"group\":null,\"left_units\":\"screen\",\"level\":\"overlay\",\"line_alpha\":1.0,\"line_color\":\"black\",\"line_dash\":[4,4],\"line_width\":2,\"right_units\":\"screen\",\"syncable\":false,\"top_units\":\"screen\"},\"id\":\"2026\",\"type\":\"BoxAnnotation\"},{\"attributes\":{},\"id\":\"2018\",\"type\":\"BasicTicker\"},{\"attributes\":{\"callback\":null,\"renderers\":[{\"id\":\"2040\"}],\"tags\":[\"hv_created\"],\"tooltips\":[[\"Year\",\"@{Year}\"],[\"Annual\",\"@{Annual}\"]]},\"id\":\"2004\",\"type\":\"HoverTool\"},{\"attributes\":{},\"id\":\"2015\",\"type\":\"CategoricalTicker\"},{\"attributes\":{\"margin\":[5,5,5,5],\"name\":\"HSpacer03232\",\"sizing_mode\":\"stretch_width\"},\"id\":\"2001\",\"type\":\"Spacer\"},{\"attributes\":{\"margin\":[5,5,5,5],\"name\":\"HSpacer03233\",\"sizing_mode\":\"stretch_width\"},\"id\":\"2069\",\"type\":\"Spacer\"},{\"attributes\":{\"factors\":[\"1948\",\"1949\",\"1950\",\"1951\",\"1952\",\"1953\",\"1954\",\"1955\",\"1956\",\"1957\",\"1958\",\"1959\",\"1960\",\"1961\",\"1962\",\"1963\",\"1964\",\"1965\",\"1966\",\"1967\",\"1968\",\"1969\",\"1970\",\"1971\",\"1972\",\"1973\",\"1974\",\"1975\",\"1976\",\"1977\",\"1978\",\"1979\",\"1980\",\"1981\",\"1982\",\"1983\",\"1984\",\"1985\",\"1986\",\"1987\",\"1988\",\"1989\",\"1990\",\"1991\",\"1992\",\"1993\",\"1994\",\"1995\",\"1996\",\"1997\",\"1998\",\"1999\",\"2000\",\"2001\",\"2002\",\"2003\",\"2004\",\"2005\",\"2006\",\"2007\",\"2008\",\"2009\",\"2010\",\"2011\",\"2012\",\"2013\",\"2014\",\"2015\",\"2016\",\"2017\",\"2018\",\"2019\",\"2020\",\"2021\",\"2022\"],\"tags\":[[[\"Year\",\"Year\",null]]]},\"id\":\"2002\",\"type\":\"FactorRange\"},{\"attributes\":{\"axis_label\":\"CPI\",\"coordinates\":null,\"formatter\":{\"id\":\"2047\"},\"group\":null,\"major_label_policy\":{\"id\":\"2048\"},\"ticker\":{\"id\":\"2018\"}},\"id\":\"2017\",\"type\":\"LinearAxis\"},{\"attributes\":{},\"id\":\"2056\",\"type\":\"UnionRenderers\"},{\"attributes\":{\"axis\":{\"id\":\"2017\"},\"coordinates\":null,\"dimension\":1,\"grid_line_color\":null,\"group\":null,\"ticker\":null},\"id\":\"2020\",\"type\":\"Grid\"},{\"attributes\":{\"source\":{\"id\":\"2034\"}},\"id\":\"2041\",\"type\":\"CDSView\"},{\"attributes\":{\"data\":{\"Annual\":{\"__ndarray__\":\"AAAAAAAA+H8AAAAAAAAQQJqZmZmZmRFAzczMzMzMFEBmZmZmZmYYQJqZmZmZmRlAAAAAAAAAGkBmZmZmZmYaQAAAAAAAABxAzczMzMzMHEDNzMzMzMwcQJqZmZmZmR1AzczMzMzMHkAzMzMzMzMfQDMzMzMzMx9AmpmZmZmZH0AzMzMzMzMgQM3MzMzMzCBAMzMzMzMzIUDNzMzMzMwhQDMzMzMzMyJAAAAAAAAAI0CamZmZmZkjQM3MzMzMzCRAAAAAAAAAJkAAAAAAAAAoQM3MzMzMzCtAAAAAAAAAMECamZmZmRkyQM3MzMzMTDRAZmZmZmbmNUBmZmZmZuY3QM3MzMzMTDpAZmZmZmbmPEDNzMzMzAxAQDMzMzMzs0FAZmZmZmZmQkCamZmZmZlDQGZmZmZmZkVAMzMzMzMzR0BmZmZmZuZIQAAAAAAAwEpAAAAAAADATEBmZmZmZqZNQDMzMzMz801AMzMzMzNzTkDNzMzMzAxPQAAAAAAAQFBAzczMzMysUECamZmZmblQQJqZmZmZ2VBAmpmZmZkZUUAAAAAAAOBRQGZmZmZmplJAmpmZmZk5U0CamZmZmblTQDMzMzMzM1RAAAAAAADAVECamZmZmXlVQJqZmZmZ+VVAMzMzMzPzVkCamZmZmVlXQGZmZmZmBlhAMzMzMzPTWEAAAAAAAEBZQAAAAAAA4FlAZmZmZmaGWkDNzMzMzOxaQGZmZmZmRltAzczMzMzMW0AzMzMzM1NcQGZmZmZmxlxAZmZmZmYGXUCamZmZmdldQAAAAAAAAPh/\",\"dtype\":\"float64\",\"order\":\"little\",\"shape\":[75]},\"Year\":[\"1948\",\"1949\",\"1950\",\"1951\",\"1952\",\"1953\",\"1954\",\"1955\",\"1956\",\"1957\",\"1958\",\"1959\",\"1960\",\"1961\",\"1962\",\"1963\",\"1964\",\"1965\",\"1966\",\"1967\",\"1968\",\"1969\",\"1970\",\"1971\",\"1972\",\"1973\",\"1974\",\"1975\",\"1976\",\"1977\",\"1978\",\"1979\",\"1980\",\"1981\",\"1982\",\"1983\",\"1984\",\"1985\",\"1986\",\"1987\",\"1988\",\"1989\",\"1990\",\"1991\",\"1992\",\"1993\",\"1994\",\"1995\",\"1996\",\"1997\",\"1998\",\"1999\",\"2000\",\"2001\",\"2002\",\"2003\",\"2004\",\"2005\",\"2006\",\"2007\",\"2008\",\"2009\",\"2010\",\"2011\",\"2012\",\"2013\",\"2014\",\"2015\",\"2016\",\"2017\",\"2018\",\"2019\",\"2020\",\"2021\",\"2022\"]},\"selected\":{\"id\":\"2035\"},\"selection_policy\":{\"id\":\"2056\"}},\"id\":\"2034\",\"type\":\"ColumnDataSource\"},{\"attributes\":{\"end\":130.94,\"reset_end\":130.94,\"reset_start\":0.0,\"tags\":[[[\"Annual\",\"Annual\",null]]]},\"id\":\"2003\",\"type\":\"Range1d\"},{\"attributes\":{\"axis\":{\"id\":\"2014\"},\"coordinates\":null,\"grid_line_color\":null,\"group\":null,\"ticker\":null},\"id\":\"2016\",\"type\":\"Grid\"},{\"attributes\":{},\"id\":\"2048\",\"type\":\"AllLabels\"},{\"attributes\":{\"below\":[{\"id\":\"2014\"}],\"center\":[{\"id\":\"2016\"},{\"id\":\"2020\"}],\"height\":300,\"left\":[{\"id\":\"2017\"}],\"margin\":[5,5,5,5],\"min_border_bottom\":10,\"min_border_left\":10,\"min_border_right\":10,\"min_border_top\":10,\"renderers\":[{\"id\":\"2040\"}],\"sizing_mode\":\"fixed\",\"title\":{\"id\":\"2006\"},\"toolbar\":{\"id\":\"2027\"},\"width\":1000,\"x_range\":{\"id\":\"2002\"},\"x_scale\":{\"id\":\"2010\"},\"y_range\":{\"id\":\"2003\"},\"y_scale\":{\"id\":\"2012\"}},\"id\":\"2005\",\"subtype\":\"Figure\",\"type\":\"Plot\"}],\"root_ids\":[\"2000\"]},\"title\":\"Bokeh Application\",\"version\":\"2.4.2\"}};\n",
       "    var render_items = [{\"docid\":\"439e78c3-0aa5-4e77-8659-0f1b8f2862fc\",\"root_ids\":[\"2000\"],\"roots\":{\"2000\":\"6fb032e6-2b21-4475-8717-64030bf5c292\"}}];\n",
       "    root.Bokeh.embed.embed_items_notebook(docs_json, render_items);\n",
       "  }\n",
       "  if (root.Bokeh !== undefined && root.Bokeh.Panel !== undefined) {\n",
       "    embed_document(root);\n",
       "  } else {\n",
       "    var attempts = 0;\n",
       "    var timer = setInterval(function(root) {\n",
       "      if (root.Bokeh !== undefined && root.Bokeh.Panel !== undefined) {\n",
       "        clearInterval(timer);\n",
       "        embed_document(root);\n",
       "      } else if (document.readyState == \"complete\") {\n",
       "        attempts++;\n",
       "        if (attempts > 200) {\n",
       "          clearInterval(timer);\n",
       "          console.log(\"Bokeh: ERROR: Unable to run BokehJS code because BokehJS library is missing\");\n",
       "        }\n",
       "      }\n",
       "    }, 25, root)\n",
       "  }\n",
       "})(window);</script>"
      ],
      "text/plain": [
       ":Bars   [Year]   (Annual)"
      ]
     },
     "execution_count": 38,
     "metadata": {
      "application/vnd.holoviews_exec.v0+json": {
       "id": "2000"
      }
     },
     "output_type": "execute_result"
    }
   ],
   "source": [
    "# a bar graph of the annual CPI\n",
    "\n",
    "cpi_df[\"Annual\"].hvplot.bar(\n",
    "    label=\"Annual CPI 1948-2022\",\n",
    "    xlabel=\"Year\",\n",
    "    ylabel=\"CPI\",\n",
    "    width=1000,\n",
    "    rot=90\n",
    ")"
   ]
  },
  {
   "cell_type": "code",
   "execution_count": 39,
   "id": "267eb0db-7988-4c0e-a17b-30cb68dfd37f",
   "metadata": {},
   "outputs": [
    {
     "data": {
      "text/plain": [
       "<bound method DataFrame.info of         mar    jun    sep    dec  Annual\n",
       "Year                                    \n",
       "1948    NaN    NaN    3.7    3.8     NaN\n",
       "1949    3.9    4.0    4.1    4.1     4.0\n",
       "1950    4.2    4.3    4.4    4.6     4.4\n",
       "1951    4.8    5.1    5.3    5.7     5.2\n",
       "1952    5.9    6.1    6.2    6.3     6.1\n",
       "...     ...    ...    ...    ...     ...\n",
       "2018  112.6  113.0  113.5  114.1   113.3\n",
       "2019  114.1  114.8  115.4  116.2   115.1\n",
       "2020  116.6  114.4  116.2  117.2   116.1\n",
       "2021  117.9  118.8  119.7  121.3   119.4\n",
       "2022  123.9  126.1    NaN    NaN     NaN\n",
       "\n",
       "[75 rows x 5 columns]>"
      ]
     },
     "execution_count": 39,
     "metadata": {},
     "output_type": "execute_result"
    }
   ],
   "source": [
    "cpi_df.info"
   ]
  },
  {
   "cell_type": "code",
   "execution_count": 40,
   "id": "e475ac83-7d60-4aac-929e-1afb23a8c6fc",
   "metadata": {},
   "outputs": [
    {
     "data": {},
     "metadata": {},
     "output_type": "display_data"
    },
    {
     "data": {
      "application/vnd.holoviews_exec.v0+json": "",
      "text/html": [
       "<div id='2121'>\n",
       "\n",
       "\n",
       "\n",
       "\n",
       "\n",
       "  <div class=\"bk-root\" id=\"152059ec-5b09-4a8b-8e08-3483dc6f2121\" data-root-id=\"2121\"></div>\n",
       "</div>\n",
       "<script type=\"application/javascript\">(function(root) {\n",
       "  function embed_document(root) {\n",
       "    var docs_json = {\"b66ba160-566d-40cc-ae70-2d23aa98d2f1\":{\"defs\":[{\"extends\":null,\"module\":null,\"name\":\"ReactiveHTML1\",\"overrides\":[],\"properties\":[]},{\"extends\":null,\"module\":null,\"name\":\"FlexBox1\",\"overrides\":[],\"properties\":[{\"default\":\"flex-start\",\"kind\":null,\"name\":\"align_content\"},{\"default\":\"flex-start\",\"kind\":null,\"name\":\"align_items\"},{\"default\":\"row\",\"kind\":null,\"name\":\"flex_direction\"},{\"default\":\"wrap\",\"kind\":null,\"name\":\"flex_wrap\"},{\"default\":\"flex-start\",\"kind\":null,\"name\":\"justify_content\"}]},{\"extends\":null,\"module\":null,\"name\":\"GridStack1\",\"overrides\":[],\"properties\":[{\"default\":\"warn\",\"kind\":null,\"name\":\"mode\"},{\"default\":null,\"kind\":null,\"name\":\"ncols\"},{\"default\":null,\"kind\":null,\"name\":\"nrows\"},{\"default\":true,\"kind\":null,\"name\":\"allow_resize\"},{\"default\":true,\"kind\":null,\"name\":\"allow_drag\"},{\"default\":[],\"kind\":null,\"name\":\"state\"}]},{\"extends\":null,\"module\":null,\"name\":\"click1\",\"overrides\":[],\"properties\":[{\"default\":\"\",\"kind\":null,\"name\":\"terminal_output\"},{\"default\":\"\",\"kind\":null,\"name\":\"debug_name\"},{\"default\":0,\"kind\":null,\"name\":\"clears\"}]},{\"extends\":null,\"module\":null,\"name\":\"TemplateActions1\",\"overrides\":[],\"properties\":[{\"default\":0,\"kind\":null,\"name\":\"open_modal\"},{\"default\":0,\"kind\":null,\"name\":\"close_modal\"}]},{\"extends\":null,\"module\":null,\"name\":\"MaterialTemplateActions1\",\"overrides\":[],\"properties\":[{\"default\":0,\"kind\":null,\"name\":\"open_modal\"},{\"default\":0,\"kind\":null,\"name\":\"close_modal\"}]}],\"roots\":{\"references\":[{\"attributes\":{\"line_alpha\":0.1,\"line_color\":\"#30a2da\",\"line_width\":2,\"x\":{\"field\":\"Year\"},\"y\":{\"field\":\"Annual\"}},\"id\":\"2160\",\"type\":\"Line\"},{\"attributes\":{\"tools\":[{\"id\":\"2125\"},{\"id\":\"2143\"},{\"id\":\"2144\"},{\"id\":\"2145\"},{\"id\":\"2146\"},{\"id\":\"2147\"}]},\"id\":\"2149\",\"type\":\"Toolbar\"},{\"attributes\":{\"source\":{\"id\":\"2156\"}},\"id\":\"2163\",\"type\":\"CDSView\"},{\"attributes\":{\"bottom_units\":\"screen\",\"coordinates\":null,\"fill_alpha\":0.5,\"fill_color\":\"lightgrey\",\"group\":null,\"left_units\":\"screen\",\"level\":\"overlay\",\"line_alpha\":1.0,\"line_color\":\"black\",\"line_dash\":[4,4],\"line_width\":2,\"right_units\":\"screen\",\"syncable\":false,\"top_units\":\"screen\"},\"id\":\"2148\",\"type\":\"BoxAnnotation\"},{\"attributes\":{},\"id\":\"2143\",\"type\":\"SaveTool\"},{\"attributes\":{\"callback\":null,\"renderers\":[{\"id\":\"2162\"}],\"tags\":[\"hv_created\"],\"tooltips\":[[\"Year\",\"@{Year}\"],[\"Annual\",\"@{Annual}\"]]},\"id\":\"2125\",\"type\":\"HoverTool\"},{\"attributes\":{},\"id\":\"2144\",\"type\":\"PanTool\"},{\"attributes\":{\"line_color\":\"#30a2da\",\"line_width\":2,\"x\":{\"field\":\"Year\"},\"y\":{\"field\":\"Annual\"}},\"id\":\"2164\",\"type\":\"Line\"},{\"attributes\":{},\"id\":\"2147\",\"type\":\"ResetTool\"},{\"attributes\":{},\"id\":\"2166\",\"type\":\"BasicTickFormatter\"},{\"attributes\":{},\"id\":\"2145\",\"type\":\"WheelZoomTool\"},{\"attributes\":{\"overlay\":{\"id\":\"2148\"}},\"id\":\"2146\",\"type\":\"BoxZoomTool\"},{\"attributes\":{\"axis\":{\"id\":\"2135\"},\"coordinates\":null,\"grid_line_color\":null,\"group\":null,\"ticker\":null},\"id\":\"2138\",\"type\":\"Grid\"},{\"attributes\":{\"line_alpha\":0.2,\"line_color\":\"#30a2da\",\"line_width\":2,\"x\":{\"field\":\"Year\"},\"y\":{\"field\":\"Annual\"}},\"id\":\"2161\",\"type\":\"Line\"},{\"attributes\":{},\"id\":\"2169\",\"type\":\"BasicTickFormatter\"},{\"attributes\":{\"margin\":[5,5,5,5],\"name\":\"HSpacer03382\",\"sizing_mode\":\"stretch_width\"},\"id\":\"2191\",\"type\":\"Spacer\"},{\"attributes\":{\"line_color\":\"#30a2da\",\"line_width\":2,\"x\":{\"field\":\"Year\"},\"y\":{\"field\":\"Annual\"}},\"id\":\"2159\",\"type\":\"Line\"},{\"attributes\":{},\"id\":\"2178\",\"type\":\"UnionRenderers\"},{\"attributes\":{},\"id\":\"2170\",\"type\":\"AllLabels\"},{\"attributes\":{\"axis_label\":\"CPI Rate\",\"coordinates\":null,\"formatter\":{\"id\":\"2169\"},\"group\":null,\"major_label_policy\":{\"id\":\"2170\"},\"ticker\":{\"id\":\"2140\"}},\"id\":\"2139\",\"type\":\"LinearAxis\"},{\"attributes\":{},\"id\":\"2131\",\"type\":\"LinearScale\"},{\"attributes\":{\"coordinates\":null,\"group\":null,\"text\":\"Annual CPI Rate\",\"text_color\":\"black\",\"text_font_size\":\"12pt\"},\"id\":\"2127\",\"type\":\"Title\"},{\"attributes\":{},\"id\":\"2136\",\"type\":\"BasicTicker\"},{\"attributes\":{},\"id\":\"2140\",\"type\":\"BasicTicker\"},{\"attributes\":{\"margin\":[5,5,5,5],\"name\":\"HSpacer03381\",\"sizing_mode\":\"stretch_width\"},\"id\":\"2122\",\"type\":\"Spacer\"},{\"attributes\":{},\"id\":\"2133\",\"type\":\"LinearScale\"},{\"attributes\":{\"axis\":{\"id\":\"2139\"},\"coordinates\":null,\"dimension\":1,\"grid_line_color\":null,\"group\":null,\"ticker\":null},\"id\":\"2142\",\"type\":\"Grid\"},{\"attributes\":{\"end\":130.94,\"reset_end\":130.94,\"reset_start\":-7.540000000000001,\"start\":-7.540000000000001,\"tags\":[[[\"Annual\",\"Annual\",null]]]},\"id\":\"2124\",\"type\":\"Range1d\"},{\"attributes\":{\"axis_label\":\"Year\",\"coordinates\":null,\"formatter\":{\"id\":\"2166\"},\"group\":null,\"major_label_policy\":{\"id\":\"2167\"},\"ticker\":{\"id\":\"2136\"}},\"id\":\"2135\",\"type\":\"LinearAxis\"},{\"attributes\":{\"data\":{\"Annual\":{\"__ndarray__\":\"AAAAAAAA+H8AAAAAAAAQQJqZmZmZmRFAzczMzMzMFEBmZmZmZmYYQJqZmZmZmRlAAAAAAAAAGkBmZmZmZmYaQAAAAAAAABxAzczMzMzMHEDNzMzMzMwcQJqZmZmZmR1AzczMzMzMHkAzMzMzMzMfQDMzMzMzMx9AmpmZmZmZH0AzMzMzMzMgQM3MzMzMzCBAMzMzMzMzIUDNzMzMzMwhQDMzMzMzMyJAAAAAAAAAI0CamZmZmZkjQM3MzMzMzCRAAAAAAAAAJkAAAAAAAAAoQM3MzMzMzCtAAAAAAAAAMECamZmZmRkyQM3MzMzMTDRAZmZmZmbmNUBmZmZmZuY3QM3MzMzMTDpAZmZmZmbmPEDNzMzMzAxAQDMzMzMzs0FAZmZmZmZmQkCamZmZmZlDQGZmZmZmZkVAMzMzMzMzR0BmZmZmZuZIQAAAAAAAwEpAAAAAAADATEBmZmZmZqZNQDMzMzMz801AMzMzMzNzTkDNzMzMzAxPQAAAAAAAQFBAzczMzMysUECamZmZmblQQJqZmZmZ2VBAmpmZmZkZUUAAAAAAAOBRQGZmZmZmplJAmpmZmZk5U0CamZmZmblTQDMzMzMzM1RAAAAAAADAVECamZmZmXlVQJqZmZmZ+VVAMzMzMzPzVkCamZmZmVlXQGZmZmZmBlhAMzMzMzPTWEAAAAAAAEBZQAAAAAAA4FlAZmZmZmaGWkDNzMzMzOxaQGZmZmZmRltAzczMzMzMW0AzMzMzM1NcQGZmZmZmxlxAZmZmZmYGXUCamZmZmdldQAAAAAAAAPh/\",\"dtype\":\"float64\",\"order\":\"little\",\"shape\":[75]},\"Year\":[1948,1949,1950,1951,1952,1953,1954,1955,1956,1957,1958,1959,1960,1961,1962,1963,1964,1965,1966,1967,1968,1969,1970,1971,1972,1973,1974,1975,1976,1977,1978,1979,1980,1981,1982,1983,1984,1985,1986,1987,1988,1989,1990,1991,1992,1993,1994,1995,1996,1997,1998,1999,2000,2001,2002,2003,2004,2005,2006,2007,2008,2009,2010,2011,2012,2013,2014,2015,2016,2017,2018,2019,2020,2021,2022]},\"selected\":{\"id\":\"2157\"},\"selection_policy\":{\"id\":\"2178\"}},\"id\":\"2156\",\"type\":\"ColumnDataSource\"},{\"attributes\":{\"end\":2022.0,\"reset_end\":2022.0,\"reset_start\":1948.0,\"start\":1948.0,\"tags\":[[[\"Year\",\"Year\",null]]]},\"id\":\"2123\",\"type\":\"Range1d\"},{\"attributes\":{},\"id\":\"2157\",\"type\":\"Selection\"},{\"attributes\":{\"children\":[{\"id\":\"2122\"},{\"id\":\"2126\"},{\"id\":\"2191\"}],\"margin\":[0,0,0,0],\"name\":\"Row03377\",\"tags\":[\"embedded\"]},\"id\":\"2121\",\"type\":\"Row\"},{\"attributes\":{},\"id\":\"2167\",\"type\":\"AllLabels\"},{\"attributes\":{\"below\":[{\"id\":\"2135\"}],\"center\":[{\"id\":\"2138\"},{\"id\":\"2142\"}],\"height\":300,\"left\":[{\"id\":\"2139\"}],\"margin\":[5,5,5,5],\"min_border_bottom\":10,\"min_border_left\":10,\"min_border_right\":10,\"min_border_top\":10,\"renderers\":[{\"id\":\"2162\"}],\"sizing_mode\":\"fixed\",\"title\":{\"id\":\"2127\"},\"toolbar\":{\"id\":\"2149\"},\"width\":800,\"x_range\":{\"id\":\"2123\"},\"x_scale\":{\"id\":\"2131\"},\"y_range\":{\"id\":\"2124\"},\"y_scale\":{\"id\":\"2133\"}},\"id\":\"2126\",\"subtype\":\"Figure\",\"type\":\"Plot\"},{\"attributes\":{\"coordinates\":null,\"data_source\":{\"id\":\"2156\"},\"glyph\":{\"id\":\"2159\"},\"group\":null,\"hover_glyph\":null,\"muted_glyph\":{\"id\":\"2161\"},\"nonselection_glyph\":{\"id\":\"2160\"},\"selection_glyph\":{\"id\":\"2164\"},\"view\":{\"id\":\"2163\"}},\"id\":\"2162\",\"type\":\"GlyphRenderer\"}],\"root_ids\":[\"2121\"]},\"title\":\"Bokeh Application\",\"version\":\"2.4.2\"}};\n",
       "    var render_items = [{\"docid\":\"b66ba160-566d-40cc-ae70-2d23aa98d2f1\",\"root_ids\":[\"2121\"],\"roots\":{\"2121\":\"152059ec-5b09-4a8b-8e08-3483dc6f2121\"}}];\n",
       "    root.Bokeh.embed.embed_items_notebook(docs_json, render_items);\n",
       "  }\n",
       "  if (root.Bokeh !== undefined && root.Bokeh.Panel !== undefined) {\n",
       "    embed_document(root);\n",
       "  } else {\n",
       "    var attempts = 0;\n",
       "    var timer = setInterval(function(root) {\n",
       "      if (root.Bokeh !== undefined && root.Bokeh.Panel !== undefined) {\n",
       "        clearInterval(timer);\n",
       "        embed_document(root);\n",
       "      } else if (document.readyState == \"complete\") {\n",
       "        attempts++;\n",
       "        if (attempts > 200) {\n",
       "          clearInterval(timer);\n",
       "          console.log(\"Bokeh: ERROR: Unable to run BokehJS code because BokehJS library is missing\");\n",
       "        }\n",
       "      }\n",
       "    }, 25, root)\n",
       "  }\n",
       "})(window);</script>"
      ],
      "text/plain": [
       ":Curve   [Year]   (Annual)"
      ]
     },
     "execution_count": 40,
     "metadata": {
      "application/vnd.holoviews_exec.v0+json": {
       "id": "2121"
      }
     },
     "output_type": "execute_result"
    }
   ],
   "source": [
    "# and a line plot of the Annual CPI Rate\n",
    "\n",
    "cpi_df[\"Annual\"].hvplot.line(\n",
    "    label=\"Annual CPI Rate\",\n",
    "    xlabel=\"Year\",\n",
    "    ylabel=\"CPI Rate\",\n",
    "    width=800\n",
    ")"
   ]
  },
  {
   "cell_type": "markdown",
   "id": "65197916-9c3a-45dd-b590-7a983a799e66",
   "metadata": {},
   "source": [
    "### Analysis\n",
    "\n",
    "The Consumer Price Index (CPI) has shown an increase since 1950. However, it is only after 1970 that we see CPI making recognisable increases year over year. This, of course, coincides with our period of focus for high inflation.\n",
    "\n",
    "What changed in the 1970's? \"WTF happened in 1971\" is an often asked question.\n",
    "\n",
    "What is interesting to note is that, while inflation as a general figure of a whole economy's prices was brought under control, CPI was not. CPI has shown no decrease, displaying a constant trend of \"number go up\", unfortunately for most it is the very thing we - cost of living - that we do not want increasing."
   ]
  },
  {
   "cell_type": "code",
   "execution_count": 41,
   "id": "06a31fed-a14f-4a11-9a57-7f7ee0a2af63",
   "metadata": {},
   "outputs": [
    {
     "data": {
      "text/html": [
       "<div>\n",
       "<style scoped>\n",
       "    .dataframe tbody tr th:only-of-type {\n",
       "        vertical-align: middle;\n",
       "    }\n",
       "\n",
       "    .dataframe tbody tr th {\n",
       "        vertical-align: top;\n",
       "    }\n",
       "\n",
       "    .dataframe thead th {\n",
       "        text-align: right;\n",
       "    }\n",
       "</style>\n",
       "<table border=\"1\" class=\"dataframe\">\n",
       "  <thead>\n",
       "    <tr style=\"text-align: right;\">\n",
       "      <th></th>\n",
       "      <th>seventies_cpi</th>\n",
       "    </tr>\n",
       "    <tr>\n",
       "      <th>Year</th>\n",
       "      <th></th>\n",
       "    </tr>\n",
       "  </thead>\n",
       "  <tbody>\n",
       "    <tr>\n",
       "      <th>1966</th>\n",
       "      <td>8.6</td>\n",
       "    </tr>\n",
       "    <tr>\n",
       "      <th>1967</th>\n",
       "      <td>8.9</td>\n",
       "    </tr>\n",
       "    <tr>\n",
       "      <th>1968</th>\n",
       "      <td>9.1</td>\n",
       "    </tr>\n",
       "    <tr>\n",
       "      <th>1969</th>\n",
       "      <td>9.5</td>\n",
       "    </tr>\n",
       "    <tr>\n",
       "      <th>1970</th>\n",
       "      <td>9.8</td>\n",
       "    </tr>\n",
       "    <tr>\n",
       "      <th>1971</th>\n",
       "      <td>10.4</td>\n",
       "    </tr>\n",
       "    <tr>\n",
       "      <th>1972</th>\n",
       "      <td>11.0</td>\n",
       "    </tr>\n",
       "    <tr>\n",
       "      <th>1973</th>\n",
       "      <td>12.0</td>\n",
       "    </tr>\n",
       "    <tr>\n",
       "      <th>1974</th>\n",
       "      <td>13.9</td>\n",
       "    </tr>\n",
       "    <tr>\n",
       "      <th>1975</th>\n",
       "      <td>16.0</td>\n",
       "    </tr>\n",
       "    <tr>\n",
       "      <th>1976</th>\n",
       "      <td>18.1</td>\n",
       "    </tr>\n",
       "    <tr>\n",
       "      <th>1977</th>\n",
       "      <td>20.3</td>\n",
       "    </tr>\n",
       "    <tr>\n",
       "      <th>1978</th>\n",
       "      <td>21.9</td>\n",
       "    </tr>\n",
       "    <tr>\n",
       "      <th>1979</th>\n",
       "      <td>23.9</td>\n",
       "    </tr>\n",
       "  </tbody>\n",
       "</table>\n",
       "</div>"
      ],
      "text/plain": [
       "      seventies_cpi\n",
       "Year               \n",
       "1966            8.6\n",
       "1967            8.9\n",
       "1968            9.1\n",
       "1969            9.5\n",
       "1970            9.8\n",
       "1971           10.4\n",
       "1972           11.0\n",
       "1973           12.0\n",
       "1974           13.9\n",
       "1975           16.0\n",
       "1976           18.1\n",
       "1977           20.3\n",
       "1978           21.9\n",
       "1979           23.9"
      ]
     },
     "execution_count": 41,
     "metadata": {},
     "output_type": "execute_result"
    }
   ],
   "source": [
    "# I pull out the data from 1966 - 1979\n",
    "# this includes the lead up to the spiralling 1970's inflation\n",
    "\n",
    "seventies_cpi = cpi_df.rename(columns = {'Annual':'seventies_cpi'}).iloc[18:32]\n",
    "\n",
    "seventies_cpi = seventies_cpi.drop([\"mar\", \"jun\", \"sep\", \"dec\"], axis=1)\n",
    "seventies_cpi"
   ]
  },
  {
   "cell_type": "code",
   "execution_count": 42,
   "id": "727e13fc-4bf9-4150-a372-233091e86a56",
   "metadata": {},
   "outputs": [
    {
     "data": {},
     "metadata": {},
     "output_type": "display_data"
    },
    {
     "data": {
      "application/vnd.holoviews_exec.v0+json": "",
      "text/html": [
       "<div id='2243'>\n",
       "\n",
       "\n",
       "\n",
       "\n",
       "\n",
       "  <div class=\"bk-root\" id=\"eeeab049-ff4b-4486-ae71-38ee2abe78d2\" data-root-id=\"2243\"></div>\n",
       "</div>\n",
       "<script type=\"application/javascript\">(function(root) {\n",
       "  function embed_document(root) {\n",
       "    var docs_json = {\"7baade80-ec7a-44d7-864e-538f5ce10085\":{\"defs\":[{\"extends\":null,\"module\":null,\"name\":\"ReactiveHTML1\",\"overrides\":[],\"properties\":[]},{\"extends\":null,\"module\":null,\"name\":\"FlexBox1\",\"overrides\":[],\"properties\":[{\"default\":\"flex-start\",\"kind\":null,\"name\":\"align_content\"},{\"default\":\"flex-start\",\"kind\":null,\"name\":\"align_items\"},{\"default\":\"row\",\"kind\":null,\"name\":\"flex_direction\"},{\"default\":\"wrap\",\"kind\":null,\"name\":\"flex_wrap\"},{\"default\":\"flex-start\",\"kind\":null,\"name\":\"justify_content\"}]},{\"extends\":null,\"module\":null,\"name\":\"GridStack1\",\"overrides\":[],\"properties\":[{\"default\":\"warn\",\"kind\":null,\"name\":\"mode\"},{\"default\":null,\"kind\":null,\"name\":\"ncols\"},{\"default\":null,\"kind\":null,\"name\":\"nrows\"},{\"default\":true,\"kind\":null,\"name\":\"allow_resize\"},{\"default\":true,\"kind\":null,\"name\":\"allow_drag\"},{\"default\":[],\"kind\":null,\"name\":\"state\"}]},{\"extends\":null,\"module\":null,\"name\":\"click1\",\"overrides\":[],\"properties\":[{\"default\":\"\",\"kind\":null,\"name\":\"terminal_output\"},{\"default\":\"\",\"kind\":null,\"name\":\"debug_name\"},{\"default\":0,\"kind\":null,\"name\":\"clears\"}]},{\"extends\":null,\"module\":null,\"name\":\"TemplateActions1\",\"overrides\":[],\"properties\":[{\"default\":0,\"kind\":null,\"name\":\"open_modal\"},{\"default\":0,\"kind\":null,\"name\":\"close_modal\"}]},{\"extends\":null,\"module\":null,\"name\":\"MaterialTemplateActions1\",\"overrides\":[],\"properties\":[{\"default\":0,\"kind\":null,\"name\":\"open_modal\"},{\"default\":0,\"kind\":null,\"name\":\"close_modal\"}]}],\"roots\":{\"references\":[{\"attributes\":{},\"id\":\"2266\",\"type\":\"PanTool\"},{\"attributes\":{\"data\":{\"Year\":[1966,1967,1968,1969,1970,1971,1972,1973,1974,1975,1976,1977,1978,1979],\"seventies_cpi\":{\"__ndarray__\":\"MzMzMzMzIUDNzMzMzMwhQDMzMzMzMyJAAAAAAAAAI0CamZmZmZkjQM3MzMzMzCRAAAAAAAAAJkAAAAAAAAAoQM3MzMzMzCtAAAAAAAAAMECamZmZmRkyQM3MzMzMTDRAZmZmZmbmNUBmZmZmZuY3QA==\",\"dtype\":\"float64\",\"order\":\"little\",\"shape\":[14]}},\"selected\":{\"id\":\"2279\"},\"selection_policy\":{\"id\":\"2300\"}},\"id\":\"2278\",\"type\":\"ColumnDataSource\"},{\"attributes\":{},\"id\":\"2265\",\"type\":\"SaveTool\"},{\"attributes\":{},\"id\":\"2279\",\"type\":\"Selection\"},{\"attributes\":{\"below\":[{\"id\":\"2257\"}],\"center\":[{\"id\":\"2260\"},{\"id\":\"2264\"}],\"height\":300,\"left\":[{\"id\":\"2261\"}],\"margin\":[5,5,5,5],\"min_border_bottom\":10,\"min_border_left\":10,\"min_border_right\":10,\"min_border_top\":10,\"renderers\":[{\"id\":\"2284\"}],\"sizing_mode\":\"fixed\",\"title\":{\"id\":\"2249\"},\"toolbar\":{\"id\":\"2271\"},\"width\":700,\"x_range\":{\"id\":\"2245\"},\"x_scale\":{\"id\":\"2253\"},\"y_range\":{\"id\":\"2246\"},\"y_scale\":{\"id\":\"2255\"}},\"id\":\"2248\",\"subtype\":\"Figure\",\"type\":\"Plot\"},{\"attributes\":{\"coordinates\":null,\"group\":null,\"text\":\"Annual CPI in the 1970's\",\"text_color\":\"black\",\"text_font_size\":\"12pt\"},\"id\":\"2249\",\"type\":\"Title\"},{\"attributes\":{\"coordinates\":null,\"data_source\":{\"id\":\"2278\"},\"glyph\":{\"id\":\"2281\"},\"group\":null,\"hover_glyph\":null,\"muted_glyph\":{\"id\":\"2283\"},\"nonselection_glyph\":{\"id\":\"2282\"},\"selection_glyph\":{\"id\":\"2286\"},\"view\":{\"id\":\"2285\"}},\"id\":\"2284\",\"type\":\"GlyphRenderer\"},{\"attributes\":{},\"id\":\"2269\",\"type\":\"ResetTool\"},{\"attributes\":{\"children\":[{\"id\":\"2244\"},{\"id\":\"2248\"},{\"id\":\"2313\"}],\"margin\":[0,0,0,0],\"name\":\"Row03554\",\"tags\":[\"embedded\"]},\"id\":\"2243\",\"type\":\"Row\"},{\"attributes\":{},\"id\":\"2267\",\"type\":\"WheelZoomTool\"},{\"attributes\":{},\"id\":\"2300\",\"type\":\"UnionRenderers\"},{\"attributes\":{\"overlay\":{\"id\":\"2270\"}},\"id\":\"2268\",\"type\":\"BoxZoomTool\"},{\"attributes\":{\"axis_label\":\"CPI\",\"coordinates\":null,\"formatter\":{\"id\":\"2291\"},\"group\":null,\"major_label_policy\":{\"id\":\"2292\"},\"ticker\":{\"id\":\"2262\"}},\"id\":\"2261\",\"type\":\"LinearAxis\"},{\"attributes\":{\"axis_label\":\"Year\",\"coordinates\":null,\"formatter\":{\"id\":\"2288\"},\"group\":null,\"major_label_policy\":{\"id\":\"2289\"},\"ticker\":{\"id\":\"2258\"}},\"id\":\"2257\",\"type\":\"LinearAxis\"},{\"attributes\":{\"margin\":[5,5,5,5],\"name\":\"HSpacer03559\",\"sizing_mode\":\"stretch_width\"},\"id\":\"2313\",\"type\":\"Spacer\"},{\"attributes\":{\"end\":1979.0,\"reset_end\":1979.0,\"reset_start\":1966.0,\"start\":1966.0,\"tags\":[[[\"Year\",\"Year\",null]]]},\"id\":\"2245\",\"type\":\"Range1d\"},{\"attributes\":{\"tools\":[{\"id\":\"2247\"},{\"id\":\"2265\"},{\"id\":\"2266\"},{\"id\":\"2267\"},{\"id\":\"2268\"},{\"id\":\"2269\"}]},\"id\":\"2271\",\"type\":\"Toolbar\"},{\"attributes\":{\"end\":25.43,\"reset_end\":25.43,\"reset_start\":7.069999999999999,\"start\":7.069999999999999,\"tags\":[[[\"seventies_cpi\",\"seventies_cpi\",null]]]},\"id\":\"2246\",\"type\":\"Range1d\"},{\"attributes\":{},\"id\":\"2253\",\"type\":\"LinearScale\"},{\"attributes\":{\"bottom_units\":\"screen\",\"coordinates\":null,\"fill_alpha\":0.5,\"fill_color\":\"lightgrey\",\"group\":null,\"left_units\":\"screen\",\"level\":\"overlay\",\"line_alpha\":1.0,\"line_color\":\"black\",\"line_dash\":[4,4],\"line_width\":2,\"right_units\":\"screen\",\"syncable\":false,\"top_units\":\"screen\"},\"id\":\"2270\",\"type\":\"BoxAnnotation\"},{\"attributes\":{\"source\":{\"id\":\"2278\"}},\"id\":\"2285\",\"type\":\"CDSView\"},{\"attributes\":{\"line_color\":\"#30a2da\",\"line_width\":2,\"x\":{\"field\":\"Year\"},\"y\":{\"field\":\"seventies_cpi\"}},\"id\":\"2286\",\"type\":\"Line\"},{\"attributes\":{},\"id\":\"2262\",\"type\":\"BasicTicker\"},{\"attributes\":{\"margin\":[5,5,5,5],\"name\":\"HSpacer03558\",\"sizing_mode\":\"stretch_width\"},\"id\":\"2244\",\"type\":\"Spacer\"},{\"attributes\":{\"line_color\":\"#30a2da\",\"line_width\":2,\"x\":{\"field\":\"Year\"},\"y\":{\"field\":\"seventies_cpi\"}},\"id\":\"2281\",\"type\":\"Line\"},{\"attributes\":{\"callback\":null,\"renderers\":[{\"id\":\"2284\"}],\"tags\":[\"hv_created\"],\"tooltips\":[[\"Year\",\"@{Year}\"],[\"seventies_cpi\",\"@{seventies_cpi}\"]]},\"id\":\"2247\",\"type\":\"HoverTool\"},{\"attributes\":{},\"id\":\"2258\",\"type\":\"BasicTicker\"},{\"attributes\":{},\"id\":\"2291\",\"type\":\"BasicTickFormatter\"},{\"attributes\":{\"axis\":{\"id\":\"2261\"},\"coordinates\":null,\"dimension\":1,\"grid_line_color\":null,\"group\":null,\"ticker\":null},\"id\":\"2264\",\"type\":\"Grid\"},{\"attributes\":{\"line_alpha\":0.2,\"line_color\":\"#30a2da\",\"line_width\":2,\"x\":{\"field\":\"Year\"},\"y\":{\"field\":\"seventies_cpi\"}},\"id\":\"2283\",\"type\":\"Line\"},{\"attributes\":{\"axis\":{\"id\":\"2257\"},\"coordinates\":null,\"grid_line_color\":null,\"group\":null,\"ticker\":null},\"id\":\"2260\",\"type\":\"Grid\"},{\"attributes\":{},\"id\":\"2292\",\"type\":\"AllLabels\"},{\"attributes\":{},\"id\":\"2288\",\"type\":\"BasicTickFormatter\"},{\"attributes\":{},\"id\":\"2289\",\"type\":\"AllLabels\"},{\"attributes\":{},\"id\":\"2255\",\"type\":\"LinearScale\"},{\"attributes\":{\"line_alpha\":0.1,\"line_color\":\"#30a2da\",\"line_width\":2,\"x\":{\"field\":\"Year\"},\"y\":{\"field\":\"seventies_cpi\"}},\"id\":\"2282\",\"type\":\"Line\"}],\"root_ids\":[\"2243\"]},\"title\":\"Bokeh Application\",\"version\":\"2.4.2\"}};\n",
       "    var render_items = [{\"docid\":\"7baade80-ec7a-44d7-864e-538f5ce10085\",\"root_ids\":[\"2243\"],\"roots\":{\"2243\":\"eeeab049-ff4b-4486-ae71-38ee2abe78d2\"}}];\n",
       "    root.Bokeh.embed.embed_items_notebook(docs_json, render_items);\n",
       "  }\n",
       "  if (root.Bokeh !== undefined && root.Bokeh.Panel !== undefined) {\n",
       "    embed_document(root);\n",
       "  } else {\n",
       "    var attempts = 0;\n",
       "    var timer = setInterval(function(root) {\n",
       "      if (root.Bokeh !== undefined && root.Bokeh.Panel !== undefined) {\n",
       "        clearInterval(timer);\n",
       "        embed_document(root);\n",
       "      } else if (document.readyState == \"complete\") {\n",
       "        attempts++;\n",
       "        if (attempts > 200) {\n",
       "          clearInterval(timer);\n",
       "          console.log(\"Bokeh: ERROR: Unable to run BokehJS code because BokehJS library is missing\");\n",
       "        }\n",
       "      }\n",
       "    }, 25, root)\n",
       "  }\n",
       "})(window);</script>"
      ],
      "text/plain": [
       ":Curve   [Year]   (seventies_cpi)"
      ]
     },
     "execution_count": 42,
     "metadata": {
      "application/vnd.holoviews_exec.v0+json": {
       "id": "2243"
      }
     },
     "output_type": "execute_result"
    }
   ],
   "source": [
    "seventies_cpi[\"seventies_cpi\"].hvplot(\n",
    "    label=\"Annual CPI in the 1970's\",\n",
    "    xlabel=\"Year\",\n",
    "    ylabel=\"CPI\"\n",
    ")"
   ]
  },
  {
   "cell_type": "code",
   "execution_count": 43,
   "id": "41f90f7d-e44c-4e21-a369-7893f7deb1b3",
   "metadata": {},
   "outputs": [
    {
     "data": {
      "text/html": [
       "<div>\n",
       "<style scoped>\n",
       "    .dataframe tbody tr th:only-of-type {\n",
       "        vertical-align: middle;\n",
       "    }\n",
       "\n",
       "    .dataframe tbody tr th {\n",
       "        vertical-align: top;\n",
       "    }\n",
       "\n",
       "    .dataframe thead th {\n",
       "        text-align: right;\n",
       "    }\n",
       "</style>\n",
       "<table border=\"1\" class=\"dataframe\">\n",
       "  <thead>\n",
       "    <tr style=\"text-align: right;\">\n",
       "      <th></th>\n",
       "      <th>twenties_cpi</th>\n",
       "    </tr>\n",
       "    <tr>\n",
       "      <th>Year</th>\n",
       "      <th></th>\n",
       "    </tr>\n",
       "  </thead>\n",
       "  <tbody>\n",
       "    <tr>\n",
       "      <th>2013</th>\n",
       "      <td>103.5</td>\n",
       "    </tr>\n",
       "    <tr>\n",
       "      <th>2014</th>\n",
       "      <td>106.1</td>\n",
       "    </tr>\n",
       "    <tr>\n",
       "      <th>2015</th>\n",
       "      <td>107.7</td>\n",
       "    </tr>\n",
       "    <tr>\n",
       "      <th>2016</th>\n",
       "      <td>109.1</td>\n",
       "    </tr>\n",
       "    <tr>\n",
       "      <th>2017</th>\n",
       "      <td>111.2</td>\n",
       "    </tr>\n",
       "    <tr>\n",
       "      <th>2018</th>\n",
       "      <td>113.3</td>\n",
       "    </tr>\n",
       "    <tr>\n",
       "      <th>2019</th>\n",
       "      <td>115.1</td>\n",
       "    </tr>\n",
       "    <tr>\n",
       "      <th>2020</th>\n",
       "      <td>116.1</td>\n",
       "    </tr>\n",
       "    <tr>\n",
       "      <th>2021</th>\n",
       "      <td>119.4</td>\n",
       "    </tr>\n",
       "    <tr>\n",
       "      <th>2022</th>\n",
       "      <td>NaN</td>\n",
       "    </tr>\n",
       "  </tbody>\n",
       "</table>\n",
       "</div>"
      ],
      "text/plain": [
       "      twenties_cpi\n",
       "Year              \n",
       "2013         103.5\n",
       "2014         106.1\n",
       "2015         107.7\n",
       "2016         109.1\n",
       "2017         111.2\n",
       "2018         113.3\n",
       "2019         115.1\n",
       "2020         116.1\n",
       "2021         119.4\n",
       "2022           NaN"
      ]
     },
     "execution_count": 43,
     "metadata": {},
     "output_type": "execute_result"
    }
   ],
   "source": [
    "# here I pull out the 2013-2021 CPI\n",
    "\n",
    "twenties_cpi = cpi_df.rename(columns = {'Annual':'twenties_cpi'}).iloc[65:75]\n",
    "\n",
    "twenties_cpi = twenties_cpi.drop([\"mar\", \"jun\", \"sep\", \"dec\"], axis=1)\n",
    "twenties_cpi"
   ]
  },
  {
   "cell_type": "code",
   "execution_count": 44,
   "id": "ca64e84b-fd44-47e0-8830-320b8f94abd9",
   "metadata": {},
   "outputs": [
    {
     "data": {},
     "metadata": {},
     "output_type": "display_data"
    },
    {
     "data": {
      "application/vnd.holoviews_exec.v0+json": "",
      "text/html": [
       "<div id='2365'>\n",
       "\n",
       "\n",
       "\n",
       "\n",
       "\n",
       "  <div class=\"bk-root\" id=\"0da62a6f-0120-4838-8599-acac4919e537\" data-root-id=\"2365\"></div>\n",
       "</div>\n",
       "<script type=\"application/javascript\">(function(root) {\n",
       "  function embed_document(root) {\n",
       "    var docs_json = {\"433c5fd0-052c-41da-a2fb-81bce8dd26a8\":{\"defs\":[{\"extends\":null,\"module\":null,\"name\":\"ReactiveHTML1\",\"overrides\":[],\"properties\":[]},{\"extends\":null,\"module\":null,\"name\":\"FlexBox1\",\"overrides\":[],\"properties\":[{\"default\":\"flex-start\",\"kind\":null,\"name\":\"align_content\"},{\"default\":\"flex-start\",\"kind\":null,\"name\":\"align_items\"},{\"default\":\"row\",\"kind\":null,\"name\":\"flex_direction\"},{\"default\":\"wrap\",\"kind\":null,\"name\":\"flex_wrap\"},{\"default\":\"flex-start\",\"kind\":null,\"name\":\"justify_content\"}]},{\"extends\":null,\"module\":null,\"name\":\"GridStack1\",\"overrides\":[],\"properties\":[{\"default\":\"warn\",\"kind\":null,\"name\":\"mode\"},{\"default\":null,\"kind\":null,\"name\":\"ncols\"},{\"default\":null,\"kind\":null,\"name\":\"nrows\"},{\"default\":true,\"kind\":null,\"name\":\"allow_resize\"},{\"default\":true,\"kind\":null,\"name\":\"allow_drag\"},{\"default\":[],\"kind\":null,\"name\":\"state\"}]},{\"extends\":null,\"module\":null,\"name\":\"click1\",\"overrides\":[],\"properties\":[{\"default\":\"\",\"kind\":null,\"name\":\"terminal_output\"},{\"default\":\"\",\"kind\":null,\"name\":\"debug_name\"},{\"default\":0,\"kind\":null,\"name\":\"clears\"}]},{\"extends\":null,\"module\":null,\"name\":\"TemplateActions1\",\"overrides\":[],\"properties\":[{\"default\":0,\"kind\":null,\"name\":\"open_modal\"},{\"default\":0,\"kind\":null,\"name\":\"close_modal\"}]},{\"extends\":null,\"module\":null,\"name\":\"MaterialTemplateActions1\",\"overrides\":[],\"properties\":[{\"default\":0,\"kind\":null,\"name\":\"open_modal\"},{\"default\":0,\"kind\":null,\"name\":\"close_modal\"}]}],\"roots\":{\"references\":[{\"attributes\":{\"axis\":{\"id\":\"2383\"},\"coordinates\":null,\"dimension\":1,\"grid_line_color\":null,\"group\":null,\"ticker\":null},\"id\":\"2386\",\"type\":\"Grid\"},{\"attributes\":{\"source\":{\"id\":\"2400\"}},\"id\":\"2407\",\"type\":\"CDSView\"},{\"attributes\":{},\"id\":\"2413\",\"type\":\"BasicTickFormatter\"},{\"attributes\":{},\"id\":\"2411\",\"type\":\"AllLabels\"},{\"attributes\":{\"below\":[{\"id\":\"2379\"}],\"center\":[{\"id\":\"2382\"},{\"id\":\"2386\"}],\"height\":300,\"left\":[{\"id\":\"2383\"}],\"margin\":[5,5,5,5],\"min_border_bottom\":10,\"min_border_left\":10,\"min_border_right\":10,\"min_border_top\":10,\"renderers\":[{\"id\":\"2406\"}],\"sizing_mode\":\"fixed\",\"title\":{\"id\":\"2371\"},\"toolbar\":{\"id\":\"2393\"},\"width\":700,\"x_range\":{\"id\":\"2367\"},\"x_scale\":{\"id\":\"2375\"},\"y_range\":{\"id\":\"2368\"},\"y_scale\":{\"id\":\"2377\"}},\"id\":\"2370\",\"subtype\":\"Figure\",\"type\":\"Plot\"},{\"attributes\":{\"callback\":null,\"renderers\":[{\"id\":\"2406\"}],\"tags\":[\"hv_created\"],\"tooltips\":[[\"Year\",\"@{Year}\"],[\"twenties_cpi\",\"@{twenties_cpi}\"]]},\"id\":\"2369\",\"type\":\"HoverTool\"},{\"attributes\":{\"coordinates\":null,\"data_source\":{\"id\":\"2400\"},\"glyph\":{\"id\":\"2403\"},\"group\":null,\"hover_glyph\":null,\"muted_glyph\":{\"id\":\"2405\"},\"nonselection_glyph\":{\"id\":\"2404\"},\"selection_glyph\":{\"id\":\"2408\"},\"view\":{\"id\":\"2407\"}},\"id\":\"2406\",\"type\":\"GlyphRenderer\"},{\"attributes\":{},\"id\":\"2414\",\"type\":\"AllLabels\"},{\"attributes\":{},\"id\":\"2410\",\"type\":\"BasicTickFormatter\"},{\"attributes\":{\"line_alpha\":0.1,\"line_color\":\"#30a2da\",\"line_width\":2,\"x\":{\"field\":\"Year\"},\"y\":{\"field\":\"twenties_cpi\"}},\"id\":\"2404\",\"type\":\"Line\"},{\"attributes\":{},\"id\":\"2384\",\"type\":\"BasicTicker\"},{\"attributes\":{},\"id\":\"2387\",\"type\":\"SaveTool\"},{\"attributes\":{},\"id\":\"2388\",\"type\":\"PanTool\"},{\"attributes\":{\"margin\":[5,5,5,5],\"name\":\"HSpacer03736\",\"sizing_mode\":\"stretch_width\"},\"id\":\"2435\",\"type\":\"Spacer\"},{\"attributes\":{},\"id\":\"2391\",\"type\":\"ResetTool\"},{\"attributes\":{\"margin\":[5,5,5,5],\"name\":\"HSpacer03735\",\"sizing_mode\":\"stretch_width\"},\"id\":\"2366\",\"type\":\"Spacer\"},{\"attributes\":{\"line_alpha\":0.2,\"line_color\":\"#30a2da\",\"line_width\":2,\"x\":{\"field\":\"Year\"},\"y\":{\"field\":\"twenties_cpi\"}},\"id\":\"2405\",\"type\":\"Line\"},{\"attributes\":{},\"id\":\"2389\",\"type\":\"WheelZoomTool\"},{\"attributes\":{},\"id\":\"2422\",\"type\":\"UnionRenderers\"},{\"attributes\":{\"line_color\":\"#30a2da\",\"line_width\":2,\"x\":{\"field\":\"Year\"},\"y\":{\"field\":\"twenties_cpi\"}},\"id\":\"2403\",\"type\":\"Line\"},{\"attributes\":{\"overlay\":{\"id\":\"2392\"}},\"id\":\"2390\",\"type\":\"BoxZoomTool\"},{\"attributes\":{},\"id\":\"2380\",\"type\":\"BasicTicker\"},{\"attributes\":{},\"id\":\"2375\",\"type\":\"LinearScale\"},{\"attributes\":{\"line_color\":\"#30a2da\",\"line_width\":2,\"x\":{\"field\":\"Year\"},\"y\":{\"field\":\"twenties_cpi\"}},\"id\":\"2408\",\"type\":\"Line\"},{\"attributes\":{\"end\":2022.0,\"reset_end\":2022.0,\"reset_start\":2013.0,\"start\":2013.0,\"tags\":[[[\"Year\",\"Year\",null]]]},\"id\":\"2367\",\"type\":\"Range1d\"},{\"attributes\":{\"coordinates\":null,\"group\":null,\"text\":\"Annual Inflation in the 2010's and Up\",\"text_color\":\"black\",\"text_font_size\":\"12pt\"},\"id\":\"2371\",\"type\":\"Title\"},{\"attributes\":{\"tools\":[{\"id\":\"2369\"},{\"id\":\"2387\"},{\"id\":\"2388\"},{\"id\":\"2389\"},{\"id\":\"2390\"},{\"id\":\"2391\"}]},\"id\":\"2393\",\"type\":\"Toolbar\"},{\"attributes\":{\"axis\":{\"id\":\"2379\"},\"coordinates\":null,\"grid_line_color\":null,\"group\":null,\"ticker\":null},\"id\":\"2382\",\"type\":\"Grid\"},{\"attributes\":{},\"id\":\"2401\",\"type\":\"Selection\"},{\"attributes\":{},\"id\":\"2377\",\"type\":\"LinearScale\"},{\"attributes\":{\"bottom_units\":\"screen\",\"coordinates\":null,\"fill_alpha\":0.5,\"fill_color\":\"lightgrey\",\"group\":null,\"left_units\":\"screen\",\"level\":\"overlay\",\"line_alpha\":1.0,\"line_color\":\"black\",\"line_dash\":[4,4],\"line_width\":2,\"right_units\":\"screen\",\"syncable\":false,\"top_units\":\"screen\"},\"id\":\"2392\",\"type\":\"BoxAnnotation\"},{\"attributes\":{\"children\":[{\"id\":\"2366\"},{\"id\":\"2370\"},{\"id\":\"2435\"}],\"margin\":[0,0,0,0],\"name\":\"Row03731\",\"tags\":[\"embedded\"]},\"id\":\"2365\",\"type\":\"Row\"},{\"attributes\":{\"axis_label\":\"Inflation Rate\",\"coordinates\":null,\"formatter\":{\"id\":\"2413\"},\"group\":null,\"major_label_policy\":{\"id\":\"2414\"},\"ticker\":{\"id\":\"2384\"}},\"id\":\"2383\",\"type\":\"LinearAxis\"},{\"attributes\":{\"axis_label\":\"Year\",\"coordinates\":null,\"formatter\":{\"id\":\"2410\"},\"group\":null,\"major_label_policy\":{\"id\":\"2411\"},\"ticker\":{\"id\":\"2380\"}},\"id\":\"2379\",\"type\":\"LinearAxis\"},{\"attributes\":{\"end\":120.99000000000001,\"reset_end\":120.99000000000001,\"reset_start\":101.91,\"start\":101.91,\"tags\":[[[\"twenties_cpi\",\"twenties_cpi\",null]]]},\"id\":\"2368\",\"type\":\"Range1d\"},{\"attributes\":{\"data\":{\"Year\":[2013,2014,2015,2016,2017,2018,2019,2020,2021,2022],\"twenties_cpi\":{\"__ndarray__\":\"AAAAAADgWUBmZmZmZoZaQM3MzMzM7FpAZmZmZmZGW0DNzMzMzMxbQDMzMzMzU1xAZmZmZmbGXEBmZmZmZgZdQJqZmZmZ2V1AAAAAAAAA+H8=\",\"dtype\":\"float64\",\"order\":\"little\",\"shape\":[10]}},\"selected\":{\"id\":\"2401\"},\"selection_policy\":{\"id\":\"2422\"}},\"id\":\"2400\",\"type\":\"ColumnDataSource\"}],\"root_ids\":[\"2365\"]},\"title\":\"Bokeh Application\",\"version\":\"2.4.2\"}};\n",
       "    var render_items = [{\"docid\":\"433c5fd0-052c-41da-a2fb-81bce8dd26a8\",\"root_ids\":[\"2365\"],\"roots\":{\"2365\":\"0da62a6f-0120-4838-8599-acac4919e537\"}}];\n",
       "    root.Bokeh.embed.embed_items_notebook(docs_json, render_items);\n",
       "  }\n",
       "  if (root.Bokeh !== undefined && root.Bokeh.Panel !== undefined) {\n",
       "    embed_document(root);\n",
       "  } else {\n",
       "    var attempts = 0;\n",
       "    var timer = setInterval(function(root) {\n",
       "      if (root.Bokeh !== undefined && root.Bokeh.Panel !== undefined) {\n",
       "        clearInterval(timer);\n",
       "        embed_document(root);\n",
       "      } else if (document.readyState == \"complete\") {\n",
       "        attempts++;\n",
       "        if (attempts > 200) {\n",
       "          clearInterval(timer);\n",
       "          console.log(\"Bokeh: ERROR: Unable to run BokehJS code because BokehJS library is missing\");\n",
       "        }\n",
       "      }\n",
       "    }, 25, root)\n",
       "  }\n",
       "})(window);</script>"
      ],
      "text/plain": [
       ":Curve   [Year]   (twenties_cpi)"
      ]
     },
     "execution_count": 44,
     "metadata": {
      "application/vnd.holoviews_exec.v0+json": {
       "id": "2365"
      }
     },
     "output_type": "execute_result"
    }
   ],
   "source": [
    "twenties_cpi[\"twenties_cpi\"].hvplot(\n",
    "    label=\"Annual Inflation in the 2010's and Up\",\n",
    "    xlabel=\"Year\",\n",
    "    ylabel=\"Inflation Rate\"\n",
    ")"
   ]
  },
  {
   "cell_type": "code",
   "execution_count": 45,
   "id": "324288ac-6ef4-4065-b9bf-23b089107e8d",
   "metadata": {},
   "outputs": [
    {
     "data": {
      "text/html": [
       "<div>\n",
       "<style scoped>\n",
       "    .dataframe tbody tr th:only-of-type {\n",
       "        vertical-align: middle;\n",
       "    }\n",
       "\n",
       "    .dataframe tbody tr th {\n",
       "        vertical-align: top;\n",
       "    }\n",
       "\n",
       "    .dataframe thead th {\n",
       "        text-align: right;\n",
       "    }\n",
       "</style>\n",
       "<table border=\"1\" class=\"dataframe\">\n",
       "  <thead>\n",
       "    <tr style=\"text-align: right;\">\n",
       "      <th></th>\n",
       "      <th>seventies_cpi</th>\n",
       "    </tr>\n",
       "  </thead>\n",
       "  <tbody>\n",
       "    <tr>\n",
       "      <th>0</th>\n",
       "      <td>8.6</td>\n",
       "    </tr>\n",
       "    <tr>\n",
       "      <th>1</th>\n",
       "      <td>8.9</td>\n",
       "    </tr>\n",
       "    <tr>\n",
       "      <th>2</th>\n",
       "      <td>9.1</td>\n",
       "    </tr>\n",
       "    <tr>\n",
       "      <th>3</th>\n",
       "      <td>9.5</td>\n",
       "    </tr>\n",
       "    <tr>\n",
       "      <th>4</th>\n",
       "      <td>9.8</td>\n",
       "    </tr>\n",
       "  </tbody>\n",
       "</table>\n",
       "</div>"
      ],
      "text/plain": [
       "   seventies_cpi\n",
       "0            8.6\n",
       "1            8.9\n",
       "2            9.1\n",
       "3            9.5\n",
       "4            9.8"
      ]
     },
     "metadata": {},
     "output_type": "display_data"
    },
    {
     "data": {
      "text/html": [
       "<div>\n",
       "<style scoped>\n",
       "    .dataframe tbody tr th:only-of-type {\n",
       "        vertical-align: middle;\n",
       "    }\n",
       "\n",
       "    .dataframe tbody tr th {\n",
       "        vertical-align: top;\n",
       "    }\n",
       "\n",
       "    .dataframe thead th {\n",
       "        text-align: right;\n",
       "    }\n",
       "</style>\n",
       "<table border=\"1\" class=\"dataframe\">\n",
       "  <thead>\n",
       "    <tr style=\"text-align: right;\">\n",
       "      <th></th>\n",
       "      <th>twenties_cpi</th>\n",
       "    </tr>\n",
       "  </thead>\n",
       "  <tbody>\n",
       "    <tr>\n",
       "      <th>0</th>\n",
       "      <td>103.5</td>\n",
       "    </tr>\n",
       "    <tr>\n",
       "      <th>1</th>\n",
       "      <td>106.1</td>\n",
       "    </tr>\n",
       "    <tr>\n",
       "      <th>2</th>\n",
       "      <td>107.7</td>\n",
       "    </tr>\n",
       "    <tr>\n",
       "      <th>3</th>\n",
       "      <td>109.1</td>\n",
       "    </tr>\n",
       "    <tr>\n",
       "      <th>4</th>\n",
       "      <td>111.2</td>\n",
       "    </tr>\n",
       "  </tbody>\n",
       "</table>\n",
       "</div>"
      ],
      "text/plain": [
       "   twenties_cpi\n",
       "0         103.5\n",
       "1         106.1\n",
       "2         107.7\n",
       "3         109.1\n",
       "4         111.2"
      ]
     },
     "metadata": {},
     "output_type": "display_data"
    }
   ],
   "source": [
    "seventies_cpi = seventies_cpi.reset_index().drop([\"Year\"], axis=1)\n",
    "twenties_cpi = twenties_cpi.reset_index().drop([\"Year\"], axis=1)\n",
    "\n",
    "display(seventies_cpi.head(5))\n",
    "display(twenties_cpi.head(5))"
   ]
  },
  {
   "cell_type": "code",
   "execution_count": 47,
   "id": "fa2ba19f-ae6f-40af-ab5f-3346c4295bce",
   "metadata": {},
   "outputs": [
    {
     "data": {
      "text/html": [
       "<div>\n",
       "<style scoped>\n",
       "    .dataframe tbody tr th:only-of-type {\n",
       "        vertical-align: middle;\n",
       "    }\n",
       "\n",
       "    .dataframe tbody tr th {\n",
       "        vertical-align: top;\n",
       "    }\n",
       "\n",
       "    .dataframe thead th {\n",
       "        text-align: right;\n",
       "    }\n",
       "</style>\n",
       "<table border=\"1\" class=\"dataframe\">\n",
       "  <thead>\n",
       "    <tr style=\"text-align: right;\">\n",
       "      <th></th>\n",
       "      <th>seventies_cpi</th>\n",
       "      <th>twenties_cpi</th>\n",
       "    </tr>\n",
       "  </thead>\n",
       "  <tbody>\n",
       "    <tr>\n",
       "      <th>0</th>\n",
       "      <td>8.6</td>\n",
       "      <td>103.5</td>\n",
       "    </tr>\n",
       "    <tr>\n",
       "      <th>1</th>\n",
       "      <td>8.9</td>\n",
       "      <td>106.1</td>\n",
       "    </tr>\n",
       "    <tr>\n",
       "      <th>2</th>\n",
       "      <td>9.1</td>\n",
       "      <td>107.7</td>\n",
       "    </tr>\n",
       "    <tr>\n",
       "      <th>3</th>\n",
       "      <td>9.5</td>\n",
       "      <td>109.1</td>\n",
       "    </tr>\n",
       "    <tr>\n",
       "      <th>4</th>\n",
       "      <td>9.8</td>\n",
       "      <td>111.2</td>\n",
       "    </tr>\n",
       "    <tr>\n",
       "      <th>5</th>\n",
       "      <td>10.4</td>\n",
       "      <td>113.3</td>\n",
       "    </tr>\n",
       "    <tr>\n",
       "      <th>6</th>\n",
       "      <td>11.0</td>\n",
       "      <td>115.1</td>\n",
       "    </tr>\n",
       "    <tr>\n",
       "      <th>7</th>\n",
       "      <td>12.0</td>\n",
       "      <td>116.1</td>\n",
       "    </tr>\n",
       "    <tr>\n",
       "      <th>8</th>\n",
       "      <td>13.9</td>\n",
       "      <td>119.4</td>\n",
       "    </tr>\n",
       "    <tr>\n",
       "      <th>9</th>\n",
       "      <td>16.0</td>\n",
       "      <td>NaN</td>\n",
       "    </tr>\n",
       "  </tbody>\n",
       "</table>\n",
       "</div>"
      ],
      "text/plain": [
       "   seventies_cpi  twenties_cpi\n",
       "0            8.6         103.5\n",
       "1            8.9         106.1\n",
       "2            9.1         107.7\n",
       "3            9.5         109.1\n",
       "4            9.8         111.2\n",
       "5           10.4         113.3\n",
       "6           11.0         115.1\n",
       "7           12.0         116.1\n",
       "8           13.9         119.4\n",
       "9           16.0           NaN"
      ]
     },
     "execution_count": 47,
     "metadata": {},
     "output_type": "execute_result"
    }
   ],
   "source": [
    "cpi_comparison = pd.concat([seventies_cpi, twenties_cpi],axis=1,join=\"inner\")\n",
    "cpi_comparison"
   ]
  },
  {
   "cell_type": "code",
   "execution_count": 48,
   "id": "d4e03fa0-885e-4c86-938d-634a47b0b233",
   "metadata": {},
   "outputs": [
    {
     "data": {},
     "metadata": {},
     "output_type": "display_data"
    },
    {
     "data": {
      "application/vnd.holoviews_exec.v0+json": "",
      "text/html": [
       "<div id='2487'>\n",
       "\n",
       "\n",
       "\n",
       "\n",
       "\n",
       "  <div class=\"bk-root\" id=\"6af83fa1-f107-45ae-8e2d-66b8ddb00de4\" data-root-id=\"2487\"></div>\n",
       "</div>\n",
       "<script type=\"application/javascript\">(function(root) {\n",
       "  function embed_document(root) {\n",
       "    var docs_json = {\"1bf305d6-8dfc-4eb7-9bce-363b3685cfba\":{\"defs\":[{\"extends\":null,\"module\":null,\"name\":\"ReactiveHTML1\",\"overrides\":[],\"properties\":[]},{\"extends\":null,\"module\":null,\"name\":\"FlexBox1\",\"overrides\":[],\"properties\":[{\"default\":\"flex-start\",\"kind\":null,\"name\":\"align_content\"},{\"default\":\"flex-start\",\"kind\":null,\"name\":\"align_items\"},{\"default\":\"row\",\"kind\":null,\"name\":\"flex_direction\"},{\"default\":\"wrap\",\"kind\":null,\"name\":\"flex_wrap\"},{\"default\":\"flex-start\",\"kind\":null,\"name\":\"justify_content\"}]},{\"extends\":null,\"module\":null,\"name\":\"GridStack1\",\"overrides\":[],\"properties\":[{\"default\":\"warn\",\"kind\":null,\"name\":\"mode\"},{\"default\":null,\"kind\":null,\"name\":\"ncols\"},{\"default\":null,\"kind\":null,\"name\":\"nrows\"},{\"default\":true,\"kind\":null,\"name\":\"allow_resize\"},{\"default\":true,\"kind\":null,\"name\":\"allow_drag\"},{\"default\":[],\"kind\":null,\"name\":\"state\"}]},{\"extends\":null,\"module\":null,\"name\":\"click1\",\"overrides\":[],\"properties\":[{\"default\":\"\",\"kind\":null,\"name\":\"terminal_output\"},{\"default\":\"\",\"kind\":null,\"name\":\"debug_name\"},{\"default\":0,\"kind\":null,\"name\":\"clears\"}]},{\"extends\":null,\"module\":null,\"name\":\"TemplateActions1\",\"overrides\":[],\"properties\":[{\"default\":0,\"kind\":null,\"name\":\"open_modal\"},{\"default\":0,\"kind\":null,\"name\":\"close_modal\"}]},{\"extends\":null,\"module\":null,\"name\":\"MaterialTemplateActions1\",\"overrides\":[],\"properties\":[{\"default\":0,\"kind\":null,\"name\":\"open_modal\"},{\"default\":0,\"kind\":null,\"name\":\"close_modal\"}]}],\"roots\":{\"references\":[{\"attributes\":{\"axis\":{\"id\":\"2502\"},\"coordinates\":null,\"grid_line_color\":null,\"group\":null,\"ticker\":null},\"id\":\"2505\",\"type\":\"Grid\"},{\"attributes\":{},\"id\":\"2507\",\"type\":\"BasicTicker\"},{\"attributes\":{\"coordinates\":null,\"group\":null,\"text_color\":\"black\",\"text_font_size\":\"12pt\"},\"id\":\"2494\",\"type\":\"Title\"},{\"attributes\":{},\"id\":\"2503\",\"type\":\"BasicTicker\"},{\"attributes\":{},\"id\":\"2567\",\"type\":\"UnionRenderers\"},{\"attributes\":{\"tools\":[{\"id\":\"2491\"},{\"id\":\"2510\"},{\"id\":\"2511\"},{\"id\":\"2512\"},{\"id\":\"2513\"},{\"id\":\"2514\"}]},\"id\":\"2516\",\"type\":\"Toolbar\"},{\"attributes\":{},\"id\":\"2498\",\"type\":\"LinearScale\"},{\"attributes\":{},\"id\":\"2527\",\"type\":\"BasicTickFormatter\"},{\"attributes\":{\"source\":{\"id\":\"2529\"}},\"id\":\"2536\",\"type\":\"CDSView\"},{\"attributes\":{},\"id\":\"2525\",\"type\":\"AllLabels\"},{\"attributes\":{\"margin\":[5,5,5,5],\"name\":\"HSpacer03936\",\"sizing_mode\":\"stretch_width\"},\"id\":\"2680\",\"type\":\"Spacer\"},{\"attributes\":{},\"id\":\"2500\",\"type\":\"LinearScale\"},{\"attributes\":{\"bottom_units\":\"screen\",\"coordinates\":null,\"fill_alpha\":0.5,\"fill_color\":\"lightgrey\",\"group\":null,\"left_units\":\"screen\",\"level\":\"overlay\",\"line_alpha\":1.0,\"line_color\":\"black\",\"line_dash\":[4,4],\"line_width\":2,\"right_units\":\"screen\",\"syncable\":false,\"top_units\":\"screen\"},\"id\":\"2515\",\"type\":\"BoxAnnotation\"},{\"attributes\":{\"below\":[{\"id\":\"2502\"}],\"center\":[{\"id\":\"2505\"},{\"id\":\"2509\"}],\"height\":300,\"left\":[{\"id\":\"2506\"}],\"margin\":[5,5,5,5],\"min_border_bottom\":10,\"min_border_left\":10,\"min_border_right\":10,\"min_border_top\":10,\"renderers\":[{\"id\":\"2535\"},{\"id\":\"2556\"}],\"right\":[{\"id\":\"2547\"}],\"sizing_mode\":\"fixed\",\"title\":{\"id\":\"2494\"},\"toolbar\":{\"id\":\"2516\"},\"width\":700,\"x_range\":{\"id\":\"2489\"},\"x_scale\":{\"id\":\"2498\"},\"y_range\":{\"id\":\"2490\"},\"y_scale\":{\"id\":\"2500\"}},\"id\":\"2493\",\"subtype\":\"Figure\",\"type\":\"Plot\"},{\"attributes\":{\"coordinates\":null,\"data_source\":{\"id\":\"2529\"},\"glyph\":{\"id\":\"2532\"},\"group\":null,\"hover_glyph\":null,\"muted_glyph\":{\"id\":\"2534\"},\"nonselection_glyph\":{\"id\":\"2533\"},\"selection_glyph\":{\"id\":\"2549\"},\"view\":{\"id\":\"2536\"}},\"id\":\"2535\",\"type\":\"GlyphRenderer\"},{\"attributes\":{\"axis_label\":\"\",\"coordinates\":null,\"formatter\":{\"id\":\"2527\"},\"group\":null,\"major_label_policy\":{\"id\":\"2528\"},\"ticker\":{\"id\":\"2507\"}},\"id\":\"2506\",\"type\":\"LinearAxis\"},{\"attributes\":{\"data\":{\"Variable\":[\"twenties_cpi\",\"twenties_cpi\",\"twenties_cpi\",\"twenties_cpi\",\"twenties_cpi\",\"twenties_cpi\",\"twenties_cpi\",\"twenties_cpi\",\"twenties_cpi\",\"twenties_cpi\"],\"index\":[0,1,2,3,4,5,6,7,8,9],\"value\":{\"__ndarray__\":\"AAAAAADgWUBmZmZmZoZaQM3MzMzM7FpAZmZmZmZGW0DNzMzMzMxbQDMzMzMzU1xAZmZmZmbGXEBmZmZmZgZdQJqZmZmZ2V1AAAAAAAAA+H8=\",\"dtype\":\"float64\",\"order\":\"little\",\"shape\":[10]}},\"selected\":{\"id\":\"2551\"},\"selection_policy\":{\"id\":\"2567\"}},\"id\":\"2550\",\"type\":\"ColumnDataSource\"},{\"attributes\":{\"margin\":[5,5,5,5],\"name\":\"HSpacer03935\",\"sizing_mode\":\"stretch_width\"},\"id\":\"2488\",\"type\":\"Spacer\"},{\"attributes\":{\"axis_label\":\"\",\"coordinates\":null,\"formatter\":{\"id\":\"2524\"},\"group\":null,\"major_label_policy\":{\"id\":\"2525\"},\"ticker\":{\"id\":\"2503\"}},\"id\":\"2502\",\"type\":\"LinearAxis\"},{\"attributes\":{\"source\":{\"id\":\"2550\"}},\"id\":\"2557\",\"type\":\"CDSView\"},{\"attributes\":{\"line_color\":\"#fc4f30\",\"line_width\":2,\"x\":{\"field\":\"index\"},\"y\":{\"field\":\"value\"}},\"id\":\"2553\",\"type\":\"Line\"},{\"attributes\":{\"line_color\":\"#fc4f30\",\"line_width\":2,\"x\":{\"field\":\"index\"},\"y\":{\"field\":\"value\"}},\"id\":\"2571\",\"type\":\"Line\"},{\"attributes\":{},\"id\":\"2544\",\"type\":\"UnionRenderers\"},{\"attributes\":{\"line_color\":\"#30a2da\",\"line_width\":2,\"x\":{\"field\":\"index\"},\"y\":{\"field\":\"value\"}},\"id\":\"2549\",\"type\":\"Line\"},{\"attributes\":{\"coordinates\":null,\"data_source\":{\"id\":\"2550\"},\"glyph\":{\"id\":\"2553\"},\"group\":null,\"hover_glyph\":null,\"muted_glyph\":{\"id\":\"2555\"},\"nonselection_glyph\":{\"id\":\"2554\"},\"selection_glyph\":{\"id\":\"2571\"},\"view\":{\"id\":\"2557\"}},\"id\":\"2556\",\"type\":\"GlyphRenderer\"},{\"attributes\":{\"click_policy\":\"mute\",\"coordinates\":null,\"group\":null,\"items\":[{\"id\":\"2548\"},{\"id\":\"2570\"}],\"location\":[0,0],\"title\":\"Variable\"},\"id\":\"2547\",\"type\":\"Legend\"},{\"attributes\":{\"axis\":{\"id\":\"2506\"},\"coordinates\":null,\"dimension\":1,\"grid_line_color\":null,\"group\":null,\"ticker\":null},\"id\":\"2509\",\"type\":\"Grid\"},{\"attributes\":{},\"id\":\"2528\",\"type\":\"AllLabels\"},{\"attributes\":{\"end\":9.0,\"reset_end\":9.0,\"reset_start\":0.0,\"tags\":[[[\"index\",\"index\",null]]]},\"id\":\"2489\",\"type\":\"Range1d\"},{\"attributes\":{\"line_alpha\":0.2,\"line_color\":\"#30a2da\",\"line_width\":2,\"x\":{\"field\":\"index\"},\"y\":{\"field\":\"value\"}},\"id\":\"2534\",\"type\":\"Line\"},{\"attributes\":{\"end\":130.48000000000002,\"reset_end\":130.48000000000002,\"reset_start\":-2.480000000000002,\"start\":-2.480000000000002,\"tags\":[[[\"value\",\"value\",null]]]},\"id\":\"2490\",\"type\":\"Range1d\"},{\"attributes\":{\"line_alpha\":0.1,\"line_color\":\"#30a2da\",\"line_width\":2,\"x\":{\"field\":\"index\"},\"y\":{\"field\":\"value\"}},\"id\":\"2533\",\"type\":\"Line\"},{\"attributes\":{\"label\":{\"value\":\"twenties_cpi\"},\"renderers\":[{\"id\":\"2556\"}]},\"id\":\"2570\",\"type\":\"LegendItem\"},{\"attributes\":{\"data\":{\"Variable\":[\"seventies_cpi\",\"seventies_cpi\",\"seventies_cpi\",\"seventies_cpi\",\"seventies_cpi\",\"seventies_cpi\",\"seventies_cpi\",\"seventies_cpi\",\"seventies_cpi\",\"seventies_cpi\"],\"index\":[0,1,2,3,4,5,6,7,8,9],\"value\":{\"__ndarray__\":\"MzMzMzMzIUDNzMzMzMwhQDMzMzMzMyJAAAAAAAAAI0CamZmZmZkjQM3MzMzMzCRAAAAAAAAAJkAAAAAAAAAoQM3MzMzMzCtAAAAAAAAAMEA=\",\"dtype\":\"float64\",\"order\":\"little\",\"shape\":[10]}},\"selected\":{\"id\":\"2530\"},\"selection_policy\":{\"id\":\"2544\"}},\"id\":\"2529\",\"type\":\"ColumnDataSource\"},{\"attributes\":{\"label\":{\"value\":\"seventies_cpi\"},\"renderers\":[{\"id\":\"2535\"}]},\"id\":\"2548\",\"type\":\"LegendItem\"},{\"attributes\":{},\"id\":\"2551\",\"type\":\"Selection\"},{\"attributes\":{},\"id\":\"2510\",\"type\":\"SaveTool\"},{\"attributes\":{},\"id\":\"2511\",\"type\":\"PanTool\"},{\"attributes\":{},\"id\":\"2530\",\"type\":\"Selection\"},{\"attributes\":{\"line_alpha\":0.2,\"line_color\":\"#fc4f30\",\"line_width\":2,\"x\":{\"field\":\"index\"},\"y\":{\"field\":\"value\"}},\"id\":\"2555\",\"type\":\"Line\"},{\"attributes\":{\"callback\":null,\"renderers\":[{\"id\":\"2535\"},{\"id\":\"2556\"}],\"tags\":[\"hv_created\"],\"tooltips\":[[\"Variable\",\"@{Variable}\"],[\"index\",\"@{index}\"],[\"value\",\"@{value}\"]]},\"id\":\"2491\",\"type\":\"HoverTool\"},{\"attributes\":{},\"id\":\"2514\",\"type\":\"ResetTool\"},{\"attributes\":{\"line_alpha\":0.1,\"line_color\":\"#fc4f30\",\"line_width\":2,\"x\":{\"field\":\"index\"},\"y\":{\"field\":\"value\"}},\"id\":\"2554\",\"type\":\"Line\"},{\"attributes\":{},\"id\":\"2512\",\"type\":\"WheelZoomTool\"},{\"attributes\":{\"children\":[{\"id\":\"2488\"},{\"id\":\"2493\"},{\"id\":\"2680\"}],\"margin\":[0,0,0,0],\"name\":\"Row03931\",\"tags\":[\"embedded\"]},\"id\":\"2487\",\"type\":\"Row\"},{\"attributes\":{\"line_color\":\"#30a2da\",\"line_width\":2,\"x\":{\"field\":\"index\"},\"y\":{\"field\":\"value\"}},\"id\":\"2532\",\"type\":\"Line\"},{\"attributes\":{\"overlay\":{\"id\":\"2515\"}},\"id\":\"2513\",\"type\":\"BoxZoomTool\"},{\"attributes\":{},\"id\":\"2524\",\"type\":\"BasicTickFormatter\"}],\"root_ids\":[\"2487\"]},\"title\":\"Bokeh Application\",\"version\":\"2.4.2\"}};\n",
       "    var render_items = [{\"docid\":\"1bf305d6-8dfc-4eb7-9bce-363b3685cfba\",\"root_ids\":[\"2487\"],\"roots\":{\"2487\":\"6af83fa1-f107-45ae-8e2d-66b8ddb00de4\"}}];\n",
       "    root.Bokeh.embed.embed_items_notebook(docs_json, render_items);\n",
       "  }\n",
       "  if (root.Bokeh !== undefined && root.Bokeh.Panel !== undefined) {\n",
       "    embed_document(root);\n",
       "  } else {\n",
       "    var attempts = 0;\n",
       "    var timer = setInterval(function(root) {\n",
       "      if (root.Bokeh !== undefined && root.Bokeh.Panel !== undefined) {\n",
       "        clearInterval(timer);\n",
       "        embed_document(root);\n",
       "      } else if (document.readyState == \"complete\") {\n",
       "        attempts++;\n",
       "        if (attempts > 200) {\n",
       "          clearInterval(timer);\n",
       "          console.log(\"Bokeh: ERROR: Unable to run BokehJS code because BokehJS library is missing\");\n",
       "        }\n",
       "      }\n",
       "    }, 25, root)\n",
       "  }\n",
       "})(window);</script>"
      ],
      "text/plain": [
       ":NdOverlay   [Variable]\n",
       "   :Curve   [index]   (value)"
      ]
     },
     "execution_count": 48,
     "metadata": {
      "application/vnd.holoviews_exec.v0+json": {
       "id": "2487"
      }
     },
     "output_type": "execute_result"
    }
   ],
   "source": [
    "cpi_comparison.hvplot()"
   ]
  },
  {
   "cell_type": "code",
   "execution_count": 55,
   "id": "9fa0e51f-f026-4198-adab-fe62707e5537",
   "metadata": {},
   "outputs": [
    {
     "data": {
      "text/html": [
       "<div>\n",
       "<style scoped>\n",
       "    .dataframe tbody tr th:only-of-type {\n",
       "        vertical-align: middle;\n",
       "    }\n",
       "\n",
       "    .dataframe tbody tr th {\n",
       "        vertical-align: top;\n",
       "    }\n",
       "\n",
       "    .dataframe thead th {\n",
       "        text-align: right;\n",
       "    }\n",
       "</style>\n",
       "<table border=\"1\" class=\"dataframe\">\n",
       "  <thead>\n",
       "    <tr style=\"text-align: right;\">\n",
       "      <th></th>\n",
       "      <th>seventies_cpi</th>\n",
       "      <th>twenties_cpi</th>\n",
       "    </tr>\n",
       "  </thead>\n",
       "  <tbody>\n",
       "    <tr>\n",
       "      <th>seventies_cpi</th>\n",
       "      <td>1.000000</td>\n",
       "      <td>0.945493</td>\n",
       "    </tr>\n",
       "    <tr>\n",
       "      <th>twenties_cpi</th>\n",
       "      <td>0.945493</td>\n",
       "      <td>1.000000</td>\n",
       "    </tr>\n",
       "  </tbody>\n",
       "</table>\n",
       "</div>"
      ],
      "text/plain": [
       "               seventies_cpi  twenties_cpi\n",
       "seventies_cpi       1.000000      0.945493\n",
       "twenties_cpi        0.945493      1.000000"
      ]
     },
     "execution_count": 55,
     "metadata": {},
     "output_type": "execute_result"
    }
   ],
   "source": [
    "# here I find the correlation between 1970's and twenties CPI.\n",
    "# the matrix show a high correlation between the two, which is not surprising\n",
    "cpi_corr = cpi_comparison.corr()\n",
    "cpi_corr"
   ]
  },
  {
   "cell_type": "code",
   "execution_count": 53,
   "id": "7288033f-c454-46d6-a943-02523d960389",
   "metadata": {},
   "outputs": [
    {
     "data": {
      "image/png": "[encoded data removed]",
      "text/plain": [
       "<Figure size 1152x360 with 2 Axes>"
      ]
     },
     "metadata": {
      "needs_background": "light"
     },
     "output_type": "display_data"
    }
   ],
   "source": [
    "# using seaborn I can create a heatmap of our matrix with annotations\n",
    "\n",
    "import matplotlib.pyplot as plt\n",
    "import seaborn as sns\n",
    "\n",
    "plt.figure(figsize = (16,5))\n",
    "sns.heatmap(cpi_corr, annot=True)\n",
    "plt.show()"
   ]
  },
  {
   "cell_type": "markdown",
   "id": "97399b9b-6a11-41f6-b41a-95bad74763dc",
   "metadata": {},
   "source": [
    "### Analysis\n",
    "\n",
    "There is not much to draw from this plot of CPI in the 70's and the 2020's nor the correlation table. There is a constant, steady incline for both periods. And the correlation matrix show an almost 1:1 correlation between the two periods. This would not surprise anyone in Australia who has experienced steady increases in the price of fundamental goods and services in recent decades.\n",
    "\n",
    "With such a steady increase, lacking any volatility, seeminly immune to the affects of macro conditions and government actions, the value of CPI is in doubt. We can confidently say that the number will be roughly 1 to 3 percent higher next year, and the year after that, regardless of general inflation."
   ]
  },
  {
   "cell_type": "code",
   "execution_count": 49,
   "id": "59a44bb6-c25a-4bef-87ae-7073647ded5d",
   "metadata": {},
   "outputs": [
    {
     "data": {
      "text/html": [
       "<div>\n",
       "<style scoped>\n",
       "    .dataframe tbody tr th:only-of-type {\n",
       "        vertical-align: middle;\n",
       "    }\n",
       "\n",
       "    .dataframe tbody tr th {\n",
       "        vertical-align: top;\n",
       "    }\n",
       "\n",
       "    .dataframe thead th {\n",
       "        text-align: right;\n",
       "    }\n",
       "</style>\n",
       "<table border=\"1\" class=\"dataframe\">\n",
       "  <thead>\n",
       "    <tr style=\"text-align: right;\">\n",
       "      <th></th>\n",
       "      <th>seventies_cpi</th>\n",
       "      <th>twenties_cpi</th>\n",
       "      <th>seventies_inflation</th>\n",
       "      <th>twenties_inflation</th>\n",
       "    </tr>\n",
       "  </thead>\n",
       "  <tbody>\n",
       "    <tr>\n",
       "      <th>0</th>\n",
       "      <td>8.6</td>\n",
       "      <td>103.5</td>\n",
       "      <td>9.1</td>\n",
       "      <td>2.9</td>\n",
       "    </tr>\n",
       "    <tr>\n",
       "      <th>1</th>\n",
       "      <td>8.9</td>\n",
       "      <td>106.1</td>\n",
       "      <td>8.0</td>\n",
       "      <td>0.8</td>\n",
       "    </tr>\n",
       "    <tr>\n",
       "      <th>2</th>\n",
       "      <td>9.1</td>\n",
       "      <td>107.7</td>\n",
       "      <td>12.3</td>\n",
       "      <td>1.6</td>\n",
       "    </tr>\n",
       "    <tr>\n",
       "      <th>3</th>\n",
       "      <td>9.5</td>\n",
       "      <td>109.1</td>\n",
       "      <td>13.3</td>\n",
       "      <td>1.9</td>\n",
       "    </tr>\n",
       "    <tr>\n",
       "      <th>4</th>\n",
       "      <td>9.8</td>\n",
       "      <td>111.2</td>\n",
       "      <td>15.2</td>\n",
       "      <td>1.9</td>\n",
       "    </tr>\n",
       "    <tr>\n",
       "      <th>5</th>\n",
       "      <td>10.4</td>\n",
       "      <td>113.3</td>\n",
       "      <td>15.4</td>\n",
       "      <td>1.3</td>\n",
       "    </tr>\n",
       "    <tr>\n",
       "      <th>6</th>\n",
       "      <td>11.0</td>\n",
       "      <td>115.1</td>\n",
       "      <td>9.1</td>\n",
       "      <td>1.5</td>\n",
       "    </tr>\n",
       "    <tr>\n",
       "      <th>7</th>\n",
       "      <td>12.0</td>\n",
       "      <td>116.1</td>\n",
       "      <td>6.0</td>\n",
       "      <td>2.5</td>\n",
       "    </tr>\n",
       "    <tr>\n",
       "      <th>8</th>\n",
       "      <td>13.9</td>\n",
       "      <td>119.4</td>\n",
       "      <td>6.1</td>\n",
       "      <td>2.4</td>\n",
       "    </tr>\n",
       "    <tr>\n",
       "      <th>9</th>\n",
       "      <td>16.0</td>\n",
       "      <td>NaN</td>\n",
       "      <td>3.4</td>\n",
       "      <td>1.8</td>\n",
       "    </tr>\n",
       "    <tr>\n",
       "      <th>10</th>\n",
       "      <td>18.1</td>\n",
       "      <td>NaN</td>\n",
       "      <td>3.3</td>\n",
       "      <td>3.3</td>\n",
       "    </tr>\n",
       "    <tr>\n",
       "      <th>11</th>\n",
       "      <td>20.3</td>\n",
       "      <td>NaN</td>\n",
       "      <td>2.5</td>\n",
       "      <td>2.9</td>\n",
       "    </tr>\n",
       "    <tr>\n",
       "      <th>12</th>\n",
       "      <td>21.9</td>\n",
       "      <td>NaN</td>\n",
       "      <td>3.5</td>\n",
       "      <td>NaN</td>\n",
       "    </tr>\n",
       "    <tr>\n",
       "      <th>13</th>\n",
       "      <td>23.9</td>\n",
       "      <td>NaN</td>\n",
       "      <td>3.3</td>\n",
       "      <td>NaN</td>\n",
       "    </tr>\n",
       "  </tbody>\n",
       "</table>\n",
       "</div>"
      ],
      "text/plain": [
       "    seventies_cpi  twenties_cpi  seventies_inflation  twenties_inflation\n",
       "0             8.6         103.5                  9.1                 2.9\n",
       "1             8.9         106.1                  8.0                 0.8\n",
       "2             9.1         107.7                 12.3                 1.6\n",
       "3             9.5         109.1                 13.3                 1.9\n",
       "4             9.8         111.2                 15.2                 1.9\n",
       "5            10.4         113.3                 15.4                 1.3\n",
       "6            11.0         115.1                  9.1                 1.5\n",
       "7            12.0         116.1                  6.0                 2.5\n",
       "8            13.9         119.4                  6.1                 2.4\n",
       "9            16.0           NaN                  3.4                 1.8\n",
       "10           18.1           NaN                  3.3                 3.3\n",
       "11           20.3           NaN                  2.5                 2.9\n",
       "12           21.9           NaN                  3.5                 NaN\n",
       "13           23.9           NaN                  3.3                 NaN"
      ]
     },
     "execution_count": 49,
     "metadata": {},
     "output_type": "execute_result"
    }
   ],
   "source": [
    "# Inflation and CPI, for 1966-1979 and 2010-2021 concatenated\n",
    "\n",
    "cpi_inf = pd.concat([seventies_cpi, twenties_cpi, comparison], axis=1)\n",
    "cpi_inf"
   ]
  },
  {
   "cell_type": "code",
   "execution_count": 50,
   "id": "34fa437b-306b-4577-af98-54c6373ffd99",
   "metadata": {},
   "outputs": [
    {
     "data": {},
     "metadata": {},
     "output_type": "display_data"
    },
    {
     "data": {
      "application/vnd.holoviews_exec.v0+json": "",
      "text/html": [
       "<div id='2742'>\n",
       "\n",
       "\n",
       "\n",
       "\n",
       "\n",
       "  <div class=\"bk-root\" id=\"c3d0e39d-83cd-489f-8712-69d2e406c52f\" data-root-id=\"2742\"></div>\n",
       "</div>\n",
       "<script type=\"application/javascript\">(function(root) {\n",
       "  function embed_document(root) {\n",
       "    var docs_json = {\"4890bd59-030c-4909-84cf-b54415d665a4\":{\"defs\":[{\"extends\":null,\"module\":null,\"name\":\"ReactiveHTML1\",\"overrides\":[],\"properties\":[]},{\"extends\":null,\"module\":null,\"name\":\"FlexBox1\",\"overrides\":[],\"properties\":[{\"default\":\"flex-start\",\"kind\":null,\"name\":\"align_content\"},{\"default\":\"flex-start\",\"kind\":null,\"name\":\"align_items\"},{\"default\":\"row\",\"kind\":null,\"name\":\"flex_direction\"},{\"default\":\"wrap\",\"kind\":null,\"name\":\"flex_wrap\"},{\"default\":\"flex-start\",\"kind\":null,\"name\":\"justify_content\"}]},{\"extends\":null,\"module\":null,\"name\":\"GridStack1\",\"overrides\":[],\"properties\":[{\"default\":\"warn\",\"kind\":null,\"name\":\"mode\"},{\"default\":null,\"kind\":null,\"name\":\"ncols\"},{\"default\":null,\"kind\":null,\"name\":\"nrows\"},{\"default\":true,\"kind\":null,\"name\":\"allow_resize\"},{\"default\":true,\"kind\":null,\"name\":\"allow_drag\"},{\"default\":[],\"kind\":null,\"name\":\"state\"}]},{\"extends\":null,\"module\":null,\"name\":\"click1\",\"overrides\":[],\"properties\":[{\"default\":\"\",\"kind\":null,\"name\":\"terminal_output\"},{\"default\":\"\",\"kind\":null,\"name\":\"debug_name\"},{\"default\":0,\"kind\":null,\"name\":\"clears\"}]},{\"extends\":null,\"module\":null,\"name\":\"TemplateActions1\",\"overrides\":[],\"properties\":[{\"default\":0,\"kind\":null,\"name\":\"open_modal\"},{\"default\":0,\"kind\":null,\"name\":\"close_modal\"}]},{\"extends\":null,\"module\":null,\"name\":\"MaterialTemplateActions1\",\"overrides\":[],\"properties\":[{\"default\":0,\"kind\":null,\"name\":\"open_modal\"},{\"default\":0,\"kind\":null,\"name\":\"close_modal\"}]}],\"roots\":{\"references\":[{\"attributes\":{},\"id\":\"2771\",\"type\":\"ResetTool\"},{\"attributes\":{\"end\":131.26000000000002,\"reset_end\":131.26000000000002,\"reset_start\":-11.06,\"start\":-11.06,\"tags\":[[[\"value\",\"value\",null]]]},\"id\":\"2745\",\"type\":\"Range1d\"},{\"attributes\":{\"line_color\":\"#30a2da\",\"line_width\":2,\"x\":{\"field\":\"index\"},\"y\":{\"field\":\"value\"}},\"id\":\"2806\",\"type\":\"Line\"},{\"attributes\":{},\"id\":\"2769\",\"type\":\"WheelZoomTool\"},{\"attributes\":{},\"id\":\"2768\",\"type\":\"PanTool\"},{\"attributes\":{\"overlay\":{\"id\":\"2772\"}},\"id\":\"2770\",\"type\":\"BoxZoomTool\"},{\"attributes\":{},\"id\":\"2848\",\"type\":\"UnionRenderers\"},{\"attributes\":{\"line_alpha\":0.2,\"line_color\":\"#6d904f\",\"line_width\":2,\"x\":{\"field\":\"index\"},\"y\":{\"field\":\"value\"}},\"id\":\"2858\",\"type\":\"Line\"},{\"attributes\":{\"source\":{\"id\":\"2853\"}},\"id\":\"2860\",\"type\":\"CDSView\"},{\"attributes\":{},\"id\":\"2808\",\"type\":\"Selection\"},{\"attributes\":{\"coordinates\":null,\"data_source\":{\"id\":\"2853\"},\"glyph\":{\"id\":\"2856\"},\"group\":null,\"hover_glyph\":null,\"muted_glyph\":{\"id\":\"2858\"},\"nonselection_glyph\":{\"id\":\"2857\"},\"selection_glyph\":{\"id\":\"2878\"},\"view\":{\"id\":\"2860\"}},\"id\":\"2859\",\"type\":\"GlyphRenderer\"},{\"attributes\":{\"line_color\":\"#fc4f30\",\"line_width\":2,\"x\":{\"field\":\"index\"},\"y\":{\"field\":\"value\"}},\"id\":\"2828\",\"type\":\"Line\"},{\"attributes\":{\"label\":{\"value\":\"seventies_cpi\"},\"renderers\":[{\"id\":\"2792\"}]},\"id\":\"2805\",\"type\":\"LegendItem\"},{\"attributes\":{\"tools\":[{\"id\":\"2746\"},{\"id\":\"2767\"},{\"id\":\"2768\"},{\"id\":\"2769\"},{\"id\":\"2770\"},{\"id\":\"2771\"}]},\"id\":\"2773\",\"type\":\"Toolbar\"},{\"attributes\":{\"source\":{\"id\":\"2807\"}},\"id\":\"2814\",\"type\":\"CDSView\"},{\"attributes\":{\"line_color\":\"#e5ae38\",\"line_width\":2,\"x\":{\"field\":\"index\"},\"y\":{\"field\":\"value\"}},\"id\":\"2832\",\"type\":\"Line\"},{\"attributes\":{\"children\":[{\"id\":\"2743\"},{\"id\":\"2750\"},{\"id\":\"3023\"}],\"margin\":[0,0,0,0],\"name\":\"Row04424\",\"tags\":[\"embedded\"]},\"id\":\"2742\",\"type\":\"Row\"},{\"attributes\":{\"click_policy\":\"mute\",\"coordinates\":null,\"group\":null,\"items\":[{\"id\":\"2805\"},{\"id\":\"2827\"},{\"id\":\"2851\"},{\"id\":\"2877\"}],\"location\":[0,0],\"title\":\"Variable\"},\"id\":\"2804\",\"type\":\"Legend\"},{\"attributes\":{},\"id\":\"2785\",\"type\":\"AllLabels\"},{\"attributes\":{\"label\":{\"value\":\"seventies_inflation\"},\"renderers\":[{\"id\":\"2835\"}]},\"id\":\"2851\",\"type\":\"LegendItem\"},{\"attributes\":{\"bottom_units\":\"screen\",\"coordinates\":null,\"fill_alpha\":0.5,\"fill_color\":\"lightgrey\",\"group\":null,\"left_units\":\"screen\",\"level\":\"overlay\",\"line_alpha\":1.0,\"line_color\":\"black\",\"line_dash\":[4,4],\"line_width\":2,\"right_units\":\"screen\",\"syncable\":false,\"top_units\":\"screen\"},\"id\":\"2772\",\"type\":\"BoxAnnotation\"},{\"attributes\":{\"margin\":[5,5,5,5],\"name\":\"HSpacer04428\",\"sizing_mode\":\"stretch_width\"},\"id\":\"2743\",\"type\":\"Spacer\"},{\"attributes\":{\"margin\":[5,5,5,5],\"name\":\"HSpacer04429\",\"sizing_mode\":\"stretch_width\"},\"id\":\"3023\",\"type\":\"Spacer\"},{\"attributes\":{\"line_alpha\":0.1,\"line_color\":\"#e5ae38\",\"line_width\":2,\"x\":{\"field\":\"index\"},\"y\":{\"field\":\"value\"}},\"id\":\"2833\",\"type\":\"Line\"},{\"attributes\":{},\"id\":\"2787\",\"type\":\"Selection\"},{\"attributes\":{\"line_alpha\":0.1,\"line_color\":\"#30a2da\",\"line_width\":2,\"x\":{\"field\":\"index\"},\"y\":{\"field\":\"value\"}},\"id\":\"2790\",\"type\":\"Line\"},{\"attributes\":{\"data\":{\"Variable\":[\"twenties_inflation\",\"twenties_inflation\",\"twenties_inflation\",\"twenties_inflation\",\"twenties_inflation\",\"twenties_inflation\",\"twenties_inflation\",\"twenties_inflation\",\"twenties_inflation\",\"twenties_inflation\",\"twenties_inflation\",\"twenties_inflation\",\"twenties_inflation\",\"twenties_inflation\"],\"index\":[0,1,2,3,4,5,6,7,8,9,10,11,12,13],\"value\":{\"__ndarray__\":\"MzMzMzMzB0CamZmZmZnpP5qZmZmZmfk/ZmZmZmZm/j9mZmZmZmb+P83MzMzMzPQ/AAAAAAAA+D8AAAAAAAAEQDMzMzMzMwNAzczMzMzM/D9mZmZmZmYKQDMzMzMzMwdAAAAAAAAA+H8AAAAAAAD4fw==\",\"dtype\":\"float64\",\"order\":\"little\",\"shape\":[14]}},\"selected\":{\"id\":\"2854\"},\"selection_policy\":{\"id\":\"2874\"}},\"id\":\"2853\",\"type\":\"ColumnDataSource\"},{\"attributes\":{},\"id\":\"2767\",\"type\":\"SaveTool\"},{\"attributes\":{\"label\":{\"value\":\"twenties_inflation\"},\"renderers\":[{\"id\":\"2859\"}]},\"id\":\"2877\",\"type\":\"LegendItem\"},{\"attributes\":{},\"id\":\"2760\",\"type\":\"BasicTicker\"},{\"attributes\":{},\"id\":\"2854\",\"type\":\"Selection\"},{\"attributes\":{\"coordinates\":null,\"data_source\":{\"id\":\"2829\"},\"glyph\":{\"id\":\"2832\"},\"group\":null,\"hover_glyph\":null,\"muted_glyph\":{\"id\":\"2834\"},\"nonselection_glyph\":{\"id\":\"2833\"},\"selection_glyph\":{\"id\":\"2852\"},\"view\":{\"id\":\"2836\"}},\"id\":\"2835\",\"type\":\"GlyphRenderer\"},{\"attributes\":{},\"id\":\"2874\",\"type\":\"UnionRenderers\"},{\"attributes\":{\"line_alpha\":0.1,\"line_color\":\"#fc4f30\",\"line_width\":2,\"x\":{\"field\":\"index\"},\"y\":{\"field\":\"value\"}},\"id\":\"2811\",\"type\":\"Line\"},{\"attributes\":{\"source\":{\"id\":\"2829\"}},\"id\":\"2836\",\"type\":\"CDSView\"},{\"attributes\":{},\"id\":\"2764\",\"type\":\"BasicTicker\"},{\"attributes\":{\"data\":{\"Variable\":[\"seventies_cpi\",\"seventies_cpi\",\"seventies_cpi\",\"seventies_cpi\",\"seventies_cpi\",\"seventies_cpi\",\"seventies_cpi\",\"seventies_cpi\",\"seventies_cpi\",\"seventies_cpi\",\"seventies_cpi\",\"seventies_cpi\",\"seventies_cpi\",\"seventies_cpi\"],\"index\":[0,1,2,3,4,5,6,7,8,9,10,11,12,13],\"value\":{\"__ndarray__\":\"MzMzMzMzIUDNzMzMzMwhQDMzMzMzMyJAAAAAAAAAI0CamZmZmZkjQM3MzMzMzCRAAAAAAAAAJkAAAAAAAAAoQM3MzMzMzCtAAAAAAAAAMECamZmZmRkyQM3MzMzMTDRAZmZmZmbmNUBmZmZmZuY3QA==\",\"dtype\":\"float64\",\"order\":\"little\",\"shape\":[14]}},\"selected\":{\"id\":\"2787\"},\"selection_policy\":{\"id\":\"2801\"}},\"id\":\"2786\",\"type\":\"ColumnDataSource\"},{\"attributes\":{\"source\":{\"id\":\"2786\"}},\"id\":\"2793\",\"type\":\"CDSView\"},{\"attributes\":{},\"id\":\"2781\",\"type\":\"BasicTickFormatter\"},{\"attributes\":{\"coordinates\":null,\"data_source\":{\"id\":\"2786\"},\"glyph\":{\"id\":\"2789\"},\"group\":null,\"hover_glyph\":null,\"muted_glyph\":{\"id\":\"2791\"},\"nonselection_glyph\":{\"id\":\"2790\"},\"selection_glyph\":{\"id\":\"2806\"},\"view\":{\"id\":\"2793\"}},\"id\":\"2792\",\"type\":\"GlyphRenderer\"},{\"attributes\":{\"label\":{\"value\":\"twenties_cpi\"},\"renderers\":[{\"id\":\"2813\"}]},\"id\":\"2827\",\"type\":\"LegendItem\"},{\"attributes\":{},\"id\":\"2755\",\"type\":\"LinearScale\"},{\"attributes\":{\"data\":{\"Variable\":[\"twenties_cpi\",\"twenties_cpi\",\"twenties_cpi\",\"twenties_cpi\",\"twenties_cpi\",\"twenties_cpi\",\"twenties_cpi\",\"twenties_cpi\",\"twenties_cpi\",\"twenties_cpi\",\"twenties_cpi\",\"twenties_cpi\",\"twenties_cpi\",\"twenties_cpi\"],\"index\":[0,1,2,3,4,5,6,7,8,9,10,11,12,13],\"value\":{\"__ndarray__\":\"AAAAAADgWUBmZmZmZoZaQM3MzMzM7FpAZmZmZmZGW0DNzMzMzMxbQDMzMzMzU1xAZmZmZmbGXEBmZmZmZgZdQJqZmZmZ2V1AAAAAAAAA+H8AAAAAAAD4fwAAAAAAAPh/AAAAAAAA+H8AAAAAAAD4fw==\",\"dtype\":\"float64\",\"order\":\"little\",\"shape\":[14]}},\"selected\":{\"id\":\"2808\"},\"selection_policy\":{\"id\":\"2824\"}},\"id\":\"2807\",\"type\":\"ColumnDataSource\"},{\"attributes\":{\"axis\":{\"id\":\"2759\"},\"coordinates\":null,\"grid_line_color\":null,\"group\":null,\"ticker\":null},\"id\":\"2762\",\"type\":\"Grid\"},{\"attributes\":{\"coordinates\":null,\"group\":null,\"text_color\":\"black\",\"text_font_size\":\"12pt\"},\"id\":\"2751\",\"type\":\"Title\"},{\"attributes\":{\"data\":{\"Variable\":[\"seventies_inflation\",\"seventies_inflation\",\"seventies_inflation\",\"seventies_inflation\",\"seventies_inflation\",\"seventies_inflation\",\"seventies_inflation\",\"seventies_inflation\",\"seventies_inflation\",\"seventies_inflation\",\"seventies_inflation\",\"seventies_inflation\",\"seventies_inflation\",\"seventies_inflation\"],\"index\":[0,1,2,3,4,5,6,7,8,9,10,11,12,13],\"value\":{\"__ndarray__\":\"MzMzMzMzIkAAAAAAAAAgQJqZmZmZmShAmpmZmZmZKkBmZmZmZmYuQM3MzMzMzC5AMzMzMzMzIkAAAAAAAAAYQGZmZmZmZhhAMzMzMzMzC0BmZmZmZmYKQAAAAAAAAARAAAAAAAAADEBmZmZmZmYKQA==\",\"dtype\":\"float64\",\"order\":\"little\",\"shape\":[14]}},\"selected\":{\"id\":\"2830\"},\"selection_policy\":{\"id\":\"2848\"}},\"id\":\"2829\",\"type\":\"ColumnDataSource\"},{\"attributes\":{\"line_color\":\"#6d904f\",\"line_width\":2,\"x\":{\"field\":\"index\"},\"y\":{\"field\":\"value\"}},\"id\":\"2856\",\"type\":\"Line\"},{\"attributes\":{},\"id\":\"2757\",\"type\":\"LinearScale\"},{\"attributes\":{\"axis_label\":\"\",\"coordinates\":null,\"formatter\":{\"id\":\"2784\"},\"group\":null,\"major_label_policy\":{\"id\":\"2785\"},\"ticker\":{\"id\":\"2764\"}},\"id\":\"2763\",\"type\":\"LinearAxis\"},{\"attributes\":{\"axis_label\":\"\",\"coordinates\":null,\"formatter\":{\"id\":\"2781\"},\"group\":null,\"major_label_policy\":{\"id\":\"2782\"},\"ticker\":{\"id\":\"2760\"}},\"id\":\"2759\",\"type\":\"LinearAxis\"},{\"attributes\":{\"line_color\":\"#30a2da\",\"line_width\":2,\"x\":{\"field\":\"index\"},\"y\":{\"field\":\"value\"}},\"id\":\"2789\",\"type\":\"Line\"},{\"attributes\":{},\"id\":\"2784\",\"type\":\"BasicTickFormatter\"},{\"attributes\":{\"axis\":{\"id\":\"2763\"},\"coordinates\":null,\"dimension\":1,\"grid_line_color\":null,\"group\":null,\"ticker\":null},\"id\":\"2766\",\"type\":\"Grid\"},{\"attributes\":{\"line_color\":\"#6d904f\",\"line_width\":2,\"x\":{\"field\":\"index\"},\"y\":{\"field\":\"value\"}},\"id\":\"2878\",\"type\":\"Line\"},{\"attributes\":{\"end\":13.0,\"reset_end\":13.0,\"reset_start\":0.0,\"tags\":[[[\"index\",\"index\",null]]]},\"id\":\"2744\",\"type\":\"Range1d\"},{\"attributes\":{},\"id\":\"2782\",\"type\":\"AllLabels\"},{\"attributes\":{\"line_alpha\":0.2,\"line_color\":\"#e5ae38\",\"line_width\":2,\"x\":{\"field\":\"index\"},\"y\":{\"field\":\"value\"}},\"id\":\"2834\",\"type\":\"Line\"},{\"attributes\":{\"line_alpha\":0.1,\"line_color\":\"#6d904f\",\"line_width\":2,\"x\":{\"field\":\"index\"},\"y\":{\"field\":\"value\"}},\"id\":\"2857\",\"type\":\"Line\"},{\"attributes\":{\"below\":[{\"id\":\"2759\"}],\"center\":[{\"id\":\"2762\"},{\"id\":\"2766\"}],\"height\":300,\"left\":[{\"id\":\"2763\"}],\"margin\":[5,5,5,5],\"min_border_bottom\":10,\"min_border_left\":10,\"min_border_right\":10,\"min_border_top\":10,\"renderers\":[{\"id\":\"2792\"},{\"id\":\"2813\"},{\"id\":\"2835\"},{\"id\":\"2859\"}],\"right\":[{\"id\":\"2804\"}],\"sizing_mode\":\"fixed\",\"title\":{\"id\":\"2751\"},\"toolbar\":{\"id\":\"2773\"},\"width\":700,\"x_range\":{\"id\":\"2744\"},\"x_scale\":{\"id\":\"2755\"},\"y_range\":{\"id\":\"2745\"},\"y_scale\":{\"id\":\"2757\"}},\"id\":\"2750\",\"subtype\":\"Figure\",\"type\":\"Plot\"},{\"attributes\":{\"line_alpha\":0.2,\"line_color\":\"#fc4f30\",\"line_width\":2,\"x\":{\"field\":\"index\"},\"y\":{\"field\":\"value\"}},\"id\":\"2812\",\"type\":\"Line\"},{\"attributes\":{\"line_alpha\":0.2,\"line_color\":\"#30a2da\",\"line_width\":2,\"x\":{\"field\":\"index\"},\"y\":{\"field\":\"value\"}},\"id\":\"2791\",\"type\":\"Line\"},{\"attributes\":{\"line_color\":\"#fc4f30\",\"line_width\":2,\"x\":{\"field\":\"index\"},\"y\":{\"field\":\"value\"}},\"id\":\"2810\",\"type\":\"Line\"},{\"attributes\":{},\"id\":\"2830\",\"type\":\"Selection\"},{\"attributes\":{},\"id\":\"2824\",\"type\":\"UnionRenderers\"},{\"attributes\":{\"coordinates\":null,\"data_source\":{\"id\":\"2807\"},\"glyph\":{\"id\":\"2810\"},\"group\":null,\"hover_glyph\":null,\"muted_glyph\":{\"id\":\"2812\"},\"nonselection_glyph\":{\"id\":\"2811\"},\"selection_glyph\":{\"id\":\"2828\"},\"view\":{\"id\":\"2814\"}},\"id\":\"2813\",\"type\":\"GlyphRenderer\"},{\"attributes\":{},\"id\":\"2801\",\"type\":\"UnionRenderers\"},{\"attributes\":{\"callback\":null,\"renderers\":[{\"id\":\"2792\"},{\"id\":\"2813\"},{\"id\":\"2835\"},{\"id\":\"2859\"}],\"tags\":[\"hv_created\"],\"tooltips\":[[\"Variable\",\"@{Variable}\"],[\"index\",\"@{index}\"],[\"value\",\"@{value}\"]]},\"id\":\"2746\",\"type\":\"HoverTool\"},{\"attributes\":{\"line_color\":\"#e5ae38\",\"line_width\":2,\"x\":{\"field\":\"index\"},\"y\":{\"field\":\"value\"}},\"id\":\"2852\",\"type\":\"Line\"}],\"root_ids\":[\"2742\"]},\"title\":\"Bokeh Application\",\"version\":\"2.4.2\"}};\n",
       "    var render_items = [{\"docid\":\"4890bd59-030c-4909-84cf-b54415d665a4\",\"root_ids\":[\"2742\"],\"roots\":{\"2742\":\"c3d0e39d-83cd-489f-8712-69d2e406c52f\"}}];\n",
       "    root.Bokeh.embed.embed_items_notebook(docs_json, render_items);\n",
       "  }\n",
       "  if (root.Bokeh !== undefined && root.Bokeh.Panel !== undefined) {\n",
       "    embed_document(root);\n",
       "  } else {\n",
       "    var attempts = 0;\n",
       "    var timer = setInterval(function(root) {\n",
       "      if (root.Bokeh !== undefined && root.Bokeh.Panel !== undefined) {\n",
       "        clearInterval(timer);\n",
       "        embed_document(root);\n",
       "      } else if (document.readyState == \"complete\") {\n",
       "        attempts++;\n",
       "        if (attempts > 200) {\n",
       "          clearInterval(timer);\n",
       "          console.log(\"Bokeh: ERROR: Unable to run BokehJS code because BokehJS library is missing\");\n",
       "        }\n",
       "      }\n",
       "    }, 25, root)\n",
       "  }\n",
       "})(window);</script>"
      ],
      "text/plain": [
       ":NdOverlay   [Variable]\n",
       "   :Curve   [index]   (value)"
      ]
     },
     "execution_count": 50,
     "metadata": {
      "application/vnd.holoviews_exec.v0+json": {
       "id": "2742"
      }
     },
     "output_type": "execute_result"
    }
   ],
   "source": [
    "cpi_inf.hvplot()"
   ]
  },
  {
   "cell_type": "code",
   "execution_count": 33,
   "id": "f3aaf34f-4e57-4d51-9b73-1ba967b1a937",
   "metadata": {},
   "outputs": [],
   "source": [
    "from MCForecastTools import MCSimulation"
   ]
  },
  {
   "cell_type": "code",
   "execution_count": 59,
   "id": "3bbbb6ef-01b7-4128-85a9-4bd25520f84f",
   "metadata": {},
   "outputs": [
    {
     "data": {
      "text/html": [
       "<div>\n",
       "<style scoped>\n",
       "    .dataframe tbody tr th:only-of-type {\n",
       "        vertical-align: middle;\n",
       "    }\n",
       "\n",
       "    .dataframe tbody tr th {\n",
       "        vertical-align: top;\n",
       "    }\n",
       "\n",
       "    .dataframe thead th {\n",
       "        text-align: right;\n",
       "    }\n",
       "</style>\n",
       "<table border=\"1\" class=\"dataframe\">\n",
       "  <thead>\n",
       "    <tr style=\"text-align: right;\">\n",
       "      <th></th>\n",
       "      <th>Residential property prices</th>\n",
       "      <th>Sep Qtr 21 to Dec Qtr 21</th>\n",
       "      <th>Dec Qtr 20 to Dec Qtr 21</th>\n",
       "    </tr>\n",
       "  </thead>\n",
       "  <tbody>\n",
       "    <tr>\n",
       "      <th>0</th>\n",
       "      <td>NaN</td>\n",
       "      <td>% change</td>\n",
       "      <td>% change</td>\n",
       "    </tr>\n",
       "    <tr>\n",
       "      <th>1</th>\n",
       "      <td>Weighted average of eight capital cities</td>\n",
       "      <td>4.7</td>\n",
       "      <td>23.7</td>\n",
       "    </tr>\n",
       "    <tr>\n",
       "      <th>2</th>\n",
       "      <td>Sydney</td>\n",
       "      <td>4.1</td>\n",
       "      <td>26.7</td>\n",
       "    </tr>\n",
       "    <tr>\n",
       "      <th>3</th>\n",
       "      <td>Melbourne</td>\n",
       "      <td>3.9</td>\n",
       "      <td>20.0</td>\n",
       "    </tr>\n",
       "    <tr>\n",
       "      <th>4</th>\n",
       "      <td>Brisbane</td>\n",
       "      <td>9.6</td>\n",
       "      <td>27.8</td>\n",
       "    </tr>\n",
       "    <tr>\n",
       "      <th>5</th>\n",
       "      <td>Adelaide</td>\n",
       "      <td>6.8</td>\n",
       "      <td>23.9</td>\n",
       "    </tr>\n",
       "    <tr>\n",
       "      <th>6</th>\n",
       "      <td>Perth</td>\n",
       "      <td>2.9</td>\n",
       "      <td>15.7</td>\n",
       "    </tr>\n",
       "    <tr>\n",
       "      <th>7</th>\n",
       "      <td>Hobart</td>\n",
       "      <td>6.5</td>\n",
       "      <td>29.8</td>\n",
       "    </tr>\n",
       "    <tr>\n",
       "      <th>8</th>\n",
       "      <td>Darwin</td>\n",
       "      <td>1.5</td>\n",
       "      <td>13.0</td>\n",
       "    </tr>\n",
       "    <tr>\n",
       "      <th>9</th>\n",
       "      <td>Canberra</td>\n",
       "      <td>6.4</td>\n",
       "      <td>28.8</td>\n",
       "    </tr>\n",
       "    <tr>\n",
       "      <th>10</th>\n",
       "      <td>NaN</td>\n",
       "      <td>NaN</td>\n",
       "      <td>NaN</td>\n",
       "    </tr>\n",
       "    <tr>\n",
       "      <th>11</th>\n",
       "      <td>Source: Australian Bureau of Statistics, Resid...</td>\n",
       "      <td>NaN</td>\n",
       "      <td>NaN</td>\n",
       "    </tr>\n",
       "  </tbody>\n",
       "</table>\n",
       "</div>"
      ],
      "text/plain": [
       "                          Residential property prices  \\\n",
       "0                                                 NaN   \n",
       "1            Weighted average of eight capital cities   \n",
       "2                                              Sydney   \n",
       "3                                           Melbourne   \n",
       "4                                            Brisbane   \n",
       "5                                            Adelaide   \n",
       "6                                               Perth   \n",
       "7                                              Hobart   \n",
       "8                                              Darwin   \n",
       "9                                            Canberra   \n",
       "10                                                NaN   \n",
       "11  Source: Australian Bureau of Statistics, Resid...   \n",
       "\n",
       "   Sep Qtr 21 to Dec Qtr 21 Dec Qtr 20 to Dec Qtr 21  \n",
       "0                  % change                 % change  \n",
       "1                       4.7                     23.7  \n",
       "2                       4.1                     26.7  \n",
       "3                       3.9                     20.0  \n",
       "4                       9.6                     27.8  \n",
       "5                       6.8                     23.9  \n",
       "6                       2.9                     15.7  \n",
       "7                       6.5                     29.8  \n",
       "8                       1.5                     13.0  \n",
       "9                       6.4                     28.8  \n",
       "10                      NaN                      NaN  \n",
       "11                      NaN                      NaN  "
      ]
     },
     "execution_count": 59,
     "metadata": {},
     "output_type": "execute_result"
    }
   ],
   "source": [
    "housing_df = pd.read_csv(\"Australian Bureau of Statistics.csv\")\n",
    "housing_df"
   ]
  },
  {
   "cell_type": "code",
   "execution_count": 60,
   "id": "da49db07-72f3-4001-b491-4b3f5500ea08",
   "metadata": {},
   "outputs": [],
   "source": [
    "housing_df = housing_df.drop([\"Sep Qtr 21 to Dec Qtr 21\"], axis=1)"
   ]
  },
  {
   "cell_type": "code",
   "execution_count": 61,
   "id": "75e6edcc-3d37-4059-a796-642775d6c7bc",
   "metadata": {},
   "outputs": [],
   "source": [
    "housing_df = housing_df.drop([0, 1, 10, 11], axis=0)\n"
   ]
  },
  {
   "cell_type": "code",
   "execution_count": 62,
   "id": "b8a22ed7-7cb9-4382-8913-cdc287e1c3ca",
   "metadata": {},
   "outputs": [
    {
     "data": {
      "text/html": [
       "<div>\n",
       "<style scoped>\n",
       "    .dataframe tbody tr th:only-of-type {\n",
       "        vertical-align: middle;\n",
       "    }\n",
       "\n",
       "    .dataframe tbody tr th {\n",
       "        vertical-align: top;\n",
       "    }\n",
       "\n",
       "    .dataframe thead th {\n",
       "        text-align: right;\n",
       "    }\n",
       "</style>\n",
       "<table border=\"1\" class=\"dataframe\">\n",
       "  <thead>\n",
       "    <tr style=\"text-align: right;\">\n",
       "      <th></th>\n",
       "      <th>Dec Qtr 20 to Dec Qtr 21</th>\n",
       "    </tr>\n",
       "    <tr>\n",
       "      <th>Place Name</th>\n",
       "      <th></th>\n",
       "    </tr>\n",
       "  </thead>\n",
       "  <tbody>\n",
       "    <tr>\n",
       "      <th>Sydney</th>\n",
       "      <td>26.7</td>\n",
       "    </tr>\n",
       "    <tr>\n",
       "      <th>Melbourne</th>\n",
       "      <td>20.0</td>\n",
       "    </tr>\n",
       "    <tr>\n",
       "      <th>Brisbane</th>\n",
       "      <td>27.8</td>\n",
       "    </tr>\n",
       "    <tr>\n",
       "      <th>Adelaide</th>\n",
       "      <td>23.9</td>\n",
       "    </tr>\n",
       "    <tr>\n",
       "      <th>Perth</th>\n",
       "      <td>15.7</td>\n",
       "    </tr>\n",
       "    <tr>\n",
       "      <th>Hobart</th>\n",
       "      <td>29.8</td>\n",
       "    </tr>\n",
       "    <tr>\n",
       "      <th>Darwin</th>\n",
       "      <td>13.0</td>\n",
       "    </tr>\n",
       "    <tr>\n",
       "      <th>Canberra</th>\n",
       "      <td>28.8</td>\n",
       "    </tr>\n",
       "  </tbody>\n",
       "</table>\n",
       "</div>"
      ],
      "text/plain": [
       "           Dec Qtr 20 to Dec Qtr 21\n",
       "Place Name                         \n",
       "Sydney                         26.7\n",
       "Melbourne                      20.0\n",
       "Brisbane                       27.8\n",
       "Adelaide                       23.9\n",
       "Perth                          15.7\n",
       "Hobart                         29.8\n",
       "Darwin                         13.0\n",
       "Canberra                       28.8"
      ]
     },
     "execution_count": 62,
     "metadata": {},
     "output_type": "execute_result"
    }
   ],
   "source": [
    "housing_df.rename(columns = {'Residential property prices':'Place Name'}, inplace = True)\n",
    "housing_df = housing_df.set_index(\"Place Name\")\n",
    "housing_df"
   ]
  },
  {
   "cell_type": "code",
   "execution_count": 63,
   "id": "b0f1b1ec-a8b2-4d16-9d1d-e5043db80d2b",
   "metadata": {},
   "outputs": [
    {
     "data": {
      "text/plain": [
       "Place Name\n",
       "Sydney       26.7\n",
       "Melbourne    20.0\n",
       "Brisbane     27.8\n",
       "Adelaide     23.9\n",
       "Perth        15.7\n",
       "Hobart       29.8\n",
       "Darwin       13.0\n",
       "Canberra     28.8\n",
       "Name: Dec Qtr 20 to Dec Qtr 21, dtype: float64"
      ]
     },
     "execution_count": 63,
     "metadata": {},
     "output_type": "execute_result"
    }
   ],
   "source": [
    "housing_df = housing_df[\"Dec Qtr 20 to Dec Qtr 21\"].astype(float)\n",
    "housing_df"
   ]
  },
  {
   "cell_type": "code",
   "execution_count": 65,
   "id": "a4dd1c6b-68ac-43a6-8ffc-6d9e1ee80fc3",
   "metadata": {},
   "outputs": [
    {
     "data": {},
     "metadata": {},
     "output_type": "display_data"
    },
    {
     "data": {
      "application/vnd.holoviews_exec.v0+json": "",
      "text/html": [
       "<div id='3226'>\n",
       "\n",
       "\n",
       "\n",
       "\n",
       "\n",
       "  <div class=\"bk-root\" id=\"71bb3237-9ba2-4d9d-ab93-63a3df26ac5f\" data-root-id=\"3226\"></div>\n",
       "</div>\n",
       "<script type=\"application/javascript\">(function(root) {\n",
       "  function embed_document(root) {\n",
       "    var docs_json = {\"5a52ddbb-172f-4bb4-bb4f-752a105da96e\":{\"defs\":[{\"extends\":null,\"module\":null,\"name\":\"ReactiveHTML1\",\"overrides\":[],\"properties\":[]},{\"extends\":null,\"module\":null,\"name\":\"FlexBox1\",\"overrides\":[],\"properties\":[{\"default\":\"flex-start\",\"kind\":null,\"name\":\"align_content\"},{\"default\":\"flex-start\",\"kind\":null,\"name\":\"align_items\"},{\"default\":\"row\",\"kind\":null,\"name\":\"flex_direction\"},{\"default\":\"wrap\",\"kind\":null,\"name\":\"flex_wrap\"},{\"default\":\"flex-start\",\"kind\":null,\"name\":\"justify_content\"}]},{\"extends\":null,\"module\":null,\"name\":\"GridStack1\",\"overrides\":[],\"properties\":[{\"default\":\"warn\",\"kind\":null,\"name\":\"mode\"},{\"default\":null,\"kind\":null,\"name\":\"ncols\"},{\"default\":null,\"kind\":null,\"name\":\"nrows\"},{\"default\":true,\"kind\":null,\"name\":\"allow_resize\"},{\"default\":true,\"kind\":null,\"name\":\"allow_drag\"},{\"default\":[],\"kind\":null,\"name\":\"state\"}]},{\"extends\":null,\"module\":null,\"name\":\"click1\",\"overrides\":[],\"properties\":[{\"default\":\"\",\"kind\":null,\"name\":\"terminal_output\"},{\"default\":\"\",\"kind\":null,\"name\":\"debug_name\"},{\"default\":0,\"kind\":null,\"name\":\"clears\"}]},{\"extends\":null,\"module\":null,\"name\":\"TemplateActions1\",\"overrides\":[],\"properties\":[{\"default\":0,\"kind\":null,\"name\":\"open_modal\"},{\"default\":0,\"kind\":null,\"name\":\"close_modal\"}]},{\"extends\":null,\"module\":null,\"name\":\"MaterialTemplateActions1\",\"overrides\":[],\"properties\":[{\"default\":0,\"kind\":null,\"name\":\"open_modal\"},{\"default\":0,\"kind\":null,\"name\":\"close_modal\"}]}],\"roots\":{\"references\":[{\"attributes\":{\"tools\":[{\"id\":\"3230\"},{\"id\":\"3247\"},{\"id\":\"3248\"},{\"id\":\"3249\"},{\"id\":\"3250\"},{\"id\":\"3251\"}]},\"id\":\"3253\",\"type\":\"Toolbar\"},{\"attributes\":{\"bottom_units\":\"screen\",\"coordinates\":null,\"fill_alpha\":0.5,\"fill_color\":\"lightgrey\",\"group\":null,\"left_units\":\"screen\",\"level\":\"overlay\",\"line_alpha\":1.0,\"line_color\":\"black\",\"line_dash\":[4,4],\"line_width\":2,\"right_units\":\"screen\",\"syncable\":false,\"top_units\":\"screen\"},\"id\":\"3252\",\"type\":\"BoxAnnotation\"},{\"attributes\":{},\"id\":\"3247\",\"type\":\"SaveTool\"},{\"attributes\":{\"data\":{\"Dec_Qtr_20_to_Dec_Qtr_21\":{\"__ndarray__\":\"MzMzMzOzOkAAAAAAAAA0QM3MzMzMzDtAZmZmZmbmN0BmZmZmZmYvQM3MzMzMzD1AAAAAAAAAKkDNzMzMzMw8QA==\",\"dtype\":\"float64\",\"order\":\"little\",\"shape\":[8]},\"Place_Name\":[\"Sydney\",\"Melbourne\",\"Brisbane\",\"Adelaide\",\"Perth\",\"Hobart\",\"Darwin\",\"Canberra\"]},\"selected\":{\"id\":\"3261\"},\"selection_policy\":{\"id\":\"3282\"}},\"id\":\"3260\",\"type\":\"ColumnDataSource\"},{\"attributes\":{},\"id\":\"3248\",\"type\":\"PanTool\"},{\"attributes\":{\"end\":31.48,\"reset_end\":31.48,\"reset_start\":0.0,\"tags\":[[[\"Dec Qtr 20 to Dec Qtr 21\",\"Dec Qtr 20 to Dec Qtr 21\",null]]]},\"id\":\"3229\",\"type\":\"Range1d\"},{\"attributes\":{},\"id\":\"3251\",\"type\":\"ResetTool\"},{\"attributes\":{},\"id\":\"3249\",\"type\":\"WheelZoomTool\"},{\"attributes\":{},\"id\":\"3261\",\"type\":\"Selection\"},{\"attributes\":{\"coordinates\":null,\"data_source\":{\"id\":\"3260\"},\"glyph\":{\"id\":\"3263\"},\"group\":null,\"hover_glyph\":null,\"muted_glyph\":{\"id\":\"3265\"},\"nonselection_glyph\":{\"id\":\"3264\"},\"selection_glyph\":{\"id\":\"3268\"},\"view\":{\"id\":\"3267\"}},\"id\":\"3266\",\"type\":\"GlyphRenderer\"},{\"attributes\":{\"overlay\":{\"id\":\"3252\"}},\"id\":\"3250\",\"type\":\"BoxZoomTool\"},{\"attributes\":{\"fill_alpha\":{\"value\":0.2},\"fill_color\":{\"value\":\"#30a2da\"},\"hatch_alpha\":{\"value\":0.2},\"hatch_color\":{\"value\":\"#30a2da\"},\"line_alpha\":{\"value\":0.2},\"top\":{\"field\":\"Dec_Qtr_20_to_Dec_Qtr_21\"},\"width\":{\"value\":0.8},\"x\":{\"field\":\"Place_Name\"}},\"id\":\"3265\",\"type\":\"VBar\"},{\"attributes\":{\"source\":{\"id\":\"3260\"}},\"id\":\"3267\",\"type\":\"CDSView\"},{\"attributes\":{\"fill_color\":{\"value\":\"#30a2da\"},\"hatch_color\":{\"value\":\"#30a2da\"},\"top\":{\"field\":\"Dec_Qtr_20_to_Dec_Qtr_21\"},\"width\":{\"value\":0.8},\"x\":{\"field\":\"Place_Name\"}},\"id\":\"3263\",\"type\":\"VBar\"},{\"attributes\":{},\"id\":\"3282\",\"type\":\"UnionRenderers\"},{\"attributes\":{\"below\":[{\"id\":\"3240\"}],\"center\":[{\"id\":\"3242\"},{\"id\":\"3246\"}],\"left\":[{\"id\":\"3243\"}],\"margin\":[5,5,5,5],\"min_border_bottom\":10,\"min_border_left\":10,\"min_border_right\":10,\"min_border_top\":10,\"renderers\":[{\"id\":\"3266\"}],\"sizing_mode\":\"fixed\",\"title\":{\"id\":\"3232\"},\"toolbar\":{\"id\":\"3253\"},\"width\":800,\"x_range\":{\"id\":\"3228\"},\"x_scale\":{\"id\":\"3236\"},\"y_range\":{\"id\":\"3229\"},\"y_scale\":{\"id\":\"3238\"}},\"id\":\"3231\",\"subtype\":\"Figure\",\"type\":\"Plot\"},{\"attributes\":{},\"id\":\"3271\",\"type\":\"AllLabels\"},{\"attributes\":{\"axis\":{\"id\":\"3240\"},\"coordinates\":null,\"grid_line_color\":null,\"group\":null,\"ticker\":null},\"id\":\"3242\",\"type\":\"Grid\"},{\"attributes\":{\"axis_label\":\"Inflation\",\"coordinates\":null,\"formatter\":{\"id\":\"3273\"},\"group\":null,\"major_label_policy\":{\"id\":\"3274\"},\"ticker\":{\"id\":\"3244\"}},\"id\":\"3243\",\"type\":\"LinearAxis\"},{\"attributes\":{\"axis_label\":\"Place Name\",\"coordinates\":null,\"formatter\":{\"id\":\"3270\"},\"group\":null,\"major_label_policy\":{\"id\":\"3271\"},\"ticker\":{\"id\":\"3241\"}},\"id\":\"3240\",\"type\":\"CategoricalAxis\"},{\"attributes\":{\"bottom\":{\"value\":0},\"fill_alpha\":{\"value\":1.0},\"fill_color\":{\"value\":\"#30a2da\"},\"hatch_alpha\":{\"value\":1.0},\"hatch_color\":{\"value\":\"#30a2da\"},\"hatch_scale\":{\"value\":12.0},\"hatch_weight\":{\"value\":1.0},\"line_alpha\":{\"value\":1.0},\"line_cap\":{\"value\":\"butt\"},\"line_color\":{\"value\":\"black\"},\"line_dash\":{\"value\":[]},\"line_dash_offset\":{\"value\":0},\"line_join\":{\"value\":\"bevel\"},\"line_width\":{\"value\":1},\"top\":{\"field\":\"Dec_Qtr_20_to_Dec_Qtr_21\"},\"width\":{\"value\":0.8},\"x\":{\"field\":\"Place_Name\"}},\"id\":\"3268\",\"type\":\"VBar\"},{\"attributes\":{},\"id\":\"3238\",\"type\":\"LinearScale\"},{\"attributes\":{\"axis\":{\"id\":\"3243\"},\"coordinates\":null,\"dimension\":1,\"grid_line_color\":null,\"group\":null,\"ticker\":null},\"id\":\"3246\",\"type\":\"Grid\"},{\"attributes\":{},\"id\":\"3241\",\"type\":\"CategoricalTicker\"},{\"attributes\":{},\"id\":\"3274\",\"type\":\"AllLabels\"},{\"attributes\":{},\"id\":\"3244\",\"type\":\"BasicTicker\"},{\"attributes\":{\"factors\":[\"Sydney\",\"Melbourne\",\"Brisbane\",\"Adelaide\",\"Perth\",\"Hobart\",\"Darwin\",\"Canberra\"],\"tags\":[[[\"Place Name\",\"Place Name\",null]]]},\"id\":\"3228\",\"type\":\"FactorRange\"},{\"attributes\":{},\"id\":\"3236\",\"type\":\"CategoricalScale\"},{\"attributes\":{},\"id\":\"3273\",\"type\":\"BasicTickFormatter\"},{\"attributes\":{\"margin\":[5,5,5,5],\"name\":\"HSpacer05265\",\"sizing_mode\":\"stretch_width\"},\"id\":\"3227\",\"type\":\"Spacer\"},{\"attributes\":{\"margin\":[5,5,5,5],\"name\":\"HSpacer05266\",\"sizing_mode\":\"stretch_width\"},\"id\":\"3295\",\"type\":\"Spacer\"},{\"attributes\":{\"coordinates\":null,\"group\":null,\"text\":\"Housing Inflation - Australian Capital Cities\",\"text_color\":\"black\",\"text_font_size\":\"12pt\"},\"id\":\"3232\",\"type\":\"Title\"},{\"attributes\":{\"callback\":null,\"renderers\":[{\"id\":\"3266\"}],\"tags\":[\"hv_created\"],\"tooltips\":[[\"Place Name\",\"@{Place_Name}\"],[\"Dec Qtr 20 to Dec Qtr 21\",\"@{Dec_Qtr_20_to_Dec_Qtr_21}\"]]},\"id\":\"3230\",\"type\":\"HoverTool\"},{\"attributes\":{},\"id\":\"3270\",\"type\":\"CategoricalTickFormatter\"},{\"attributes\":{\"children\":[{\"id\":\"3227\"},{\"id\":\"3231\"},{\"id\":\"3295\"}],\"margin\":[0,0,0,0],\"name\":\"Row05261\",\"tags\":[\"embedded\"]},\"id\":\"3226\",\"type\":\"Row\"},{\"attributes\":{\"fill_alpha\":{\"value\":0.1},\"fill_color\":{\"value\":\"#30a2da\"},\"hatch_alpha\":{\"value\":0.1},\"hatch_color\":{\"value\":\"#30a2da\"},\"line_alpha\":{\"value\":0.1},\"top\":{\"field\":\"Dec_Qtr_20_to_Dec_Qtr_21\"},\"width\":{\"value\":0.8},\"x\":{\"field\":\"Place_Name\"}},\"id\":\"3264\",\"type\":\"VBar\"}],\"root_ids\":[\"3226\"]},\"title\":\"Bokeh Application\",\"version\":\"2.4.2\"}};\n",
       "    var render_items = [{\"docid\":\"5a52ddbb-172f-4bb4-bb4f-752a105da96e\",\"root_ids\":[\"3226\"],\"roots\":{\"3226\":\"71bb3237-9ba2-4d9d-ab93-63a3df26ac5f\"}}];\n",
       "    root.Bokeh.embed.embed_items_notebook(docs_json, render_items);\n",
       "  }\n",
       "  if (root.Bokeh !== undefined && root.Bokeh.Panel !== undefined) {\n",
       "    embed_document(root);\n",
       "  } else {\n",
       "    var attempts = 0;\n",
       "    var timer = setInterval(function(root) {\n",
       "      if (root.Bokeh !== undefined && root.Bokeh.Panel !== undefined) {\n",
       "        clearInterval(timer);\n",
       "        embed_document(root);\n",
       "      } else if (document.readyState == \"complete\") {\n",
       "        attempts++;\n",
       "        if (attempts > 200) {\n",
       "          clearInterval(timer);\n",
       "          console.log(\"Bokeh: ERROR: Unable to run BokehJS code because BokehJS library is missing\");\n",
       "        }\n",
       "      }\n",
       "    }, 25, root)\n",
       "  }\n",
       "})(window);</script>"
      ],
      "text/plain": [
       ":Bars   [Place Name]   (Dec Qtr 20 to Dec Qtr 21)"
      ]
     },
     "execution_count": 65,
     "metadata": {
      "application/vnd.holoviews_exec.v0+json": {
       "id": "3226"
      }
     },
     "output_type": "execute_result"
    }
   ],
   "source": [
    "housing_df.hvplot(\n",
    "    kind=\"bar\",\n",
    "    ylabel=\"Inflation\",\n",
    "    width=800,\n",
    "    height=600,\n",
    "    label= \"Housing Inflation - Australian Capital Cities\")"
   ]
  },
  {
   "cell_type": "code",
   "execution_count": 66,
   "id": "4a3130c9-20b3-4963-9a7f-4cea030ea372",
   "metadata": {},
   "outputs": [],
   "source": [
    "geo_url = \"https://www.latlong.net/category/cities-14-15.html\""
   ]
  },
  {
   "cell_type": "code",
   "execution_count": 67,
   "id": "d7e0ec32-3b38-4bb9-8c74-0959f6a4dc0b",
   "metadata": {},
   "outputs": [
    {
     "data": {
      "text/html": [
       "<div>\n",
       "<style scoped>\n",
       "    .dataframe tbody tr th:only-of-type {\n",
       "        vertical-align: middle;\n",
       "    }\n",
       "\n",
       "    .dataframe tbody tr th {\n",
       "        vertical-align: top;\n",
       "    }\n",
       "\n",
       "    .dataframe thead th {\n",
       "        text-align: right;\n",
       "    }\n",
       "</style>\n",
       "<table border=\"1\" class=\"dataframe\">\n",
       "  <thead>\n",
       "    <tr style=\"text-align: right;\">\n",
       "      <th></th>\n",
       "      <th>Place Name</th>\n",
       "      <th>Latitude</th>\n",
       "      <th>Longitude</th>\n",
       "    </tr>\n",
       "  </thead>\n",
       "  <tbody>\n",
       "    <tr>\n",
       "      <th>0</th>\n",
       "      <td>Tamworth, NSW, Australia</td>\n",
       "      <td>-31.083332</td>\n",
       "      <td>150.916672</td>\n",
       "    </tr>\n",
       "    <tr>\n",
       "      <th>1</th>\n",
       "      <td>Queanbeyan, NSW, Australia</td>\n",
       "      <td>-35.353333</td>\n",
       "      <td>149.234161</td>\n",
       "    </tr>\n",
       "    <tr>\n",
       "      <th>2</th>\n",
       "      <td>Penrith, NSW, Australia</td>\n",
       "      <td>-33.758011</td>\n",
       "      <td>150.705444</td>\n",
       "    </tr>\n",
       "    <tr>\n",
       "      <th>3</th>\n",
       "      <td>Newcastle, NSW, Australia</td>\n",
       "      <td>-32.916668</td>\n",
       "      <td>151.750000</td>\n",
       "    </tr>\n",
       "    <tr>\n",
       "      <th>4</th>\n",
       "      <td>Liverpool, NSW, Australia</td>\n",
       "      <td>-33.920921</td>\n",
       "      <td>150.923141</td>\n",
       "    </tr>\n",
       "    <tr>\n",
       "      <th>...</th>\n",
       "      <td>...</td>\n",
       "      <td>...</td>\n",
       "      <td>...</td>\n",
       "    </tr>\n",
       "    <tr>\n",
       "      <th>84</th>\n",
       "      <td>Gladstone QLD, Australia</td>\n",
       "      <td>-23.843138</td>\n",
       "      <td>151.268356</td>\n",
       "    </tr>\n",
       "    <tr>\n",
       "      <th>85</th>\n",
       "      <td>Gosford, NSW, Australia</td>\n",
       "      <td>-33.425018</td>\n",
       "      <td>151.342224</td>\n",
       "    </tr>\n",
       "    <tr>\n",
       "      <th>86</th>\n",
       "      <td>Mount Gambier, SA, Australia</td>\n",
       "      <td>-37.824429</td>\n",
       "      <td>140.783783</td>\n",
       "    </tr>\n",
       "    <tr>\n",
       "      <th>87</th>\n",
       "      <td>Sydney, NSW, Australia</td>\n",
       "      <td>-33.865143</td>\n",
       "      <td>151.209900</td>\n",
       "    </tr>\n",
       "    <tr>\n",
       "      <th>88</th>\n",
       "      <td>Glenore Grove, Queensland, Australia</td>\n",
       "      <td>-27.529953</td>\n",
       "      <td>152.407181</td>\n",
       "    </tr>\n",
       "  </tbody>\n",
       "</table>\n",
       "<p>89 rows × 3 columns</p>\n",
       "</div>"
      ],
      "text/plain": [
       "                              Place Name   Latitude   Longitude\n",
       "0               Tamworth, NSW, Australia -31.083332  150.916672\n",
       "1             Queanbeyan, NSW, Australia -35.353333  149.234161\n",
       "2                Penrith, NSW, Australia -33.758011  150.705444\n",
       "3              Newcastle, NSW, Australia -32.916668  151.750000\n",
       "4              Liverpool, NSW, Australia -33.920921  150.923141\n",
       "..                                   ...        ...         ...\n",
       "84              Gladstone QLD, Australia -23.843138  151.268356\n",
       "85               Gosford, NSW, Australia -33.425018  151.342224\n",
       "86          Mount Gambier, SA, Australia -37.824429  140.783783\n",
       "87                Sydney, NSW, Australia -33.865143  151.209900\n",
       "88  Glenore Grove, Queensland, Australia -27.529953  152.407181\n",
       "\n",
       "[89 rows x 3 columns]"
      ]
     },
     "execution_count": 67,
     "metadata": {},
     "output_type": "execute_result"
    }
   ],
   "source": [
    "geo_df = pd.read_html(geo_url)\n",
    "geo_df = geo_df[0]\n",
    "geo_df"
   ]
  },
  {
   "cell_type": "code",
   "execution_count": 68,
   "id": "6c22fadf-83ba-4770-a4e6-6f040f4a13b3",
   "metadata": {},
   "outputs": [
    {
     "data": {
      "text/plain": [
       "[                Place Name   Latitude  Longitude\n",
       " 87  Sydney, NSW, Australia -33.865143   151.2099,\n",
       "                    Place Name   Latitude   Longitude\n",
       " 63  Melbourne, VIC, Australia -37.840935  144.946457,\n",
       "                   Place Name   Latitude   Longitude\n",
       " 83  Brisbane, QLD, Australia -27.470125  153.021072,\n",
       "                  Place Name  Latitude   Longitude\n",
       " 64  Adelaide, SA, Australia -34.92123  138.599503,\n",
       "                    Place Name   Latitude   Longitude\n",
       " 63  Melbourne, VIC, Australia -37.840935  144.946457,\n",
       "               Place Name   Latitude   Longitude\n",
       " 69  Perth, WA, Australia -31.953512  115.857048,\n",
       "                      Place Name   Latitude   Longitude\n",
       " 45  Hobart, Tasmania, Australia -42.880554  147.324997,\n",
       "                                Place Name   Latitude   Longitude\n",
       " 79  Darwin, Northern Territory, Australia -12.462827  130.841782,\n",
       "              Place Name   Latitude   Longitude\n",
       " 60  Canberra, Australia -35.282001  149.128998]"
      ]
     },
     "execution_count": 68,
     "metadata": {},
     "output_type": "execute_result"
    }
   ],
   "source": [
    "capital_indexes = [geo_df.loc[geo_df[\"Place Name\"]==\"Sydney, NSW, Australia\"],\n",
    "geo_df.loc[geo_df[\"Place Name\"]==\"Melbourne, VIC, Australia\"],\n",
    "geo_df.loc[geo_df[\"Place Name\"]==\"Brisbane, QLD, Australia\"],\n",
    "geo_df.loc[geo_df[\"Place Name\"]==\"Adelaide, SA, Australia\"],\n",
    "geo_df.loc[geo_df[\"Place Name\"]==\"Melbourne, VIC, Australia\"],\n",
    "geo_df.loc[geo_df[\"Place Name\"]==\"Perth, WA, Australia\"],\n",
    "geo_df.loc[geo_df[\"Place Name\"]==\"Hobart, Tasmania, Australia\"],\n",
    "geo_df.loc[geo_df[\"Place Name\"]==\"Darwin, Northern Territory, Australia\"],\n",
    "geo_df.loc[geo_df[\"Place Name\"]==\"Canberra, Australia\"]]\n",
    "capital_indexes"
   ]
  },
  {
   "cell_type": "code",
   "execution_count": 69,
   "id": "86959f8b-ba1a-4956-bd47-3a9a8d0d70f4",
   "metadata": {},
   "outputs": [
    {
     "data": {
      "text/html": [
       "<div>\n",
       "<style scoped>\n",
       "    .dataframe tbody tr th:only-of-type {\n",
       "        vertical-align: middle;\n",
       "    }\n",
       "\n",
       "    .dataframe tbody tr th {\n",
       "        vertical-align: top;\n",
       "    }\n",
       "\n",
       "    .dataframe thead th {\n",
       "        text-align: right;\n",
       "    }\n",
       "</style>\n",
       "<table border=\"1\" class=\"dataframe\">\n",
       "  <thead>\n",
       "    <tr style=\"text-align: right;\">\n",
       "      <th></th>\n",
       "      <th>Place Name</th>\n",
       "      <th>Latitude</th>\n",
       "      <th>Longitude</th>\n",
       "    </tr>\n",
       "  </thead>\n",
       "  <tbody>\n",
       "    <tr>\n",
       "      <th>87</th>\n",
       "      <td>Sydney, NSW, Australia</td>\n",
       "      <td>-33.865143</td>\n",
       "      <td>151.209900</td>\n",
       "    </tr>\n",
       "    <tr>\n",
       "      <th>63</th>\n",
       "      <td>Melbourne, VIC, Australia</td>\n",
       "      <td>-37.840935</td>\n",
       "      <td>144.946457</td>\n",
       "    </tr>\n",
       "    <tr>\n",
       "      <th>83</th>\n",
       "      <td>Brisbane, QLD, Australia</td>\n",
       "      <td>-27.470125</td>\n",
       "      <td>153.021072</td>\n",
       "    </tr>\n",
       "    <tr>\n",
       "      <th>64</th>\n",
       "      <td>Adelaide, SA, Australia</td>\n",
       "      <td>-34.921230</td>\n",
       "      <td>138.599503</td>\n",
       "    </tr>\n",
       "    <tr>\n",
       "      <th>63</th>\n",
       "      <td>Melbourne, VIC, Australia</td>\n",
       "      <td>-37.840935</td>\n",
       "      <td>144.946457</td>\n",
       "    </tr>\n",
       "    <tr>\n",
       "      <th>69</th>\n",
       "      <td>Perth, WA, Australia</td>\n",
       "      <td>-31.953512</td>\n",
       "      <td>115.857048</td>\n",
       "    </tr>\n",
       "    <tr>\n",
       "      <th>45</th>\n",
       "      <td>Hobart, Tasmania, Australia</td>\n",
       "      <td>-42.880554</td>\n",
       "      <td>147.324997</td>\n",
       "    </tr>\n",
       "    <tr>\n",
       "      <th>79</th>\n",
       "      <td>Darwin, Northern Territory, Australia</td>\n",
       "      <td>-12.462827</td>\n",
       "      <td>130.841782</td>\n",
       "    </tr>\n",
       "    <tr>\n",
       "      <th>60</th>\n",
       "      <td>Canberra, Australia</td>\n",
       "      <td>-35.282001</td>\n",
       "      <td>149.128998</td>\n",
       "    </tr>\n",
       "  </tbody>\n",
       "</table>\n",
       "</div>"
      ],
      "text/plain": [
       "                               Place Name   Latitude   Longitude\n",
       "87                 Sydney, NSW, Australia -33.865143  151.209900\n",
       "63              Melbourne, VIC, Australia -37.840935  144.946457\n",
       "83               Brisbane, QLD, Australia -27.470125  153.021072\n",
       "64                Adelaide, SA, Australia -34.921230  138.599503\n",
       "63              Melbourne, VIC, Australia -37.840935  144.946457\n",
       "69                   Perth, WA, Australia -31.953512  115.857048\n",
       "45            Hobart, Tasmania, Australia -42.880554  147.324997\n",
       "79  Darwin, Northern Territory, Australia -12.462827  130.841782\n",
       "60                    Canberra, Australia -35.282001  149.128998"
      ]
     },
     "execution_count": 69,
     "metadata": {},
     "output_type": "execute_result"
    }
   ],
   "source": [
    "capital_df = geo_df.iloc[[87,63,83,64,63,69,45,79,60]]\n",
    "capital_df"
   ]
  },
  {
   "cell_type": "code",
   "execution_count": 70,
   "id": "3d335134-6e74-47c2-a9a0-7a4ce5701022",
   "metadata": {},
   "outputs": [],
   "source": [
    "capital_df = capital_df.set_index(capital_df[\"Place Name\"].apply(lambda Name : Name.split()[0]).str.replace(\",\",\"\"))"
   ]
  },
  {
   "cell_type": "code",
   "execution_count": 71,
   "id": "4a9b59f3-38a8-4278-8e71-53748ccbe8fd",
   "metadata": {},
   "outputs": [
    {
     "data": {
      "text/html": [
       "<div>\n",
       "<style scoped>\n",
       "    .dataframe tbody tr th:only-of-type {\n",
       "        vertical-align: middle;\n",
       "    }\n",
       "\n",
       "    .dataframe tbody tr th {\n",
       "        vertical-align: top;\n",
       "    }\n",
       "\n",
       "    .dataframe thead th {\n",
       "        text-align: right;\n",
       "    }\n",
       "</style>\n",
       "<table border=\"1\" class=\"dataframe\">\n",
       "  <thead>\n",
       "    <tr style=\"text-align: right;\">\n",
       "      <th></th>\n",
       "      <th>Latitude</th>\n",
       "      <th>Longitude</th>\n",
       "    </tr>\n",
       "    <tr>\n",
       "      <th>Place Name</th>\n",
       "      <th></th>\n",
       "      <th></th>\n",
       "    </tr>\n",
       "  </thead>\n",
       "  <tbody>\n",
       "    <tr>\n",
       "      <th>Sydney</th>\n",
       "      <td>-33.865143</td>\n",
       "      <td>151.209900</td>\n",
       "    </tr>\n",
       "    <tr>\n",
       "      <th>Melbourne</th>\n",
       "      <td>-37.840935</td>\n",
       "      <td>144.946457</td>\n",
       "    </tr>\n",
       "    <tr>\n",
       "      <th>Brisbane</th>\n",
       "      <td>-27.470125</td>\n",
       "      <td>153.021072</td>\n",
       "    </tr>\n",
       "    <tr>\n",
       "      <th>Adelaide</th>\n",
       "      <td>-34.921230</td>\n",
       "      <td>138.599503</td>\n",
       "    </tr>\n",
       "    <tr>\n",
       "      <th>Melbourne</th>\n",
       "      <td>-37.840935</td>\n",
       "      <td>144.946457</td>\n",
       "    </tr>\n",
       "    <tr>\n",
       "      <th>Perth</th>\n",
       "      <td>-31.953512</td>\n",
       "      <td>115.857048</td>\n",
       "    </tr>\n",
       "    <tr>\n",
       "      <th>Hobart</th>\n",
       "      <td>-42.880554</td>\n",
       "      <td>147.324997</td>\n",
       "    </tr>\n",
       "    <tr>\n",
       "      <th>Darwin</th>\n",
       "      <td>-12.462827</td>\n",
       "      <td>130.841782</td>\n",
       "    </tr>\n",
       "    <tr>\n",
       "      <th>Canberra</th>\n",
       "      <td>-35.282001</td>\n",
       "      <td>149.128998</td>\n",
       "    </tr>\n",
       "  </tbody>\n",
       "</table>\n",
       "</div>"
      ],
      "text/plain": [
       "             Latitude   Longitude\n",
       "Place Name                       \n",
       "Sydney     -33.865143  151.209900\n",
       "Melbourne  -37.840935  144.946457\n",
       "Brisbane   -27.470125  153.021072\n",
       "Adelaide   -34.921230  138.599503\n",
       "Melbourne  -37.840935  144.946457\n",
       "Perth      -31.953512  115.857048\n",
       "Hobart     -42.880554  147.324997\n",
       "Darwin     -12.462827  130.841782\n",
       "Canberra   -35.282001  149.128998"
      ]
     },
     "execution_count": 71,
     "metadata": {},
     "output_type": "execute_result"
    }
   ],
   "source": [
    "capital_df = capital_df.drop([\"Place Name\"], axis=1)\n",
    "capital_df"
   ]
  },
  {
   "cell_type": "code",
   "execution_count": 72,
   "id": "8b2c0822-8c53-41ec-995d-92cd976c29d2",
   "metadata": {},
   "outputs": [
    {
     "data": {
      "text/plain": [
       "Place Name\n",
       "Sydney       26.7\n",
       "Melbourne    20.0\n",
       "Brisbane     27.8\n",
       "Adelaide     23.9\n",
       "Perth        15.7\n",
       "Hobart       29.8\n",
       "Darwin       13.0\n",
       "Canberra     28.8\n",
       "Name: Dec Qtr 20 to Dec Qtr 21, dtype: float64"
      ]
     },
     "execution_count": 72,
     "metadata": {},
     "output_type": "execute_result"
    }
   ],
   "source": [
    "housing_df"
   ]
  },
  {
   "cell_type": "code",
   "execution_count": 73,
   "id": "15bd9e25-6117-4f7a-b2a1-e513fb9d8cb9",
   "metadata": {},
   "outputs": [],
   "source": [
    "housing_inflation = pd.merge(housing_df, capital_df, on = \"Place Name\", how = \"inner\")"
   ]
  },
  {
   "cell_type": "code",
   "execution_count": 74,
   "id": "e3e93c3f-473a-49cf-8a51-01dda6596eb9",
   "metadata": {},
   "outputs": [
    {
     "data": {
      "text/plain": [
       "Place Name\n",
       "Sydney       26.7\n",
       "Melbourne    20.0\n",
       "Melbourne    20.0\n",
       "Brisbane     27.8\n",
       "Adelaide     23.9\n",
       "Perth        15.7\n",
       "Hobart       29.8\n",
       "Darwin       13.0\n",
       "Canberra     28.8\n",
       "Name: Dec Qtr 20 to Dec Qtr 21, dtype: float64"
      ]
     },
     "execution_count": 74,
     "metadata": {},
     "output_type": "execute_result"
    }
   ],
   "source": [
    "housing_inflation[\"Dec Qtr 20 to Dec Qtr 21\"].astype(float)"
   ]
  },
  {
   "cell_type": "code",
   "execution_count": 75,
   "id": "6f01c638-3465-4555-a472-1ebf51659833",
   "metadata": {},
   "outputs": [
    {
     "data": {
      "text/html": [
       "<div>\n",
       "<style scoped>\n",
       "    .dataframe tbody tr th:only-of-type {\n",
       "        vertical-align: middle;\n",
       "    }\n",
       "\n",
       "    .dataframe tbody tr th {\n",
       "        vertical-align: top;\n",
       "    }\n",
       "\n",
       "    .dataframe thead th {\n",
       "        text-align: right;\n",
       "    }\n",
       "</style>\n",
       "<table border=\"1\" class=\"dataframe\">\n",
       "  <thead>\n",
       "    <tr style=\"text-align: right;\">\n",
       "      <th></th>\n",
       "      <th>Dec Qtr 20 to Dec Qtr 21</th>\n",
       "      <th>Latitude</th>\n",
       "      <th>Longitude</th>\n",
       "    </tr>\n",
       "    <tr>\n",
       "      <th>Place Name</th>\n",
       "      <th></th>\n",
       "      <th></th>\n",
       "      <th></th>\n",
       "    </tr>\n",
       "  </thead>\n",
       "  <tbody>\n",
       "    <tr>\n",
       "      <th>Sydney</th>\n",
       "      <td>26.7</td>\n",
       "      <td>-33.865143</td>\n",
       "      <td>151.209900</td>\n",
       "    </tr>\n",
       "    <tr>\n",
       "      <th>Melbourne</th>\n",
       "      <td>20.0</td>\n",
       "      <td>-37.840935</td>\n",
       "      <td>144.946457</td>\n",
       "    </tr>\n",
       "    <tr>\n",
       "      <th>Melbourne</th>\n",
       "      <td>20.0</td>\n",
       "      <td>-37.840935</td>\n",
       "      <td>144.946457</td>\n",
       "    </tr>\n",
       "    <tr>\n",
       "      <th>Brisbane</th>\n",
       "      <td>27.8</td>\n",
       "      <td>-27.470125</td>\n",
       "      <td>153.021072</td>\n",
       "    </tr>\n",
       "    <tr>\n",
       "      <th>Adelaide</th>\n",
       "      <td>23.9</td>\n",
       "      <td>-34.921230</td>\n",
       "      <td>138.599503</td>\n",
       "    </tr>\n",
       "    <tr>\n",
       "      <th>Perth</th>\n",
       "      <td>15.7</td>\n",
       "      <td>-31.953512</td>\n",
       "      <td>115.857048</td>\n",
       "    </tr>\n",
       "    <tr>\n",
       "      <th>Hobart</th>\n",
       "      <td>29.8</td>\n",
       "      <td>-42.880554</td>\n",
       "      <td>147.324997</td>\n",
       "    </tr>\n",
       "    <tr>\n",
       "      <th>Darwin</th>\n",
       "      <td>13.0</td>\n",
       "      <td>-12.462827</td>\n",
       "      <td>130.841782</td>\n",
       "    </tr>\n",
       "    <tr>\n",
       "      <th>Canberra</th>\n",
       "      <td>28.8</td>\n",
       "      <td>-35.282001</td>\n",
       "      <td>149.128998</td>\n",
       "    </tr>\n",
       "  </tbody>\n",
       "</table>\n",
       "</div>"
      ],
      "text/plain": [
       "            Dec Qtr 20 to Dec Qtr 21   Latitude   Longitude\n",
       "Place Name                                                 \n",
       "Sydney                          26.7 -33.865143  151.209900\n",
       "Melbourne                       20.0 -37.840935  144.946457\n",
       "Melbourne                       20.0 -37.840935  144.946457\n",
       "Brisbane                        27.8 -27.470125  153.021072\n",
       "Adelaide                        23.9 -34.921230  138.599503\n",
       "Perth                           15.7 -31.953512  115.857048\n",
       "Hobart                          29.8 -42.880554  147.324997\n",
       "Darwin                          13.0 -12.462827  130.841782\n",
       "Canberra                        28.8 -35.282001  149.128998"
      ]
     },
     "execution_count": 75,
     "metadata": {},
     "output_type": "execute_result"
    }
   ],
   "source": [
    "housing_inflation"
   ]
  },
  {
   "cell_type": "code",
   "execution_count": 76,
   "id": "e744e86b-9e21-4796-9134-a5e350a58df1",
   "metadata": {},
   "outputs": [
    {
     "data": {},
     "metadata": {},
     "output_type": "display_data"
    },
    {
     "data": {
      "application/vnd.holoviews_exec.v0+json": "",
      "text/html": [
       "<div id='3349'>\n",
       "\n",
       "\n",
       "\n",
       "\n",
       "\n",
       "  <div class=\"bk-root\" id=\"3603dadf-9ed7-4460-a9c6-6a7290ceb06d\" data-root-id=\"3349\"></div>\n",
       "</div>\n",
       "<script type=\"application/javascript\">(function(root) {\n",
       "  function embed_document(root) {\n",
       "    var docs_json = {\"c91a19d4-b90e-43a7-92b4-023136ccafb4\":{\"defs\":[{\"extends\":null,\"module\":null,\"name\":\"ReactiveHTML1\",\"overrides\":[],\"properties\":[]},{\"extends\":null,\"module\":null,\"name\":\"FlexBox1\",\"overrides\":[],\"properties\":[{\"default\":\"flex-start\",\"kind\":null,\"name\":\"align_content\"},{\"default\":\"flex-start\",\"kind\":null,\"name\":\"align_items\"},{\"default\":\"row\",\"kind\":null,\"name\":\"flex_direction\"},{\"default\":\"wrap\",\"kind\":null,\"name\":\"flex_wrap\"},{\"default\":\"flex-start\",\"kind\":null,\"name\":\"justify_content\"}]},{\"extends\":null,\"module\":null,\"name\":\"GridStack1\",\"overrides\":[],\"properties\":[{\"default\":\"warn\",\"kind\":null,\"name\":\"mode\"},{\"default\":null,\"kind\":null,\"name\":\"ncols\"},{\"default\":null,\"kind\":null,\"name\":\"nrows\"},{\"default\":true,\"kind\":null,\"name\":\"allow_resize\"},{\"default\":true,\"kind\":null,\"name\":\"allow_drag\"},{\"default\":[],\"kind\":null,\"name\":\"state\"}]},{\"extends\":null,\"module\":null,\"name\":\"click1\",\"overrides\":[],\"properties\":[{\"default\":\"\",\"kind\":null,\"name\":\"terminal_output\"},{\"default\":\"\",\"kind\":null,\"name\":\"debug_name\"},{\"default\":0,\"kind\":null,\"name\":\"clears\"}]},{\"extends\":null,\"module\":null,\"name\":\"TemplateActions1\",\"overrides\":[],\"properties\":[{\"default\":0,\"kind\":null,\"name\":\"open_modal\"},{\"default\":0,\"kind\":null,\"name\":\"close_modal\"}]},{\"extends\":null,\"module\":null,\"name\":\"MaterialTemplateActions1\",\"overrides\":[],\"properties\":[{\"default\":0,\"kind\":null,\"name\":\"open_modal\"},{\"default\":0,\"kind\":null,\"name\":\"close_modal\"}]}],\"roots\":{\"references\":[{\"attributes\":{\"callback\":null,\"formatters\":{\"$x\":{\"id\":\"3438\"},\"$y\":{\"id\":\"3439\"}},\"renderers\":[{\"id\":\"3434\"}],\"tags\":[\"hv_created\"],\"tooltips\":[[\"Longitude\",\"$x{custom}\"],[\"Latitude\",\"$y{custom}\"],[\"Dec Qtr 20 to Dec Qtr 21\",\"@{Dec_Qtr_20_to_Dec_Qtr_21}\"]]},\"id\":\"3359\",\"type\":\"HoverTool\"},{\"attributes\":{\"dimension\":\"lat\"},\"id\":\"3396\",\"type\":\"MercatorTicker\"},{\"attributes\":{\"axis\":{\"id\":\"3371\"},\"coordinates\":null,\"grid_line_color\":null,\"group\":null,\"ticker\":null},\"id\":\"3374\",\"type\":\"Grid\"},{\"attributes\":{\"axis_label\":\"Latitude\",\"coordinates\":null,\"formatter\":{\"id\":\"3397\"},\"group\":null,\"major_label_policy\":{\"id\":\"3407\"},\"ticker\":{\"id\":\"3396\"}},\"id\":\"3375\",\"type\":\"LinearAxis\"},{\"attributes\":{\"margin\":[5,5,5,5],\"name\":\"HSpacer06808\",\"sizing_mode\":\"stretch_width\"},\"id\":\"3350\",\"type\":\"Spacer\"},{\"attributes\":{\"fill_alpha\":{\"value\":0.2},\"fill_color\":{\"field\":\"color\",\"transform\":{\"id\":\"3425\"}},\"hatch_alpha\":{\"value\":0.2},\"hatch_color\":{\"field\":\"color\",\"transform\":{\"id\":\"3425\"}},\"line_alpha\":{\"value\":0.2},\"line_color\":{\"field\":\"color\",\"transform\":{\"id\":\"3425\"}},\"size\":{\"field\":\"size\"},\"x\":{\"field\":\"Longitude\"},\"y\":{\"field\":\"Latitude\"}},\"id\":\"3433\",\"type\":\"Scatter\"},{\"attributes\":{\"high\":29.8,\"low\":13.0,\"palette\":[\"#b3fef5\",\"#b0fef5\",\"#adfdf5\",\"#a9fcf5\",\"#a6fbf6\",\"#a3faf6\",\"#a0faf6\",\"#9df9f6\",\"#9af8f6\",\"#97f7f6\",\"#93f7f6\",\"#90f6f6\",\"#8df5f6\",\"#8af4f7\",\"#87f3f7\",\"#83f2f7\",\"#80f2f7\",\"#7df1f7\",\"#79f0f7\",\"#76eff7\",\"#73eef7\",\"#6fedf8\",\"#6cecf8\",\"#68ecf8\",\"#65ebf8\",\"#61eaf8\",\"#5ee9f8\",\"#5ae8f8\",\"#57e7f8\",\"#53e6f8\",\"#50e5f9\",\"#4ce4f9\",\"#49e3f9\",\"#45e2f9\",\"#42e1f9\",\"#3ee0f9\",\"#3bdff9\",\"#38def9\",\"#35ddf9\",\"#32dcf9\",\"#30dbfa\",\"#2ed9fa\",\"#2dd8fa\",\"#2cd7fa\",\"#2bd6fa\",\"#2bd5fa\",\"#2ad3fa\",\"#2ad2fa\",\"#29d1fa\",\"#29d0fb\",\"#29cffb\",\"#28cdfb\",\"#28ccfb\",\"#28cbfb\",\"#28cafb\",\"#28c8fb\",\"#28c7fb\",\"#29c6fb\",\"#29c5fb\",\"#29c4fb\",\"#29c2fb\",\"#2ac1fb\",\"#2ac0fb\",\"#2bbffb\",\"#2bbdfc\",\"#2cbcfc\",\"#2dbbfc\",\"#2db9fc\",\"#2eb8fc\",\"#2fb7fc\",\"#2fb6fc\",\"#30b4fc\",\"#31b3fc\",\"#32b2fc\",\"#32b0fc\",\"#33affc\",\"#33aefc\",\"#34adfc\",\"#34abfc\",\"#34aafc\",\"#35a9fc\",\"#35a8fc\",\"#35a6fc\",\"#35a5fc\",\"#35a4fc\",\"#35a3fc\",\"#35a1fc\",\"#35a0fc\",\"#359ffc\",\"#359dfc\",\"#359cfc\",\"#359bfc\",\"#349afd\",\"#3498fd\",\"#3497fd\",\"#3396fd\",\"#3395fd\",\"#3293fd\",\"#3292fd\",\"#3191fd\",\"#3090fd\",\"#308ffd\",\"#2f8dfd\",\"#2f8cfd\",\"#2e8bfd\",\"#2e8afd\",\"#2d88fd\",\"#2d87fd\",\"#2c86fd\",\"#2c84fd\",\"#2c83fd\",\"#2c82fd\",\"#2b81fd\",\"#2b7ffd\",\"#2b7efd\",\"#2b7dfd\",\"#2b7bfd\",\"#2b7afd\",\"#2b79fd\",\"#2b77fd\",\"#2b76fd\",\"#2b75fd\",\"#2b73fd\",\"#2c72fd\",\"#2c71fd\",\"#2c6ffd\",\"#2c6efd\",\"#2d6cfd\",\"#2d6bfd\",\"#2d6afc\",\"#2e68fc\",\"#2e67fc\",\"#2e65fc\",\"#2e64fc\",\"#2f62fc\",\"#2f61fc\",\"#2f5ffc\",\"#2f5efc\",\"#2f5dfc\",\"#2f5bfc\",\"#2f5afc\",\"#2f58fb\",\"#2f57fb\",\"#2f55fb\",\"#2f53fb\",\"#2f52fb\",\"#2f50fb\",\"#2f4ffb\",\"#2f4dfb\",\"#2e4cfb\",\"#2e4afb\",\"#2e48fb\",\"#2e47fa\",\"#2d45fa\",\"#2d43fa\",\"#2d42fa\",\"#2d40fa\",\"#2c3efa\",\"#2c3dfa\",\"#2b3bf9\",\"#2b39f9\",\"#2a37f9\",\"#2a36f8\",\"#2934f8\",\"#2832f7\",\"#2831f7\",\"#272ff6\",\"#262ef5\",\"#252cf5\",\"#252af4\",\"#2429f3\",\"#2327f2\",\"#2226f1\",\"#2124f0\",\"#2023ef\",\"#1f22ee\",\"#1e20ed\",\"#1d1feb\",\"#1c1eea\",\"#1b1ce9\",\"#1a1be7\",\"#181ae6\",\"#1719e5\",\"#1618e3\",\"#1417e1\",\"#1316e0\",\"#1215de\",\"#1014dc\",\"#0f13db\",\"#0e12d9\",\"#0d11d7\",\"#0c10d5\",\"#0b0fd3\",\"#0a0ed1\",\"#090dd0\",\"#080dce\",\"#080ccc\",\"#070bca\",\"#070ac8\",\"#0709c6\",\"#0708c4\",\"#0707c2\",\"#0707bf\",\"#0806bd\",\"#0806bb\",\"#0905b9\",\"#0904b7\",\"#0a04b5\",\"#0a04b2\",\"#0b03b0\",\"#0c03ae\",\"#0d02ab\",\"#0e02a9\",\"#0e02a7\",\"#0f02a4\",\"#0f01a2\",\"#1001a0\",\"#10019d\",\"#10019b\",\"#100199\",\"#100197\",\"#100194\",\"#0f0192\",\"#0f0190\",\"#0f018e\",\"#0e018b\",\"#0e0189\",\"#0d0187\",\"#0d0185\",\"#0c0183\",\"#0b0181\",\"#0b017e\",\"#0a017c\",\"#09017a\",\"#090178\",\"#080276\",\"#070274\",\"#060272\",\"#060270\",\"#05026e\",\"#04026c\",\"#030269\",\"#030267\",\"#020265\",\"#010263\",\"#010261\",\"#00025f\",\"#00025d\",\"#00025b\",\"#000259\",\"#000257\",\"#000255\",\"#000154\",\"#000152\",\"#000150\",\"#00004e\"]},\"id\":\"3425\",\"type\":\"LinearColorMapper\"},{\"attributes\":{\"attribution\":\"&copy; <a href=\\\"https://www.openstreetmap.org/copyright\\\">OpenStreetMap</a> contributors\",\"url\":\"https://c.tile.openstreetmap.org/{Z}/{X}/{Y}.png\"},\"id\":\"3420\",\"type\":\"WMTSTileSource\"},{\"attributes\":{\"source\":{\"id\":\"3426\"}},\"id\":\"3435\",\"type\":\"CDSView\"},{\"attributes\":{},\"id\":\"3369\",\"type\":\"LinearScale\"},{\"attributes\":{\"axis\":{\"id\":\"3375\"},\"coordinates\":null,\"dimension\":1,\"grid_line_color\":null,\"group\":null,\"ticker\":null},\"id\":\"3378\",\"type\":\"Grid\"},{\"attributes\":{\"data\":{\"Dec_Qtr_20_to_Dec_Qtr_21\":{\"__ndarray__\":\"MzMzMzOzOkAAAAAAAAA0QAAAAAAAADRAzczMzMzMO0BmZmZmZuY3QGZmZmZmZi9AzczMzMzMPUAAAAAAAAAqQM3MzMzMzDxA\",\"dtype\":\"float64\",\"order\":\"little\",\"shape\":[9]},\"Latitude\":{\"__ndarray__\":\"5QMcL2qZTsHjnmTkLGJRweOeZOQsYlHB0ASPuH1HSMH52XPhrq9PwdHzQvNMqkzBx6pfJbwxVMHjD8nxmlY1wfBGBpPHB1DB\",\"dtype\":\"float64\",\"order\":\"little\",\"shape\":[9]},\"Longitude\":{\"__ndarray__\":\"8WkiEYYNcEH5DSO5mMZuQfkNI7mYxm5BXgcNPb8+cEEaIiRDm21tQchN0nJvmWhBD4q19OFHb0FlxH4R78drQfH71YPwqW9B\",\"dtype\":\"float64\",\"order\":\"little\",\"shape\":[9]},\"color\":{\"__ndarray__\":\"MzMzMzOzOkAAAAAAAAA0QAAAAAAAADRAzczMzMzMO0BmZmZmZuY3QGZmZmZmZi9AzczMzMzMPUAAAAAAAAAqQM3MzMzMzDxA\",\"dtype\":\"float64\",\"order\":\"little\",\"shape\":[9]},\"size\":{\"__ndarray__\":\"cPXSmDerFECo9Jebd+MRQKj0l5t34xFA4t+quhwXFUD1zhrKF44TQFnzbSrWsg9AWR+zvvPVFUDzWWFEK9gMQGPyT1RcdxVA\",\"dtype\":\"float64\",\"order\":\"little\",\"shape\":[9]}},\"selected\":{\"id\":\"3427\"},\"selection_policy\":{\"id\":\"3444\"}},\"id\":\"3426\",\"type\":\"ColumnDataSource\"},{\"attributes\":{\"coordinates\":null,\"group\":null,\"level\":\"glyph\",\"tile_source\":{\"id\":\"3420\"}},\"id\":\"3423\",\"type\":\"TileRenderer\"},{\"attributes\":{\"fill_alpha\":{\"value\":0.8},\"fill_color\":{\"field\":\"color\",\"transform\":{\"id\":\"3425\"}},\"hatch_alpha\":{\"value\":0.1},\"hatch_color\":{\"field\":\"color\",\"transform\":{\"id\":\"3425\"}},\"line_alpha\":{\"value\":0.8},\"line_color\":{\"field\":\"color\",\"transform\":{\"id\":\"3425\"}},\"size\":{\"field\":\"size\"},\"x\":{\"field\":\"Longitude\"},\"y\":{\"field\":\"Latitude\"}},\"id\":\"3430\",\"type\":\"Scatter\"},{\"attributes\":{},\"id\":\"3444\",\"type\":\"UnionRenderers\"},{\"attributes\":{\"margin\":[5,5,5,5],\"name\":\"HSpacer06809\",\"sizing_mode\":\"stretch_width\"},\"id\":\"3503\",\"type\":\"Spacer\"},{\"attributes\":{},\"id\":\"3367\",\"type\":\"LinearScale\"},{\"attributes\":{\"coordinates\":null,\"data_source\":{\"id\":\"3426\"},\"glyph\":{\"id\":\"3429\"},\"group\":null,\"hover_glyph\":{\"id\":\"3432\"},\"muted_glyph\":{\"id\":\"3433\"},\"nonselection_glyph\":{\"id\":\"3430\"},\"selection_glyph\":{\"id\":\"3431\"},\"view\":{\"id\":\"3435\"}},\"id\":\"3434\",\"type\":\"GlyphRenderer\"},{\"attributes\":{},\"id\":\"3407\",\"type\":\"AllLabels\"},{\"attributes\":{\"code\":\"\\n        var projections = Bokeh.require(\\\"core/util/projections\\\");\\n        var x = special_vars.data_x\\n        var y = special_vars.data_y\\n        if (projections.wgs84_mercator.invert == null) {\\n          var coords = projections.wgs84_mercator.inverse([x, y])\\n        } else {\\n          var coords = projections.wgs84_mercator.invert(x, y)\\n        }\\n        return \\\"\\\" + (coords[1]).toFixed(4)\\n    \"},\"id\":\"3439\",\"type\":\"CustomJSHover\"},{\"attributes\":{\"tools\":[{\"id\":\"3359\"},{\"id\":\"3379\"},{\"id\":\"3380\"},{\"id\":\"3381\"},{\"id\":\"3382\"},{\"id\":\"3383\"}]},\"id\":\"3385\",\"type\":\"Toolbar\"},{\"attributes\":{},\"id\":\"3436\",\"type\":\"BasicTicker\"},{\"attributes\":{\"end\":-1008888.9211232397,\"min_interval\":5,\"reset_end\":-1008888.9211232397,\"reset_start\":-5683346.569405735,\"start\":-5683346.569405735,\"tags\":[[[\"Latitude\",\"Latitude\",null]]]},\"id\":\"3356\",\"type\":\"Range1d\"},{\"attributes\":{\"bar_line_color\":\"black\",\"color_mapper\":{\"id\":\"3425\"},\"coordinates\":null,\"group\":null,\"label_standoff\":8,\"location\":[0,0],\"major_label_policy\":{\"id\":\"3442\"},\"major_tick_line_color\":\"black\",\"ticker\":{\"id\":\"3436\"}},\"id\":\"3437\",\"type\":\"ColorBar\"},{\"attributes\":{\"dimension\":\"lat\"},\"id\":\"3397\",\"type\":\"MercatorTickFormatter\"},{\"attributes\":{\"fill_alpha\":{\"value\":0.8},\"fill_color\":{\"field\":\"color\",\"transform\":{\"id\":\"3425\"}},\"hatch_alpha\":{\"value\":0.8},\"hatch_color\":{\"field\":\"color\",\"transform\":{\"id\":\"3425\"}},\"line_alpha\":{\"value\":0.8},\"line_color\":{\"field\":\"color\",\"transform\":{\"id\":\"3425\"}},\"size\":{\"field\":\"size\"},\"x\":{\"field\":\"Longitude\"},\"y\":{\"field\":\"Latitude\"}},\"id\":\"3429\",\"type\":\"Scatter\"},{\"attributes\":{\"dimension\":\"lon\"},\"id\":\"3394\",\"type\":\"MercatorTicker\"},{\"attributes\":{\"bottom_units\":\"screen\",\"coordinates\":null,\"fill_alpha\":0.5,\"fill_color\":\"lightgrey\",\"group\":null,\"left_units\":\"screen\",\"level\":\"overlay\",\"line_alpha\":1.0,\"line_color\":\"black\",\"line_dash\":[4,4],\"line_width\":2,\"right_units\":\"screen\",\"syncable\":false,\"top_units\":\"screen\"},\"id\":\"3384\",\"type\":\"BoxAnnotation\"},{\"attributes\":{},\"id\":\"3379\",\"type\":\"SaveTool\"},{\"attributes\":{},\"id\":\"3380\",\"type\":\"PanTool\"},{\"attributes\":{\"below\":[{\"id\":\"3371\"}],\"center\":[{\"id\":\"3374\"},{\"id\":\"3378\"}],\"frame_height\":500,\"frame_width\":700,\"height\":null,\"left\":[{\"id\":\"3375\"}],\"margin\":[5,5,5,5],\"match_aspect\":true,\"min_border_bottom\":10,\"min_border_left\":10,\"min_border_right\":10,\"min_border_top\":10,\"renderers\":[{\"id\":\"3423\"},{\"id\":\"3434\"}],\"right\":[{\"id\":\"3437\"}],\"sizing_mode\":\"fixed\",\"title\":{\"id\":\"3363\"},\"toolbar\":{\"id\":\"3385\"},\"width\":null,\"x_range\":{\"id\":\"3355\"},\"x_scale\":{\"id\":\"3367\"},\"y_range\":{\"id\":\"3356\"},\"y_scale\":{\"id\":\"3369\"}},\"id\":\"3362\",\"subtype\":\"Figure\",\"type\":\"Plot\"},{\"attributes\":{\"children\":[{\"id\":\"3350\"},{\"id\":\"3362\"},{\"id\":\"3503\"}],\"margin\":[0,0,0,0],\"name\":\"Row06804\",\"tags\":[\"embedded\"]},\"id\":\"3349\",\"type\":\"Row\"},{\"attributes\":{},\"id\":\"3383\",\"type\":\"ResetTool\"},{\"attributes\":{},\"id\":\"3427\",\"type\":\"Selection\"},{\"attributes\":{\"axis_label\":\"Longitude\",\"coordinates\":null,\"formatter\":{\"id\":\"3395\"},\"group\":null,\"major_label_policy\":{\"id\":\"3400\"},\"ticker\":{\"id\":\"3394\"}},\"id\":\"3371\",\"type\":\"LinearAxis\"},{\"attributes\":{\"zoom_on_axis\":false},\"id\":\"3381\",\"type\":\"WheelZoomTool\"},{\"attributes\":{\"fill_alpha\":{\"value\":0.8},\"fill_color\":{\"field\":\"color\",\"transform\":{\"id\":\"3425\"}},\"hatch_alpha\":{\"value\":0.8},\"hatch_color\":{\"field\":\"color\",\"transform\":{\"id\":\"3425\"}},\"line_alpha\":{\"value\":0.8},\"line_color\":{\"field\":\"color\",\"transform\":{\"id\":\"3425\"}},\"size\":{\"field\":\"size\"},\"x\":{\"field\":\"Longitude\"},\"y\":{\"field\":\"Latitude\"}},\"id\":\"3432\",\"type\":\"Scatter\"},{\"attributes\":{\"match_aspect\":true,\"overlay\":{\"id\":\"3384\"}},\"id\":\"3382\",\"type\":\"BoxZoomTool\"},{\"attributes\":{\"dimension\":\"lon\"},\"id\":\"3395\",\"type\":\"MercatorTickFormatter\"},{\"attributes\":{\"fill_alpha\":{\"value\":0.8},\"fill_color\":{\"field\":\"color\",\"transform\":{\"id\":\"3425\"}},\"hatch_alpha\":{\"value\":0.8},\"hatch_color\":{\"field\":\"color\",\"transform\":{\"id\":\"3425\"}},\"line_alpha\":{\"value\":0.8},\"line_color\":{\"field\":\"color\",\"transform\":{\"id\":\"3425\"}},\"size\":{\"field\":\"size\"},\"x\":{\"field\":\"Longitude\"},\"y\":{\"field\":\"Latitude\"}},\"id\":\"3431\",\"type\":\"Scatter\"},{\"attributes\":{\"code\":\"\\n        var projections = Bokeh.require(\\\"core/util/projections\\\");\\n        var x = special_vars.data_x\\n        var y = special_vars.data_y\\n        if (projections.wgs84_mercator.invert == null) {\\n          var coords = projections.wgs84_mercator.inverse([x, y])\\n        } else {\\n          var coords = projections.wgs84_mercator.invert(x, y)\\n        }\\n        return \\\"\\\" + (coords[0]).toFixed(4)\\n    \"},\"id\":\"3438\",\"type\":\"CustomJSHover\"},{\"attributes\":{},\"id\":\"3442\",\"type\":\"NoOverlap\"},{\"attributes\":{},\"id\":\"3400\",\"type\":\"AllLabels\"},{\"attributes\":{\"end\":18237808.0557241,\"min_interval\":5,\"reset_end\":18237808.0557241,\"reset_start\":11693567.34812861,\"start\":11693567.34812861,\"tags\":[[[\"Longitude\",\"Longitude\",null]]]},\"id\":\"3355\",\"type\":\"Range1d\"},{\"attributes\":{\"coordinates\":null,\"group\":null,\"text\":\"Housing Inflation - Australian Capital Cities\",\"text_color\":\"black\",\"text_font_size\":\"12pt\"},\"id\":\"3363\",\"type\":\"Title\"}],\"root_ids\":[\"3349\"]},\"title\":\"Bokeh Application\",\"version\":\"2.4.2\"}};\n",
       "    var render_items = [{\"docid\":\"c91a19d4-b90e-43a7-92b4-023136ccafb4\",\"root_ids\":[\"3349\"],\"roots\":{\"3349\":\"3603dadf-9ed7-4460-a9c6-6a7290ceb06d\"}}];\n",
       "    root.Bokeh.embed.embed_items_notebook(docs_json, render_items);\n",
       "  }\n",
       "  if (root.Bokeh !== undefined && root.Bokeh.Panel !== undefined) {\n",
       "    embed_document(root);\n",
       "  } else {\n",
       "    var attempts = 0;\n",
       "    var timer = setInterval(function(root) {\n",
       "      if (root.Bokeh !== undefined && root.Bokeh.Panel !== undefined) {\n",
       "        clearInterval(timer);\n",
       "        embed_document(root);\n",
       "      } else if (document.readyState == \"complete\") {\n",
       "        attempts++;\n",
       "        if (attempts > 200) {\n",
       "          clearInterval(timer);\n",
       "          console.log(\"Bokeh: ERROR: Unable to run BokehJS code because BokehJS library is missing\");\n",
       "        }\n",
       "      }\n",
       "    }, 25, root)\n",
       "  }\n",
       "})(window);</script>"
      ],
      "text/plain": [
       ":Overlay\n",
       "   .Tiles.I  :Tiles   [x,y]\n",
       "   .Points.I :Points   [Longitude,Latitude]   (Dec Qtr 20 to Dec Qtr 21)"
      ]
     },
     "execution_count": 76,
     "metadata": {
      "application/vnd.holoviews_exec.v0+json": {
       "id": "3349"
      }
     },
     "output_type": "execute_result"
    }
   ],
   "source": [
    "map_plot = housing_inflation.hvplot.points(\n",
    "    \"Longitude\", #set the longitude using the 'Lon' column from our data set\n",
    "    \"Latitude\", #set the latitude using the 'Lat' column from our data set\n",
    "    geo=True, # create a GeoViews graph by setting geo to True\n",
    "    size=\"Dec Qtr 20 to Dec Qtr 21\",\n",
    "    color=\"Dec Qtr 20 to Dec Qtr 21\",\n",
    "    frame_width=700,\n",
    "    frame_height=500,\n",
    "    tiles=\"OSM\", #using the default 'OSM' tiles  - this variable could be omitted\n",
    "    alpha=0.8,\n",
    "    xlabel=\"Longitude\",\n",
    "    ylabel=\"Latitude\"\n",
    ").opts(\n",
    "    title=\"Housing Inflation - Australian Capital Cities\"\n",
    ")\n",
    "\n",
    "map_plot"
   ]
  },
  {
   "cell_type": "markdown",
   "id": "e94b154f-63f1-4cdf-b4ec-f2656383d17f",
   "metadata": {},
   "source": [
    "### Analysis\n",
    "\n",
    "The above goeviews plot is a little underwhelming, however, coupled with the numerical data, we can see that Hobart and Canberra experienced the highest housing inflation in the period 2020 - 2021 at 29.8 and 28.8 respectively. This is signified in the plot by the darker colors for the two cities. Sydney is not far behind with an inflation rate of  . Interestingly Melbourne was sixth"
   ]
  },
  {
   "cell_type": "markdown",
   "id": "37b648a5",
   "metadata": {},
   "source": [
    "Gold Price"
   ]
  },
  {
   "cell_type": "code",
   "execution_count": 34,
   "id": "ea4f15e2-a638-4f6a-8082-493c2c107f41",
   "metadata": {},
   "outputs": [],
   "source": [
    "# Import library\n",
    "import requests\n",
    "from bs4 import BeautifulSoup\n",
    "import pandas as pd\n",
    "import hvplot.pandas"
   ]
  },
  {
   "cell_type": "code",
   "execution_count": 35,
   "id": "4a2fcdf2",
   "metadata": {},
   "outputs": [],
   "source": [
    "# Fetch the raw data from the URL\n",
    "html_text = requests.get('https://www.macrotrends.net/1333/historical-gold-prices-100-year-chart').text"
   ]
  },
  {
   "cell_type": "code",
   "execution_count": 36,
   "id": "95fe7ebe",
   "metadata": {},
   "outputs": [
    {
     "name": "stderr",
     "output_type": "stream",
     "text": [
      "C:\\Users\\malco\\anaconda3\\envs\\dev\\lib\\site-packages\\ipykernel_launcher.py:22: FutureWarning: The default value of regex will change from True to False in a future version. In addition, single character regular expressions will *not* be treated as literal strings when regex=True.\n"
     ]
    },
    {
     "data": {},
     "metadata": {},
     "output_type": "display_data"
    },
    {
     "data": {
      "application/vnd.holoviews_exec.v0+json": "",
      "text/html": [
       "<div id='2110'>\n",
       "\n",
       "\n",
       "\n",
       "\n",
       "\n",
       "  <div class=\"bk-root\" id=\"d7253f65-99f2-4234-9184-05b9e7e21141\" data-root-id=\"2110\"></div>\n",
       "</div>\n",
       "<script type=\"application/javascript\">(function(root) {\n",
       "  function embed_document(root) {\n",
       "    var docs_json = {\"a13b8ad4-9d5b-42fd-8e67-60f18e939536\":{\"defs\":[{\"extends\":null,\"module\":null,\"name\":\"ReactiveHTML1\",\"overrides\":[],\"properties\":[]},{\"extends\":null,\"module\":null,\"name\":\"FlexBox1\",\"overrides\":[],\"properties\":[{\"default\":\"flex-start\",\"kind\":null,\"name\":\"align_content\"},{\"default\":\"flex-start\",\"kind\":null,\"name\":\"align_items\"},{\"default\":\"row\",\"kind\":null,\"name\":\"flex_direction\"},{\"default\":\"wrap\",\"kind\":null,\"name\":\"flex_wrap\"},{\"default\":\"flex-start\",\"kind\":null,\"name\":\"justify_content\"}]},{\"extends\":null,\"module\":null,\"name\":\"GridStack1\",\"overrides\":[],\"properties\":[{\"default\":\"warn\",\"kind\":null,\"name\":\"mode\"},{\"default\":null,\"kind\":null,\"name\":\"ncols\"},{\"default\":null,\"kind\":null,\"name\":\"nrows\"},{\"default\":true,\"kind\":null,\"name\":\"allow_resize\"},{\"default\":true,\"kind\":null,\"name\":\"allow_drag\"},{\"default\":[],\"kind\":null,\"name\":\"state\"}]},{\"extends\":null,\"module\":null,\"name\":\"click1\",\"overrides\":[],\"properties\":[{\"default\":\"\",\"kind\":null,\"name\":\"terminal_output\"},{\"default\":\"\",\"kind\":null,\"name\":\"debug_name\"},{\"default\":0,\"kind\":null,\"name\":\"clears\"}]},{\"extends\":null,\"module\":null,\"name\":\"TemplateActions1\",\"overrides\":[],\"properties\":[{\"default\":0,\"kind\":null,\"name\":\"open_modal\"},{\"default\":0,\"kind\":null,\"name\":\"close_modal\"}]},{\"extends\":null,\"module\":null,\"name\":\"MaterialTemplateActions1\",\"overrides\":[],\"properties\":[{\"default\":0,\"kind\":null,\"name\":\"open_modal\"},{\"default\":0,\"kind\":null,\"name\":\"close_modal\"}]}],\"roots\":{\"references\":[{\"attributes\":{\"line_alpha\":0.2,\"line_color\":\"#30a2da\",\"line_width\":2,\"x\":{\"field\":\"Year\"},\"y\":{\"field\":\"Gold Price\"}},\"id\":\"2149\",\"type\":\"Line\"},{\"attributes\":{\"margin\":[5,5,5,5],\"name\":\"HSpacer03291\",\"sizing_mode\":\"stretch_width\"},\"id\":\"2111\",\"type\":\"Spacer\"},{\"attributes\":{},\"id\":\"2155\",\"type\":\"AllLabels\"},{\"attributes\":{},\"id\":\"2145\",\"type\":\"Selection\"},{\"attributes\":{\"tools\":[{\"id\":\"2114\"},{\"id\":\"2131\"},{\"id\":\"2132\"},{\"id\":\"2133\"},{\"id\":\"2134\"},{\"id\":\"2135\"}]},\"id\":\"2137\",\"type\":\"Toolbar\"},{\"attributes\":{\"bottom_units\":\"screen\",\"coordinates\":null,\"fill_alpha\":0.5,\"fill_color\":\"lightgrey\",\"group\":null,\"left_units\":\"screen\",\"level\":\"overlay\",\"line_alpha\":1.0,\"line_color\":\"black\",\"line_dash\":[4,4],\"line_width\":2,\"right_units\":\"screen\",\"syncable\":false,\"top_units\":\"screen\"},\"id\":\"2136\",\"type\":\"BoxAnnotation\"},{\"attributes\":{},\"id\":\"2131\",\"type\":\"SaveTool\"},{\"attributes\":{\"line_alpha\":0.1,\"line_color\":\"#30a2da\",\"line_width\":2,\"x\":{\"field\":\"Year\"},\"y\":{\"field\":\"Gold Price\"}},\"id\":\"2148\",\"type\":\"Line\"},{\"attributes\":{},\"id\":\"2132\",\"type\":\"PanTool\"},{\"attributes\":{},\"id\":\"2135\",\"type\":\"ResetTool\"},{\"attributes\":{},\"id\":\"2133\",\"type\":\"WheelZoomTool\"},{\"attributes\":{\"coordinates\":null,\"group\":null,\"text\":\"Gold Price 1969 - 2022\",\"text_color\":\"black\",\"text_font_size\":\"12pt\"},\"id\":\"2116\",\"type\":\"Title\"},{\"attributes\":{\"line_color\":\"#30a2da\",\"line_width\":2,\"x\":{\"field\":\"Year\"},\"y\":{\"field\":\"Gold Price\"}},\"id\":\"2147\",\"type\":\"Line\"},{\"attributes\":{\"overlay\":{\"id\":\"2136\"}},\"id\":\"2134\",\"type\":\"BoxZoomTool\"},{\"attributes\":{\"line_color\":\"#30a2da\",\"line_width\":2,\"x\":{\"field\":\"Year\"},\"y\":{\"field\":\"Gold Price\"}},\"id\":\"2152\",\"type\":\"Line\"},{\"attributes\":{\"source\":{\"id\":\"2144\"}},\"id\":\"2151\",\"type\":\"CDSView\"},{\"attributes\":{\"below\":[{\"id\":\"2124\"}],\"center\":[{\"id\":\"2126\"},{\"id\":\"2130\"}],\"left\":[{\"id\":\"2127\"}],\"margin\":[5,5,5,5],\"min_border_bottom\":10,\"min_border_left\":10,\"min_border_right\":10,\"min_border_top\":10,\"renderers\":[{\"id\":\"2150\"}],\"sizing_mode\":\"fixed\",\"title\":{\"id\":\"2116\"},\"toolbar\":{\"id\":\"2137\"},\"width\":800,\"x_range\":{\"id\":\"2112\"},\"x_scale\":{\"id\":\"2120\"},\"y_range\":{\"id\":\"2113\"},\"y_scale\":{\"id\":\"2122\"}},\"id\":\"2115\",\"subtype\":\"Figure\",\"type\":\"Plot\"},{\"attributes\":{\"margin\":[5,5,5,5],\"name\":\"HSpacer03292\",\"sizing_mode\":\"stretch_width\"},\"id\":\"2179\",\"type\":\"Spacer\"},{\"attributes\":{\"axis\":{\"id\":\"2124\"},\"coordinates\":null,\"grid_line_color\":null,\"group\":null,\"ticker\":null},\"id\":\"2126\",\"type\":\"Grid\"},{\"attributes\":{},\"id\":\"2120\",\"type\":\"CategoricalScale\"},{\"attributes\":{\"axis_label\":\"Year\",\"coordinates\":null,\"formatter\":{\"id\":\"2154\"},\"group\":null,\"major_label_orientation\":0.7853981633974483,\"major_label_policy\":{\"id\":\"2155\"},\"ticker\":{\"id\":\"2125\"}},\"id\":\"2124\",\"type\":\"CategoricalAxis\"},{\"attributes\":{},\"id\":\"2154\",\"type\":\"CategoricalTickFormatter\"},{\"attributes\":{\"coordinates\":null,\"data_source\":{\"id\":\"2144\"},\"glyph\":{\"id\":\"2147\"},\"group\":null,\"hover_glyph\":null,\"muted_glyph\":{\"id\":\"2149\"},\"nonselection_glyph\":{\"id\":\"2148\"},\"selection_glyph\":{\"id\":\"2152\"},\"view\":{\"id\":\"2151\"}},\"id\":\"2150\",\"type\":\"GlyphRenderer\"},{\"attributes\":{},\"id\":\"2166\",\"type\":\"UnionRenderers\"},{\"attributes\":{},\"id\":\"2158\",\"type\":\"AllLabels\"},{\"attributes\":{},\"id\":\"2122\",\"type\":\"LinearScale\"},{\"attributes\":{\"data\":{\"Gold Price\":{\"__ndarray__\":\"zczMzMyMREB7FK5H4fpBQGZmZmZmZkRA9ihcj8IVTUBI4XoUrkdYQLgehetR2GNApHA9CtcbZEAzMzMzMzNfQHsUrkfhemJACtejcD0yaEBcj8L1KDBzQAAAAAAANoNAw/UoXI+yfED2KFyPwoF3QI/C9Shce3pAZmZmZmaKdkAfhetRuNZzQDMzMzMzA3dAPQrXo3Dte0AUrkfhekx7QLgehetR1HdASOF6FK77d0A9CtejcKV2QFK4HoXrfXVAzczMzMyAdkDD9ShcjwJ4QIXrUbgeAXhASOF6FK47eEAAAAAAALB0QFK4HoXrYXJA9ihcj8JtcUBxPQrXo3RxQNejcD0K83BA4XoUrkdhc0DhehSuR712QBSuR+F6mHlApHA9CtfPe0AfhetRuOKCQD0K16Nww4VAKVyPwvVCi0DhehSuR22OQHE9CtejKpNAcT0K16OUmEA9CtejcBOaQNejcD0KBpZACtejcD3Ik0A9CtejcBuSQEjhehSuj5NAw/UoXI+xk0AfhetRuNOTQI/C9ShcxZVAUrgeheu2m0DD9ShcjxucQIXrUbge6pxA\",\"dtype\":\"float64\",\"order\":\"little\",\"shape\":[54]},\"Gold_Price\":{\"__ndarray__\":\"zczMzMyMREB7FK5H4fpBQGZmZmZmZkRA9ihcj8IVTUBI4XoUrkdYQLgehetR2GNApHA9CtcbZEAzMzMzMzNfQHsUrkfhemJACtejcD0yaEBcj8L1KDBzQAAAAAAANoNAw/UoXI+yfED2KFyPwoF3QI/C9Shce3pAZmZmZmaKdkAfhetRuNZzQDMzMzMzA3dAPQrXo3Dte0AUrkfhekx7QLgehetR1HdASOF6FK77d0A9CtejcKV2QFK4HoXrfXVAzczMzMyAdkDD9ShcjwJ4QIXrUbgeAXhASOF6FK47eEAAAAAAALB0QFK4HoXrYXJA9ihcj8JtcUBxPQrXo3RxQNejcD0K83BA4XoUrkdhc0DhehSuR712QBSuR+F6mHlApHA9CtfPe0AfhetRuOKCQD0K16Nww4VAKVyPwvVCi0DhehSuR22OQHE9CtejKpNAcT0K16OUmEA9CtejcBOaQNejcD0KBpZACtejcD3Ik0A9CtejcBuSQEjhehSuj5NAw/UoXI+xk0AfhetRuNOTQI/C9ShcxZVAUrgeheu2m0DD9ShcjxucQIXrUbge6pxA\",\"dtype\":\"float64\",\"order\":\"little\",\"shape\":[54]},\"Year\":[\"1969\",\"1970\",\"1971\",\"1972\",\"1973\",\"1974\",\"1975\",\"1976\",\"1977\",\"1978\",\"1979\",\"1980\",\"1981\",\"1982\",\"1983\",\"1984\",\"1985\",\"1986\",\"1987\",\"1988\",\"1989\",\"1990\",\"1991\",\"1992\",\"1993\",\"1994\",\"1995\",\"1996\",\"1997\",\"1998\",\"1999\",\"2000\",\"2001\",\"2002\",\"2003\",\"2004\",\"2005\",\"2006\",\"2007\",\"2008\",\"2009\",\"2010\",\"2011\",\"2012\",\"2013\",\"2014\",\"2015\",\"2016\",\"2017\",\"2018\",\"2019\",\"2020\",\"2021\",\"2022\"]},\"selected\":{\"id\":\"2145\"},\"selection_policy\":{\"id\":\"2166\"}},\"id\":\"2144\",\"type\":\"ColumnDataSource\"},{\"attributes\":{},\"id\":\"2128\",\"type\":\"BasicTicker\"},{\"attributes\":{\"factors\":[\"1969\",\"1970\",\"1971\",\"1972\",\"1973\",\"1974\",\"1975\",\"1976\",\"1977\",\"1978\",\"1979\",\"1980\",\"1981\",\"1982\",\"1983\",\"1984\",\"1985\",\"1986\",\"1987\",\"1988\",\"1989\",\"1990\",\"1991\",\"1992\",\"1993\",\"1994\",\"1995\",\"1996\",\"1997\",\"1998\",\"1999\",\"2000\",\"2001\",\"2002\",\"2003\",\"2004\",\"2005\",\"2006\",\"2007\",\"2008\",\"2009\",\"2010\",\"2011\",\"2012\",\"2013\",\"2014\",\"2015\",\"2016\",\"2017\",\"2018\",\"2019\",\"2020\",\"2021\",\"2022\"],\"tags\":[[[\"Year\",\"Year\",null]]]},\"id\":\"2112\",\"type\":\"FactorRange\"},{\"attributes\":{\"children\":[{\"id\":\"2111\"},{\"id\":\"2115\"},{\"id\":\"2179\"}],\"margin\":[0,0,0,0],\"name\":\"Row03287\",\"tags\":[\"embedded\"]},\"id\":\"2110\",\"type\":\"Row\"},{\"attributes\":{},\"id\":\"2157\",\"type\":\"BasicTickFormatter\"},{\"attributes\":{},\"id\":\"2125\",\"type\":\"CategoricalTicker\"},{\"attributes\":{\"end\":2031.987,\"reset_end\":2031.987,\"reset_start\":-145.49699999999999,\"start\":-145.49699999999999,\"tags\":[[[\"Gold Price\",\"Gold Price\",null]]]},\"id\":\"2113\",\"type\":\"Range1d\"},{\"attributes\":{\"axis_label\":\"Price\",\"coordinates\":null,\"formatter\":{\"id\":\"2157\"},\"group\":null,\"major_label_policy\":{\"id\":\"2158\"},\"ticker\":{\"id\":\"2128\"}},\"id\":\"2127\",\"type\":\"LinearAxis\"},{\"attributes\":{\"callback\":null,\"renderers\":[{\"id\":\"2150\"}],\"tags\":[\"hv_created\"],\"tooltips\":[[\"Year\",\"@{Year}\"],[\"Gold Price\",\"@{Gold_Price}\"]]},\"id\":\"2114\",\"type\":\"HoverTool\"},{\"attributes\":{\"axis\":{\"id\":\"2127\"},\"coordinates\":null,\"dimension\":1,\"grid_line_color\":null,\"group\":null,\"ticker\":null},\"id\":\"2130\",\"type\":\"Grid\"}],\"root_ids\":[\"2110\"]},\"title\":\"Bokeh Application\",\"version\":\"2.4.2\"}};\n",
       "    var render_items = [{\"docid\":\"a13b8ad4-9d5b-42fd-8e67-60f18e939536\",\"root_ids\":[\"2110\"],\"roots\":{\"2110\":\"d7253f65-99f2-4234-9184-05b9e7e21141\"}}];\n",
       "    root.Bokeh.embed.embed_items_notebook(docs_json, render_items);\n",
       "  }\n",
       "  if (root.Bokeh !== undefined && root.Bokeh.Panel !== undefined) {\n",
       "    embed_document(root);\n",
       "  } else {\n",
       "    var attempts = 0;\n",
       "    var timer = setInterval(function(root) {\n",
       "      if (root.Bokeh !== undefined && root.Bokeh.Panel !== undefined) {\n",
       "        clearInterval(timer);\n",
       "        embed_document(root);\n",
       "      } else if (document.readyState == \"complete\") {\n",
       "        attempts++;\n",
       "        if (attempts > 200) {\n",
       "          clearInterval(timer);\n",
       "          console.log(\"Bokeh: ERROR: Unable to run BokehJS code because BokehJS library is missing\");\n",
       "        }\n",
       "      }\n",
       "    }, 25, root)\n",
       "  }\n",
       "})(window);</script>"
      ],
      "text/plain": [
       ":Curve   [Year]   (Gold Price)"
      ]
     },
     "execution_count": 36,
     "metadata": {
      "application/vnd.holoviews_exec.v0+json": {
       "id": "2110"
      }
     },
     "output_type": "execute_result"
    }
   ],
   "source": [
    "# Use find() function to enter the layers of the table that needs to be scraped\n",
    "soup = BeautifulSoup(html_text, 'lxml')\n",
    "div = soup.find('div', class_ = 'col-xs-9', style=\"margin-bottom:200px;\")\n",
    "div_1 = div.find(id=\"style-1\")\n",
    "tb = div_1.find('table', class_ = 'table')\n",
    "gold_price = tb.find('tbody')\n",
    "\n",
    "# Build two empty list for the loop\n",
    "Year = []\n",
    "Price = []\n",
    "\n",
    "# Use for loop to loop through the data in the table to the list \n",
    "for row in gold_price.find_all('tr'):    \n",
    "    Year.append((row.find(style =\"text-align:center\").text))\n",
    "    Price.append((row.find(style =\"text-align:center;\").text))\n",
    "\n",
    "# Put the two lists into a dataframe\n",
    "gold = pd.DataFrame(data = {'Year' : Year, 'Gold Price' : Price}, columns=['Year', 'Gold Price'])\n",
    "gold.set_index(['Year'])\n",
    "\n",
    "# Clean the final data\n",
    "gold[\"Gold Price\"] = gold[\"Gold Price\"].str.replace(\"$\", \"\")\n",
    "gold[\"Gold Price\"] = gold[\"Gold Price\"].str.replace(\",\", \"\").astype(float)\n",
    "\n",
    "# Change year column to descending\n",
    "gold = gold.sort_index(ascending=False)\n",
    "\n",
    "# hvplot visualisation\n",
    "gold.hvplot.line(\n",
    "    x=\"Year\",\n",
    "    ylabel=\"Price\",\n",
    "    xlabel=\"Year\",\n",
    "    label=\"Gold Price 1969 - 2022\",\n",
    "    rot=45,\n",
    "    width=800,\n",
    "    height=600\n",
    ")\n"
   ]
  },
  {
   "cell_type": "code",
   "execution_count": 49,
   "id": "8bf47603-ed64-4968-a015-82d5b68d04ea",
   "metadata": {},
   "outputs": [
    {
     "data": {
      "text/html": [
       "<div>\n",
       "<style scoped>\n",
       "    .dataframe tbody tr th:only-of-type {\n",
       "        vertical-align: middle;\n",
       "    }\n",
       "\n",
       "    .dataframe tbody tr th {\n",
       "        vertical-align: top;\n",
       "    }\n",
       "\n",
       "    .dataframe thead th {\n",
       "        text-align: right;\n",
       "    }\n",
       "</style>\n",
       "<table border=\"1\" class=\"dataframe\">\n",
       "  <thead>\n",
       "    <tr style=\"text-align: right;\">\n",
       "      <th></th>\n",
       "      <th>Year</th>\n",
       "      <th>Gold Price</th>\n",
       "    </tr>\n",
       "  </thead>\n",
       "  <tbody>\n",
       "    <tr>\n",
       "      <th>53</th>\n",
       "      <td>1969</td>\n",
       "      <td>41.10</td>\n",
       "    </tr>\n",
       "    <tr>\n",
       "      <th>52</th>\n",
       "      <td>1970</td>\n",
       "      <td>35.96</td>\n",
       "    </tr>\n",
       "    <tr>\n",
       "      <th>51</th>\n",
       "      <td>1971</td>\n",
       "      <td>40.80</td>\n",
       "    </tr>\n",
       "    <tr>\n",
       "      <th>50</th>\n",
       "      <td>1972</td>\n",
       "      <td>58.17</td>\n",
       "    </tr>\n",
       "    <tr>\n",
       "      <th>49</th>\n",
       "      <td>1973</td>\n",
       "      <td>97.12</td>\n",
       "    </tr>\n",
       "  </tbody>\n",
       "</table>\n",
       "</div>"
      ],
      "text/plain": [
       "    Year  Gold Price\n",
       "53  1969       41.10\n",
       "52  1970       35.96\n",
       "51  1971       40.80\n",
       "50  1972       58.17\n",
       "49  1973       97.12"
      ]
     },
     "metadata": {},
     "output_type": "display_data"
    },
    {
     "data": {
      "text/plain": [
       "Year\n",
       "2022    NaN\n",
       "2021    2.9\n",
       "2020    0.8\n",
       "2019    1.6\n",
       "2018    1.9\n",
       "Name: Annual_Inflation, dtype: float64"
      ]
     },
     "metadata": {},
     "output_type": "display_data"
    }
   ],
   "source": [
    "display(gold.head(5))\n",
    "display(inflation_df[\"Annual_Inflation\"].head(5))"
   ]
  },
  {
   "cell_type": "code",
   "execution_count": 43,
   "id": "0fbb8b3a-71ff-4885-a5eb-13ed3ac9af0b",
   "metadata": {},
   "outputs": [],
   "source": [
    "ann_inf = inflation_df[\"Annual_Inflation\"]"
   ]
  },
  {
   "cell_type": "code",
   "execution_count": 53,
   "id": "a0fd4220-9bec-4220-b494-2421b8f93936",
   "metadata": {},
   "outputs": [
    {
     "data": {
      "text/html": [
       "<div>\n",
       "<style scoped>\n",
       "    .dataframe tbody tr th:only-of-type {\n",
       "        vertical-align: middle;\n",
       "    }\n",
       "\n",
       "    .dataframe tbody tr th {\n",
       "        vertical-align: top;\n",
       "    }\n",
       "\n",
       "    .dataframe thead th {\n",
       "        text-align: right;\n",
       "    }\n",
       "</style>\n",
       "<table border=\"1\" class=\"dataframe\">\n",
       "  <thead>\n",
       "    <tr style=\"text-align: right;\">\n",
       "      <th></th>\n",
       "      <th>Gold Price</th>\n",
       "    </tr>\n",
       "    <tr>\n",
       "      <th>Year</th>\n",
       "      <th></th>\n",
       "    </tr>\n",
       "  </thead>\n",
       "  <tbody>\n",
       "    <tr>\n",
       "      <th>1969</th>\n",
       "      <td>41.10</td>\n",
       "    </tr>\n",
       "    <tr>\n",
       "      <th>1970</th>\n",
       "      <td>35.96</td>\n",
       "    </tr>\n",
       "    <tr>\n",
       "      <th>1971</th>\n",
       "      <td>40.80</td>\n",
       "    </tr>\n",
       "    <tr>\n",
       "      <th>1972</th>\n",
       "      <td>58.17</td>\n",
       "    </tr>\n",
       "    <tr>\n",
       "      <th>1973</th>\n",
       "      <td>97.12</td>\n",
       "    </tr>\n",
       "  </tbody>\n",
       "</table>\n",
       "</div>"
      ],
      "text/plain": [
       "      Gold Price\n",
       "Year            \n",
       "1969       41.10\n",
       "1970       35.96\n",
       "1971       40.80\n",
       "1972       58.17\n",
       "1973       97.12"
      ]
     },
     "execution_count": 53,
     "metadata": {},
     "output_type": "execute_result"
    }
   ],
   "source": [
    "gold_df = gold.set_index([\"Year\"])\n",
    "gold_df.head(5)"
   ]
  },
  {
   "cell_type": "code",
   "execution_count": 55,
   "id": "9f083fcf-1e8f-41ca-b325-9aeb775d9f2e",
   "metadata": {},
   "outputs": [
    {
     "data": {
      "text/plain": [
       "Year\n",
       "1949    114.7\n",
       "1950      8.7\n",
       "1951     19.4\n",
       "1952     17.2\n",
       "1953      4.5\n",
       "        ...  \n",
       "2018      1.9\n",
       "2019      1.6\n",
       "2020      0.8\n",
       "2021      2.9\n",
       "2022      NaN\n",
       "Name: Annual_Inflation, Length: 74, dtype: float64"
      ]
     },
     "execution_count": 55,
     "metadata": {},
     "output_type": "execute_result"
    }
   ],
   "source": [
    "ann_inf = ann_inf.sort_index(ascending=True)"
   ]
  },
  {
   "cell_type": "code",
   "execution_count": 57,
   "id": "e2f0b50f-96f8-4669-ab5d-5404be46a6e0",
   "metadata": {},
   "outputs": [
    {
     "data": {
      "text/html": [
       "<div>\n",
       "<style scoped>\n",
       "    .dataframe tbody tr th:only-of-type {\n",
       "        vertical-align: middle;\n",
       "    }\n",
       "\n",
       "    .dataframe tbody tr th {\n",
       "        vertical-align: top;\n",
       "    }\n",
       "\n",
       "    .dataframe thead th {\n",
       "        text-align: right;\n",
       "    }\n",
       "</style>\n",
       "<table border=\"1\" class=\"dataframe\">\n",
       "  <thead>\n",
       "    <tr style=\"text-align: right;\">\n",
       "      <th></th>\n",
       "      <th>Annual_Inflation</th>\n",
       "      <th>Gold Price</th>\n",
       "    </tr>\n",
       "    <tr>\n",
       "      <th>Year</th>\n",
       "      <th></th>\n",
       "      <th></th>\n",
       "    </tr>\n",
       "  </thead>\n",
       "  <tbody>\n",
       "    <tr>\n",
       "      <th>1949</th>\n",
       "      <td>114.7</td>\n",
       "      <td>NaN</td>\n",
       "    </tr>\n",
       "    <tr>\n",
       "      <th>1950</th>\n",
       "      <td>8.7</td>\n",
       "      <td>NaN</td>\n",
       "    </tr>\n",
       "    <tr>\n",
       "      <th>1951</th>\n",
       "      <td>19.4</td>\n",
       "      <td>NaN</td>\n",
       "    </tr>\n",
       "    <tr>\n",
       "      <th>1952</th>\n",
       "      <td>17.2</td>\n",
       "      <td>NaN</td>\n",
       "    </tr>\n",
       "    <tr>\n",
       "      <th>1953</th>\n",
       "      <td>4.5</td>\n",
       "      <td>NaN</td>\n",
       "    </tr>\n",
       "    <tr>\n",
       "      <th>...</th>\n",
       "      <td>...</td>\n",
       "      <td>...</td>\n",
       "    </tr>\n",
       "    <tr>\n",
       "      <th>2018</th>\n",
       "      <td>NaN</td>\n",
       "      <td>1268.93</td>\n",
       "    </tr>\n",
       "    <tr>\n",
       "      <th>2019</th>\n",
       "      <td>NaN</td>\n",
       "      <td>1393.34</td>\n",
       "    </tr>\n",
       "    <tr>\n",
       "      <th>2020</th>\n",
       "      <td>NaN</td>\n",
       "      <td>1773.73</td>\n",
       "    </tr>\n",
       "    <tr>\n",
       "      <th>2021</th>\n",
       "      <td>NaN</td>\n",
       "      <td>1798.89</td>\n",
       "    </tr>\n",
       "    <tr>\n",
       "      <th>2022</th>\n",
       "      <td>NaN</td>\n",
       "      <td>1850.53</td>\n",
       "    </tr>\n",
       "  </tbody>\n",
       "</table>\n",
       "<p>128 rows × 2 columns</p>\n",
       "</div>"
      ],
      "text/plain": [
       "      Annual_Inflation  Gold Price\n",
       "Year                              \n",
       "1949             114.7         NaN\n",
       "1950               8.7         NaN\n",
       "1951              19.4         NaN\n",
       "1952              17.2         NaN\n",
       "1953               4.5         NaN\n",
       "...                ...         ...\n",
       "2018               NaN     1268.93\n",
       "2019               NaN     1393.34\n",
       "2020               NaN     1773.73\n",
       "2021               NaN     1798.89\n",
       "2022               NaN     1850.53\n",
       "\n",
       "[128 rows x 2 columns]"
      ]
     },
     "execution_count": 57,
     "metadata": {},
     "output_type": "execute_result"
    }
   ],
   "source": [
    "gold_vs_inflation = pd.concat([ann_inf, gold_df], axis=1)\n",
    "gold_vs_inflation"
   ]
  },
  {
   "cell_type": "code",
   "execution_count": 60,
   "id": "6c440d9a-aa76-4ed6-806f-d28eecaf1471",
   "metadata": {},
   "outputs": [
    {
     "data": {
      "text/html": [
       "<div>\n",
       "<style scoped>\n",
       "    .dataframe tbody tr th:only-of-type {\n",
       "        vertical-align: middle;\n",
       "    }\n",
       "\n",
       "    .dataframe tbody tr th {\n",
       "        vertical-align: top;\n",
       "    }\n",
       "\n",
       "    .dataframe thead th {\n",
       "        text-align: right;\n",
       "    }\n",
       "</style>\n",
       "<table border=\"1\" class=\"dataframe\">\n",
       "  <thead>\n",
       "    <tr style=\"text-align: right;\">\n",
       "      <th></th>\n",
       "      <th>Annual_Inflation</th>\n",
       "      <th>Gold Price</th>\n",
       "    </tr>\n",
       "  </thead>\n",
       "  <tbody>\n",
       "    <tr>\n",
       "      <th>Annual_Inflation</th>\n",
       "      <td>1.0</td>\n",
       "      <td>NaN</td>\n",
       "    </tr>\n",
       "    <tr>\n",
       "      <th>Gold Price</th>\n",
       "      <td>NaN</td>\n",
       "      <td>1.0</td>\n",
       "    </tr>\n",
       "  </tbody>\n",
       "</table>\n",
       "</div>"
      ],
      "text/plain": [
       "                  Annual_Inflation  Gold Price\n",
       "Annual_Inflation               1.0         NaN\n",
       "Gold Price                     NaN         1.0"
      ]
     },
     "execution_count": 60,
     "metadata": {},
     "output_type": "execute_result"
    }
   ],
   "source": [
    "gvi = gold_vs_inflation.corr()\n",
    "gvi"
   ]
  },
  {
   "cell_type": "markdown",
   "id": "f9b918c0",
   "metadata": {},
   "source": [
    "Wage"
   ]
  },
  {
   "cell_type": "code",
   "execution_count": null,
   "id": "a8e14f89",
   "metadata": {},
   "outputs": [],
   "source": [
    "# From 1967 to 1979, the data was manually imported from the archived documents in ABS\n",
    "date = [\n",
    "    '1967-Q1',\n",
    "    '1967-Q2', \n",
    "    '1967-Q3', \n",
    "    '1967-Q4',\n",
    "    '1968-Q1',\n",
    "    '1968-Q2',\n",
    "    '1968-Q3',\n",
    "    '1968-Q4',\n",
    "    '1969-Q1',\n",
    "    '1969-Q2',\n",
    "    '1969-Q3',\n",
    "    '1969-Q4',\n",
    "    '1970-Q1',\n",
    "    '1970-Q2',\n",
    "    '1970-Q3',\n",
    "    '1970-Q4',\n",
    "    '1971-Q1',\n",
    "    '1971-Q2',\n",
    "    '1971-Q3',\n",
    "    '1971-Q4',\n",
    "    '1972-Q1',\n",
    "    '1972-Q2',\n",
    "    '1972-Q3',\n",
    "    '1972-Q4',\n",
    "    '1973-Q1',\n",
    "    '1973-Q2',\n",
    "    '1973-Q3',\n",
    "    '1973-Q4',\n",
    "    '1974-Q1',\n",
    "    '1974-Q2',\n",
    "    '1974-Q3',\n",
    "    '1974-Q4',\n",
    "    '1975-Q1',\n",
    "    '1975-Q2',\n",
    "    '1975-Q3',\n",
    "    '1975-Q4',\n",
    "    '1976-Q1',\n",
    "    '1976-Q2',\n",
    "    '1976-Q3',\n",
    "    '1976-Q4',\n",
    "    '1977-Q1',\n",
    "    '1977-Q2',\n",
    "    '1977-Q3',\n",
    "    '1977-Q4',\n",
    "    '1978-Q1',\n",
    "    '1978-Q2',\n",
    "    '1978-Q3',\n",
    "    '1978-Q4',\n",
    "]\n",
    "\n",
    "value = [\n",
    "    62.00,\n",
    "    63.2,\n",
    "    64.3,\n",
    "    64.9,\n",
    "    65.4,\n",
    "    66.8,\n",
    "    67.7,\n",
    "    69.8,\n",
    "    71.6,\n",
    "    72.2,\n",
    "    73.6,\n",
    "    75.1,\n",
    "    77,\n",
    "    78.8,\n",
    "    80,\n",
    "    82,\n",
    "    87,\n",
    "    88.3,\n",
    "    90,\n",
    "    91.8,\n",
    "    93.4,\n",
    "    95.2,\n",
    "    97.9,\n",
    "    100.10,\n",
    "    102,\n",
    "    106.3,\n",
    "    111.9,\n",
    "    115,\n",
    "    118.8,\n",
    "    127.7,\n",
    "    140,\n",
    "    148,\n",
    "    151,\n",
    "    155.3,\n",
    "    159.1,\n",
    "    167.5,\n",
    "    170.7,\n",
    "    179,\n",
    "    184.7,\n",
    "    187.4,\n",
    "    192,\n",
    "    198,\n",
    "    204.5,\n",
    "    205.2,\n",
    "    213,\n",
    "    215.6,\n",
    "    220.6,\n",
    "    221,\n",
    "]"
   ]
  },
  {
   "cell_type": "code",
   "execution_count": null,
   "id": "259ea9b2",
   "metadata": {},
   "outputs": [],
   "source": [
    "# Create a dataframe to store the data\n",
    "df = pd.DataFrame()\n",
    "df['Time'] = date\n",
    "df['Weekly Wgae'] = value\n",
    "df.set_index(['Time'], inplace = True)\n",
    "\n",
    "# Visualise the data\n",
    "wage_plot = df.hvplot(rot = 90)\n",
    "wage_plot"
   ]
  },
  {
   "cell_type": "code",
   "execution_count": 2,
   "id": "48385746",
   "metadata": {},
   "outputs": [],
   "source": [
    "# From\n",
    "import pandas as pd\n",
    "import requests\n",
    "\n",
    "response_data = requests.get('https://api.data.abs.gov.au/data/ABS,WPI,1.0.0/1.THRPEB.7.TOT.10.AUS.Q?startPeriod=1997-Q3&endPeriod=2022-Q1&detail=dataonly&format=jsondata')\n",
    "response_content = response_data.content"
   ]
  },
  {
   "cell_type": "code",
   "execution_count": 3,
   "id": "e92fd444",
   "metadata": {},
   "outputs": [],
   "source": [
    "# Change the data format to json\n",
    "import json\n",
    "data = response_data.json()"
   ]
  },
  {
   "cell_type": "code",
   "execution_count": 5,
   "id": "b74a3bc7",
   "metadata": {},
   "outputs": [],
   "source": [
    "# Enter the final layer in the ABS api\n",
    "data_1 = pd.DataFrame(data)\n",
    "pd.DataFrame(data_1[\"data\"])\n",
    "\n",
    "data_3 = data_1[\"data\"]['structure']\n",
    "data_4 = data_3['dimensions']['observation'][0]['values']\n",
    "\n",
    "# Create an empty list for wpi timeline\n",
    "wpi_name = []\n",
    "\n",
    "# Loop the wpi timeline into a list\n",
    "for i in data_4:\n",
    "    ls = i['id']\n",
    "    wpi_name.append(ls)\n",
    "\n",
    "data_2 = data_1[\"data\"]['dataSets']\n",
    "data_final = data_2[0]['series']['0:0:0:0:0:0:0']['observations']\n",
    "\n",
    "# Reverse the rows and columns to be plotted\n",
    "df_1 = pd.DataFrame(data_final).T\n",
    "df_1.columns = ['WPI']\n",
    "\n",
    "# Modify the data structure\n",
    "df_1['Time'] = wpi_name\n",
    "df1 = df_1.set_index(['Time'])\n",
    "\n",
    "# Plot the data\n",
    "df_plot = df1.plot(kind = 'line')\n",
    "df_plot"
   ]
  }
 ],
 "metadata": {
  "kernelspec": {
   "display_name": "Python 3 (ipykernel)",
   "language": "python",
   "name": "python3"
  },
  "language_info": {
   "codemirror_mode": {
    "name": "ipython",
    "version": 3
   },
   "file_extension": ".py",
   "mimetype": "text/x-python",
   "name": "python",
   "nbconvert_exporter": "python",
   "pygments_lexer": "ipython3",
   "version": "3.7.13"
  },
  "vscode": {
   "interpreter": {
    "hash": "b35ca89d9018ed0c66fe7e8a54111fe4e293837f156f1f59214a7cb310dc2c22"
   }
  }
 },
 "nbformat": 4,
 "nbformat_minor": 5
}
