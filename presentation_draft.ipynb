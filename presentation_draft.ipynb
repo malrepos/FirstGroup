{
 "cells": [
  {
   "cell_type": "code",
   "execution_count": 83,
   "id": "30ba593f-453e-465c-9cf6-033a24b20135",
   "metadata": {},
   "outputs": [],
   "source": [
    "import pandas as pd\n",
    "import numpy as np\n",
    "import hvplot.pandas\n",
    "from pathlib import Path\n",
    "import matplotlib.pyplot as plt\n",
    "import seaborn as sns"
   ]
  },
  {
   "cell_type": "code",
   "execution_count": 3,
   "id": "109f3016-5811-4f6b-994b-eb5baa5b938e",
   "metadata": {},
   "outputs": [],
   "source": [
    "# this website had the hsitorical inflation rate in table form\n",
    "\n",
    "inf_url = \"https://www.rateinflation.com/inflation-rate/australia-historical-inflation-rate/\""
   ]
  },
  {
   "cell_type": "code",
   "execution_count": 4,
   "id": "d434f957-ff53-4c7e-a7b7-27f56d109767",
   "metadata": {},
   "outputs": [
    {
     "data": {
      "text/plain": [
       "[    Year    mar    jun    sep    dec  Annual\n",
       " 0   2022   5.1%   6.1%    NaN    NaN     NaN\n",
       " 1   2021   1.1%   3.8%   3.0%   3.5%    2.9%\n",
       " 2   2020   2.2%  -0.3%   0.7%   0.9%    0.8%\n",
       " 3   2019   1.3%   1.6%   1.7%   1.8%    1.6%\n",
       " 4   2018   1.9%   2.1%   1.9%   1.8%    1.9%\n",
       " ..   ...    ...    ...    ...    ...     ...\n",
       " 69  1953   6.8%   4.9%   4.8%   1.6%    4.5%\n",
       " 70  1952  22.9%  19.6%  17.0%  10.5%   17.2%\n",
       " 71  1951  14.3%  18.6%  20.5%  23.9%   19.4%\n",
       " 72  1950   7.7%   7.5%   7.3%  12.2%    8.7%\n",
       " 73  1949     ∞%     ∞%  10.8%   7.9%  114.7%\n",
       " \n",
       " [74 rows x 6 columns]]"
      ]
     },
     "execution_count": 4,
     "metadata": {},
     "output_type": "execute_result"
    }
   ],
   "source": [
    "# I use the read_html method to grab the table data from the website\n",
    "\n",
    "inflation_df = pd.read_html(inf_url)\n",
    "inflation_df"
   ]
  },
  {
   "cell_type": "code",
   "execution_count": 5,
   "id": "6fcaa384-b324-4b6b-a602-27444768e35e",
   "metadata": {},
   "outputs": [
    {
     "data": {
      "text/html": [
       "<div>\n",
       "<style scoped>\n",
       "    .dataframe tbody tr th:only-of-type {\n",
       "        vertical-align: middle;\n",
       "    }\n",
       "\n",
       "    .dataframe tbody tr th {\n",
       "        vertical-align: top;\n",
       "    }\n",
       "\n",
       "    .dataframe thead th {\n",
       "        text-align: right;\n",
       "    }\n",
       "</style>\n",
       "<table border=\"1\" class=\"dataframe\">\n",
       "  <thead>\n",
       "    <tr style=\"text-align: right;\">\n",
       "      <th></th>\n",
       "      <th>Year</th>\n",
       "      <th>mar</th>\n",
       "      <th>jun</th>\n",
       "      <th>sep</th>\n",
       "      <th>dec</th>\n",
       "      <th>Annual</th>\n",
       "    </tr>\n",
       "  </thead>\n",
       "  <tbody>\n",
       "    <tr>\n",
       "      <th>0</th>\n",
       "      <td>2022</td>\n",
       "      <td>5.1%</td>\n",
       "      <td>6.1%</td>\n",
       "      <td>NaN</td>\n",
       "      <td>NaN</td>\n",
       "      <td>NaN</td>\n",
       "    </tr>\n",
       "    <tr>\n",
       "      <th>1</th>\n",
       "      <td>2021</td>\n",
       "      <td>1.1%</td>\n",
       "      <td>3.8%</td>\n",
       "      <td>3.0%</td>\n",
       "      <td>3.5%</td>\n",
       "      <td>2.9%</td>\n",
       "    </tr>\n",
       "    <tr>\n",
       "      <th>2</th>\n",
       "      <td>2020</td>\n",
       "      <td>2.2%</td>\n",
       "      <td>-0.3%</td>\n",
       "      <td>0.7%</td>\n",
       "      <td>0.9%</td>\n",
       "      <td>0.8%</td>\n",
       "    </tr>\n",
       "    <tr>\n",
       "      <th>3</th>\n",
       "      <td>2019</td>\n",
       "      <td>1.3%</td>\n",
       "      <td>1.6%</td>\n",
       "      <td>1.7%</td>\n",
       "      <td>1.8%</td>\n",
       "      <td>1.6%</td>\n",
       "    </tr>\n",
       "    <tr>\n",
       "      <th>4</th>\n",
       "      <td>2018</td>\n",
       "      <td>1.9%</td>\n",
       "      <td>2.1%</td>\n",
       "      <td>1.9%</td>\n",
       "      <td>1.8%</td>\n",
       "      <td>1.9%</td>\n",
       "    </tr>\n",
       "    <tr>\n",
       "      <th>...</th>\n",
       "      <td>...</td>\n",
       "      <td>...</td>\n",
       "      <td>...</td>\n",
       "      <td>...</td>\n",
       "      <td>...</td>\n",
       "      <td>...</td>\n",
       "    </tr>\n",
       "    <tr>\n",
       "      <th>69</th>\n",
       "      <td>1953</td>\n",
       "      <td>6.8%</td>\n",
       "      <td>4.9%</td>\n",
       "      <td>4.8%</td>\n",
       "      <td>1.6%</td>\n",
       "      <td>4.5%</td>\n",
       "    </tr>\n",
       "    <tr>\n",
       "      <th>70</th>\n",
       "      <td>1952</td>\n",
       "      <td>22.9%</td>\n",
       "      <td>19.6%</td>\n",
       "      <td>17.0%</td>\n",
       "      <td>10.5%</td>\n",
       "      <td>17.2%</td>\n",
       "    </tr>\n",
       "    <tr>\n",
       "      <th>71</th>\n",
       "      <td>1951</td>\n",
       "      <td>14.3%</td>\n",
       "      <td>18.6%</td>\n",
       "      <td>20.5%</td>\n",
       "      <td>23.9%</td>\n",
       "      <td>19.4%</td>\n",
       "    </tr>\n",
       "    <tr>\n",
       "      <th>72</th>\n",
       "      <td>1950</td>\n",
       "      <td>7.7%</td>\n",
       "      <td>7.5%</td>\n",
       "      <td>7.3%</td>\n",
       "      <td>12.2%</td>\n",
       "      <td>8.7%</td>\n",
       "    </tr>\n",
       "    <tr>\n",
       "      <th>73</th>\n",
       "      <td>1949</td>\n",
       "      <td>∞%</td>\n",
       "      <td>∞%</td>\n",
       "      <td>10.8%</td>\n",
       "      <td>7.9%</td>\n",
       "      <td>114.7%</td>\n",
       "    </tr>\n",
       "  </tbody>\n",
       "</table>\n",
       "<p>74 rows × 6 columns</p>\n",
       "</div>"
      ],
      "text/plain": [
       "    Year    mar    jun    sep    dec  Annual\n",
       "0   2022   5.1%   6.1%    NaN    NaN     NaN\n",
       "1   2021   1.1%   3.8%   3.0%   3.5%    2.9%\n",
       "2   2020   2.2%  -0.3%   0.7%   0.9%    0.8%\n",
       "3   2019   1.3%   1.6%   1.7%   1.8%    1.6%\n",
       "4   2018   1.9%   2.1%   1.9%   1.8%    1.9%\n",
       "..   ...    ...    ...    ...    ...     ...\n",
       "69  1953   6.8%   4.9%   4.8%   1.6%    4.5%\n",
       "70  1952  22.9%  19.6%  17.0%  10.5%   17.2%\n",
       "71  1951  14.3%  18.6%  20.5%  23.9%   19.4%\n",
       "72  1950   7.7%   7.5%   7.3%  12.2%    8.7%\n",
       "73  1949     ∞%     ∞%  10.8%   7.9%  114.7%\n",
       "\n",
       "[74 rows x 6 columns]"
      ]
     },
     "execution_count": 5,
     "metadata": {},
     "output_type": "execute_result"
    }
   ],
   "source": [
    "# I take the object returned and save it as a dataframe\n",
    "\n",
    "inflation_df = inflation_df[0]\n",
    "inflation_df"
   ]
  },
  {
   "cell_type": "code",
   "execution_count": 6,
   "id": "3f3657e5-72aa-4469-878f-82f642ef12f1",
   "metadata": {},
   "outputs": [
    {
     "data": {
      "text/plain": [
       "Int64Index([2022, 2021, 2020, 2019, 2018, 2017, 2016, 2015, 2014, 2013, 2012,\n",
       "            2011, 2010, 2009, 2008, 2007, 2006, 2005, 2004, 2003, 2002, 2001,\n",
       "            2000, 1999, 1998, 1997, 1996, 1995, 1994, 1993, 1992, 1991, 1990,\n",
       "            1989, 1988, 1987, 1986, 1985, 1984, 1983, 1982, 1981, 1980, 1979,\n",
       "            1978, 1977, 1976, 1975, 1974, 1973, 1972, 1971, 1970, 1969, 1968,\n",
       "            1967, 1966, 1965, 1964, 1963, 1962, 1961, 1960, 1959, 1958, 1957,\n",
       "            1956, 1955, 1954, 1953, 1952, 1951, 1950, 1949],\n",
       "           dtype='int64', name='Year')"
      ]
     },
     "execution_count": 6,
     "metadata": {},
     "output_type": "execute_result"
    }
   ],
   "source": [
    "# I set the index for the inflation data as \"Year\"\n",
    "\n",
    "inflation_df = inflation_df.set_index(\"Year\")\n",
    "inflation_df.index"
   ]
  },
  {
   "cell_type": "code",
   "execution_count": 7,
   "id": "37b75608-8d8c-4208-bd2e-ec3215d8ee2a",
   "metadata": {},
   "outputs": [
    {
     "data": {
      "text/plain": [
       "Year\n",
       "2022      NaN\n",
       "2021      2.9\n",
       "2020      0.8\n",
       "2019      1.6\n",
       "2018      1.9\n",
       "        ...  \n",
       "1953      4.5\n",
       "1952     17.2\n",
       "1951     19.4\n",
       "1950      8.7\n",
       "1949    114.7\n",
       "Name: Annual, Length: 74, dtype: float64"
      ]
     },
     "execution_count": 7,
     "metadata": {},
     "output_type": "execute_result"
    }
   ],
   "source": [
    "# I pulled out only the annual inflation rate\n",
    "# I also clean this column by removing the '%' and convert to a float\n",
    "\n",
    "inflation_df[\"Annual\"] = inflation_df[\"Annual\"].str.replace(\"%\", \"\").astype(float)\n",
    "inflation_df[\"Annual\"]"
   ]
  },
  {
   "cell_type": "code",
   "execution_count": 8,
   "id": "97ea9e85-c918-41c6-8eb4-5de07f09df5b",
   "metadata": {},
   "outputs": [
    {
     "data": {
      "text/html": [
       "<div>\n",
       "<style scoped>\n",
       "    .dataframe tbody tr th:only-of-type {\n",
       "        vertical-align: middle;\n",
       "    }\n",
       "\n",
       "    .dataframe tbody tr th {\n",
       "        vertical-align: top;\n",
       "    }\n",
       "\n",
       "    .dataframe thead th {\n",
       "        text-align: right;\n",
       "    }\n",
       "</style>\n",
       "<table border=\"1\" class=\"dataframe\">\n",
       "  <thead>\n",
       "    <tr style=\"text-align: right;\">\n",
       "      <th></th>\n",
       "      <th>mar</th>\n",
       "      <th>jun</th>\n",
       "      <th>sep</th>\n",
       "      <th>dec</th>\n",
       "      <th>Annual</th>\n",
       "    </tr>\n",
       "    <tr>\n",
       "      <th>Year</th>\n",
       "      <th></th>\n",
       "      <th></th>\n",
       "      <th></th>\n",
       "      <th></th>\n",
       "      <th></th>\n",
       "    </tr>\n",
       "  </thead>\n",
       "  <tbody>\n",
       "    <tr>\n",
       "      <th>2022</th>\n",
       "      <td>5.1%</td>\n",
       "      <td>6.1%</td>\n",
       "      <td>NaN</td>\n",
       "      <td>NaN</td>\n",
       "      <td>NaN</td>\n",
       "    </tr>\n",
       "    <tr>\n",
       "      <th>2021</th>\n",
       "      <td>1.1%</td>\n",
       "      <td>3.8%</td>\n",
       "      <td>3.0%</td>\n",
       "      <td>3.5%</td>\n",
       "      <td>2.9</td>\n",
       "    </tr>\n",
       "    <tr>\n",
       "      <th>2020</th>\n",
       "      <td>2.2%</td>\n",
       "      <td>-0.3%</td>\n",
       "      <td>0.7%</td>\n",
       "      <td>0.9%</td>\n",
       "      <td>0.8</td>\n",
       "    </tr>\n",
       "    <tr>\n",
       "      <th>2019</th>\n",
       "      <td>1.3%</td>\n",
       "      <td>1.6%</td>\n",
       "      <td>1.7%</td>\n",
       "      <td>1.8%</td>\n",
       "      <td>1.6</td>\n",
       "    </tr>\n",
       "    <tr>\n",
       "      <th>2018</th>\n",
       "      <td>1.9%</td>\n",
       "      <td>2.1%</td>\n",
       "      <td>1.9%</td>\n",
       "      <td>1.8%</td>\n",
       "      <td>1.9</td>\n",
       "    </tr>\n",
       "  </tbody>\n",
       "</table>\n",
       "</div>"
      ],
      "text/plain": [
       "       mar    jun   sep   dec  Annual\n",
       "Year                                 \n",
       "2022  5.1%   6.1%   NaN   NaN     NaN\n",
       "2021  1.1%   3.8%  3.0%  3.5%     2.9\n",
       "2020  2.2%  -0.3%  0.7%  0.9%     0.8\n",
       "2019  1.3%   1.6%  1.7%  1.8%     1.6\n",
       "2018  1.9%   2.1%  1.9%  1.8%     1.9"
      ]
     },
     "execution_count": 8,
     "metadata": {},
     "output_type": "execute_result"
    }
   ],
   "source": [
    "inflation_df.head()"
   ]
  },
  {
   "cell_type": "code",
   "execution_count": 9,
   "id": "92dcd85b-c7f0-44b6-8a5e-4ba6224c8620",
   "metadata": {},
   "outputs": [
    {
     "data": {
      "text/html": [
       "<div>\n",
       "<style scoped>\n",
       "    .dataframe tbody tr th:only-of-type {\n",
       "        vertical-align: middle;\n",
       "    }\n",
       "\n",
       "    .dataframe tbody tr th {\n",
       "        vertical-align: top;\n",
       "    }\n",
       "\n",
       "    .dataframe thead th {\n",
       "        text-align: right;\n",
       "    }\n",
       "</style>\n",
       "<table border=\"1\" class=\"dataframe\">\n",
       "  <thead>\n",
       "    <tr style=\"text-align: right;\">\n",
       "      <th></th>\n",
       "      <th>mar</th>\n",
       "      <th>jun</th>\n",
       "      <th>sep</th>\n",
       "      <th>dec</th>\n",
       "      <th>Annual_Inflation</th>\n",
       "    </tr>\n",
       "    <tr>\n",
       "      <th>Year</th>\n",
       "      <th></th>\n",
       "      <th></th>\n",
       "      <th></th>\n",
       "      <th></th>\n",
       "      <th></th>\n",
       "    </tr>\n",
       "  </thead>\n",
       "  <tbody>\n",
       "    <tr>\n",
       "      <th>2022</th>\n",
       "      <td>5.1%</td>\n",
       "      <td>6.1%</td>\n",
       "      <td>NaN</td>\n",
       "      <td>NaN</td>\n",
       "      <td>NaN</td>\n",
       "    </tr>\n",
       "    <tr>\n",
       "      <th>2021</th>\n",
       "      <td>1.1%</td>\n",
       "      <td>3.8%</td>\n",
       "      <td>3.0%</td>\n",
       "      <td>3.5%</td>\n",
       "      <td>2.9</td>\n",
       "    </tr>\n",
       "    <tr>\n",
       "      <th>2020</th>\n",
       "      <td>2.2%</td>\n",
       "      <td>-0.3%</td>\n",
       "      <td>0.7%</td>\n",
       "      <td>0.9%</td>\n",
       "      <td>0.8</td>\n",
       "    </tr>\n",
       "    <tr>\n",
       "      <th>2019</th>\n",
       "      <td>1.3%</td>\n",
       "      <td>1.6%</td>\n",
       "      <td>1.7%</td>\n",
       "      <td>1.8%</td>\n",
       "      <td>1.6</td>\n",
       "    </tr>\n",
       "    <tr>\n",
       "      <th>2018</th>\n",
       "      <td>1.9%</td>\n",
       "      <td>2.1%</td>\n",
       "      <td>1.9%</td>\n",
       "      <td>1.8%</td>\n",
       "      <td>1.9</td>\n",
       "    </tr>\n",
       "    <tr>\n",
       "      <th>...</th>\n",
       "      <td>...</td>\n",
       "      <td>...</td>\n",
       "      <td>...</td>\n",
       "      <td>...</td>\n",
       "      <td>...</td>\n",
       "    </tr>\n",
       "    <tr>\n",
       "      <th>1953</th>\n",
       "      <td>6.8%</td>\n",
       "      <td>4.9%</td>\n",
       "      <td>4.8%</td>\n",
       "      <td>1.6%</td>\n",
       "      <td>4.5</td>\n",
       "    </tr>\n",
       "    <tr>\n",
       "      <th>1952</th>\n",
       "      <td>22.9%</td>\n",
       "      <td>19.6%</td>\n",
       "      <td>17.0%</td>\n",
       "      <td>10.5%</td>\n",
       "      <td>17.2</td>\n",
       "    </tr>\n",
       "    <tr>\n",
       "      <th>1951</th>\n",
       "      <td>14.3%</td>\n",
       "      <td>18.6%</td>\n",
       "      <td>20.5%</td>\n",
       "      <td>23.9%</td>\n",
       "      <td>19.4</td>\n",
       "    </tr>\n",
       "    <tr>\n",
       "      <th>1950</th>\n",
       "      <td>7.7%</td>\n",
       "      <td>7.5%</td>\n",
       "      <td>7.3%</td>\n",
       "      <td>12.2%</td>\n",
       "      <td>8.7</td>\n",
       "    </tr>\n",
       "    <tr>\n",
       "      <th>1949</th>\n",
       "      <td>∞%</td>\n",
       "      <td>∞%</td>\n",
       "      <td>10.8%</td>\n",
       "      <td>7.9%</td>\n",
       "      <td>114.7</td>\n",
       "    </tr>\n",
       "  </tbody>\n",
       "</table>\n",
       "<p>74 rows × 5 columns</p>\n",
       "</div>"
      ],
      "text/plain": [
       "        mar    jun    sep    dec  Annual_Inflation\n",
       "Year                                              \n",
       "2022   5.1%   6.1%    NaN    NaN               NaN\n",
       "2021   1.1%   3.8%   3.0%   3.5%               2.9\n",
       "2020   2.2%  -0.3%   0.7%   0.9%               0.8\n",
       "2019   1.3%   1.6%   1.7%   1.8%               1.6\n",
       "2018   1.9%   2.1%   1.9%   1.8%               1.9\n",
       "...     ...    ...    ...    ...               ...\n",
       "1953   6.8%   4.9%   4.8%   1.6%               4.5\n",
       "1952  22.9%  19.6%  17.0%  10.5%              17.2\n",
       "1951  14.3%  18.6%  20.5%  23.9%              19.4\n",
       "1950   7.7%   7.5%   7.3%  12.2%               8.7\n",
       "1949     ∞%     ∞%  10.8%   7.9%             114.7\n",
       "\n",
       "[74 rows x 5 columns]"
      ]
     },
     "execution_count": 9,
     "metadata": {},
     "output_type": "execute_result"
    }
   ],
   "source": [
    "# Here I rename the Annual column as this will conflict with CPI dataset\n",
    "\n",
    "inflation_df.rename(columns = {'Annual':'Annual_Inflation'}, inplace = True)\n",
    "inflation_df"
   ]
  },
  {
   "cell_type": "code",
   "execution_count": 10,
   "id": "061a3fd6-b593-483e-8ab0-cc3c2fa93eef",
   "metadata": {},
   "outputs": [
    {
     "data": {},
     "metadata": {},
     "output_type": "display_data"
    },
    {
     "data": {
      "application/vnd.holoviews_exec.v0+json": "",
      "text/html": [
       "<div id='1002'>\n",
       "\n",
       "\n",
       "\n",
       "\n",
       "\n",
       "  <div class=\"bk-root\" id=\"ea433ece-32be-4bee-89d8-086c9b4131f5\" data-root-id=\"1002\"></div>\n",
       "</div>\n",
       "<script type=\"application/javascript\">(function(root) {\n",
       "  function embed_document(root) {\n",
       "    var docs_json = {\"0f1a1e42-03bf-4eae-834e-b69313cbe7f2\":{\"defs\":[{\"extends\":null,\"module\":null,\"name\":\"ReactiveHTML1\",\"overrides\":[],\"properties\":[]},{\"extends\":null,\"module\":null,\"name\":\"FlexBox1\",\"overrides\":[],\"properties\":[{\"default\":\"flex-start\",\"kind\":null,\"name\":\"align_content\"},{\"default\":\"flex-start\",\"kind\":null,\"name\":\"align_items\"},{\"default\":\"row\",\"kind\":null,\"name\":\"flex_direction\"},{\"default\":\"wrap\",\"kind\":null,\"name\":\"flex_wrap\"},{\"default\":\"flex-start\",\"kind\":null,\"name\":\"justify_content\"}]},{\"extends\":null,\"module\":null,\"name\":\"GridStack1\",\"overrides\":[],\"properties\":[{\"default\":\"warn\",\"kind\":null,\"name\":\"mode\"},{\"default\":null,\"kind\":null,\"name\":\"ncols\"},{\"default\":null,\"kind\":null,\"name\":\"nrows\"},{\"default\":true,\"kind\":null,\"name\":\"allow_resize\"},{\"default\":true,\"kind\":null,\"name\":\"allow_drag\"},{\"default\":[],\"kind\":null,\"name\":\"state\"}]},{\"extends\":null,\"module\":null,\"name\":\"click1\",\"overrides\":[],\"properties\":[{\"default\":\"\",\"kind\":null,\"name\":\"terminal_output\"},{\"default\":\"\",\"kind\":null,\"name\":\"debug_name\"},{\"default\":0,\"kind\":null,\"name\":\"clears\"}]},{\"extends\":null,\"module\":null,\"name\":\"TemplateActions1\",\"overrides\":[],\"properties\":[{\"default\":0,\"kind\":null,\"name\":\"open_modal\"},{\"default\":0,\"kind\":null,\"name\":\"close_modal\"}]},{\"extends\":null,\"module\":null,\"name\":\"MaterialTemplateActions1\",\"overrides\":[],\"properties\":[{\"default\":0,\"kind\":null,\"name\":\"open_modal\"},{\"default\":0,\"kind\":null,\"name\":\"close_modal\"}]}],\"roots\":{\"references\":[{\"attributes\":{\"callback\":null,\"renderers\":[{\"id\":\"1043\"}],\"tags\":[\"hv_created\"],\"tooltips\":[[\"Year\",\"@{Year}\"],[\"Annual_Inflation\",\"@{Annual_Inflation}\"]]},\"id\":\"1006\",\"type\":\"HoverTool\"},{\"attributes\":{\"margin\":[5,5,5,5],\"name\":\"HSpacer01631\",\"sizing_mode\":\"stretch_width\"},\"id\":\"1072\",\"type\":\"Spacer\"},{\"attributes\":{\"line_alpha\":0.1,\"line_color\":\"#30a2da\",\"line_width\":2,\"x\":{\"field\":\"Year\"},\"y\":{\"field\":\"Annual_Inflation\"}},\"id\":\"1041\",\"type\":\"Line\"},{\"attributes\":{},\"id\":\"1051\",\"type\":\"AllLabels\"},{\"attributes\":{\"coordinates\":null,\"data_source\":{\"id\":\"1037\"},\"glyph\":{\"id\":\"1040\"},\"group\":null,\"hover_glyph\":null,\"muted_glyph\":{\"id\":\"1042\"},\"nonselection_glyph\":{\"id\":\"1041\"},\"selection_glyph\":{\"id\":\"1045\"},\"view\":{\"id\":\"1044\"}},\"id\":\"1043\",\"type\":\"GlyphRenderer\"},{\"attributes\":{},\"id\":\"1024\",\"type\":\"SaveTool\"},{\"attributes\":{},\"id\":\"1025\",\"type\":\"PanTool\"},{\"attributes\":{},\"id\":\"1028\",\"type\":\"ResetTool\"},{\"attributes\":{\"line_color\":\"#30a2da\",\"line_width\":2,\"x\":{\"field\":\"Year\"},\"y\":{\"field\":\"Annual_Inflation\"}},\"id\":\"1040\",\"type\":\"Line\"},{\"attributes\":{},\"id\":\"1026\",\"type\":\"WheelZoomTool\"},{\"attributes\":{\"below\":[{\"id\":\"1016\"}],\"center\":[{\"id\":\"1019\"},{\"id\":\"1023\"}],\"height\":300,\"left\":[{\"id\":\"1020\"}],\"margin\":[5,5,5,5],\"min_border_bottom\":10,\"min_border_left\":10,\"min_border_right\":10,\"min_border_top\":10,\"renderers\":[{\"id\":\"1043\"}],\"sizing_mode\":\"fixed\",\"title\":{\"id\":\"1008\"},\"toolbar\":{\"id\":\"1030\"},\"width\":700,\"x_range\":{\"id\":\"1004\"},\"x_scale\":{\"id\":\"1012\"},\"y_range\":{\"id\":\"1005\"},\"y_scale\":{\"id\":\"1014\"}},\"id\":\"1007\",\"subtype\":\"Figure\",\"type\":\"Plot\"},{\"attributes\":{\"source\":{\"id\":\"1037\"}},\"id\":\"1044\",\"type\":\"CDSView\"},{\"attributes\":{\"overlay\":{\"id\":\"1029\"}},\"id\":\"1027\",\"type\":\"BoxZoomTool\"},{\"attributes\":{},\"id\":\"1017\",\"type\":\"BasicTicker\"},{\"attributes\":{\"line_alpha\":0.2,\"line_color\":\"#30a2da\",\"line_width\":2,\"x\":{\"field\":\"Year\"},\"y\":{\"field\":\"Annual_Inflation\"}},\"id\":\"1042\",\"type\":\"Line\"},{\"attributes\":{},\"id\":\"1038\",\"type\":\"Selection\"},{\"attributes\":{\"axis\":{\"id\":\"1016\"},\"coordinates\":null,\"grid_line_color\":null,\"group\":null,\"ticker\":null},\"id\":\"1019\",\"type\":\"Grid\"},{\"attributes\":{\"coordinates\":null,\"group\":null,\"text\":\"Annual Inflation\",\"text_color\":\"black\",\"text_font_size\":\"12pt\"},\"id\":\"1008\",\"type\":\"Title\"},{\"attributes\":{},\"id\":\"1021\",\"type\":\"BasicTicker\"},{\"attributes\":{},\"id\":\"1047\",\"type\":\"BasicTickFormatter\"},{\"attributes\":{},\"id\":\"1048\",\"type\":\"AllLabels\"},{\"attributes\":{},\"id\":\"1012\",\"type\":\"LinearScale\"},{\"attributes\":{\"data\":{\"Annual_Inflation\":{\"__ndarray__\":\"AAAAAAAA+H8zMzMzMzMHQJqZmZmZmek/mpmZmZmZ+T9mZmZmZmb+P2ZmZmZmZv4/zczMzMzM9D8AAAAAAAD4PwAAAAAAAARAMzMzMzMzA0DNzMzMzMz8P2ZmZmZmZgpAMzMzMzMzB0DNzMzMzMz8P5qZmZmZmRFAZmZmZmZmAkDNzMzMzMwMQJqZmZmZmQVAZmZmZmZmAkCamZmZmZkFQAAAAAAAAAhAmpmZmZmZEUAAAAAAAAASQAAAAAAAAPg/zczMzMzM7D+amZmZmZnJP83MzMzMzARAZmZmZmZmEkAAAAAAAAAAQM3MzMzMzPw/AAAAAAAA8D+amZmZmZkJQDMzMzMzMx1AAAAAAAAAHkDNzMzMzMwcQAAAAAAAACFAMzMzMzMzIkDNzMzMzMwaQAAAAAAAABBAAAAAAAAAJEDNzMzMzMwmQAAAAAAAACNAMzMzMzMzJEAzMzMzMzMiQAAAAAAAACBAmpmZmZmZKECamZmZmZkqQGZmZmZmZi5AzczMzMzMLkAzMzMzMzMiQAAAAAAAABhAZmZmZmZmGEAzMzMzMzMLQGZmZmZmZgpAAAAAAAAABEAAAAAAAAAMQGZmZmZmZgpAMzMzMzMzC0AzMzMzMzMHQDMzMzMzM+M/MzMzMzMz079mZmZmZmYCQJqZmZmZmQ1AzczMzMzMAEBmZmZmZmbmPzMzMzMzMwdAzczMzMzMFkAAAAAAAAD4P5qZmZmZmfk/AAAAAAAAEkAzMzMzMzMxQGZmZmZmZjNAZmZmZmZmIUDNzMzMzKxcQA==\",\"dtype\":\"float64\",\"order\":\"little\",\"shape\":[74]},\"Year\":[2022,2021,2020,2019,2018,2017,2016,2015,2014,2013,2012,2011,2010,2009,2008,2007,2006,2005,2004,2003,2002,2001,2000,1999,1998,1997,1996,1995,1994,1993,1992,1991,1990,1989,1988,1987,1986,1985,1984,1983,1982,1981,1980,1979,1978,1977,1976,1975,1974,1973,1972,1971,1970,1969,1968,1967,1966,1965,1964,1963,1962,1961,1960,1959,1958,1957,1956,1955,1954,1953,1952,1951,1950,1949]},\"selected\":{\"id\":\"1038\"},\"selection_policy\":{\"id\":\"1059\"}},\"id\":\"1037\",\"type\":\"ColumnDataSource\"},{\"attributes\":{\"tools\":[{\"id\":\"1006\"},{\"id\":\"1024\"},{\"id\":\"1025\"},{\"id\":\"1026\"},{\"id\":\"1027\"},{\"id\":\"1028\"}]},\"id\":\"1030\",\"type\":\"Toolbar\"},{\"attributes\":{},\"id\":\"1050\",\"type\":\"BasicTickFormatter\"},{\"attributes\":{\"children\":[{\"id\":\"1003\"},{\"id\":\"1007\"},{\"id\":\"1072\"}],\"margin\":[0,0,0,0],\"name\":\"Row01626\",\"tags\":[\"embedded\"]},\"id\":\"1002\",\"type\":\"Row\"},{\"attributes\":{},\"id\":\"1014\",\"type\":\"LinearScale\"},{\"attributes\":{},\"id\":\"1059\",\"type\":\"UnionRenderers\"},{\"attributes\":{\"bottom_units\":\"screen\",\"coordinates\":null,\"fill_alpha\":0.5,\"fill_color\":\"lightgrey\",\"group\":null,\"left_units\":\"screen\",\"level\":\"overlay\",\"line_alpha\":1.0,\"line_color\":\"black\",\"line_dash\":[4,4],\"line_width\":2,\"right_units\":\"screen\",\"syncable\":false,\"top_units\":\"screen\"},\"id\":\"1029\",\"type\":\"BoxAnnotation\"},{\"attributes\":{\"axis_label\":\"Inflation Rate\",\"coordinates\":null,\"formatter\":{\"id\":\"1050\"},\"group\":null,\"major_label_policy\":{\"id\":\"1051\"},\"ticker\":{\"id\":\"1021\"}},\"id\":\"1020\",\"type\":\"LinearAxis\"},{\"attributes\":{\"axis_label\":\"Year\",\"coordinates\":null,\"formatter\":{\"id\":\"1047\"},\"group\":null,\"major_label_policy\":{\"id\":\"1048\"},\"ticker\":{\"id\":\"1017\"}},\"id\":\"1016\",\"type\":\"LinearAxis\"},{\"attributes\":{\"line_color\":\"#30a2da\",\"line_width\":2,\"x\":{\"field\":\"Year\"},\"y\":{\"field\":\"Annual_Inflation\"}},\"id\":\"1045\",\"type\":\"Line\"},{\"attributes\":{\"margin\":[5,5,5,5],\"name\":\"HSpacer01630\",\"sizing_mode\":\"stretch_width\"},\"id\":\"1003\",\"type\":\"Spacer\"},{\"attributes\":{\"end\":126.2,\"reset_end\":126.2,\"reset_start\":-11.8,\"start\":-11.8,\"tags\":[[[\"Annual_Inflation\",\"Annual_Inflation\",null]]]},\"id\":\"1005\",\"type\":\"Range1d\"},{\"attributes\":{\"end\":2022.0,\"reset_end\":2022.0,\"reset_start\":1949.0,\"start\":1949.0,\"tags\":[[[\"Year\",\"Year\",null]]]},\"id\":\"1004\",\"type\":\"Range1d\"},{\"attributes\":{\"axis\":{\"id\":\"1020\"},\"coordinates\":null,\"dimension\":1,\"grid_line_color\":null,\"group\":null,\"ticker\":null},\"id\":\"1023\",\"type\":\"Grid\"}],\"root_ids\":[\"1002\"]},\"title\":\"Bokeh Application\",\"version\":\"2.4.2\"}};\n",
       "    var render_items = [{\"docid\":\"0f1a1e42-03bf-4eae-834e-b69313cbe7f2\",\"root_ids\":[\"1002\"],\"roots\":{\"1002\":\"ea433ece-32be-4bee-89d8-086c9b4131f5\"}}];\n",
       "    root.Bokeh.embed.embed_items_notebook(docs_json, render_items);\n",
       "  }\n",
       "  if (root.Bokeh !== undefined && root.Bokeh.Panel !== undefined) {\n",
       "    embed_document(root);\n",
       "  } else {\n",
       "    var attempts = 0;\n",
       "    var timer = setInterval(function(root) {\n",
       "      if (root.Bokeh !== undefined && root.Bokeh.Panel !== undefined) {\n",
       "        clearInterval(timer);\n",
       "        embed_document(root);\n",
       "      } else if (document.readyState == \"complete\") {\n",
       "        attempts++;\n",
       "        if (attempts > 200) {\n",
       "          clearInterval(timer);\n",
       "          console.log(\"Bokeh: ERROR: Unable to run BokehJS code because BokehJS library is missing\");\n",
       "        }\n",
       "      }\n",
       "    }, 25, root)\n",
       "  }\n",
       "})(window);</script>"
      ],
      "text/plain": [
       ":Curve   [Year]   (Annual_Inflation)"
      ]
     },
     "execution_count": 10,
     "metadata": {
      "application/vnd.holoviews_exec.v0+json": {
       "id": "1002"
      }
     },
     "output_type": "execute_result"
    }
   ],
   "source": [
    "# And finally I plot the \"Annual Inflation dataset\n",
    "\n",
    "inflation_df[\"Annual_Inflation\"].hvplot(\n",
    "    label=\"Annual Inflation\",\n",
    "    xlabel=\"Year\",\n",
    "    ylabel=\"Inflation Rate\"\n",
    ")"
   ]
  },
  {
   "cell_type": "markdown",
   "id": "3ee8dccc-d665-4cc5-a687-69f9991c0e7c",
   "metadata": {},
   "source": [
    "## Analysis\n",
    "\n",
    "In the above plot we can see the rise in inflation rate during the 1970's, declining from a peak of 15.4 in 1974.\n",
    "Looking at the 2020's we see a marked increase in the inflation rate. The question is, will this trend continue."
   ]
  },
  {
   "cell_type": "code",
   "execution_count": null,
   "id": "70d5ecf1-09b6-4d95-b5ea-909b83a9fa50",
   "metadata": {},
   "outputs": [],
   "source": [
    "# here is split the inflation data. I isolate 1966 - 1979\n",
    "# I can thereby see the lead up to the spiralling inflation of the 70's\n",
    "\n",
    "seventies_df = inflation_df.rename(columns = {'Annual_Inflation':'seventies_inflation'})\n",
    "seventies_df = seventies_df[\"seventies_inflation\"].iloc[43:57]\n",
    "seventies_df"
   ]
  },
  {
   "cell_type": "code",
   "execution_count": null,
   "id": "79649c63-5069-4acc-8c04-13c3603b8280",
   "metadata": {},
   "outputs": [],
   "source": [
    "# here is a plot of 1966-1979 inflation rate\n",
    "# from steady to a massive increase in the middle of the decade\n",
    "\n",
    "seventies_df.hvplot(\n",
    "    label=\"Seventies Inflation\",\n",
    "    xlabel=\"Year\",\n",
    "    ylabel=\"Inflation Rate\"\n",
    ")"
   ]
  },
  {
   "cell_type": "markdown",
   "id": "e4524cea-1404-4495-bed8-6bd08ac843e8",
   "metadata": {},
   "source": [
    "### Analysis\n",
    "\n",
    "In the above graph of inflation from 1966 to 1979, we see a relatively flate rate during the latter half of the 1960's. From 1970's there is a marked increase which continues to increase in the first half of the decade, peaking at 15.4% in 1974."
   ]
  },
  {
   "cell_type": "code",
   "execution_count": null,
   "id": "eec76867-d457-47dc-bd2c-cadfc4c1f4a7",
   "metadata": {},
   "outputs": [],
   "source": [
    "# here I pull out the recent inflation rate\n",
    "# I call it twenties however it includes 2010 - 2021\n",
    "\n",
    "twenties_df = inflation_df.rename(columns = {'Annual_Inflation':'twenties_inflation'})\n",
    "twenties_df = twenties_df[\"twenties_inflation\"].iloc[1:13]"
   ]
  },
  {
   "cell_type": "code",
   "execution_count": null,
   "id": "74c7b47e-1798-4def-8a8e-7d620471aaa0",
   "metadata": {},
   "outputs": [],
   "source": [
    "twenties_df"
   ]
  },
  {
   "cell_type": "code",
   "execution_count": null,
   "id": "569cedfd-1777-4b9a-ad71-24037556dbfa",
   "metadata": {},
   "outputs": [],
   "source": [
    "twenties_df.hvplot(\n",
    "    label=\"Annual Inflation\",\n",
    "    xlabel=\"Year\",\n",
    "    ylabel=\"Inflation Rate\"\n",
    ")"
   ]
  },
  {
   "cell_type": "markdown",
   "id": "c3ba5fca-f1e4-42b6-9c67-1c7fa92f1f1b",
   "metadata": {
    "tags": []
   },
   "source": [
    "### Analysis\n",
    "\n",
    "The above plot for inflation in the period 2010 to 2021 shows a declining rate during the 2010's from a high of 3.3% in 2011. In 2020 we see a marked increase, rising from 0.8% in 2020 to 2.9% in 2021 (and continuing to rise in 2022 to 6.1% currently).\n",
    "\n",
    "The similarities between 2020 and 1970, at least in inflation rates, is cause for a closer look."
   ]
  },
  {
   "cell_type": "code",
   "execution_count": null,
   "id": "46b390d2-9250-4111-b713-a035ab0bbe5d",
   "metadata": {},
   "outputs": [],
   "source": [
    "display(seventies_df.head(5))\n",
    "display(twenties_df.head(5))"
   ]
  },
  {
   "cell_type": "code",
   "execution_count": null,
   "id": "f70f8d76-56b7-4585-9a97-5d99daba5d0c",
   "metadata": {},
   "outputs": [],
   "source": [
    "seventies_inf = seventies_df.reset_index().drop([\"Year\"], axis=1)\n",
    "seventies_inf"
   ]
  },
  {
   "cell_type": "code",
   "execution_count": null,
   "id": "5bd001fb-079b-4329-afff-e9f84bb36004",
   "metadata": {},
   "outputs": [],
   "source": [
    "twenties_inf = twenties_df.reset_index().drop([\"Year\"], axis=1)\n",
    "twenties_inf"
   ]
  },
  {
   "cell_type": "code",
   "execution_count": null,
   "id": "1e2d6a1b-c3fc-45c8-9bde-edf4b1edea41",
   "metadata": {},
   "outputs": [],
   "source": [
    "comparison = pd.concat([seventies_inf, twenties_inf], axis=1)"
   ]
  },
  {
   "cell_type": "code",
   "execution_count": null,
   "id": "a2691257-55e2-4497-9691-6f63ba9567d0",
   "metadata": {},
   "outputs": [],
   "source": [
    "comparison"
   ]
  },
  {
   "cell_type": "code",
   "execution_count": null,
   "id": "847fe2b2-b20c-4956-81f0-e7c73f10181d",
   "metadata": {},
   "outputs": [],
   "source": [
    "comparison.hvplot()"
   ]
  },
  {
   "cell_type": "code",
   "execution_count": null,
   "id": "8a47625f-f08f-4b3b-a91c-b5beec8ee55e",
   "metadata": {},
   "outputs": [],
   "source": [
    "comparison.corr()"
   ]
  },
  {
   "cell_type": "markdown",
   "id": "5eb33f6b-0a03-4c20-b281-914fbd5ae5f5",
   "metadata": {},
   "source": [
    "## CPI"
   ]
  },
  {
   "cell_type": "code",
   "execution_count": null,
   "id": "c20e8f4f-d8cb-4454-9ba0-fd92a05a1566",
   "metadata": {},
   "outputs": [],
   "source": [
    "# This website had the historical data for CPI back to 1948\n",
    "\n",
    "cpi_url = \"https://www.rateinflation.com/consumer-price-index/australia-historical-cpi/\""
   ]
  },
  {
   "cell_type": "code",
   "execution_count": null,
   "id": "d9bfa0cb-5995-4375-843d-64919eb87155",
   "metadata": {},
   "outputs": [],
   "source": [
    "# I use the read_html method to read in the table data\n",
    "\n",
    "df = pd.read_html(cpi_url)\n",
    "df"
   ]
  },
  {
   "cell_type": "code",
   "execution_count": null,
   "id": "8da3d586-5f4c-400b-ab3e-02bedb0141e8",
   "metadata": {},
   "outputs": [],
   "source": [
    "# I then convert it to a pandas DataFrame\n",
    "\n",
    "cpi_df = df[0]"
   ]
  },
  {
   "cell_type": "code",
   "execution_count": null,
   "id": "6653a14c-936f-469d-b87b-9e5a7b2efef6",
   "metadata": {},
   "outputs": [],
   "source": [
    "type(cpi_df)"
   ]
  },
  {
   "cell_type": "code",
   "execution_count": null,
   "id": "18950b7e-631f-4f6b-bcb3-ea65ba536575",
   "metadata": {},
   "outputs": [],
   "source": [
    "# set the index as the 'Year' column\n",
    "\n",
    "cpi_df = cpi_df.set_index(\"Year\")"
   ]
  },
  {
   "cell_type": "code",
   "execution_count": null,
   "id": "02019773-4b63-451f-8880-879803b5faf8",
   "metadata": {},
   "outputs": [],
   "source": [
    "# sort the index so that it is ascending (1948 - 2022)\n",
    "\n",
    "cpi_df = cpi_df.sort_index()"
   ]
  },
  {
   "cell_type": "code",
   "execution_count": null,
   "id": "d3773bd8-d54e-4af1-9f04-d12e34507ea6",
   "metadata": {},
   "outputs": [],
   "source": [
    "cpi_df.index"
   ]
  },
  {
   "cell_type": "code",
   "execution_count": null,
   "id": "4cc0e731-a44a-4a9b-916a-bffa6d2dd801",
   "metadata": {},
   "outputs": [],
   "source": [
    "# a bar graph of the annual CPI\n",
    "\n",
    "cpi_df[\"Annual\"].hvplot.bar(\n",
    "    label=\"Annual CPI 1948-2022\",\n",
    "    xlabel=\"Year\",\n",
    "    ylabel=\"CPI\",\n",
    "    width=1000,\n",
    "    rot=90\n",
    ")"
   ]
  },
  {
   "cell_type": "code",
   "execution_count": null,
   "id": "267eb0db-7988-4c0e-a17b-30cb68dfd37f",
   "metadata": {},
   "outputs": [],
   "source": [
    "cpi_df.info"
   ]
  },
  {
   "cell_type": "code",
   "execution_count": null,
   "id": "e475ac83-7d60-4aac-929e-1afb23a8c6fc",
   "metadata": {},
   "outputs": [],
   "source": [
    "# and a line plot of the Annual CPI Rate\n",
    "\n",
    "cpi_df[\"Annual\"].hvplot.line(\n",
    "    label=\"Annual CPI Rate\",\n",
    "    xlabel=\"Year\",\n",
    "    ylabel=\"CPI Rate\",\n",
    "    width=800\n",
    ")"
   ]
  },
  {
   "cell_type": "markdown",
   "id": "65197916-9c3a-45dd-b590-7a983a799e66",
   "metadata": {},
   "source": [
    "### Analysis\n",
    "\n",
    "The Consumer Price Index (CPI) has shown an increase since 1950. However, it is only after 1970 that we see CPI making recognisable increases year over year. This, of course, coincides with our period of focus for high inflation.\n",
    "\n",
    "What changed in the 1970's? \"WTF happened in 1971\" is an often asked question.\n",
    "\n",
    "What is interesting to note is that, while inflation as a general figure of a whole economy's prices was brought under control, CPI was not. CPI has shown no decrease, displaying a constant trend of \"number go up\", unfortunately for most it is the very thing we - cost of living - that we do not want increasing."
   ]
  },
  {
   "cell_type": "code",
   "execution_count": null,
   "id": "06a31fed-a14f-4a11-9a57-7f7ee0a2af63",
   "metadata": {},
   "outputs": [],
   "source": [
    "# I pull out the data from 1966 - 1979\n",
    "# this includes the lead up to the spiralling 1970's inflation\n",
    "\n",
    "seventies_cpi = cpi_df.rename(columns = {'Annual':'seventies_cpi'}).iloc[18:32]\n",
    "\n",
    "seventies_cpi = seventies_cpi.drop([\"mar\", \"jun\", \"sep\", \"dec\"], axis=1)\n",
    "seventies_cpi"
   ]
  },
  {
   "cell_type": "code",
   "execution_count": null,
   "id": "727e13fc-4bf9-4150-a372-233091e86a56",
   "metadata": {},
   "outputs": [],
   "source": [
    "seventies_cpi[\"seventies_cpi\"].hvplot(\n",
    "    label=\"Annual CPI in the 1970's\",\n",
    "    xlabel=\"Year\",\n",
    "    ylabel=\"CPI\"\n",
    ")"
   ]
  },
  {
   "cell_type": "code",
   "execution_count": null,
   "id": "41f90f7d-e44c-4e21-a369-7893f7deb1b3",
   "metadata": {},
   "outputs": [],
   "source": [
    "# here I pull out the 2013-2021 CPI\n",
    "\n",
    "twenties_cpi = cpi_df.rename(columns = {'Annual':'twenties_cpi'}).iloc[65:75]\n",
    "\n",
    "twenties_cpi = twenties_cpi.drop([\"mar\", \"jun\", \"sep\", \"dec\"], axis=1)\n",
    "twenties_cpi"
   ]
  },
  {
   "cell_type": "code",
   "execution_count": null,
   "id": "ca64e84b-fd44-47e0-8830-320b8f94abd9",
   "metadata": {},
   "outputs": [],
   "source": [
    "twenties_cpi[\"twenties_cpi\"].hvplot(\n",
    "    label=\"Annual Inflation in the 2010's and Up\",\n",
    "    xlabel=\"Year\",\n",
    "    ylabel=\"Inflation Rate\"\n",
    ")"
   ]
  },
  {
   "cell_type": "code",
   "execution_count": null,
   "id": "324288ac-6ef4-4065-b9bf-23b089107e8d",
   "metadata": {},
   "outputs": [],
   "source": [
    "seventies_cpi = seventies_cpi.reset_index().drop([\"Year\"], axis=1)\n",
    "twenties_cpi = twenties_cpi.reset_index().drop([\"Year\"], axis=1)\n",
    "\n",
    "display(seventies_cpi.head(5))\n",
    "display(twenties_cpi.head(5))"
   ]
  },
  {
   "cell_type": "code",
   "execution_count": null,
   "id": "fa2ba19f-ae6f-40af-ab5f-3346c4295bce",
   "metadata": {},
   "outputs": [],
   "source": [
    "cpi_comparison = pd.concat([seventies_cpi, twenties_cpi],axis=1,join=\"inner\")\n",
    "cpi_comparison"
   ]
  },
  {
   "cell_type": "code",
   "execution_count": null,
   "id": "d4e03fa0-885e-4c86-938d-634a47b0b233",
   "metadata": {},
   "outputs": [],
   "source": [
    "cpi_comparison.hvplot()"
   ]
  },
  {
   "cell_type": "code",
   "execution_count": null,
   "id": "9fa0e51f-f026-4198-adab-fe62707e5537",
   "metadata": {},
   "outputs": [],
   "source": [
    "# here I find the correlation between 1970's and twenties CPI.\n",
    "# the matrix show a high correlation between the two, which is not surprising\n",
    "cpi_corr = cpi_comparison.corr()\n",
    "cpi_corr"
   ]
  },
  {
   "cell_type": "code",
   "execution_count": null,
   "id": "7288033f-c454-46d6-a943-02523d960389",
   "metadata": {},
   "outputs": [],
   "source": [
    "# using seaborn I can create a heatmap of our matrix with annotations\n",
    "\n",
    "import matplotlib.pyplot as plt\n",
    "import seaborn as sns\n",
    "\n",
    "plt.figure(figsize = (16,5))\n",
    "sns.heatmap(cpi_corr, annot=True)\n",
    "plt.show()"
   ]
  },
  {
   "cell_type": "markdown",
   "id": "97399b9b-6a11-41f6-b41a-95bad74763dc",
   "metadata": {},
   "source": [
    "### Analysis\n",
    "\n",
    "There is not much to draw from this plot of CPI in the 70's and the 2020's nor the correlation table. There is a constant, steady incline for both periods. And the correlation matrix show an almost 1:1 correlation between the two periods. This would not surprise anyone in Australia who has experienced steady increases in the price of fundamental goods and services in recent decades.\n",
    "\n",
    "With such a steady increase, lacking any volatility, seeminly immune to the affects of macro conditions and government actions, the value of CPI is in doubt. We can confidently say that the number will be roughly 1 to 3 percent higher next year, and the year after that, regardless of general inflation."
   ]
  },
  {
   "cell_type": "code",
   "execution_count": null,
   "id": "59a44bb6-c25a-4bef-87ae-7073647ded5d",
   "metadata": {},
   "outputs": [],
   "source": [
    "# Inflation and CPI, for 1966-1979 and 2010-2021 concatenated\n",
    "\n",
    "cpi_inf = pd.concat([seventies_cpi, twenties_cpi, comparison], axis=1)\n",
    "cpi_inf"
   ]
  },
  {
   "cell_type": "code",
   "execution_count": null,
   "id": "34fa437b-306b-4577-af98-54c6373ffd99",
   "metadata": {},
   "outputs": [],
   "source": [
    "cpi_inf.hvplot()"
   ]
  },
  {
   "cell_type": "code",
   "execution_count": null,
   "id": "f3aaf34f-4e57-4d51-9b73-1ba967b1a937",
   "metadata": {},
   "outputs": [],
   "source": [
    "from MCForecastTools import MCSimulation"
   ]
  },
  {
   "cell_type": "code",
   "execution_count": null,
   "id": "3bbbb6ef-01b7-4128-85a9-4bd25520f84f",
   "metadata": {},
   "outputs": [],
   "source": [
    "housing_df = pd.read_csv(\"Australian Bureau of Statistics.csv\")\n",
    "housing_df"
   ]
  },
  {
   "cell_type": "code",
   "execution_count": null,
   "id": "da49db07-72f3-4001-b491-4b3f5500ea08",
   "metadata": {},
   "outputs": [],
   "source": [
    "housing_df = housing_df.drop([\"Sep Qtr 21 to Dec Qtr 21\"], axis=1)"
   ]
  },
  {
   "cell_type": "code",
   "execution_count": null,
   "id": "75e6edcc-3d37-4059-a796-642775d6c7bc",
   "metadata": {},
   "outputs": [],
   "source": [
    "housing_df = housing_df.drop([0, 1, 10, 11], axis=0)\n"
   ]
  },
  {
   "cell_type": "code",
   "execution_count": null,
   "id": "b8a22ed7-7cb9-4382-8913-cdc287e1c3ca",
   "metadata": {},
   "outputs": [],
   "source": [
    "housing_df.rename(columns = {'Residential property prices':'Place Name'}, inplace = True)\n",
    "housing_df = housing_df.set_index(\"Place Name\")\n",
    "housing_df"
   ]
  },
  {
   "cell_type": "code",
   "execution_count": null,
   "id": "b0f1b1ec-a8b2-4d16-9d1d-e5043db80d2b",
   "metadata": {},
   "outputs": [],
   "source": [
    "housing_df = housing_df[\"Dec Qtr 20 to Dec Qtr 21\"].astype(float)\n",
    "housing_df"
   ]
  },
  {
   "cell_type": "code",
   "execution_count": null,
   "id": "a4dd1c6b-68ac-43a6-8ffc-6d9e1ee80fc3",
   "metadata": {},
   "outputs": [],
   "source": [
    "housing_df.hvplot(\n",
    "    kind=\"bar\",\n",
    "    ylabel=\"Inflation\",\n",
    "    width=800,\n",
    "    height=600,\n",
    "    label= \"Housing Inflation - Australian Capital Cities\")"
   ]
  },
  {
   "cell_type": "code",
   "execution_count": null,
   "id": "4a3130c9-20b3-4963-9a7f-4cea030ea372",
   "metadata": {},
   "outputs": [],
   "source": [
    "geo_url = \"https://www.latlong.net/category/cities-14-15.html\""
   ]
  },
  {
   "cell_type": "code",
   "execution_count": null,
   "id": "d7e0ec32-3b38-4bb9-8c74-0959f6a4dc0b",
   "metadata": {},
   "outputs": [],
   "source": [
    "geo_df = pd.read_html(geo_url)\n",
    "geo_df = geo_df[0]\n",
    "geo_df"
   ]
  },
  {
   "cell_type": "code",
   "execution_count": null,
   "id": "6c22fadf-83ba-4770-a4e6-6f040f4a13b3",
   "metadata": {},
   "outputs": [],
   "source": [
    "capital_indexes = [geo_df.loc[geo_df[\"Place Name\"]==\"Sydney, NSW, Australia\"],\n",
    "geo_df.loc[geo_df[\"Place Name\"]==\"Melbourne, VIC, Australia\"],\n",
    "geo_df.loc[geo_df[\"Place Name\"]==\"Brisbane, QLD, Australia\"],\n",
    "geo_df.loc[geo_df[\"Place Name\"]==\"Adelaide, SA, Australia\"],\n",
    "geo_df.loc[geo_df[\"Place Name\"]==\"Melbourne, VIC, Australia\"],\n",
    "geo_df.loc[geo_df[\"Place Name\"]==\"Perth, WA, Australia\"],\n",
    "geo_df.loc[geo_df[\"Place Name\"]==\"Hobart, Tasmania, Australia\"],\n",
    "geo_df.loc[geo_df[\"Place Name\"]==\"Darwin, Northern Territory, Australia\"],\n",
    "geo_df.loc[geo_df[\"Place Name\"]==\"Canberra, Australia\"]]\n",
    "capital_indexes"
   ]
  },
  {
   "cell_type": "code",
   "execution_count": null,
   "id": "86959f8b-ba1a-4956-bd47-3a9a8d0d70f4",
   "metadata": {},
   "outputs": [],
   "source": [
    "capital_df = geo_df.iloc[[87,63,83,64,63,69,45,79,60]]\n",
    "capital_df"
   ]
  },
  {
   "cell_type": "code",
   "execution_count": null,
   "id": "3d335134-6e74-47c2-a9a0-7a4ce5701022",
   "metadata": {},
   "outputs": [],
   "source": [
    "capital_df = capital_df.set_index(capital_df[\"Place Name\"].apply(lambda Name : Name.split()[0]).str.replace(\",\",\"\"))"
   ]
  },
  {
   "cell_type": "code",
   "execution_count": null,
   "id": "4a9b59f3-38a8-4278-8e71-53748ccbe8fd",
   "metadata": {},
   "outputs": [],
   "source": [
    "capital_df = capital_df.drop([\"Place Name\"], axis=1)\n",
    "capital_df"
   ]
  },
  {
   "cell_type": "code",
   "execution_count": null,
   "id": "8b2c0822-8c53-41ec-995d-92cd976c29d2",
   "metadata": {},
   "outputs": [],
   "source": [
    "housing_df"
   ]
  },
  {
   "cell_type": "code",
   "execution_count": null,
   "id": "15bd9e25-6117-4f7a-b2a1-e513fb9d8cb9",
   "metadata": {},
   "outputs": [],
   "source": [
    "housing_inflation = pd.merge(housing_df, capital_df, on = \"Place Name\", how = \"inner\")"
   ]
  },
  {
   "cell_type": "code",
   "execution_count": null,
   "id": "e3e93c3f-473a-49cf-8a51-01dda6596eb9",
   "metadata": {},
   "outputs": [],
   "source": [
    "housing_inflation[\"Dec Qtr 20 to Dec Qtr 21\"].astype(float)"
   ]
  },
  {
   "cell_type": "code",
   "execution_count": null,
   "id": "6f01c638-3465-4555-a472-1ebf51659833",
   "metadata": {},
   "outputs": [],
   "source": [
    "housing_inflation"
   ]
  },
  {
   "cell_type": "code",
   "execution_count": null,
   "id": "e744e86b-9e21-4796-9134-a5e350a58df1",
   "metadata": {},
   "outputs": [],
   "source": [
    "map_plot = housing_inflation.hvplot.points(\n",
    "    \"Longitude\", #set the longitude using the 'Lon' column from our data set\n",
    "    \"Latitude\", #set the latitude using the 'Lat' column from our data set\n",
    "    geo=True, # create a GeoViews graph by setting geo to True\n",
    "    size=\"Dec Qtr 20 to Dec Qtr 21\",\n",
    "    color=\"Dec Qtr 20 to Dec Qtr 21\",\n",
    "    frame_width=700,\n",
    "    frame_height=500,\n",
    "    tiles=\"OSM\", #using the default 'OSM' tiles  - this variable could be omitted\n",
    "    alpha=0.8,\n",
    "    xlabel=\"Longitude\",\n",
    "    ylabel=\"Latitude\"\n",
    ").opts(\n",
    "    title=\"Housing Inflation - Australian Capital Cities\"\n",
    ")\n",
    "\n",
    "map_plot"
   ]
  },
  {
   "cell_type": "markdown",
   "id": "e94b154f-63f1-4cdf-b4ec-f2656383d17f",
   "metadata": {
    "tags": []
   },
   "source": [
    "### Analysis\n",
    "\n",
    "The above goeviews plot is a little underwhelming, however, coupled with the numerical data, we can see that Hobart and Canberra experienced the highest housing inflation in the period 2020 - 2021 at 29.8 and 28.8 respectively. This is signified in the plot by the darker colors for the two cities. Sydney is not far behind with an inflation rate of 26.7%. Interestingly Melbourne was sixth in the list with \"only\" 20.0% inflation"
   ]
  },
  {
   "cell_type": "markdown",
   "id": "45bbe9d8-8d5e-4c8d-a074-3d80d44a3956",
   "metadata": {},
   "source": [
    "------------------------------------------"
   ]
  },
  {
   "cell_type": "markdown",
   "id": "9fc3885f-a027-4046-b668-82f5b7f2283d",
   "metadata": {},
   "source": [
    "### Government Spending"
   ]
  },
  {
   "cell_type": "markdown",
   "id": "6bc7e4f0-7865-4ec4-a5c3-a35a705d9498",
   "metadata": {},
   "source": [
    "-----------------"
   ]
  },
  {
   "cell_type": "code",
   "execution_count": null,
   "id": "26a0c058-9684-476d-915b-f1c27e4e2476",
   "metadata": {
    "tags": []
   },
   "outputs": [],
   "source": [
    "govt_spending_df = pd.read_csv(Path(\"govt_spending_%_gdp.csv\"))\n",
    "govt_spending_df.head()"
   ]
  },
  {
   "cell_type": "code",
   "execution_count": null,
   "id": "f7d56229-9677-4584-a6e8-ab5fccb1dc85",
   "metadata": {},
   "outputs": [],
   "source": [
    "govt_spending_df = govt_spending_df.set_index('Quarter')"
   ]
  },
  {
   "cell_type": "code",
   "execution_count": null,
   "id": "8b14b824-06b5-4671-99c9-f101649c722e",
   "metadata": {},
   "outputs": [],
   "source": [
    "govt_spending_df.head()"
   ]
  },
  {
   "cell_type": "code",
   "execution_count": null,
   "id": "0ba637ad-b291-4d8a-956d-905af5bc4139",
   "metadata": {},
   "outputs": [],
   "source": [
    "govt_spending_df.hvplot.line(\n",
    "    x='Quarter',\n",
    "    label=\"Government Spending as a % of GDP\",\n",
    "    width=2500,\n",
    "    height=800,\n",
    "    rot=45)"
   ]
  },
  {
   "cell_type": "code",
   "execution_count": null,
   "id": "19a87f28-7995-4260-a14c-0c88fda3562c",
   "metadata": {},
   "outputs": [],
   "source": [
    "govt_spending_60s = govt_spending_df[0:40]\n",
    "govt_spending_60s.head()"
   ]
  },
  {
   "cell_type": "code",
   "execution_count": null,
   "id": "09203e4f-9c5d-41a8-95e3-03e8f8755b23",
   "metadata": {},
   "outputs": [],
   "source": [
    "govt_spending_60s"
   ]
  },
  {
   "cell_type": "code",
   "execution_count": null,
   "id": "fdb3c04f-3c30-4adc-8442-9b40f437e46c",
   "metadata": {},
   "outputs": [],
   "source": [
    "govt_spending_now = govt_spending_df[-40:]\n",
    "govt_spending_now.head()"
   ]
  },
  {
   "cell_type": "code",
   "execution_count": null,
   "id": "dc86ce72-9f48-46d8-9deb-8d65415be216",
   "metadata": {},
   "outputs": [],
   "source": [
    "govt_spending_60s = govt_spending_60s.reset_index()\n",
    "govt_spending_60s.head()"
   ]
  },
  {
   "cell_type": "code",
   "execution_count": null,
   "id": "721d7028-bc94-4d82-bfbf-a2f6fde72f91",
   "metadata": {},
   "outputs": [],
   "source": [
    "govt_spending_60s = govt_spending_60s.drop(columns=['Quarter'])\n",
    "govt_spending_60s = govt_spending_60s.rename(columns={\"Govt Spending as a % of GDP\":\"1960-1970\"})\n",
    "govt_spending_60s.head()"
   ]
  },
  {
   "cell_type": "code",
   "execution_count": null,
   "id": "e361965c-d822-4908-b0b9-70ea6d05dce8",
   "metadata": {},
   "outputs": [],
   "source": [
    "govt_spending_now = govt_spending_now.reset_index()\n",
    "govt_spending_now.head()"
   ]
  },
  {
   "cell_type": "code",
   "execution_count": null,
   "id": "19fcf2a3-dcc6-467b-be5f-90abb7584e27",
   "metadata": {},
   "outputs": [],
   "source": [
    "govt_spending_now = govt_spending_now.drop(columns=['Quarter'])\n",
    "govt_spending_now = govt_spending_now.rename(columns={\"Govt Spending as a % of GDP\":\"2011-2021\"})\n",
    "govt_spending_now.head()"
   ]
  },
  {
   "cell_type": "code",
   "execution_count": null,
   "id": "6feb6e76-0fd7-4543-8fbd-275b73f3eb1c",
   "metadata": {},
   "outputs": [],
   "source": [
    "gs_comparison = pd.concat([govt_spending_60s,govt_spending_now],axis=\"columns\",join=\"inner\")\n",
    "gs_comparison.head()"
   ]
  },
  {
   "cell_type": "code",
   "execution_count": null,
   "id": "3af1e575-1d1c-4f1c-bedc-eff2d8b8bde9",
   "metadata": {},
   "outputs": [],
   "source": [
    "gs_comparison.hvplot.line(\n",
    "    title = \"Govt. Spending as a % of GDP\",\n",
    "    ylabel = \"Govt. Spending as a % of GDP\",\n",
    "    xlabel = \"Quarters\"\n",
    ")"
   ]
  },
  {
   "cell_type": "code",
   "execution_count": null,
   "id": "10448e21-2885-4fd5-9e8a-1f7d45a28da6",
   "metadata": {},
   "outputs": [],
   "source": [
    "gs_comparison = gs_comparison.pct_change()\n",
    "gs_comparison = gs_comparison.dropna()\n",
    "gs_comparison.head()"
   ]
  },
  {
   "cell_type": "code",
   "execution_count": null,
   "id": "ef4029f9-0836-463b-8123-bd307aa75883",
   "metadata": {},
   "outputs": [],
   "source": [
    "inf_vs_govt = pd.concat([comparison, gs_comparison], axis=1)\n",
    "inf_vs_govt"
   ]
  },
  {
   "cell_type": "code",
   "execution_count": null,
   "id": "ac323eb2-e8c9-427f-8a07-544bdbd1e81d",
   "metadata": {},
   "outputs": [],
   "source": []
  },
  {
   "cell_type": "markdown",
   "id": "37b648a5",
   "metadata": {},
   "source": [
    "Gold Price"
   ]
  },
  {
   "cell_type": "code",
   "execution_count": 51,
   "id": "ea4f15e2-a638-4f6a-8082-493c2c107f41",
   "metadata": {},
   "outputs": [],
   "source": [
    "# Import library\n",
    "import requests\n",
    "from bs4 import BeautifulSoup\n",
    "import pandas as pd\n",
    "import hvplot.pandas"
   ]
  },
  {
   "cell_type": "code",
   "execution_count": 52,
   "id": "4a2fcdf2",
   "metadata": {},
   "outputs": [],
   "source": [
    "# Fetch the raw data from the URL\n",
    "html_text = requests.get('https://www.macrotrends.net/1333/historical-gold-prices-100-year-chart').text"
   ]
  },
  {
   "cell_type": "code",
   "execution_count": 53,
   "id": "eb204ba8-fde6-455e-b1b0-581876a927cb",
   "metadata": {},
   "outputs": [],
   "source": [
    "# Use find() function to enter the layers of the table that needs to be scraped\n",
    "soup = BeautifulSoup(html_text, 'lxml')\n",
    "div = soup.find('div', class_ = 'col-xs-9', style=\"margin-bottom:200px;\")\n",
    "div_1 = div.find(id=\"style-1\")\n",
    "tb = div_1.find('table', class_ = 'table')\n",
    "gold_price = tb.find('tbody')"
   ]
  },
  {
   "cell_type": "code",
   "execution_count": 54,
   "id": "2b08d7a9-5ca0-4e9a-9d97-9f192abfe147",
   "metadata": {},
   "outputs": [],
   "source": [
    "# Build two empty list for the loop\n",
    "Year = []\n",
    "Price = []\n",
    "\n",
    "# Use for loop to loop through the data in the table to the list \n",
    "for row in gold_price.find_all('tr'):    \n",
    "    Year.append((row.find(style =\"text-align:center\").text))\n",
    "    Price.append((row.find(style =\"text-align:center;\").text))"
   ]
  },
  {
   "cell_type": "code",
   "execution_count": 55,
   "id": "21aa9694-cdb0-44c7-94d1-c3085f64e053",
   "metadata": {},
   "outputs": [
    {
     "data": {
      "text/html": [
       "<div>\n",
       "<style scoped>\n",
       "    .dataframe tbody tr th:only-of-type {\n",
       "        vertical-align: middle;\n",
       "    }\n",
       "\n",
       "    .dataframe tbody tr th {\n",
       "        vertical-align: top;\n",
       "    }\n",
       "\n",
       "    .dataframe thead th {\n",
       "        text-align: right;\n",
       "    }\n",
       "</style>\n",
       "<table border=\"1\" class=\"dataframe\">\n",
       "  <thead>\n",
       "    <tr style=\"text-align: right;\">\n",
       "      <th></th>\n",
       "      <th>Year</th>\n",
       "      <th>Gold Price</th>\n",
       "    </tr>\n",
       "  </thead>\n",
       "  <tbody>\n",
       "    <tr>\n",
       "      <th>0</th>\n",
       "      <td>2022</td>\n",
       "      <td>$1,849.86</td>\n",
       "    </tr>\n",
       "    <tr>\n",
       "      <th>1</th>\n",
       "      <td>2021</td>\n",
       "      <td>$1,798.89</td>\n",
       "    </tr>\n",
       "    <tr>\n",
       "      <th>2</th>\n",
       "      <td>2020</td>\n",
       "      <td>$1,773.73</td>\n",
       "    </tr>\n",
       "    <tr>\n",
       "      <th>3</th>\n",
       "      <td>2019</td>\n",
       "      <td>$1,393.34</td>\n",
       "    </tr>\n",
       "    <tr>\n",
       "      <th>4</th>\n",
       "      <td>2018</td>\n",
       "      <td>$1,268.93</td>\n",
       "    </tr>\n",
       "  </tbody>\n",
       "</table>\n",
       "</div>"
      ],
      "text/plain": [
       "   Year Gold Price\n",
       "0  2022  $1,849.86\n",
       "1  2021  $1,798.89\n",
       "2  2020  $1,773.73\n",
       "3  2019  $1,393.34\n",
       "4  2018  $1,268.93"
      ]
     },
     "execution_count": 55,
     "metadata": {},
     "output_type": "execute_result"
    }
   ],
   "source": [
    "# Put the two lists into a dataframe\n",
    "gold = pd.DataFrame(data = {'Year' : Year, 'Gold Price' : Price}, columns=['Year', 'Gold Price'])\n",
    "gold.set_index(['Year'])\n",
    "gold.head()"
   ]
  },
  {
   "cell_type": "code",
   "execution_count": 56,
   "id": "85009e89-9650-4f86-94f4-28b0857a9119",
   "metadata": {},
   "outputs": [
    {
     "name": "stderr",
     "output_type": "stream",
     "text": [
      "C:\\Users\\malco\\anaconda3\\envs\\dev\\lib\\site-packages\\ipykernel_launcher.py:2: FutureWarning: The default value of regex will change from True to False in a future version. In addition, single character regular expressions will *not* be treated as literal strings when regex=True.\n",
      "  \n"
     ]
    }
   ],
   "source": [
    "# Clean the final data\n",
    "gold[\"Gold Price\"] = gold[\"Gold Price\"].str.replace(\"$\", \"\")\n",
    "gold[\"Gold Price\"] = gold[\"Gold Price\"].str.replace(\",\", \"\").astype(float)\n",
    "\n",
    "# Change year column to descending\n",
    "gold = gold.sort_index(ascending=False)"
   ]
  },
  {
   "cell_type": "code",
   "execution_count": 57,
   "id": "95fe7ebe",
   "metadata": {},
   "outputs": [
    {
     "data": {},
     "metadata": {},
     "output_type": "display_data"
    },
    {
     "data": {
      "application/vnd.holoviews_exec.v0+json": "",
      "text/html": [
       "<div id='1487'>\n",
       "\n",
       "\n",
       "\n",
       "\n",
       "\n",
       "  <div class=\"bk-root\" id=\"ebe79eb4-4244-4014-bfff-d25d748173fc\" data-root-id=\"1487\"></div>\n",
       "</div>\n",
       "<script type=\"application/javascript\">(function(root) {\n",
       "  function embed_document(root) {\n",
       "    var docs_json = {\"6526c682-c5d7-4037-b248-a1e430cfd22d\":{\"defs\":[{\"extends\":null,\"module\":null,\"name\":\"ReactiveHTML1\",\"overrides\":[],\"properties\":[]},{\"extends\":null,\"module\":null,\"name\":\"FlexBox1\",\"overrides\":[],\"properties\":[{\"default\":\"flex-start\",\"kind\":null,\"name\":\"align_content\"},{\"default\":\"flex-start\",\"kind\":null,\"name\":\"align_items\"},{\"default\":\"row\",\"kind\":null,\"name\":\"flex_direction\"},{\"default\":\"wrap\",\"kind\":null,\"name\":\"flex_wrap\"},{\"default\":\"flex-start\",\"kind\":null,\"name\":\"justify_content\"}]},{\"extends\":null,\"module\":null,\"name\":\"GridStack1\",\"overrides\":[],\"properties\":[{\"default\":\"warn\",\"kind\":null,\"name\":\"mode\"},{\"default\":null,\"kind\":null,\"name\":\"ncols\"},{\"default\":null,\"kind\":null,\"name\":\"nrows\"},{\"default\":true,\"kind\":null,\"name\":\"allow_resize\"},{\"default\":true,\"kind\":null,\"name\":\"allow_drag\"},{\"default\":[],\"kind\":null,\"name\":\"state\"}]},{\"extends\":null,\"module\":null,\"name\":\"click1\",\"overrides\":[],\"properties\":[{\"default\":\"\",\"kind\":null,\"name\":\"terminal_output\"},{\"default\":\"\",\"kind\":null,\"name\":\"debug_name\"},{\"default\":0,\"kind\":null,\"name\":\"clears\"}]},{\"extends\":null,\"module\":null,\"name\":\"TemplateActions1\",\"overrides\":[],\"properties\":[{\"default\":0,\"kind\":null,\"name\":\"open_modal\"},{\"default\":0,\"kind\":null,\"name\":\"close_modal\"}]},{\"extends\":null,\"module\":null,\"name\":\"MaterialTemplateActions1\",\"overrides\":[],\"properties\":[{\"default\":0,\"kind\":null,\"name\":\"open_modal\"},{\"default\":0,\"kind\":null,\"name\":\"close_modal\"}]}],\"roots\":{\"references\":[{\"attributes\":{\"factors\":[\"1969\",\"1970\",\"1971\",\"1972\",\"1973\",\"1974\",\"1975\",\"1976\",\"1977\",\"1978\",\"1979\",\"1980\",\"1981\",\"1982\",\"1983\",\"1984\",\"1985\",\"1986\",\"1987\",\"1988\",\"1989\",\"1990\",\"1991\",\"1992\",\"1993\",\"1994\",\"1995\",\"1996\",\"1997\",\"1998\",\"1999\",\"2000\",\"2001\",\"2002\",\"2003\",\"2004\",\"2005\",\"2006\",\"2007\",\"2008\",\"2009\",\"2010\",\"2011\",\"2012\",\"2013\",\"2014\",\"2015\",\"2016\",\"2017\",\"2018\",\"2019\",\"2020\",\"2021\",\"2022\"],\"tags\":[[[\"Year\",\"Year\",null]]]},\"id\":\"1489\",\"type\":\"FactorRange\"},{\"attributes\":{\"axis\":{\"id\":\"1501\"},\"coordinates\":null,\"grid_line_color\":null,\"group\":null,\"ticker\":null},\"id\":\"1503\",\"type\":\"Grid\"},{\"attributes\":{\"bottom_units\":\"screen\",\"coordinates\":null,\"fill_alpha\":0.5,\"fill_color\":\"lightgrey\",\"group\":null,\"left_units\":\"screen\",\"level\":\"overlay\",\"line_alpha\":1.0,\"line_color\":\"black\",\"line_dash\":[4,4],\"line_width\":2,\"right_units\":\"screen\",\"syncable\":false,\"top_units\":\"screen\"},\"id\":\"1513\",\"type\":\"BoxAnnotation\"},{\"attributes\":{\"below\":[{\"id\":\"1501\"}],\"center\":[{\"id\":\"1503\"},{\"id\":\"1507\"}],\"left\":[{\"id\":\"1504\"}],\"margin\":[5,5,5,5],\"min_border_bottom\":10,\"min_border_left\":10,\"min_border_right\":10,\"min_border_top\":10,\"renderers\":[{\"id\":\"1527\"}],\"sizing_mode\":\"fixed\",\"title\":{\"id\":\"1493\"},\"toolbar\":{\"id\":\"1514\"},\"width\":800,\"x_range\":{\"id\":\"1489\"},\"x_scale\":{\"id\":\"1497\"},\"y_range\":{\"id\":\"1490\"},\"y_scale\":{\"id\":\"1499\"}},\"id\":\"1492\",\"subtype\":\"Figure\",\"type\":\"Plot\"},{\"attributes\":{\"coordinates\":null,\"data_source\":{\"id\":\"1521\"},\"glyph\":{\"id\":\"1524\"},\"group\":null,\"hover_glyph\":null,\"muted_glyph\":{\"id\":\"1526\"},\"nonselection_glyph\":{\"id\":\"1525\"},\"selection_glyph\":{\"id\":\"1529\"},\"view\":{\"id\":\"1528\"}},\"id\":\"1527\",\"type\":\"GlyphRenderer\"},{\"attributes\":{\"margin\":[5,5,5,5],\"name\":\"HSpacer02351\",\"sizing_mode\":\"stretch_width\"},\"id\":\"1488\",\"type\":\"Spacer\"},{\"attributes\":{},\"id\":\"1505\",\"type\":\"BasicTicker\"},{\"attributes\":{},\"id\":\"1502\",\"type\":\"CategoricalTicker\"},{\"attributes\":{},\"id\":\"1532\",\"type\":\"AllLabels\"},{\"attributes\":{\"axis_label\":\"Price\",\"coordinates\":null,\"formatter\":{\"id\":\"1534\"},\"group\":null,\"major_label_policy\":{\"id\":\"1535\"},\"ticker\":{\"id\":\"1505\"}},\"id\":\"1504\",\"type\":\"LinearAxis\"},{\"attributes\":{\"callback\":null,\"renderers\":[{\"id\":\"1527\"}],\"tags\":[\"hv_created\"],\"tooltips\":[[\"Year\",\"@{Year}\"],[\"Gold Price\",\"@{Gold_Price}\"]]},\"id\":\"1491\",\"type\":\"HoverTool\"},{\"attributes\":{\"axis\":{\"id\":\"1504\"},\"coordinates\":null,\"dimension\":1,\"grid_line_color\":null,\"group\":null,\"ticker\":null},\"id\":\"1507\",\"type\":\"Grid\"},{\"attributes\":{\"source\":{\"id\":\"1521\"}},\"id\":\"1528\",\"type\":\"CDSView\"},{\"attributes\":{\"line_alpha\":0.1,\"line_color\":\"#30a2da\",\"line_width\":2,\"x\":{\"field\":\"Year\"},\"y\":{\"field\":\"Gold Price\"}},\"id\":\"1525\",\"type\":\"Line\"},{\"attributes\":{\"end\":2031.25,\"reset_end\":2031.25,\"reset_start\":-145.42999999999998,\"start\":-145.42999999999998,\"tags\":[[[\"Gold Price\",\"Gold Price\",null]]]},\"id\":\"1490\",\"type\":\"Range1d\"},{\"attributes\":{},\"id\":\"1543\",\"type\":\"UnionRenderers\"},{\"attributes\":{},\"id\":\"1497\",\"type\":\"CategoricalScale\"},{\"attributes\":{\"line_alpha\":0.2,\"line_color\":\"#30a2da\",\"line_width\":2,\"x\":{\"field\":\"Year\"},\"y\":{\"field\":\"Gold Price\"}},\"id\":\"1526\",\"type\":\"Line\"},{\"attributes\":{\"line_color\":\"#30a2da\",\"line_width\":2,\"x\":{\"field\":\"Year\"},\"y\":{\"field\":\"Gold Price\"}},\"id\":\"1529\",\"type\":\"Line\"},{\"attributes\":{},\"id\":\"1508\",\"type\":\"SaveTool\"},{\"attributes\":{\"margin\":[5,5,5,5],\"name\":\"HSpacer02352\",\"sizing_mode\":\"stretch_width\"},\"id\":\"1556\",\"type\":\"Spacer\"},{\"attributes\":{\"line_color\":\"#30a2da\",\"line_width\":2,\"x\":{\"field\":\"Year\"},\"y\":{\"field\":\"Gold Price\"}},\"id\":\"1524\",\"type\":\"Line\"},{\"attributes\":{},\"id\":\"1509\",\"type\":\"PanTool\"},{\"attributes\":{},\"id\":\"1512\",\"type\":\"ResetTool\"},{\"attributes\":{},\"id\":\"1510\",\"type\":\"WheelZoomTool\"},{\"attributes\":{\"axis_label\":\"Year\",\"coordinates\":null,\"formatter\":{\"id\":\"1531\"},\"group\":null,\"major_label_orientation\":0.7853981633974483,\"major_label_policy\":{\"id\":\"1532\"},\"ticker\":{\"id\":\"1502\"}},\"id\":\"1501\",\"type\":\"CategoricalAxis\"},{\"attributes\":{\"data\":{\"Gold Price\":{\"__ndarray__\":\"zczMzMyMREB7FK5H4fpBQGZmZmZmZkRA9ihcj8IVTUBI4XoUrkdYQLgehetR2GNApHA9CtcbZEAzMzMzMzNfQHsUrkfhemJACtejcD0yaEBcj8L1KDBzQAAAAAAANoNAw/UoXI+yfED2KFyPwoF3QI/C9Shce3pAZmZmZmaKdkAfhetRuNZzQDMzMzMzA3dAPQrXo3Dte0AUrkfhekx7QLgehetR1HdASOF6FK77d0A9CtejcKV2QFK4HoXrfXVAzczMzMyAdkDD9ShcjwJ4QIXrUbgeAXhASOF6FK47eEAAAAAAALB0QFK4HoXrYXJA9ihcj8JtcUBxPQrXo3RxQNejcD0K83BA4XoUrkdhc0DhehSuR712QBSuR+F6mHlApHA9CtfPe0AfhetRuOKCQD0K16Nww4VAKVyPwvVCi0DhehSuR22OQHE9CtejKpNAcT0K16OUmEA9CtejcBOaQNejcD0KBpZACtejcD3Ik0A9CtejcBuSQEjhehSuj5NAw/UoXI+xk0AfhetRuNOTQI/C9ShcxZVAUrgeheu2m0DD9ShcjxucQD0K16Nw55xA\",\"dtype\":\"float64\",\"order\":\"little\",\"shape\":[54]},\"Gold_Price\":{\"__ndarray__\":\"zczMzMyMREB7FK5H4fpBQGZmZmZmZkRA9ihcj8IVTUBI4XoUrkdYQLgehetR2GNApHA9CtcbZEAzMzMzMzNfQHsUrkfhemJACtejcD0yaEBcj8L1KDBzQAAAAAAANoNAw/UoXI+yfED2KFyPwoF3QI/C9Shce3pAZmZmZmaKdkAfhetRuNZzQDMzMzMzA3dAPQrXo3Dte0AUrkfhekx7QLgehetR1HdASOF6FK77d0A9CtejcKV2QFK4HoXrfXVAzczMzMyAdkDD9ShcjwJ4QIXrUbgeAXhASOF6FK47eEAAAAAAALB0QFK4HoXrYXJA9ihcj8JtcUBxPQrXo3RxQNejcD0K83BA4XoUrkdhc0DhehSuR712QBSuR+F6mHlApHA9CtfPe0AfhetRuOKCQD0K16Nww4VAKVyPwvVCi0DhehSuR22OQHE9CtejKpNAcT0K16OUmEA9CtejcBOaQNejcD0KBpZACtejcD3Ik0A9CtejcBuSQEjhehSuj5NAw/UoXI+xk0AfhetRuNOTQI/C9ShcxZVAUrgeheu2m0DD9ShcjxucQD0K16Nw55xA\",\"dtype\":\"float64\",\"order\":\"little\",\"shape\":[54]},\"Year\":[\"1969\",\"1970\",\"1971\",\"1972\",\"1973\",\"1974\",\"1975\",\"1976\",\"1977\",\"1978\",\"1979\",\"1980\",\"1981\",\"1982\",\"1983\",\"1984\",\"1985\",\"1986\",\"1987\",\"1988\",\"1989\",\"1990\",\"1991\",\"1992\",\"1993\",\"1994\",\"1995\",\"1996\",\"1997\",\"1998\",\"1999\",\"2000\",\"2001\",\"2002\",\"2003\",\"2004\",\"2005\",\"2006\",\"2007\",\"2008\",\"2009\",\"2010\",\"2011\",\"2012\",\"2013\",\"2014\",\"2015\",\"2016\",\"2017\",\"2018\",\"2019\",\"2020\",\"2021\",\"2022\"]},\"selected\":{\"id\":\"1522\"},\"selection_policy\":{\"id\":\"1543\"}},\"id\":\"1521\",\"type\":\"ColumnDataSource\"},{\"attributes\":{\"overlay\":{\"id\":\"1513\"}},\"id\":\"1511\",\"type\":\"BoxZoomTool\"},{\"attributes\":{},\"id\":\"1531\",\"type\":\"CategoricalTickFormatter\"},{\"attributes\":{},\"id\":\"1522\",\"type\":\"Selection\"},{\"attributes\":{\"coordinates\":null,\"group\":null,\"text\":\"Gold Price 1969 - 2022\",\"text_color\":\"black\",\"text_font_size\":\"12pt\"},\"id\":\"1493\",\"type\":\"Title\"},{\"attributes\":{},\"id\":\"1534\",\"type\":\"BasicTickFormatter\"},{\"attributes\":{},\"id\":\"1499\",\"type\":\"LinearScale\"},{\"attributes\":{},\"id\":\"1535\",\"type\":\"AllLabels\"},{\"attributes\":{\"tools\":[{\"id\":\"1491\"},{\"id\":\"1508\"},{\"id\":\"1509\"},{\"id\":\"1510\"},{\"id\":\"1511\"},{\"id\":\"1512\"}]},\"id\":\"1514\",\"type\":\"Toolbar\"},{\"attributes\":{\"children\":[{\"id\":\"1488\"},{\"id\":\"1492\"},{\"id\":\"1556\"}],\"margin\":[0,0,0,0],\"name\":\"Row02347\",\"tags\":[\"embedded\"]},\"id\":\"1487\",\"type\":\"Row\"}],\"root_ids\":[\"1487\"]},\"title\":\"Bokeh Application\",\"version\":\"2.4.2\"}};\n",
       "    var render_items = [{\"docid\":\"6526c682-c5d7-4037-b248-a1e430cfd22d\",\"root_ids\":[\"1487\"],\"roots\":{\"1487\":\"ebe79eb4-4244-4014-bfff-d25d748173fc\"}}];\n",
       "    root.Bokeh.embed.embed_items_notebook(docs_json, render_items);\n",
       "  }\n",
       "  if (root.Bokeh !== undefined && root.Bokeh.Panel !== undefined) {\n",
       "    embed_document(root);\n",
       "  } else {\n",
       "    var attempts = 0;\n",
       "    var timer = setInterval(function(root) {\n",
       "      if (root.Bokeh !== undefined && root.Bokeh.Panel !== undefined) {\n",
       "        clearInterval(timer);\n",
       "        embed_document(root);\n",
       "      } else if (document.readyState == \"complete\") {\n",
       "        attempts++;\n",
       "        if (attempts > 200) {\n",
       "          clearInterval(timer);\n",
       "          console.log(\"Bokeh: ERROR: Unable to run BokehJS code because BokehJS library is missing\");\n",
       "        }\n",
       "      }\n",
       "    }, 25, root)\n",
       "  }\n",
       "})(window);</script>"
      ],
      "text/plain": [
       ":Curve   [Year]   (Gold Price)"
      ]
     },
     "execution_count": 57,
     "metadata": {
      "application/vnd.holoviews_exec.v0+json": {
       "id": "1487"
      }
     },
     "output_type": "execute_result"
    }
   ],
   "source": [
    "# hvplot visualisation\n",
    "gold.hvplot.line(\n",
    "    x=\"Year\",\n",
    "    ylabel=\"Price\",\n",
    "    xlabel=\"Year\",\n",
    "    label=\"Gold Price 1969 - 2022\",\n",
    "    rot=45,\n",
    "    width=800,\n",
    "    height=600\n",
    ")\n"
   ]
  },
  {
   "cell_type": "code",
   "execution_count": 58,
   "id": "70fed4e8-ae59-4bfc-97a8-e322bd281ba9",
   "metadata": {},
   "outputs": [
    {
     "data": {
      "text/html": [
       "<div>\n",
       "<style scoped>\n",
       "    .dataframe tbody tr th:only-of-type {\n",
       "        vertical-align: middle;\n",
       "    }\n",
       "\n",
       "    .dataframe tbody tr th {\n",
       "        vertical-align: top;\n",
       "    }\n",
       "\n",
       "    .dataframe thead th {\n",
       "        text-align: right;\n",
       "    }\n",
       "</style>\n",
       "<table border=\"1\" class=\"dataframe\">\n",
       "  <thead>\n",
       "    <tr style=\"text-align: right;\">\n",
       "      <th></th>\n",
       "      <th>Year</th>\n",
       "      <th>Annual_Inflation</th>\n",
       "    </tr>\n",
       "  </thead>\n",
       "  <tbody>\n",
       "    <tr>\n",
       "      <th>0</th>\n",
       "      <td>1969</td>\n",
       "      <td>3.3</td>\n",
       "    </tr>\n",
       "    <tr>\n",
       "      <th>1</th>\n",
       "      <td>1970</td>\n",
       "      <td>3.4</td>\n",
       "    </tr>\n",
       "    <tr>\n",
       "      <th>2</th>\n",
       "      <td>1971</td>\n",
       "      <td>6.1</td>\n",
       "    </tr>\n",
       "    <tr>\n",
       "      <th>3</th>\n",
       "      <td>1972</td>\n",
       "      <td>6.0</td>\n",
       "    </tr>\n",
       "    <tr>\n",
       "      <th>4</th>\n",
       "      <td>1973</td>\n",
       "      <td>9.1</td>\n",
       "    </tr>\n",
       "  </tbody>\n",
       "</table>\n",
       "</div>"
      ],
      "text/plain": [
       "   Year  Annual_Inflation\n",
       "0  1969               3.3\n",
       "1  1970               3.4\n",
       "2  1971               6.1\n",
       "3  1972               6.0\n",
       "4  1973               9.1"
      ]
     },
     "execution_count": 58,
     "metadata": {},
     "output_type": "execute_result"
    }
   ],
   "source": [
    "ann_inf = inflation_df[\"Annual_Inflation\"].sort_index(ascending=True)\n",
    "ann_inf = pd.DataFrame(ann_inf)\n",
    "ann_inf = ann_inf[20:32]\n",
    "\n",
    "ann_inf = ann_inf.reset_index()\n",
    "ann_inf.head()"
   ]
  },
  {
   "cell_type": "code",
   "execution_count": 59,
   "id": "d03a3f51-b023-41ee-b73c-2d0a3721775a",
   "metadata": {},
   "outputs": [
    {
     "data": {
      "text/html": [
       "<div>\n",
       "<style scoped>\n",
       "    .dataframe tbody tr th:only-of-type {\n",
       "        vertical-align: middle;\n",
       "    }\n",
       "\n",
       "    .dataframe tbody tr th {\n",
       "        vertical-align: top;\n",
       "    }\n",
       "\n",
       "    .dataframe thead th {\n",
       "        text-align: right;\n",
       "    }\n",
       "</style>\n",
       "<table border=\"1\" class=\"dataframe\">\n",
       "  <thead>\n",
       "    <tr style=\"text-align: right;\">\n",
       "      <th></th>\n",
       "      <th>Year</th>\n",
       "      <th>Annual_Inflation</th>\n",
       "    </tr>\n",
       "  </thead>\n",
       "  <tbody>\n",
       "    <tr>\n",
       "      <th>0</th>\n",
       "      <td>1969</td>\n",
       "      <td>3.3</td>\n",
       "    </tr>\n",
       "    <tr>\n",
       "      <th>1</th>\n",
       "      <td>1970</td>\n",
       "      <td>3.4</td>\n",
       "    </tr>\n",
       "    <tr>\n",
       "      <th>2</th>\n",
       "      <td>1971</td>\n",
       "      <td>6.1</td>\n",
       "    </tr>\n",
       "    <tr>\n",
       "      <th>3</th>\n",
       "      <td>1972</td>\n",
       "      <td>6.0</td>\n",
       "    </tr>\n",
       "    <tr>\n",
       "      <th>4</th>\n",
       "      <td>1973</td>\n",
       "      <td>9.1</td>\n",
       "    </tr>\n",
       "    <tr>\n",
       "      <th>5</th>\n",
       "      <td>1974</td>\n",
       "      <td>15.4</td>\n",
       "    </tr>\n",
       "    <tr>\n",
       "      <th>6</th>\n",
       "      <td>1975</td>\n",
       "      <td>15.2</td>\n",
       "    </tr>\n",
       "    <tr>\n",
       "      <th>7</th>\n",
       "      <td>1976</td>\n",
       "      <td>13.3</td>\n",
       "    </tr>\n",
       "    <tr>\n",
       "      <th>8</th>\n",
       "      <td>1977</td>\n",
       "      <td>12.3</td>\n",
       "    </tr>\n",
       "    <tr>\n",
       "      <th>9</th>\n",
       "      <td>1978</td>\n",
       "      <td>8.0</td>\n",
       "    </tr>\n",
       "    <tr>\n",
       "      <th>10</th>\n",
       "      <td>1979</td>\n",
       "      <td>9.1</td>\n",
       "    </tr>\n",
       "    <tr>\n",
       "      <th>11</th>\n",
       "      <td>1980</td>\n",
       "      <td>10.1</td>\n",
       "    </tr>\n",
       "  </tbody>\n",
       "</table>\n",
       "</div>"
      ],
      "text/plain": [
       "    Year  Annual_Inflation\n",
       "0   1969               3.3\n",
       "1   1970               3.4\n",
       "2   1971               6.1\n",
       "3   1972               6.0\n",
       "4   1973               9.1\n",
       "5   1974              15.4\n",
       "6   1975              15.2\n",
       "7   1976              13.3\n",
       "8   1977              12.3\n",
       "9   1978               8.0\n",
       "10  1979               9.1\n",
       "11  1980              10.1"
      ]
     },
     "execution_count": 59,
     "metadata": {},
     "output_type": "execute_result"
    }
   ],
   "source": [
    "ann_inf"
   ]
  },
  {
   "cell_type": "code",
   "execution_count": 65,
   "id": "a0fd4220-9bec-4220-b494-2421b8f93936",
   "metadata": {},
   "outputs": [],
   "source": [
    "gold_df = gold.set_index([\"Year\"])"
   ]
  },
  {
   "cell_type": "code",
   "execution_count": 72,
   "id": "3aa4b556-e073-4684-9bca-bf393c0221b3",
   "metadata": {},
   "outputs": [
    {
     "data": {
      "text/plain": [
       "Index(['1969', '1970', '1971', '1972', '1973', '1974', '1975', '1976', '1977',\n",
       "       '1978', '1979', '1980'],\n",
       "      dtype='object', name='Year')"
      ]
     },
     "execution_count": 72,
     "metadata": {},
     "output_type": "execute_result"
    }
   ],
   "source": [
    "gold_df = gold_df[0:12]"
   ]
  },
  {
   "cell_type": "code",
   "execution_count": 74,
   "id": "0d8a0815-9ffe-4e64-8d5e-1833c1447857",
   "metadata": {},
   "outputs": [
    {
     "data": {
      "text/plain": [
       "RangeIndex(start=0, stop=12, step=1)"
      ]
     },
     "execution_count": 74,
     "metadata": {},
     "output_type": "execute_result"
    }
   ],
   "source": [
    "gold_df = gold_df.reset_index()\n",
    "gold_df.index"
   ]
  },
  {
   "cell_type": "code",
   "execution_count": 81,
   "id": "e2f0b50f-96f8-4669-ab5d-5404be46a6e0",
   "metadata": {},
   "outputs": [],
   "source": [
    "gold_vs_inflation = pd.concat([ann_inf, gold_df], axis=1)\n",
    "gold_vs_inflation = gold_vs_inflation.drop([\"Year\"], axis=1)"
   ]
  },
  {
   "cell_type": "code",
   "execution_count": 80,
   "id": "6c440d9a-aa76-4ed6-806f-d28eecaf1471",
   "metadata": {},
   "outputs": [
    {
     "data": {
      "text/html": [
       "<div>\n",
       "<style scoped>\n",
       "    .dataframe tbody tr th:only-of-type {\n",
       "        vertical-align: middle;\n",
       "    }\n",
       "\n",
       "    .dataframe tbody tr th {\n",
       "        vertical-align: top;\n",
       "    }\n",
       "\n",
       "    .dataframe thead th {\n",
       "        text-align: right;\n",
       "    }\n",
       "</style>\n",
       "<table border=\"1\" class=\"dataframe\">\n",
       "  <thead>\n",
       "    <tr style=\"text-align: right;\">\n",
       "      <th></th>\n",
       "      <th>Annual_Inflation</th>\n",
       "      <th>Gold Price</th>\n",
       "    </tr>\n",
       "  </thead>\n",
       "  <tbody>\n",
       "    <tr>\n",
       "      <th>Annual_Inflation</th>\n",
       "      <td>1.00000</td>\n",
       "      <td>0.30782</td>\n",
       "    </tr>\n",
       "    <tr>\n",
       "      <th>Gold Price</th>\n",
       "      <td>0.30782</td>\n",
       "      <td>1.00000</td>\n",
       "    </tr>\n",
       "  </tbody>\n",
       "</table>\n",
       "</div>"
      ],
      "text/plain": [
       "                  Annual_Inflation  Gold Price\n",
       "Annual_Inflation           1.00000     0.30782\n",
       "Gold Price                 0.30782     1.00000"
      ]
     },
     "execution_count": 80,
     "metadata": {},
     "output_type": "execute_result"
    }
   ],
   "source": [
    "gvi = gold_vs_inflation.corr()\n",
    "gvi"
   ]
  },
  {
   "cell_type": "code",
   "execution_count": 84,
   "id": "662e1667-b594-4344-945b-0c1b79ca4c24",
   "metadata": {},
   "outputs": [
    {
     "data": {
      "image/png": "[encoded data removed]",
      "text/plain": [
       "<Figure size 1152x360 with 2 Axes>"
      ]
     },
     "metadata": {
      "needs_background": "light"
     },
     "output_type": "display_data"
    }
   ],
   "source": [
    "plt.figure(figsize = (16,5))\n",
    "sns.heatmap(gvi, annot=True)\n",
    "plt.show()"
   ]
  },
  {
   "cell_type": "markdown",
   "id": "5a163388-13a7-488e-9dd3-9d00078f4117",
   "metadata": {},
   "source": [
    "### Analysis\n",
    "\n",
    "We can see from our gold line graph that the gold price rose sharply at the beginning of the 1970's, from around  in 1970 to $\\$$160 in 1975. From 1977 to 1980 we see an almost vertical line from $\\$$147 to a high of $\\$$614. Going into the 1980's saw a considerable drop, however never returning to it's recent low. Higher gold prices stabilized in the next decade and we have seen still further rises since.\n",
    "\n",
    "The correlation between gold and inflation on matching years shows a negative correlation of -0.47 which is, all things considered, quite high. For just the period of 1969 to 1980, the correlation is 0.31,a  positive correlation that is lower than expected but not negligible. This would suggest that as inflation rose in the 1970's so too did the price of gold, although not in tandem.\n",
    "\n",
    "It is hard to know what to make of this data as it is not definitive and naturally changes as the period of time we are measuring for changes."
   ]
  },
  {
   "cell_type": "markdown",
   "id": "f9b918c0",
   "metadata": {},
   "source": [
    "Wage"
   ]
  },
  {
   "cell_type": "code",
   "execution_count": null,
   "id": "a8e14f89",
   "metadata": {},
   "outputs": [],
   "source": [
    "# From 1967 to 1979, the data was manually imported from the archived documents in ABS\n",
    "date = [\n",
    "    '1967-Q1',\n",
    "    '1967-Q2', \n",
    "    '1967-Q3', \n",
    "    '1967-Q4',\n",
    "    '1968-Q1',\n",
    "    '1968-Q2',\n",
    "    '1968-Q3',\n",
    "    '1968-Q4',\n",
    "    '1969-Q1',\n",
    "    '1969-Q2',\n",
    "    '1969-Q3',\n",
    "    '1969-Q4',\n",
    "    '1970-Q1',\n",
    "    '1970-Q2',\n",
    "    '1970-Q3',\n",
    "    '1970-Q4',\n",
    "    '1971-Q1',\n",
    "    '1971-Q2',\n",
    "    '1971-Q3',\n",
    "    '1971-Q4',\n",
    "    '1972-Q1',\n",
    "    '1972-Q2',\n",
    "    '1972-Q3',\n",
    "    '1972-Q4',\n",
    "    '1973-Q1',\n",
    "    '1973-Q2',\n",
    "    '1973-Q3',\n",
    "    '1973-Q4',\n",
    "    '1974-Q1',\n",
    "    '1974-Q2',\n",
    "    '1974-Q3',\n",
    "    '1974-Q4',\n",
    "    '1975-Q1',\n",
    "    '1975-Q2',\n",
    "    '1975-Q3',\n",
    "    '1975-Q4',\n",
    "    '1976-Q1',\n",
    "    '1976-Q2',\n",
    "    '1976-Q3',\n",
    "    '1976-Q4',\n",
    "    '1977-Q1',\n",
    "    '1977-Q2',\n",
    "    '1977-Q3',\n",
    "    '1977-Q4',\n",
    "    '1978-Q1',\n",
    "    '1978-Q2',\n",
    "    '1978-Q3',\n",
    "    '1978-Q4',\n",
    "]\n",
    "\n",
    "value = [\n",
    "    62.00,\n",
    "    63.2,\n",
    "    64.3,\n",
    "    64.9,\n",
    "    65.4,\n",
    "    66.8,\n",
    "    67.7,\n",
    "    69.8,\n",
    "    71.6,\n",
    "    72.2,\n",
    "    73.6,\n",
    "    75.1,\n",
    "    77,\n",
    "    78.8,\n",
    "    80,\n",
    "    82,\n",
    "    87,\n",
    "    88.3,\n",
    "    90,\n",
    "    91.8,\n",
    "    93.4,\n",
    "    95.2,\n",
    "    97.9,\n",
    "    100.10,\n",
    "    102,\n",
    "    106.3,\n",
    "    111.9,\n",
    "    115,\n",
    "    118.8,\n",
    "    127.7,\n",
    "    140,\n",
    "    148,\n",
    "    151,\n",
    "    155.3,\n",
    "    159.1,\n",
    "    167.5,\n",
    "    170.7,\n",
    "    179,\n",
    "    184.7,\n",
    "    187.4,\n",
    "    192,\n",
    "    198,\n",
    "    204.5,\n",
    "    205.2,\n",
    "    213,\n",
    "    215.6,\n",
    "    220.6,\n",
    "    221,\n",
    "]"
   ]
  },
  {
   "cell_type": "code",
   "execution_count": null,
   "id": "259ea9b2",
   "metadata": {},
   "outputs": [],
   "source": [
    "# Create a dataframe to store the data\n",
    "df = pd.DataFrame()\n",
    "df['Time'] = date\n",
    "df['Weekly Wgae'] = value\n",
    "df.set_index(['Time'], inplace = True)\n",
    "\n",
    "# Visualise the data\n",
    "wage_plot = df.hvplot(rot = 90)\n",
    "wage_plot"
   ]
  },
  {
   "cell_type": "code",
   "execution_count": null,
   "id": "48385746",
   "metadata": {},
   "outputs": [],
   "source": [
    "# From\n",
    "import pandas as pd\n",
    "import requests\n",
    "\n",
    "response_data = requests.get('https://api.data.abs.gov.au/data/ABS,WPI,1.0.0/1.THRPEB.7.TOT.10.AUS.Q?startPeriod=1997-Q3&endPeriod=2022-Q1&detail=dataonly&format=jsondata')\n",
    "response_content = response_data.content"
   ]
  },
  {
   "cell_type": "code",
   "execution_count": null,
   "id": "e92fd444",
   "metadata": {},
   "outputs": [],
   "source": [
    "# Change the data format to json\n",
    "import json\n",
    "data = response_data.json()"
   ]
  },
  {
   "cell_type": "code",
   "execution_count": null,
   "id": "b74a3bc7",
   "metadata": {},
   "outputs": [],
   "source": [
    "# Enter the final layer in the ABS api\n",
    "data_1 = pd.DataFrame(data)\n",
    "pd.DataFrame(data_1[\"data\"])\n",
    "\n",
    "data_3 = data_1[\"data\"]['structure']\n",
    "data_4 = data_3['dimensions']['observation'][0]['values']\n",
    "\n",
    "# Create an empty list for wpi timeline\n",
    "wpi_name = []\n",
    "\n",
    "# Loop the wpi timeline into a list\n",
    "for i in data_4:\n",
    "    ls = i['id']\n",
    "    wpi_name.append(ls)\n",
    "\n",
    "data_2 = data_1[\"data\"]['dataSets']\n",
    "data_final = data_2[0]['series']['0:0:0:0:0:0:0']['observations']\n",
    "\n",
    "# Reverse the rows and columns to be plotted\n",
    "df_1 = pd.DataFrame(data_final).T\n",
    "df_1.columns = ['WPI']\n",
    "\n",
    "# Modify the data structure\n",
    "df_1['Time'] = wpi_name\n",
    "df1 = df_1.set_index(['Time'])\n",
    "\n",
    "# Plot the data\n",
    "df_plot = df1.plot(kind = 'line')\n",
    "df_plot"
   ]
  }
 ],
 "metadata": {
  "kernelspec": {
   "display_name": "Python 3 (ipykernel)",
   "language": "python",
   "name": "python3"
  },
  "language_info": {
   "codemirror_mode": {
    "name": "ipython",
    "version": 3
   },
   "file_extension": ".py",
   "mimetype": "text/x-python",
   "name": "python",
   "nbconvert_exporter": "python",
   "pygments_lexer": "ipython3",
   "version": "3.9.7"
  },
  "vscode": {
   "interpreter": {
    "hash": "b35ca89d9018ed0c66fe7e8a54111fe4e293837f156f1f59214a7cb310dc2c22"
   }
  }
 },
 "nbformat": 4,
 "nbformat_minor": 5
}
