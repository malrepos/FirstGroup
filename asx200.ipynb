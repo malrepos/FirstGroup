{
 "cells": [
  {
   "cell_type": "code",
   "execution_count": 10,
   "id": "98ca3bf0-d54a-4532-b76e-64371dc39bc9",
   "metadata": {},
   "outputs": [],
   "source": [
    "import pandas as pd\n",
    "import numpy as np\n",
    "from pathlib import Path\n",
    "from datetime import datetime, \n",
    "%matplotlib inline"
   ]
  },
  {
   "cell_type": "code",
   "execution_count": 4,
   "id": "524589a8-6b97-4a49-880e-5c9a0ea37182",
   "metadata": {},
   "outputs": [],
   "source": [
    "asx_path = Path(\"ASX 200.csv\")"
   ]
  },
  {
   "cell_type": "code",
   "execution_count": 18,
   "id": "06a8162c-aa6f-4348-8712-b48d52114031",
   "metadata": {},
   "outputs": [],
   "source": [
    "def parse(x):\n",
    "    return datetime.strptime(x, '%Y %m %d')"
   ]
  },
  {
   "cell_type": "code",
   "execution_count": 21,
   "id": "0d9c0743-280a-4af7-9fa1-2da4f6bb101b",
   "metadata": {},
   "outputs": [],
   "source": [
    "asx200 = pd.read_csv(asx_path, parse_dates=True, index_col=0)"
   ]
  },
  {
   "cell_type": "code",
   "execution_count": 22,
   "id": "e377130b-08eb-44b2-8142-e05503cbfc65",
   "metadata": {},
   "outputs": [
    {
     "data": {
      "text/html": [
       "<div>\n",
       "<style scoped>\n",
       "    .dataframe tbody tr th:only-of-type {\n",
       "        vertical-align: middle;\n",
       "    }\n",
       "\n",
       "    .dataframe tbody tr th {\n",
       "        vertical-align: top;\n",
       "    }\n",
       "\n",
       "    .dataframe thead th {\n",
       "        text-align: right;\n",
       "    }\n",
       "</style>\n",
       "<table border=\"1\" class=\"dataframe\">\n",
       "  <thead>\n",
       "    <tr style=\"text-align: right;\">\n",
       "      <th></th>\n",
       "      <th>Close</th>\n",
       "    </tr>\n",
       "    <tr>\n",
       "      <th>Date</th>\n",
       "      <th></th>\n",
       "    </tr>\n",
       "  </thead>\n",
       "  <tbody>\n",
       "    <tr>\n",
       "      <th>2006-05-31 16:00:00</th>\n",
       "      <td>5001.7</td>\n",
       "    </tr>\n",
       "    <tr>\n",
       "      <th>2006-06-10 16:00:00</th>\n",
       "      <td>5220.7</td>\n",
       "    </tr>\n",
       "    <tr>\n",
       "      <th>2007-03-14 16:00:00</th>\n",
       "      <td>5741.9</td>\n",
       "    </tr>\n",
       "    <tr>\n",
       "      <th>2007-02-07 16:00:00</th>\n",
       "      <td>6263.3</td>\n",
       "    </tr>\n",
       "    <tr>\n",
       "      <th>2007-10-24 16:00:00</th>\n",
       "      <td>6634.4</td>\n",
       "    </tr>\n",
       "  </tbody>\n",
       "</table>\n",
       "</div>"
      ],
      "text/plain": [
       "                      Close\n",
       "Date                       \n",
       "2006-05-31 16:00:00  5001.7\n",
       "2006-06-10 16:00:00  5220.7\n",
       "2007-03-14 16:00:00  5741.9\n",
       "2007-02-07 16:00:00  6263.3\n",
       "2007-10-24 16:00:00  6634.4"
      ]
     },
     "execution_count": 22,
     "metadata": {},
     "output_type": "execute_result"
    }
   ],
   "source": [
    "asx200.head()"
   ]
  },
  {
   "cell_type": "code",
   "execution_count": 24,
   "id": "7f878b6d-db4e-476f-8816-fdfa990c564c",
   "metadata": {},
   "outputs": [
    {
     "name": "stdout",
     "output_type": "stream",
     "text": [
      "<class 'pandas.core.frame.DataFrame'>\n",
      "DatetimeIndex: 3730 entries, 2006-05-31 16:00:00 to 2022-05-08 16:00:00\n",
      "Data columns (total 1 columns):\n",
      " #   Column  Non-Null Count  Dtype  \n",
      "---  ------  --------------  -----  \n",
      " 0   Close   3730 non-null   float64\n",
      "dtypes: float64(1)\n",
      "memory usage: 58.3 KB\n"
     ]
    }
   ],
   "source": [
    "asx200.info()"
   ]
  },
  {
   "cell_type": "code",
   "execution_count": 28,
   "id": "23919c0a-2db4-41b9-8943-b77174e9e9c7",
   "metadata": {},
   "outputs": [],
   "source": [
    "asx200.index = asx200.index.date"
   ]
  },
  {
   "cell_type": "code",
   "execution_count": 29,
   "id": "1eb52290-f6b1-41f1-bbc3-124f164d36ca",
   "metadata": {},
   "outputs": [
    {
     "data": {
      "text/html": [
       "<div>\n",
       "<style scoped>\n",
       "    .dataframe tbody tr th:only-of-type {\n",
       "        vertical-align: middle;\n",
       "    }\n",
       "\n",
       "    .dataframe tbody tr th {\n",
       "        vertical-align: top;\n",
       "    }\n",
       "\n",
       "    .dataframe thead th {\n",
       "        text-align: right;\n",
       "    }\n",
       "</style>\n",
       "<table border=\"1\" class=\"dataframe\">\n",
       "  <thead>\n",
       "    <tr style=\"text-align: right;\">\n",
       "      <th></th>\n",
       "      <th>Close</th>\n",
       "    </tr>\n",
       "  </thead>\n",
       "  <tbody>\n",
       "    <tr>\n",
       "      <th>2006-05-31</th>\n",
       "      <td>5001.7</td>\n",
       "    </tr>\n",
       "    <tr>\n",
       "      <th>2006-06-10</th>\n",
       "      <td>5220.7</td>\n",
       "    </tr>\n",
       "    <tr>\n",
       "      <th>2007-03-14</th>\n",
       "      <td>5741.9</td>\n",
       "    </tr>\n",
       "    <tr>\n",
       "      <th>2007-02-07</th>\n",
       "      <td>6263.3</td>\n",
       "    </tr>\n",
       "    <tr>\n",
       "      <th>2007-10-24</th>\n",
       "      <td>6634.4</td>\n",
       "    </tr>\n",
       "    <tr>\n",
       "      <th>...</th>\n",
       "      <td>...</td>\n",
       "    </tr>\n",
       "    <tr>\n",
       "      <th>2022-01-08</th>\n",
       "      <td>6993.0</td>\n",
       "    </tr>\n",
       "    <tr>\n",
       "      <th>2022-02-08</th>\n",
       "      <td>6998.1</td>\n",
       "    </tr>\n",
       "    <tr>\n",
       "      <th>2022-03-08</th>\n",
       "      <td>6975.9</td>\n",
       "    </tr>\n",
       "    <tr>\n",
       "      <th>2022-04-08</th>\n",
       "      <td>6974.9</td>\n",
       "    </tr>\n",
       "    <tr>\n",
       "      <th>2022-05-08</th>\n",
       "      <td>7015.6</td>\n",
       "    </tr>\n",
       "  </tbody>\n",
       "</table>\n",
       "<p>3730 rows × 1 columns</p>\n",
       "</div>"
      ],
      "text/plain": [
       "             Close\n",
       "2006-05-31  5001.7\n",
       "2006-06-10  5220.7\n",
       "2007-03-14  5741.9\n",
       "2007-02-07  6263.3\n",
       "2007-10-24  6634.4\n",
       "...            ...\n",
       "2022-01-08  6993.0\n",
       "2022-02-08  6998.1\n",
       "2022-03-08  6975.9\n",
       "2022-04-08  6974.9\n",
       "2022-05-08  7015.6\n",
       "\n",
       "[3730 rows x 1 columns]"
      ]
     },
     "execution_count": 29,
     "metadata": {},
     "output_type": "execute_result"
    }
   ],
   "source": [
    "asx200"
   ]
  },
  {
   "cell_type": "code",
   "execution_count": null,
   "id": "452f1072-4767-4824-8559-3366d55fa4ee",
   "metadata": {},
   "outputs": [],
   "source": []
  }
 ],
 "metadata": {
  "kernelspec": {
   "display_name": "Python 3 (ipykernel)",
   "language": "python",
   "name": "python3"
  },
  "language_info": {
   "codemirror_mode": {
    "name": "ipython",
    "version": 3
   },
   "file_extension": ".py",
   "mimetype": "text/x-python",
   "name": "python",
   "nbconvert_exporter": "python",
   "pygments_lexer": "ipython3",
   "version": "3.9.7"
  }
 },
 "nbformat": 4,
 "nbformat_minor": 5
}
