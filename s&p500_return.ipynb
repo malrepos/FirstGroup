{
 "cells": [
  {
   "cell_type": "code",
   "execution_count": 61,
   "id": "a430df55-c925-475f-8d79-cdaee2e3fadf",
   "metadata": {
    "tags": []
   },
   "outputs": [],
   "source": [
    "import pandas as pd\n",
    "import numpy as np\n",
    "from pathlib import Path\n",
    "import hvplot.pandas\n",
    "from datetime import datetime \n",
    "%matplotlib inline"
   ]
  },
  {
   "cell_type": "markdown",
   "id": "f2c05afd-3ab6-4320-9881-47ad14b72cac",
   "metadata": {},
   "source": [
    "This website had the historial S&P500 Returns \n",
    "\n",
    "https://www.slickcharts.com/sp500/returns#google_vignette"
   ]
  },
  {
   "cell_type": "code",
   "execution_count": 62,
   "id": "57beef66-2103-4c1a-9a91-be6c893a6cf0",
   "metadata": {},
   "outputs": [],
   "source": [
    "#Data was saved on file and i used the read_csv to grab data to run analysis"
   ]
  },
  {
   "cell_type": "code",
   "execution_count": 63,
   "id": "22de949d-ab06-4823-8f2d-923683dc2f93",
   "metadata": {
    "tags": []
   },
   "outputs": [],
   "source": [
    "sp500_path = Path(\"S&P500 returns.csv\")"
   ]
  },
  {
   "cell_type": "code",
   "execution_count": 64,
   "id": "a17696b5-20c7-4403-800c-29232eac0a35",
   "metadata": {},
   "outputs": [
    {
     "data": {
      "text/html": [
       "<div>\n",
       "<style scoped>\n",
       "    .dataframe tbody tr th:only-of-type {\n",
       "        vertical-align: middle;\n",
       "    }\n",
       "\n",
       "    .dataframe tbody tr th {\n",
       "        vertical-align: top;\n",
       "    }\n",
       "\n",
       "    .dataframe thead th {\n",
       "        text-align: right;\n",
       "    }\n",
       "</style>\n",
       "<table border=\"1\" class=\"dataframe\">\n",
       "  <thead>\n",
       "    <tr style=\"text-align: right;\">\n",
       "      <th></th>\n",
       "      <th>Year</th>\n",
       "      <th>Return</th>\n",
       "    </tr>\n",
       "  </thead>\n",
       "  <tbody>\n",
       "    <tr>\n",
       "      <th>0</th>\n",
       "      <td>2021</td>\n",
       "      <td>28.71</td>\n",
       "    </tr>\n",
       "    <tr>\n",
       "      <th>1</th>\n",
       "      <td>2020</td>\n",
       "      <td>18.40</td>\n",
       "    </tr>\n",
       "    <tr>\n",
       "      <th>2</th>\n",
       "      <td>2019</td>\n",
       "      <td>31.49</td>\n",
       "    </tr>\n",
       "    <tr>\n",
       "      <th>3</th>\n",
       "      <td>2018</td>\n",
       "      <td>-4.38</td>\n",
       "    </tr>\n",
       "    <tr>\n",
       "      <th>4</th>\n",
       "      <td>2017</td>\n",
       "      <td>21.83</td>\n",
       "    </tr>\n",
       "    <tr>\n",
       "      <th>...</th>\n",
       "      <td>...</td>\n",
       "      <td>...</td>\n",
       "    </tr>\n",
       "    <tr>\n",
       "      <th>91</th>\n",
       "      <td>1930</td>\n",
       "      <td>-24.90</td>\n",
       "    </tr>\n",
       "    <tr>\n",
       "      <th>92</th>\n",
       "      <td>1929</td>\n",
       "      <td>-8.42</td>\n",
       "    </tr>\n",
       "    <tr>\n",
       "      <th>93</th>\n",
       "      <td>1928</td>\n",
       "      <td>43.61</td>\n",
       "    </tr>\n",
       "    <tr>\n",
       "      <th>94</th>\n",
       "      <td>1927</td>\n",
       "      <td>37.49</td>\n",
       "    </tr>\n",
       "    <tr>\n",
       "      <th>95</th>\n",
       "      <td>1926</td>\n",
       "      <td>11.62</td>\n",
       "    </tr>\n",
       "  </tbody>\n",
       "</table>\n",
       "<p>96 rows × 2 columns</p>\n",
       "</div>"
      ],
      "text/plain": [
       "    Year  Return\n",
       "0   2021   28.71\n",
       "1   2020   18.40\n",
       "2   2019   31.49\n",
       "3   2018   -4.38\n",
       "4   2017   21.83\n",
       "..   ...     ...\n",
       "91  1930  -24.90\n",
       "92  1929   -8.42\n",
       "93  1928   43.61\n",
       "94  1927   37.49\n",
       "95  1926   11.62\n",
       "\n",
       "[96 rows x 2 columns]"
      ]
     },
     "execution_count": 64,
     "metadata": {},
     "output_type": "execute_result"
    }
   ],
   "source": [
    "sp500_return = pd.read_csv(Path(\"S&P500 returns.csv\"))\n",
    "sp500_return"
   ]
  },
  {
   "cell_type": "code",
   "execution_count": 65,
   "id": "32793cc3-30b8-452a-bcef-48654d1469dc",
   "metadata": {
    "tags": []
   },
   "outputs": [
    {
     "data": {
      "text/plain": [
       "Int64Index([2021, 2020, 2019, 2018, 2017, 2016, 2015, 2014, 2013, 2012, 2011,\n",
       "            2010, 2009, 2008, 2007, 2006, 2005, 2004, 2003, 2002, 2001, 2000,\n",
       "            1999, 1998, 1997, 1996, 1995, 1994, 1993, 1992, 1991, 1990, 1989,\n",
       "            1988, 1987, 1986, 1985, 1984, 1983, 1982, 1981, 1980, 1979, 1978,\n",
       "            1977, 1976, 1975, 1974, 1973, 1972, 1971, 1970, 1969, 1968, 1967,\n",
       "            1966, 1965, 1964, 1963, 1962, 1961, 1960, 1959, 1958, 1957, 1956,\n",
       "            1955, 1954, 1953, 1952, 1951, 1950, 1949, 1948, 1947, 1946, 1945,\n",
       "            1944, 1943, 1942, 1941, 1940, 1939, 1938, 1937, 1936, 1935, 1934,\n",
       "            1933, 1932, 1931, 1930, 1929, 1928, 1927, 1926],\n",
       "           dtype='int64', name='Year')"
      ]
     },
     "execution_count": 65,
     "metadata": {},
     "output_type": "execute_result"
    }
   ],
   "source": [
    "# I set the index for the inflation data as \"Year\"\n",
    "\n",
    "sp500_return = sp500_return.set_index(\"Year\")\n",
    "sp500_return.index"
   ]
  },
  {
   "cell_type": "code",
   "execution_count": 66,
   "id": "cf4b26a3-aec3-48f5-864f-1277dbf0f568",
   "metadata": {},
   "outputs": [
    {
     "data": {
      "text/html": [
       "<div>\n",
       "<style scoped>\n",
       "    .dataframe tbody tr th:only-of-type {\n",
       "        vertical-align: middle;\n",
       "    }\n",
       "\n",
       "    .dataframe tbody tr th {\n",
       "        vertical-align: top;\n",
       "    }\n",
       "\n",
       "    .dataframe thead th {\n",
       "        text-align: right;\n",
       "    }\n",
       "</style>\n",
       "<table border=\"1\" class=\"dataframe\">\n",
       "  <thead>\n",
       "    <tr style=\"text-align: right;\">\n",
       "      <th></th>\n",
       "      <th>Return</th>\n",
       "    </tr>\n",
       "    <tr>\n",
       "      <th>Year</th>\n",
       "      <th></th>\n",
       "    </tr>\n",
       "  </thead>\n",
       "  <tbody>\n",
       "    <tr>\n",
       "      <th>2021</th>\n",
       "      <td>28.71</td>\n",
       "    </tr>\n",
       "    <tr>\n",
       "      <th>2020</th>\n",
       "      <td>18.40</td>\n",
       "    </tr>\n",
       "    <tr>\n",
       "      <th>2019</th>\n",
       "      <td>31.49</td>\n",
       "    </tr>\n",
       "    <tr>\n",
       "      <th>2018</th>\n",
       "      <td>-4.38</td>\n",
       "    </tr>\n",
       "    <tr>\n",
       "      <th>2017</th>\n",
       "      <td>21.83</td>\n",
       "    </tr>\n",
       "  </tbody>\n",
       "</table>\n",
       "</div>"
      ],
      "text/plain": [
       "      Return\n",
       "Year        \n",
       "2021   28.71\n",
       "2020   18.40\n",
       "2019   31.49\n",
       "2018   -4.38\n",
       "2017   21.83"
      ]
     },
     "execution_count": 66,
     "metadata": {},
     "output_type": "execute_result"
    }
   ],
   "source": [
    "sp500_return.head()"
   ]
  },
  {
   "cell_type": "code",
   "execution_count": 67,
   "id": "9c06847b-8d67-4cc8-87ac-c29cc9bb6c01",
   "metadata": {},
   "outputs": [
    {
     "data": {
      "text/html": [
       "<div>\n",
       "<style scoped>\n",
       "    .dataframe tbody tr th:only-of-type {\n",
       "        vertical-align: middle;\n",
       "    }\n",
       "\n",
       "    .dataframe tbody tr th {\n",
       "        vertical-align: top;\n",
       "    }\n",
       "\n",
       "    .dataframe thead th {\n",
       "        text-align: right;\n",
       "    }\n",
       "</style>\n",
       "<table border=\"1\" class=\"dataframe\">\n",
       "  <thead>\n",
       "    <tr style=\"text-align: right;\">\n",
       "      <th></th>\n",
       "      <th>Annual_sp500Return</th>\n",
       "    </tr>\n",
       "    <tr>\n",
       "      <th>Year</th>\n",
       "      <th></th>\n",
       "    </tr>\n",
       "  </thead>\n",
       "  <tbody>\n",
       "    <tr>\n",
       "      <th>2021</th>\n",
       "      <td>28.71</td>\n",
       "    </tr>\n",
       "    <tr>\n",
       "      <th>2020</th>\n",
       "      <td>18.40</td>\n",
       "    </tr>\n",
       "    <tr>\n",
       "      <th>2019</th>\n",
       "      <td>31.49</td>\n",
       "    </tr>\n",
       "    <tr>\n",
       "      <th>2018</th>\n",
       "      <td>-4.38</td>\n",
       "    </tr>\n",
       "    <tr>\n",
       "      <th>2017</th>\n",
       "      <td>21.83</td>\n",
       "    </tr>\n",
       "    <tr>\n",
       "      <th>...</th>\n",
       "      <td>...</td>\n",
       "    </tr>\n",
       "    <tr>\n",
       "      <th>1930</th>\n",
       "      <td>-24.90</td>\n",
       "    </tr>\n",
       "    <tr>\n",
       "      <th>1929</th>\n",
       "      <td>-8.42</td>\n",
       "    </tr>\n",
       "    <tr>\n",
       "      <th>1928</th>\n",
       "      <td>43.61</td>\n",
       "    </tr>\n",
       "    <tr>\n",
       "      <th>1927</th>\n",
       "      <td>37.49</td>\n",
       "    </tr>\n",
       "    <tr>\n",
       "      <th>1926</th>\n",
       "      <td>11.62</td>\n",
       "    </tr>\n",
       "  </tbody>\n",
       "</table>\n",
       "<p>96 rows × 1 columns</p>\n",
       "</div>"
      ],
      "text/plain": [
       "      Annual_sp500Return\n",
       "Year                    \n",
       "2021               28.71\n",
       "2020               18.40\n",
       "2019               31.49\n",
       "2018               -4.38\n",
       "2017               21.83\n",
       "...                  ...\n",
       "1930              -24.90\n",
       "1929               -8.42\n",
       "1928               43.61\n",
       "1927               37.49\n",
       "1926               11.62\n",
       "\n",
       "[96 rows x 1 columns]"
      ]
     },
     "execution_count": 67,
     "metadata": {},
     "output_type": "execute_result"
    }
   ],
   "source": [
    "# Here I rename the Return column to Annual to clearly provide timeframe being used \n",
    "sp500_return.rename(columns = {'Return':'Annual_sp500Return'}, inplace = True)\n",
    "sp500_return"
   ]
  },
  {
   "cell_type": "code",
   "execution_count": 68,
   "id": "c0c18629-533b-4f86-bd9c-02e058ce1666",
   "metadata": {},
   "outputs": [
    {
     "data": {},
     "metadata": {},
     "output_type": "display_data"
    },
    {
     "data": {
      "application/vnd.holoviews_exec.v0+json": "",
      "text/html": [
       "<div id='4733'>\n",
       "\n",
       "\n",
       "\n",
       "\n",
       "\n",
       "  <div class=\"bk-root\" id=\"a7a3111a-97a5-4fa9-93cc-82cb849e6abd\" data-root-id=\"4733\"></div>\n",
       "</div>\n",
       "<script type=\"application/javascript\">(function(root) {\n",
       "  function embed_document(root) {\n",
       "    var docs_json = {\"03ea3e12-85e2-4746-85ac-d2584fb78d31\":{\"defs\":[{\"extends\":null,\"module\":null,\"name\":\"ReactiveHTML1\",\"overrides\":[],\"properties\":[]},{\"extends\":null,\"module\":null,\"name\":\"FlexBox1\",\"overrides\":[],\"properties\":[{\"default\":\"flex-start\",\"kind\":null,\"name\":\"align_content\"},{\"default\":\"flex-start\",\"kind\":null,\"name\":\"align_items\"},{\"default\":\"row\",\"kind\":null,\"name\":\"flex_direction\"},{\"default\":\"wrap\",\"kind\":null,\"name\":\"flex_wrap\"},{\"default\":\"flex-start\",\"kind\":null,\"name\":\"justify_content\"}]},{\"extends\":null,\"module\":null,\"name\":\"GridStack1\",\"overrides\":[],\"properties\":[{\"default\":\"warn\",\"kind\":null,\"name\":\"mode\"},{\"default\":null,\"kind\":null,\"name\":\"ncols\"},{\"default\":null,\"kind\":null,\"name\":\"nrows\"},{\"default\":true,\"kind\":null,\"name\":\"allow_resize\"},{\"default\":true,\"kind\":null,\"name\":\"allow_drag\"},{\"default\":[],\"kind\":null,\"name\":\"state\"}]},{\"extends\":null,\"module\":null,\"name\":\"click1\",\"overrides\":[],\"properties\":[{\"default\":\"\",\"kind\":null,\"name\":\"terminal_output\"},{\"default\":\"\",\"kind\":null,\"name\":\"debug_name\"},{\"default\":0,\"kind\":null,\"name\":\"clears\"}]},{\"extends\":null,\"module\":null,\"name\":\"NotificationAreaBase1\",\"overrides\":[],\"properties\":[{\"default\":\"bottom-right\",\"kind\":null,\"name\":\"position\"},{\"default\":0,\"kind\":null,\"name\":\"_clear\"}]},{\"extends\":null,\"module\":null,\"name\":\"NotificationArea1\",\"overrides\":[],\"properties\":[{\"default\":[],\"kind\":null,\"name\":\"notifications\"},{\"default\":\"bottom-right\",\"kind\":null,\"name\":\"position\"},{\"default\":0,\"kind\":null,\"name\":\"_clear\"},{\"default\":[{\"background\":\"#ffc107\",\"icon\":{\"className\":\"fas fa-exclamation-triangle\",\"color\":\"white\",\"tagName\":\"i\"},\"type\":\"warning\"},{\"background\":\"#007bff\",\"icon\":{\"className\":\"fas fa-info-circle\",\"color\":\"white\",\"tagName\":\"i\"},\"type\":\"info\"}],\"kind\":null,\"name\":\"types\"}]},{\"extends\":null,\"module\":null,\"name\":\"Notification\",\"overrides\":[],\"properties\":[{\"default\":null,\"kind\":null,\"name\":\"background\"},{\"default\":3000,\"kind\":null,\"name\":\"duration\"},{\"default\":null,\"kind\":null,\"name\":\"icon\"},{\"default\":\"\",\"kind\":null,\"name\":\"message\"},{\"default\":null,\"kind\":null,\"name\":\"notification_type\"},{\"default\":false,\"kind\":null,\"name\":\"_destroyed\"}]},{\"extends\":null,\"module\":null,\"name\":\"TemplateActions1\",\"overrides\":[],\"properties\":[{\"default\":0,\"kind\":null,\"name\":\"open_modal\"},{\"default\":0,\"kind\":null,\"name\":\"close_modal\"}]},{\"extends\":null,\"module\":null,\"name\":\"MaterialTemplateActions1\",\"overrides\":[],\"properties\":[{\"default\":0,\"kind\":null,\"name\":\"open_modal\"},{\"default\":0,\"kind\":null,\"name\":\"close_modal\"}]}],\"roots\":{\"references\":[{\"attributes\":{},\"id\":\"4790\",\"type\":\"UnionRenderers\"},{\"attributes\":{\"line_color\":\"#30a2da\",\"line_width\":2,\"x\":{\"field\":\"Year\"},\"y\":{\"field\":\"Annual_sp500Return\"}},\"id\":\"4776\",\"type\":\"Line\"},{\"attributes\":{\"below\":[{\"id\":\"4747\"}],\"center\":[{\"id\":\"4750\"},{\"id\":\"4754\"}],\"height\":300,\"left\":[{\"id\":\"4751\"}],\"margin\":[5,5,5,5],\"min_border_bottom\":10,\"min_border_left\":10,\"min_border_right\":10,\"min_border_top\":10,\"renderers\":[{\"id\":\"4774\"}],\"sizing_mode\":\"fixed\",\"title\":{\"id\":\"4739\"},\"toolbar\":{\"id\":\"4761\"},\"width\":700,\"x_range\":{\"id\":\"4735\"},\"x_scale\":{\"id\":\"4743\"},\"y_range\":{\"id\":\"4736\"},\"y_scale\":{\"id\":\"4745\"}},\"id\":\"4738\",\"subtype\":\"Figure\",\"type\":\"Plot\"},{\"attributes\":{\"axis\":{\"id\":\"4747\"},\"coordinates\":null,\"grid_line_color\":null,\"group\":null,\"ticker\":null},\"id\":\"4750\",\"type\":\"Grid\"},{\"attributes\":{\"margin\":[5,5,5,5],\"name\":\"HSpacer09665\",\"sizing_mode\":\"stretch_width\"},\"id\":\"4793\",\"type\":\"Spacer\"},{\"attributes\":{},\"id\":\"4769\",\"type\":\"Selection\"},{\"attributes\":{},\"id\":\"4778\",\"type\":\"BasicTickFormatter\"},{\"attributes\":{},\"id\":\"4779\",\"type\":\"AllLabels\"},{\"attributes\":{\"callback\":null,\"renderers\":[{\"id\":\"4774\"}],\"tags\":[\"hv_created\"],\"tooltips\":[[\"Year\",\"@{Year}\"],[\"Annual_sp500Return\",\"@{Annual_sp500Return}\"]]},\"id\":\"4737\",\"type\":\"HoverTool\"},{\"attributes\":{\"line_color\":\"#30a2da\",\"line_width\":2,\"x\":{\"field\":\"Year\"},\"y\":{\"field\":\"Annual_sp500Return\"}},\"id\":\"4771\",\"type\":\"Line\"},{\"attributes\":{},\"id\":\"4748\",\"type\":\"BasicTicker\"},{\"attributes\":{\"children\":[{\"id\":\"4734\"},{\"id\":\"4738\"},{\"id\":\"4793\"}],\"margin\":[0,0,0,0],\"name\":\"Row09660\",\"tags\":[\"embedded\"]},\"id\":\"4733\",\"type\":\"Row\"},{\"attributes\":{\"line_alpha\":0.2,\"line_color\":\"#30a2da\",\"line_width\":2,\"x\":{\"field\":\"Year\"},\"y\":{\"field\":\"Annual_sp500Return\"}},\"id\":\"4773\",\"type\":\"Line\"},{\"attributes\":{\"end\":2021.0,\"reset_end\":2021.0,\"reset_start\":1926.0,\"start\":1926.0,\"tags\":[[[\"Year\",\"Year\",null]]]},\"id\":\"4735\",\"type\":\"Range1d\"},{\"attributes\":{},\"id\":\"4745\",\"type\":\"LinearScale\"},{\"attributes\":{\"coordinates\":null,\"group\":null,\"text\":\"Annual Return\",\"text_color\":\"black\",\"text_font_size\":\"12pt\"},\"id\":\"4739\",\"type\":\"Title\"},{\"attributes\":{\"coordinates\":null,\"data_source\":{\"id\":\"4768\"},\"glyph\":{\"id\":\"4771\"},\"group\":null,\"hover_glyph\":null,\"muted_glyph\":{\"id\":\"4773\"},\"nonselection_glyph\":{\"id\":\"4772\"},\"selection_glyph\":{\"id\":\"4776\"},\"view\":{\"id\":\"4775\"}},\"id\":\"4774\",\"type\":\"GlyphRenderer\"},{\"attributes\":{\"data\":{\"Annual_sp500Return\":{\"__ndarray__\":\"9ihcj8K1PEBmZmZmZmYyQD0K16NwfT9AhetRuB6FEcAUrkfhetQ1QOxRuB6F6ydAFK5H4XoU9j/hehSuR2ErQFK4HoXrMUBAAAAAAAAAMEDhehSuR+EAQB+F61G4Hi5A9ihcj8J1OkAAAAAAAIBCwPYoXI/C9RVAFK5H4XqUL0CkcD0K16MTQMP1KFyPwiVArkfhehSuPECamZmZmRk2wEjhehSuxyfAMzMzMzMzIsAK16NwPQo1QBSuR+F6lDxArkfhehSuQED2KFyPwvU2QArXo3A9ykJAH4XrUbge9T8pXI/C9SgkQHsUrkfheh5AuB6F61F4PkDNzMzMzMwIwHE9CtejsD9AXI/C9SicMEAAAAAAAAAVQOxRuB6FqzJAexSuR+G6P0AUrkfhehQZQI/C9ShcjzZAzczMzMyMNUCkcD0K16MTwPYoXI/CNUBAcT0K16NwMkA9CtejcD0aQLgehetRuBzA16NwPQrXN0CamZmZmZlCQLgehetReDrAUrgehetRLcB7FK5H4foyQB+F61G4nixACtejcD0KEEAAAAAAAAAhwB+F61G4HiZAexSuR+H6N0AfhetRuB4kwGZmZmZm5ihAexSuR+F6MEDNzMzMzMw2QPYoXI/CdSHApHA9CtfjOkAUrkfhehTeP+xRuB6F6ydArkfhehSuRUCPwvUoXI8lwD0K16NwPRpAj8L1KFyPP0CPwvUoXE9KQK5H4XoUru+/H4XrUbheMkCF61G4HgU4QPYoXI/CtT9ACtejcD3KMkAAAAAAAAAWQNejcD0K1xZApHA9CtcjIMC4HoXrUThCQAAAAAAAwDNAZmZmZmbmOUDXo3A9Clc0QK5H4XoULifAj8L1KFyPI8A9CtejcD3avx+F61G4Hj9ApHA9CteDQcD2KFyPwvVAQPYoXI/C1UdACtejcD0K978fhetRuP5KQOF6FK5HYSDA7FG4HoWrRcBmZmZmZuY4wNejcD0K1yDArkfhehTORUAfhetRuL5CQD0K16NwPSdA\",\"dtype\":\"float64\",\"order\":\"little\",\"shape\":[96]},\"Year\":[2021,2020,2019,2018,2017,2016,2015,2014,2013,2012,2011,2010,2009,2008,2007,2006,2005,2004,2003,2002,2001,2000,1999,1998,1997,1996,1995,1994,1993,1992,1991,1990,1989,1988,1987,1986,1985,1984,1983,1982,1981,1980,1979,1978,1977,1976,1975,1974,1973,1972,1971,1970,1969,1968,1967,1966,1965,1964,1963,1962,1961,1960,1959,1958,1957,1956,1955,1954,1953,1952,1951,1950,1949,1948,1947,1946,1945,1944,1943,1942,1941,1940,1939,1938,1937,1936,1935,1934,1933,1932,1931,1930,1929,1928,1927,1926]},\"selected\":{\"id\":\"4769\"},\"selection_policy\":{\"id\":\"4790\"}},\"id\":\"4768\",\"type\":\"ColumnDataSource\"},{\"attributes\":{\"source\":{\"id\":\"4768\"}},\"id\":\"4775\",\"type\":\"CDSView\"},{\"attributes\":{\"axis\":{\"id\":\"4751\"},\"coordinates\":null,\"dimension\":1,\"grid_line_color\":null,\"group\":null,\"ticker\":null},\"id\":\"4754\",\"type\":\"Grid\"},{\"attributes\":{\"axis_label\":\"Year\",\"coordinates\":null,\"formatter\":{\"id\":\"4778\"},\"group\":null,\"major_label_policy\":{\"id\":\"4779\"},\"ticker\":{\"id\":\"4748\"}},\"id\":\"4747\",\"type\":\"LinearAxis\"},{\"attributes\":{},\"id\":\"4756\",\"type\":\"PanTool\"},{\"attributes\":{\"axis_label\":\"sp500 Return\",\"coordinates\":null,\"formatter\":{\"id\":\"4781\"},\"group\":null,\"major_label_policy\":{\"id\":\"4782\"},\"ticker\":{\"id\":\"4752\"}},\"id\":\"4751\",\"type\":\"LinearAxis\"},{\"attributes\":{},\"id\":\"4752\",\"type\":\"BasicTicker\"},{\"attributes\":{\"margin\":[5,5,5,5],\"name\":\"HSpacer09664\",\"sizing_mode\":\"stretch_width\"},\"id\":\"4734\",\"type\":\"Spacer\"},{\"attributes\":{\"line_alpha\":0.1,\"line_color\":\"#30a2da\",\"line_width\":2,\"x\":{\"field\":\"Year\"},\"y\":{\"field\":\"Annual_sp500Return\"}},\"id\":\"4772\",\"type\":\"Line\"},{\"attributes\":{},\"id\":\"4757\",\"type\":\"WheelZoomTool\"},{\"attributes\":{},\"id\":\"4755\",\"type\":\"SaveTool\"},{\"attributes\":{},\"id\":\"4782\",\"type\":\"AllLabels\"},{\"attributes\":{\"overlay\":{\"id\":\"4760\"}},\"id\":\"4758\",\"type\":\"BoxZoomTool\"},{\"attributes\":{},\"id\":\"4759\",\"type\":\"ResetTool\"},{\"attributes\":{\"bottom_units\":\"screen\",\"coordinates\":null,\"fill_alpha\":0.5,\"fill_color\":\"lightgrey\",\"group\":null,\"left_units\":\"screen\",\"level\":\"overlay\",\"line_alpha\":1.0,\"line_color\":\"black\",\"line_dash\":[4,4],\"line_width\":2,\"right_units\":\"screen\",\"syncable\":false,\"top_units\":\"screen\"},\"id\":\"4760\",\"type\":\"BoxAnnotation\"},{\"attributes\":{\"end\":63.723000000000006,\"reset_end\":63.723000000000006,\"reset_start\":-53.07300000000001,\"start\":-53.07300000000001,\"tags\":[[[\"Annual_sp500Return\",\"Annual_sp500Return\",null]]]},\"id\":\"4736\",\"type\":\"Range1d\"},{\"attributes\":{},\"id\":\"4781\",\"type\":\"BasicTickFormatter\"},{\"attributes\":{\"tools\":[{\"id\":\"4737\"},{\"id\":\"4755\"},{\"id\":\"4756\"},{\"id\":\"4757\"},{\"id\":\"4758\"},{\"id\":\"4759\"}]},\"id\":\"4761\",\"type\":\"Toolbar\"},{\"attributes\":{},\"id\":\"4743\",\"type\":\"LinearScale\"}],\"root_ids\":[\"4733\"]},\"title\":\"Bokeh Application\",\"version\":\"2.4.1\"}};\n",
       "    var render_items = [{\"docid\":\"03ea3e12-85e2-4746-85ac-d2584fb78d31\",\"root_ids\":[\"4733\"],\"roots\":{\"4733\":\"a7a3111a-97a5-4fa9-93cc-82cb849e6abd\"}}];\n",
       "    root.Bokeh.embed.embed_items_notebook(docs_json, render_items);\n",
       "  }\n",
       "  if (root.Bokeh !== undefined && root.Bokeh.Panel !== undefined) {\n",
       "    embed_document(root);\n",
       "  } else {\n",
       "    var attempts = 0;\n",
       "    var timer = setInterval(function(root) {\n",
       "      if (root.Bokeh !== undefined && root.Bokeh.Panel !== undefined) {\n",
       "        clearInterval(timer);\n",
       "        embed_document(root);\n",
       "      } else if (document.readyState == \"complete\") {\n",
       "        attempts++;\n",
       "        if (attempts > 200) {\n",
       "          clearInterval(timer);\n",
       "          console.log(\"Bokeh: ERROR: Unable to run BokehJS code because BokehJS library is missing\");\n",
       "        }\n",
       "      }\n",
       "    }, 25, root)\n",
       "  }\n",
       "})(window);</script>"
      ],
      "text/plain": [
       ":Curve   [Year]   (Annual_sp500Return)"
      ]
     },
     "execution_count": 68,
     "metadata": {
      "application/vnd.holoviews_exec.v0+json": {
       "id": "4733"
      }
     },
     "output_type": "execute_result"
    }
   ],
   "source": [
    "# Here i plot the s&p500 return data set \n",
    "\n",
    "sp500_return[\"Annual_sp500Return\"].hvplot(\n",
    "    label=\"Annual Return\",\n",
    "    xlabel=\"Year\",\n",
    "    ylabel=\"sp500 Return\"\n",
    ")"
   ]
  },
  {
   "cell_type": "raw",
   "id": "9d76fd55-8a95-439c-9273-51896c5aa849",
   "metadata": {
    "tags": []
   },
   "source": [
    "Analysis\n",
    "\n",
    "In the above plot, we can see the fall in the sp500 returns during the 1970's, declining to one of the lowest at -26.47% in 1974. In the 2000's another significant fall happened in 2008 of about -37% during the GFC. Looking at the 2020's we see a bit more conistent trend in the rise and fall of the stock market. The question is, will this trend continue and how does it correlate with the rise and fall of inflation ?\n"
   ]
  },
  {
   "cell_type": "code",
   "execution_count": 69,
   "id": "37f1e04f-a006-462a-b7a4-166a707bd911",
   "metadata": {},
   "outputs": [
    {
     "data": {
      "text/plain": [
       "Year\n",
       "1978     6.56\n",
       "1977    -7.18\n",
       "1976    23.84\n",
       "1975    37.20\n",
       "1974   -26.47\n",
       "1973   -14.66\n",
       "1972    18.98\n",
       "1971    14.31\n",
       "1970     4.01\n",
       "1969    -8.50\n",
       "1968    11.06\n",
       "1967    23.98\n",
       "1966   -10.06\n",
       "Name: seventies_return, dtype: float64"
      ]
     },
     "execution_count": 69,
     "metadata": {},
     "output_type": "execute_result"
    }
   ],
   "source": [
    "seventies_return_df = sp500_return.rename(columns = {'Annual_sp500Return':'seventies_return'})\n",
    "seventies_return_df = seventies_return_df[\"seventies_return\"].iloc[43:56]\n",
    "seventies_return_df"
   ]
  },
  {
   "cell_type": "code",
   "execution_count": 70,
   "id": "0fe1461f-3b6b-4523-920b-7336020f0f38",
   "metadata": {},
   "outputs": [
    {
     "data": {},
     "metadata": {},
     "output_type": "display_data"
    },
    {
     "data": {
      "application/vnd.holoviews_exec.v0+json": "",
      "text/html": [
       "<div id='4845'>\n",
       "\n",
       "\n",
       "\n",
       "\n",
       "\n",
       "  <div class=\"bk-root\" id=\"2c5bfc62-08ae-4fb7-8c3c-41b52b465908\" data-root-id=\"4845\"></div>\n",
       "</div>\n",
       "<script type=\"application/javascript\">(function(root) {\n",
       "  function embed_document(root) {\n",
       "    var docs_json = {\"f4d59571-b25a-490b-be97-8a43c8617f8a\":{\"defs\":[{\"extends\":null,\"module\":null,\"name\":\"ReactiveHTML1\",\"overrides\":[],\"properties\":[]},{\"extends\":null,\"module\":null,\"name\":\"FlexBox1\",\"overrides\":[],\"properties\":[{\"default\":\"flex-start\",\"kind\":null,\"name\":\"align_content\"},{\"default\":\"flex-start\",\"kind\":null,\"name\":\"align_items\"},{\"default\":\"row\",\"kind\":null,\"name\":\"flex_direction\"},{\"default\":\"wrap\",\"kind\":null,\"name\":\"flex_wrap\"},{\"default\":\"flex-start\",\"kind\":null,\"name\":\"justify_content\"}]},{\"extends\":null,\"module\":null,\"name\":\"GridStack1\",\"overrides\":[],\"properties\":[{\"default\":\"warn\",\"kind\":null,\"name\":\"mode\"},{\"default\":null,\"kind\":null,\"name\":\"ncols\"},{\"default\":null,\"kind\":null,\"name\":\"nrows\"},{\"default\":true,\"kind\":null,\"name\":\"allow_resize\"},{\"default\":true,\"kind\":null,\"name\":\"allow_drag\"},{\"default\":[],\"kind\":null,\"name\":\"state\"}]},{\"extends\":null,\"module\":null,\"name\":\"click1\",\"overrides\":[],\"properties\":[{\"default\":\"\",\"kind\":null,\"name\":\"terminal_output\"},{\"default\":\"\",\"kind\":null,\"name\":\"debug_name\"},{\"default\":0,\"kind\":null,\"name\":\"clears\"}]},{\"extends\":null,\"module\":null,\"name\":\"NotificationAreaBase1\",\"overrides\":[],\"properties\":[{\"default\":\"bottom-right\",\"kind\":null,\"name\":\"position\"},{\"default\":0,\"kind\":null,\"name\":\"_clear\"}]},{\"extends\":null,\"module\":null,\"name\":\"NotificationArea1\",\"overrides\":[],\"properties\":[{\"default\":[],\"kind\":null,\"name\":\"notifications\"},{\"default\":\"bottom-right\",\"kind\":null,\"name\":\"position\"},{\"default\":0,\"kind\":null,\"name\":\"_clear\"},{\"default\":[{\"background\":\"#ffc107\",\"icon\":{\"className\":\"fas fa-exclamation-triangle\",\"color\":\"white\",\"tagName\":\"i\"},\"type\":\"warning\"},{\"background\":\"#007bff\",\"icon\":{\"className\":\"fas fa-info-circle\",\"color\":\"white\",\"tagName\":\"i\"},\"type\":\"info\"}],\"kind\":null,\"name\":\"types\"}]},{\"extends\":null,\"module\":null,\"name\":\"Notification\",\"overrides\":[],\"properties\":[{\"default\":null,\"kind\":null,\"name\":\"background\"},{\"default\":3000,\"kind\":null,\"name\":\"duration\"},{\"default\":null,\"kind\":null,\"name\":\"icon\"},{\"default\":\"\",\"kind\":null,\"name\":\"message\"},{\"default\":null,\"kind\":null,\"name\":\"notification_type\"},{\"default\":false,\"kind\":null,\"name\":\"_destroyed\"}]},{\"extends\":null,\"module\":null,\"name\":\"TemplateActions1\",\"overrides\":[],\"properties\":[{\"default\":0,\"kind\":null,\"name\":\"open_modal\"},{\"default\":0,\"kind\":null,\"name\":\"close_modal\"}]},{\"extends\":null,\"module\":null,\"name\":\"MaterialTemplateActions1\",\"overrides\":[],\"properties\":[{\"default\":0,\"kind\":null,\"name\":\"open_modal\"},{\"default\":0,\"kind\":null,\"name\":\"close_modal\"}]}],\"roots\":{\"references\":[{\"attributes\":{\"margin\":[5,5,5,5],\"name\":\"HSpacer09898\",\"sizing_mode\":\"stretch_width\"},\"id\":\"4905\",\"type\":\"Spacer\"},{\"attributes\":{\"overlay\":{\"id\":\"4872\"}},\"id\":\"4870\",\"type\":\"BoxZoomTool\"},{\"attributes\":{\"margin\":[5,5,5,5],\"name\":\"HSpacer09897\",\"sizing_mode\":\"stretch_width\"},\"id\":\"4846\",\"type\":\"Spacer\"},{\"attributes\":{\"end\":1978.0,\"reset_end\":1978.0,\"reset_start\":1966.0,\"start\":1966.0,\"tags\":[[[\"Year\",\"Year\",null]]]},\"id\":\"4847\",\"type\":\"Range1d\"},{\"attributes\":{},\"id\":\"4871\",\"type\":\"ResetTool\"},{\"attributes\":{\"bottom_units\":\"screen\",\"coordinates\":null,\"fill_alpha\":0.5,\"fill_color\":\"lightgrey\",\"group\":null,\"left_units\":\"screen\",\"level\":\"overlay\",\"line_alpha\":1.0,\"line_color\":\"black\",\"line_dash\":[4,4],\"line_width\":2,\"right_units\":\"screen\",\"syncable\":false,\"top_units\":\"screen\"},\"id\":\"4872\",\"type\":\"BoxAnnotation\"},{\"attributes\":{},\"id\":\"4890\",\"type\":\"BasicTickFormatter\"},{\"attributes\":{},\"id\":\"4894\",\"type\":\"AllLabels\"},{\"attributes\":{\"line_color\":\"#30a2da\",\"line_width\":2,\"x\":{\"field\":\"Year\"},\"y\":{\"field\":\"seventies_return\"}},\"id\":\"4883\",\"type\":\"Line\"},{\"attributes\":{\"line_alpha\":0.1,\"line_color\":\"#30a2da\",\"line_width\":2,\"x\":{\"field\":\"Year\"},\"y\":{\"field\":\"seventies_return\"}},\"id\":\"4884\",\"type\":\"Line\"},{\"attributes\":{},\"id\":\"4893\",\"type\":\"BasicTickFormatter\"},{\"attributes\":{\"callback\":null,\"renderers\":[{\"id\":\"4886\"}],\"tags\":[\"hv_created\"],\"tooltips\":[[\"Year\",\"@{Year}\"],[\"seventies_return\",\"@{seventies_return}\"]]},\"id\":\"4849\",\"type\":\"HoverTool\"},{\"attributes\":{},\"id\":\"4902\",\"type\":\"UnionRenderers\"},{\"attributes\":{\"tools\":[{\"id\":\"4849\"},{\"id\":\"4867\"},{\"id\":\"4868\"},{\"id\":\"4869\"},{\"id\":\"4870\"},{\"id\":\"4871\"}]},\"id\":\"4873\",\"type\":\"Toolbar\"},{\"attributes\":{},\"id\":\"4855\",\"type\":\"LinearScale\"},{\"attributes\":{\"data\":{\"Year\":[1978,1977,1976,1975,1974,1973,1972,1971,1970,1969,1968,1967,1966],\"seventies_return\":{\"__ndarray__\":\"PQrXo3A9GkC4HoXrUbgcwNejcD0K1zdAmpmZmZmZQkC4HoXrUXg6wFK4HoXrUS3AexSuR+H6MkAfhetRuJ4sQArXo3A9ChBAAAAAAAAAIcAfhetRuB4mQHsUrkfh+jdAH4XrUbgeJMA=\",\"dtype\":\"float64\",\"order\":\"little\",\"shape\":[13]}},\"selected\":{\"id\":\"4881\"},\"selection_policy\":{\"id\":\"4902\"}},\"id\":\"4880\",\"type\":\"ColumnDataSource\"},{\"attributes\":{},\"id\":\"4881\",\"type\":\"Selection\"},{\"attributes\":{\"end\":43.56700000000001,\"reset_end\":43.56700000000001,\"reset_start\":-32.837,\"start\":-32.837,\"tags\":[[[\"seventies_return\",\"seventies_return\",null]]]},\"id\":\"4848\",\"type\":\"Range1d\"},{\"attributes\":{\"axis\":{\"id\":\"4859\"},\"coordinates\":null,\"grid_line_color\":null,\"group\":null,\"ticker\":null},\"id\":\"4862\",\"type\":\"Grid\"},{\"attributes\":{},\"id\":\"4857\",\"type\":\"LinearScale\"},{\"attributes\":{\"line_alpha\":0.2,\"line_color\":\"#30a2da\",\"line_width\":2,\"x\":{\"field\":\"Year\"},\"y\":{\"field\":\"seventies_return\"}},\"id\":\"4885\",\"type\":\"Line\"},{\"attributes\":{\"below\":[{\"id\":\"4859\"}],\"center\":[{\"id\":\"4862\"},{\"id\":\"4866\"}],\"height\":300,\"left\":[{\"id\":\"4863\"}],\"margin\":[5,5,5,5],\"min_border_bottom\":10,\"min_border_left\":10,\"min_border_right\":10,\"min_border_top\":10,\"renderers\":[{\"id\":\"4886\"}],\"sizing_mode\":\"fixed\",\"title\":{\"id\":\"4851\"},\"toolbar\":{\"id\":\"4873\"},\"width\":700,\"x_range\":{\"id\":\"4847\"},\"x_scale\":{\"id\":\"4855\"},\"y_range\":{\"id\":\"4848\"},\"y_scale\":{\"id\":\"4857\"}},\"id\":\"4850\",\"subtype\":\"Figure\",\"type\":\"Plot\"},{\"attributes\":{\"axis_label\":\"sp500 Return\",\"coordinates\":null,\"formatter\":{\"id\":\"4893\"},\"group\":null,\"major_label_policy\":{\"id\":\"4894\"},\"ticker\":{\"id\":\"4864\"}},\"id\":\"4863\",\"type\":\"LinearAxis\"},{\"attributes\":{\"children\":[{\"id\":\"4846\"},{\"id\":\"4850\"},{\"id\":\"4905\"}],\"margin\":[0,0,0,0],\"name\":\"Row09893\",\"tags\":[\"embedded\"]},\"id\":\"4845\",\"type\":\"Row\"},{\"attributes\":{},\"id\":\"4868\",\"type\":\"PanTool\"},{\"attributes\":{\"coordinates\":null,\"data_source\":{\"id\":\"4880\"},\"glyph\":{\"id\":\"4883\"},\"group\":null,\"hover_glyph\":null,\"muted_glyph\":{\"id\":\"4885\"},\"nonselection_glyph\":{\"id\":\"4884\"},\"selection_glyph\":{\"id\":\"4888\"},\"view\":{\"id\":\"4887\"}},\"id\":\"4886\",\"type\":\"GlyphRenderer\"},{\"attributes\":{\"source\":{\"id\":\"4880\"}},\"id\":\"4887\",\"type\":\"CDSView\"},{\"attributes\":{\"coordinates\":null,\"group\":null,\"text\":\"Seventies Return\",\"text_color\":\"black\",\"text_font_size\":\"12pt\"},\"id\":\"4851\",\"type\":\"Title\"},{\"attributes\":{},\"id\":\"4860\",\"type\":\"BasicTicker\"},{\"attributes\":{\"axis_label\":\"Year\",\"coordinates\":null,\"formatter\":{\"id\":\"4890\"},\"group\":null,\"major_label_policy\":{\"id\":\"4891\"},\"ticker\":{\"id\":\"4860\"}},\"id\":\"4859\",\"type\":\"LinearAxis\"},{\"attributes\":{},\"id\":\"4869\",\"type\":\"WheelZoomTool\"},{\"attributes\":{\"axis\":{\"id\":\"4863\"},\"coordinates\":null,\"dimension\":1,\"grid_line_color\":null,\"group\":null,\"ticker\":null},\"id\":\"4866\",\"type\":\"Grid\"},{\"attributes\":{\"line_color\":\"#30a2da\",\"line_width\":2,\"x\":{\"field\":\"Year\"},\"y\":{\"field\":\"seventies_return\"}},\"id\":\"4888\",\"type\":\"Line\"},{\"attributes\":{},\"id\":\"4864\",\"type\":\"BasicTicker\"},{\"attributes\":{},\"id\":\"4891\",\"type\":\"AllLabels\"},{\"attributes\":{},\"id\":\"4867\",\"type\":\"SaveTool\"}],\"root_ids\":[\"4845\"]},\"title\":\"Bokeh Application\",\"version\":\"2.4.1\"}};\n",
       "    var render_items = [{\"docid\":\"f4d59571-b25a-490b-be97-8a43c8617f8a\",\"root_ids\":[\"4845\"],\"roots\":{\"4845\":\"2c5bfc62-08ae-4fb7-8c3c-41b52b465908\"}}];\n",
       "    root.Bokeh.embed.embed_items_notebook(docs_json, render_items);\n",
       "  }\n",
       "  if (root.Bokeh !== undefined && root.Bokeh.Panel !== undefined) {\n",
       "    embed_document(root);\n",
       "  } else {\n",
       "    var attempts = 0;\n",
       "    var timer = setInterval(function(root) {\n",
       "      if (root.Bokeh !== undefined && root.Bokeh.Panel !== undefined) {\n",
       "        clearInterval(timer);\n",
       "        embed_document(root);\n",
       "      } else if (document.readyState == \"complete\") {\n",
       "        attempts++;\n",
       "        if (attempts > 200) {\n",
       "          clearInterval(timer);\n",
       "          console.log(\"Bokeh: ERROR: Unable to run BokehJS code because BokehJS library is missing\");\n",
       "        }\n",
       "      }\n",
       "    }, 25, root)\n",
       "  }\n",
       "})(window);</script>"
      ],
      "text/plain": [
       ":Curve   [Year]   (seventies_return)"
      ]
     },
     "execution_count": 70,
     "metadata": {
      "application/vnd.holoviews_exec.v0+json": {
       "id": "4845"
      }
     },
     "output_type": "execute_result"
    }
   ],
   "source": [
    "# Here i plot the seventies return of the s&p500 return data set \n",
    "\n",
    "seventies_return_df.hvplot(\n",
    "    label=\"Seventies Return\",\n",
    "    xlabel=\"Year\",\n",
    "    ylabel=\"sp500 Return\"\n",
    ")"
   ]
  },
  {
   "cell_type": "code",
   "execution_count": 71,
   "id": "c77eeb6e-1dd8-46f6-bacd-5487edaeae93",
   "metadata": {
    "tags": []
   },
   "outputs": [],
   "source": [
    "# Here i plot the 2010 onward return of the s&p500 return data set \n",
    "\n",
    "twenties_return_df = sp500_return.rename(columns = {'Annual_sp500Return':'twenties_return'})\n",
    "twenties_return_df = twenties_return_df.iloc[1:12]"
   ]
  },
  {
   "cell_type": "code",
   "execution_count": 72,
   "id": "b3027167-a9d9-46b2-be11-947e3af365b9",
   "metadata": {},
   "outputs": [
    {
     "data": {},
     "metadata": {},
     "output_type": "display_data"
    },
    {
     "data": {
      "application/vnd.holoviews_exec.v0+json": "",
      "text/html": [
       "<div id='4957'>\n",
       "\n",
       "\n",
       "\n",
       "\n",
       "\n",
       "  <div class=\"bk-root\" id=\"00fc705f-69b1-455b-9053-77015d580e88\" data-root-id=\"4957\"></div>\n",
       "</div>\n",
       "<script type=\"application/javascript\">(function(root) {\n",
       "  function embed_document(root) {\n",
       "    var docs_json = {\"d8c09599-4a78-43c7-9a8b-442f77360191\":{\"defs\":[{\"extends\":null,\"module\":null,\"name\":\"ReactiveHTML1\",\"overrides\":[],\"properties\":[]},{\"extends\":null,\"module\":null,\"name\":\"FlexBox1\",\"overrides\":[],\"properties\":[{\"default\":\"flex-start\",\"kind\":null,\"name\":\"align_content\"},{\"default\":\"flex-start\",\"kind\":null,\"name\":\"align_items\"},{\"default\":\"row\",\"kind\":null,\"name\":\"flex_direction\"},{\"default\":\"wrap\",\"kind\":null,\"name\":\"flex_wrap\"},{\"default\":\"flex-start\",\"kind\":null,\"name\":\"justify_content\"}]},{\"extends\":null,\"module\":null,\"name\":\"GridStack1\",\"overrides\":[],\"properties\":[{\"default\":\"warn\",\"kind\":null,\"name\":\"mode\"},{\"default\":null,\"kind\":null,\"name\":\"ncols\"},{\"default\":null,\"kind\":null,\"name\":\"nrows\"},{\"default\":true,\"kind\":null,\"name\":\"allow_resize\"},{\"default\":true,\"kind\":null,\"name\":\"allow_drag\"},{\"default\":[],\"kind\":null,\"name\":\"state\"}]},{\"extends\":null,\"module\":null,\"name\":\"click1\",\"overrides\":[],\"properties\":[{\"default\":\"\",\"kind\":null,\"name\":\"terminal_output\"},{\"default\":\"\",\"kind\":null,\"name\":\"debug_name\"},{\"default\":0,\"kind\":null,\"name\":\"clears\"}]},{\"extends\":null,\"module\":null,\"name\":\"NotificationAreaBase1\",\"overrides\":[],\"properties\":[{\"default\":\"bottom-right\",\"kind\":null,\"name\":\"position\"},{\"default\":0,\"kind\":null,\"name\":\"_clear\"}]},{\"extends\":null,\"module\":null,\"name\":\"NotificationArea1\",\"overrides\":[],\"properties\":[{\"default\":[],\"kind\":null,\"name\":\"notifications\"},{\"default\":\"bottom-right\",\"kind\":null,\"name\":\"position\"},{\"default\":0,\"kind\":null,\"name\":\"_clear\"},{\"default\":[{\"background\":\"#ffc107\",\"icon\":{\"className\":\"fas fa-exclamation-triangle\",\"color\":\"white\",\"tagName\":\"i\"},\"type\":\"warning\"},{\"background\":\"#007bff\",\"icon\":{\"className\":\"fas fa-info-circle\",\"color\":\"white\",\"tagName\":\"i\"},\"type\":\"info\"}],\"kind\":null,\"name\":\"types\"}]},{\"extends\":null,\"module\":null,\"name\":\"Notification\",\"overrides\":[],\"properties\":[{\"default\":null,\"kind\":null,\"name\":\"background\"},{\"default\":3000,\"kind\":null,\"name\":\"duration\"},{\"default\":null,\"kind\":null,\"name\":\"icon\"},{\"default\":\"\",\"kind\":null,\"name\":\"message\"},{\"default\":null,\"kind\":null,\"name\":\"notification_type\"},{\"default\":false,\"kind\":null,\"name\":\"_destroyed\"}]},{\"extends\":null,\"module\":null,\"name\":\"TemplateActions1\",\"overrides\":[],\"properties\":[{\"default\":0,\"kind\":null,\"name\":\"open_modal\"},{\"default\":0,\"kind\":null,\"name\":\"close_modal\"}]},{\"extends\":null,\"module\":null,\"name\":\"MaterialTemplateActions1\",\"overrides\":[],\"properties\":[{\"default\":0,\"kind\":null,\"name\":\"open_modal\"},{\"default\":0,\"kind\":null,\"name\":\"close_modal\"}]}],\"roots\":{\"references\":[{\"attributes\":{},\"id\":\"4969\",\"type\":\"LinearScale\"},{\"attributes\":{\"coordinates\":null,\"data_source\":{\"id\":\"4992\"},\"glyph\":{\"id\":\"4995\"},\"group\":null,\"hover_glyph\":null,\"muted_glyph\":{\"id\":\"4997\"},\"nonselection_glyph\":{\"id\":\"4996\"},\"selection_glyph\":{\"id\":\"5000\"},\"view\":{\"id\":\"4999\"}},\"id\":\"4998\",\"type\":\"GlyphRenderer\"},{\"attributes\":{\"overlay\":{\"id\":\"4984\"}},\"id\":\"4982\",\"type\":\"BoxZoomTool\"},{\"attributes\":{\"data\":{\"Year\":[2020,2019,2018,2017,2016,2015,2014,2013,2012,2011,2010],\"twenties_return\":{\"__ndarray__\":\"ZmZmZmZmMkA9CtejcH0/QIXrUbgehRHAFK5H4XrUNUDsUbgehesnQBSuR+F6FPY/4XoUrkdhK0BSuB6F6zFAQAAAAAAAADBA4XoUrkfhAEAfhetRuB4uQA==\",\"dtype\":\"float64\",\"order\":\"little\",\"shape\":[11]}},\"selected\":{\"id\":\"4993\"},\"selection_policy\":{\"id\":\"5014\"}},\"id\":\"4992\",\"type\":\"ColumnDataSource\"},{\"attributes\":{},\"id\":\"4983\",\"type\":\"ResetTool\"},{\"attributes\":{\"source\":{\"id\":\"4992\"}},\"id\":\"4999\",\"type\":\"CDSView\"},{\"attributes\":{\"line_color\":\"#30a2da\",\"line_width\":2,\"x\":{\"field\":\"Year\"},\"y\":{\"field\":\"twenties_return\"}},\"id\":\"5000\",\"type\":\"Line\"},{\"attributes\":{\"bottom_units\":\"screen\",\"coordinates\":null,\"fill_alpha\":0.5,\"fill_color\":\"lightgrey\",\"group\":null,\"left_units\":\"screen\",\"level\":\"overlay\",\"line_alpha\":1.0,\"line_color\":\"black\",\"line_dash\":[4,4],\"line_width\":2,\"right_units\":\"screen\",\"syncable\":false,\"top_units\":\"screen\"},\"id\":\"4984\",\"type\":\"BoxAnnotation\"},{\"attributes\":{},\"id\":\"5002\",\"type\":\"BasicTickFormatter\"},{\"attributes\":{},\"id\":\"5014\",\"type\":\"UnionRenderers\"},{\"attributes\":{\"tools\":[{\"id\":\"4961\"},{\"id\":\"4979\"},{\"id\":\"4980\"},{\"id\":\"4981\"},{\"id\":\"4982\"},{\"id\":\"4983\"}]},\"id\":\"4985\",\"type\":\"Toolbar\"},{\"attributes\":{},\"id\":\"5006\",\"type\":\"AllLabels\"},{\"attributes\":{\"end\":2020.0,\"reset_end\":2020.0,\"reset_start\":2010.0,\"start\":2010.0,\"tags\":[[[\"Year\",\"Year\",null]]]},\"id\":\"4959\",\"type\":\"Range1d\"},{\"attributes\":{},\"id\":\"5003\",\"type\":\"AllLabels\"},{\"attributes\":{\"line_alpha\":0.1,\"line_color\":\"#30a2da\",\"line_width\":2,\"x\":{\"field\":\"Year\"},\"y\":{\"field\":\"twenties_return\"}},\"id\":\"4996\",\"type\":\"Line\"},{\"attributes\":{\"callback\":null,\"renderers\":[{\"id\":\"4998\"}],\"tags\":[\"hv_created\"],\"tooltips\":[[\"Year\",\"@{Year}\"],[\"twenties_return\",\"@{twenties_return}\"]]},\"id\":\"4961\",\"type\":\"HoverTool\"},{\"attributes\":{\"line_color\":\"#30a2da\",\"line_width\":2,\"x\":{\"field\":\"Year\"},\"y\":{\"field\":\"twenties_return\"}},\"id\":\"4995\",\"type\":\"Line\"},{\"attributes\":{},\"id\":\"4967\",\"type\":\"LinearScale\"},{\"attributes\":{\"axis\":{\"id\":\"4971\"},\"coordinates\":null,\"grid_line_color\":null,\"group\":null,\"ticker\":null},\"id\":\"4974\",\"type\":\"Grid\"},{\"attributes\":{\"end\":36.067,\"reset_end\":36.067,\"reset_start\":-8.057,\"start\":-8.057,\"tags\":[[[\"twenties_return\",\"twenties_return\",null]]]},\"id\":\"4960\",\"type\":\"Range1d\"},{\"attributes\":{\"margin\":[5,5,5,5],\"name\":\"HSpacer10130\",\"sizing_mode\":\"stretch_width\"},\"id\":\"4958\",\"type\":\"Spacer\"},{\"attributes\":{},\"id\":\"5005\",\"type\":\"BasicTickFormatter\"},{\"attributes\":{},\"id\":\"4972\",\"type\":\"BasicTicker\"},{\"attributes\":{\"coordinates\":null,\"group\":null,\"text\":\"Twenties_return\",\"text_color\":\"black\",\"text_font_size\":\"12pt\"},\"id\":\"4963\",\"type\":\"Title\"},{\"attributes\":{\"line_alpha\":0.2,\"line_color\":\"#30a2da\",\"line_width\":2,\"x\":{\"field\":\"Year\"},\"y\":{\"field\":\"twenties_return\"}},\"id\":\"4997\",\"type\":\"Line\"},{\"attributes\":{\"below\":[{\"id\":\"4971\"}],\"center\":[{\"id\":\"4974\"},{\"id\":\"4978\"}],\"height\":300,\"left\":[{\"id\":\"4975\"}],\"margin\":[5,5,5,5],\"min_border_bottom\":10,\"min_border_left\":10,\"min_border_right\":10,\"min_border_top\":10,\"renderers\":[{\"id\":\"4998\"}],\"sizing_mode\":\"fixed\",\"title\":{\"id\":\"4963\"},\"toolbar\":{\"id\":\"4985\"},\"width\":700,\"x_range\":{\"id\":\"4959\"},\"x_scale\":{\"id\":\"4967\"},\"y_range\":{\"id\":\"4960\"},\"y_scale\":{\"id\":\"4969\"}},\"id\":\"4962\",\"subtype\":\"Figure\",\"type\":\"Plot\"},{\"attributes\":{\"axis\":{\"id\":\"4975\"},\"coordinates\":null,\"dimension\":1,\"grid_line_color\":null,\"group\":null,\"ticker\":null},\"id\":\"4978\",\"type\":\"Grid\"},{\"attributes\":{},\"id\":\"4993\",\"type\":\"Selection\"},{\"attributes\":{\"margin\":[5,5,5,5],\"name\":\"HSpacer10131\",\"sizing_mode\":\"stretch_width\"},\"id\":\"5017\",\"type\":\"Spacer\"},{\"attributes\":{\"axis_label\":\"Year\",\"coordinates\":null,\"formatter\":{\"id\":\"5002\"},\"group\":null,\"major_label_policy\":{\"id\":\"5003\"},\"ticker\":{\"id\":\"4972\"}},\"id\":\"4971\",\"type\":\"LinearAxis\"},{\"attributes\":{},\"id\":\"4980\",\"type\":\"PanTool\"},{\"attributes\":{\"children\":[{\"id\":\"4958\"},{\"id\":\"4962\"},{\"id\":\"5017\"}],\"margin\":[0,0,0,0],\"name\":\"Row10126\",\"tags\":[\"embedded\"]},\"id\":\"4957\",\"type\":\"Row\"},{\"attributes\":{\"axis_label\":\"sp500 Return\",\"coordinates\":null,\"formatter\":{\"id\":\"5005\"},\"group\":null,\"major_label_policy\":{\"id\":\"5006\"},\"ticker\":{\"id\":\"4976\"}},\"id\":\"4975\",\"type\":\"LinearAxis\"},{\"attributes\":{},\"id\":\"4976\",\"type\":\"BasicTicker\"},{\"attributes\":{},\"id\":\"4981\",\"type\":\"WheelZoomTool\"},{\"attributes\":{},\"id\":\"4979\",\"type\":\"SaveTool\"}],\"root_ids\":[\"4957\"]},\"title\":\"Bokeh Application\",\"version\":\"2.4.1\"}};\n",
       "    var render_items = [{\"docid\":\"d8c09599-4a78-43c7-9a8b-442f77360191\",\"root_ids\":[\"4957\"],\"roots\":{\"4957\":\"00fc705f-69b1-455b-9053-77015d580e88\"}}];\n",
       "    root.Bokeh.embed.embed_items_notebook(docs_json, render_items);\n",
       "  }\n",
       "  if (root.Bokeh !== undefined && root.Bokeh.Panel !== undefined) {\n",
       "    embed_document(root);\n",
       "  } else {\n",
       "    var attempts = 0;\n",
       "    var timer = setInterval(function(root) {\n",
       "      if (root.Bokeh !== undefined && root.Bokeh.Panel !== undefined) {\n",
       "        clearInterval(timer);\n",
       "        embed_document(root);\n",
       "      } else if (document.readyState == \"complete\") {\n",
       "        attempts++;\n",
       "        if (attempts > 200) {\n",
       "          clearInterval(timer);\n",
       "          console.log(\"Bokeh: ERROR: Unable to run BokehJS code because BokehJS library is missing\");\n",
       "        }\n",
       "      }\n",
       "    }, 25, root)\n",
       "  }\n",
       "})(window);</script>"
      ],
      "text/plain": [
       ":Curve   [Year]   (twenties_return)"
      ]
     },
     "execution_count": 72,
     "metadata": {
      "application/vnd.holoviews_exec.v0+json": {
       "id": "4957"
      }
     },
     "output_type": "execute_result"
    }
   ],
   "source": [
    "twenties_return_df.hvplot(\n",
    "    label=\"Twenties_return\",\n",
    "    xlabel=\"Year\",\n",
    "    ylabel=\"sp500 Return\"\n",
    ")"
   ]
  },
  {
   "cell_type": "code",
   "execution_count": 73,
   "id": "2f063a81-2b45-4495-b03c-adbf4e7fcb67",
   "metadata": {},
   "outputs": [
    {
     "data": {
      "text/html": [
       "<div>\n",
       "<style scoped>\n",
       "    .dataframe tbody tr th:only-of-type {\n",
       "        vertical-align: middle;\n",
       "    }\n",
       "\n",
       "    .dataframe tbody tr th {\n",
       "        vertical-align: top;\n",
       "    }\n",
       "\n",
       "    .dataframe thead th {\n",
       "        text-align: right;\n",
       "    }\n",
       "</style>\n",
       "<table border=\"1\" class=\"dataframe\">\n",
       "  <thead>\n",
       "    <tr style=\"text-align: right;\">\n",
       "      <th></th>\n",
       "      <th>seventies_inflation</th>\n",
       "      <th>twenties_inflation</th>\n",
       "    </tr>\n",
       "    <tr>\n",
       "      <th>Year</th>\n",
       "      <th></th>\n",
       "      <th></th>\n",
       "    </tr>\n",
       "  </thead>\n",
       "  <tbody>\n",
       "    <tr>\n",
       "      <th>1966</th>\n",
       "      <td>3.3</td>\n",
       "      <td>NaN</td>\n",
       "    </tr>\n",
       "    <tr>\n",
       "      <th>1967</th>\n",
       "      <td>3.5</td>\n",
       "      <td>NaN</td>\n",
       "    </tr>\n",
       "    <tr>\n",
       "      <th>1968</th>\n",
       "      <td>2.5</td>\n",
       "      <td>NaN</td>\n",
       "    </tr>\n",
       "    <tr>\n",
       "      <th>1969</th>\n",
       "      <td>3.3</td>\n",
       "      <td>NaN</td>\n",
       "    </tr>\n",
       "    <tr>\n",
       "      <th>1970</th>\n",
       "      <td>3.4</td>\n",
       "      <td>NaN</td>\n",
       "    </tr>\n",
       "  </tbody>\n",
       "</table>\n",
       "</div>"
      ],
      "text/plain": [
       "      seventies_inflation  twenties_inflation\n",
       "Year                                         \n",
       "1966                  3.3                 NaN\n",
       "1967                  3.5                 NaN\n",
       "1968                  2.5                 NaN\n",
       "1969                  3.3                 NaN\n",
       "1970                  3.4                 NaN"
      ]
     },
     "execution_count": 73,
     "metadata": {},
     "output_type": "execute_result"
    }
   ],
   "source": [
    "#here i read the inflation dataset \n",
    "\n",
    "inflation_data = pd.read_csv(\"inflation_data.csv\", index_col=0)\n",
    "inflation_data.head()"
   ]
  },
  {
   "cell_type": "code",
   "execution_count": 79,
   "id": "e77623f6-653a-4432-9f7a-76cb4acc8e28",
   "metadata": {},
   "outputs": [
    {
     "data": {
      "text/html": [
       "<div>\n",
       "<style scoped>\n",
       "    .dataframe tbody tr th:only-of-type {\n",
       "        vertical-align: middle;\n",
       "    }\n",
       "\n",
       "    .dataframe tbody tr th {\n",
       "        vertical-align: top;\n",
       "    }\n",
       "\n",
       "    .dataframe thead th {\n",
       "        text-align: right;\n",
       "    }\n",
       "</style>\n",
       "<table border=\"1\" class=\"dataframe\">\n",
       "  <thead>\n",
       "    <tr style=\"text-align: right;\">\n",
       "      <th></th>\n",
       "      <th>seventies_return</th>\n",
       "      <th>twenties_return</th>\n",
       "      <th>seventies_inflation</th>\n",
       "      <th>twenties_inflation</th>\n",
       "    </tr>\n",
       "    <tr>\n",
       "      <th>Year</th>\n",
       "      <th></th>\n",
       "      <th></th>\n",
       "      <th></th>\n",
       "      <th></th>\n",
       "    </tr>\n",
       "  </thead>\n",
       "  <tbody>\n",
       "    <tr>\n",
       "      <th>1966</th>\n",
       "      <td>-10.06</td>\n",
       "      <td>NaN</td>\n",
       "      <td>3.3</td>\n",
       "      <td>NaN</td>\n",
       "    </tr>\n",
       "    <tr>\n",
       "      <th>1967</th>\n",
       "      <td>23.98</td>\n",
       "      <td>NaN</td>\n",
       "      <td>3.5</td>\n",
       "      <td>NaN</td>\n",
       "    </tr>\n",
       "    <tr>\n",
       "      <th>1968</th>\n",
       "      <td>11.06</td>\n",
       "      <td>NaN</td>\n",
       "      <td>2.5</td>\n",
       "      <td>NaN</td>\n",
       "    </tr>\n",
       "    <tr>\n",
       "      <th>1969</th>\n",
       "      <td>-8.50</td>\n",
       "      <td>NaN</td>\n",
       "      <td>3.3</td>\n",
       "      <td>NaN</td>\n",
       "    </tr>\n",
       "    <tr>\n",
       "      <th>1970</th>\n",
       "      <td>4.01</td>\n",
       "      <td>NaN</td>\n",
       "      <td>3.4</td>\n",
       "      <td>NaN</td>\n",
       "    </tr>\n",
       "    <tr>\n",
       "      <th>1971</th>\n",
       "      <td>14.31</td>\n",
       "      <td>NaN</td>\n",
       "      <td>6.1</td>\n",
       "      <td>NaN</td>\n",
       "    </tr>\n",
       "    <tr>\n",
       "      <th>1972</th>\n",
       "      <td>18.98</td>\n",
       "      <td>NaN</td>\n",
       "      <td>6.0</td>\n",
       "      <td>NaN</td>\n",
       "    </tr>\n",
       "    <tr>\n",
       "      <th>1973</th>\n",
       "      <td>-14.66</td>\n",
       "      <td>NaN</td>\n",
       "      <td>9.1</td>\n",
       "      <td>NaN</td>\n",
       "    </tr>\n",
       "    <tr>\n",
       "      <th>1974</th>\n",
       "      <td>-26.47</td>\n",
       "      <td>NaN</td>\n",
       "      <td>15.4</td>\n",
       "      <td>NaN</td>\n",
       "    </tr>\n",
       "    <tr>\n",
       "      <th>1975</th>\n",
       "      <td>37.20</td>\n",
       "      <td>NaN</td>\n",
       "      <td>15.2</td>\n",
       "      <td>NaN</td>\n",
       "    </tr>\n",
       "    <tr>\n",
       "      <th>1976</th>\n",
       "      <td>23.84</td>\n",
       "      <td>NaN</td>\n",
       "      <td>13.3</td>\n",
       "      <td>NaN</td>\n",
       "    </tr>\n",
       "    <tr>\n",
       "      <th>1977</th>\n",
       "      <td>-7.18</td>\n",
       "      <td>NaN</td>\n",
       "      <td>12.3</td>\n",
       "      <td>NaN</td>\n",
       "    </tr>\n",
       "    <tr>\n",
       "      <th>1978</th>\n",
       "      <td>6.56</td>\n",
       "      <td>NaN</td>\n",
       "      <td>8.0</td>\n",
       "      <td>NaN</td>\n",
       "    </tr>\n",
       "    <tr>\n",
       "      <th>1979</th>\n",
       "      <td>NaN</td>\n",
       "      <td>NaN</td>\n",
       "      <td>9.1</td>\n",
       "      <td>NaN</td>\n",
       "    </tr>\n",
       "    <tr>\n",
       "      <th>2010</th>\n",
       "      <td>NaN</td>\n",
       "      <td>15.06</td>\n",
       "      <td>NaN</td>\n",
       "      <td>2.9</td>\n",
       "    </tr>\n",
       "    <tr>\n",
       "      <th>2011</th>\n",
       "      <td>NaN</td>\n",
       "      <td>2.11</td>\n",
       "      <td>NaN</td>\n",
       "      <td>3.3</td>\n",
       "    </tr>\n",
       "    <tr>\n",
       "      <th>2012</th>\n",
       "      <td>NaN</td>\n",
       "      <td>16.00</td>\n",
       "      <td>NaN</td>\n",
       "      <td>1.8</td>\n",
       "    </tr>\n",
       "    <tr>\n",
       "      <th>2013</th>\n",
       "      <td>NaN</td>\n",
       "      <td>32.39</td>\n",
       "      <td>NaN</td>\n",
       "      <td>2.4</td>\n",
       "    </tr>\n",
       "    <tr>\n",
       "      <th>2014</th>\n",
       "      <td>NaN</td>\n",
       "      <td>13.69</td>\n",
       "      <td>NaN</td>\n",
       "      <td>2.5</td>\n",
       "    </tr>\n",
       "    <tr>\n",
       "      <th>2015</th>\n",
       "      <td>NaN</td>\n",
       "      <td>1.38</td>\n",
       "      <td>NaN</td>\n",
       "      <td>1.5</td>\n",
       "    </tr>\n",
       "    <tr>\n",
       "      <th>2016</th>\n",
       "      <td>NaN</td>\n",
       "      <td>11.96</td>\n",
       "      <td>NaN</td>\n",
       "      <td>1.3</td>\n",
       "    </tr>\n",
       "    <tr>\n",
       "      <th>2017</th>\n",
       "      <td>NaN</td>\n",
       "      <td>21.83</td>\n",
       "      <td>NaN</td>\n",
       "      <td>1.9</td>\n",
       "    </tr>\n",
       "    <tr>\n",
       "      <th>2018</th>\n",
       "      <td>NaN</td>\n",
       "      <td>-4.38</td>\n",
       "      <td>NaN</td>\n",
       "      <td>1.9</td>\n",
       "    </tr>\n",
       "    <tr>\n",
       "      <th>2019</th>\n",
       "      <td>NaN</td>\n",
       "      <td>31.49</td>\n",
       "      <td>NaN</td>\n",
       "      <td>1.6</td>\n",
       "    </tr>\n",
       "    <tr>\n",
       "      <th>2020</th>\n",
       "      <td>NaN</td>\n",
       "      <td>18.40</td>\n",
       "      <td>NaN</td>\n",
       "      <td>0.8</td>\n",
       "    </tr>\n",
       "    <tr>\n",
       "      <th>2021</th>\n",
       "      <td>NaN</td>\n",
       "      <td>NaN</td>\n",
       "      <td>NaN</td>\n",
       "      <td>2.9</td>\n",
       "    </tr>\n",
       "  </tbody>\n",
       "</table>\n",
       "</div>"
      ],
      "text/plain": [
       "      seventies_return  twenties_return  seventies_inflation  \\\n",
       "Year                                                           \n",
       "1966            -10.06              NaN                  3.3   \n",
       "1967             23.98              NaN                  3.5   \n",
       "1968             11.06              NaN                  2.5   \n",
       "1969             -8.50              NaN                  3.3   \n",
       "1970              4.01              NaN                  3.4   \n",
       "1971             14.31              NaN                  6.1   \n",
       "1972             18.98              NaN                  6.0   \n",
       "1973            -14.66              NaN                  9.1   \n",
       "1974            -26.47              NaN                 15.4   \n",
       "1975             37.20              NaN                 15.2   \n",
       "1976             23.84              NaN                 13.3   \n",
       "1977             -7.18              NaN                 12.3   \n",
       "1978              6.56              NaN                  8.0   \n",
       "1979               NaN              NaN                  9.1   \n",
       "2010               NaN            15.06                  NaN   \n",
       "2011               NaN             2.11                  NaN   \n",
       "2012               NaN            16.00                  NaN   \n",
       "2013               NaN            32.39                  NaN   \n",
       "2014               NaN            13.69                  NaN   \n",
       "2015               NaN             1.38                  NaN   \n",
       "2016               NaN            11.96                  NaN   \n",
       "2017               NaN            21.83                  NaN   \n",
       "2018               NaN            -4.38                  NaN   \n",
       "2019               NaN            31.49                  NaN   \n",
       "2020               NaN            18.40                  NaN   \n",
       "2021               NaN              NaN                  NaN   \n",
       "\n",
       "      twenties_inflation  \n",
       "Year                      \n",
       "1966                 NaN  \n",
       "1967                 NaN  \n",
       "1968                 NaN  \n",
       "1969                 NaN  \n",
       "1970                 NaN  \n",
       "1971                 NaN  \n",
       "1972                 NaN  \n",
       "1973                 NaN  \n",
       "1974                 NaN  \n",
       "1975                 NaN  \n",
       "1976                 NaN  \n",
       "1977                 NaN  \n",
       "1978                 NaN  \n",
       "1979                 NaN  \n",
       "2010                 2.9  \n",
       "2011                 3.3  \n",
       "2012                 1.8  \n",
       "2013                 2.4  \n",
       "2014                 2.5  \n",
       "2015                 1.5  \n",
       "2016                 1.3  \n",
       "2017                 1.9  \n",
       "2018                 1.9  \n",
       "2019                 1.6  \n",
       "2020                 0.8  \n",
       "2021                 2.9  "
      ]
     },
     "execution_count": 79,
     "metadata": {},
     "output_type": "execute_result"
    }
   ],
   "source": [
    "#here i compare both the inflation and s&p500 seventies and twenties returns \n",
    "\n",
    "comparison = pd.concat([seventies_return_df, twenties_return_df, inflation_data], axis=1)\n",
    "comparison"
   ]
  },
  {
   "cell_type": "code",
   "execution_count": 83,
   "id": "90311393-4bda-4d9a-bea2-d5c42b8368f3",
   "metadata": {},
   "outputs": [
    {
     "data": {
      "text/plain": [
       "<AxesSubplot:title={'center':'Comparison of Inflation and S&P 500 Returns'}, xlabel='Year'>"
      ]
     },
     "execution_count": 83,
     "metadata": {},
     "output_type": "execute_result"
    },
    {
     "data": {
      "image/png": "[encoded data removed]",
      "text/plain": [
       "<Figure size 1080x504 with 1 Axes>"
      ]
     },
     "metadata": {
      "needs_background": "light"
     },
     "output_type": "display_data"
    }
   ],
   "source": [
    "#here i plot a comparison graph of both in one plot\n",
    "\n",
    "comparison.plot(figsize=(15,7), title =\"Comparison of Inflation and S&P 500 Returns\")"
   ]
  },
  {
   "cell_type": "code",
   "execution_count": 58,
   "id": "6c4abb34-981a-401d-83a7-ec44665f8caf",
   "metadata": {
    "tags": []
   },
   "outputs": [],
   "source": [
    "seventies = comparison.iloc[:,[0,2]].dropna()\n",
    "twenties = comparison.iloc[:,[1,3]].dropna()"
   ]
  },
  {
   "cell_type": "code",
   "execution_count": 59,
   "id": "1226c98b-1cd8-46ba-8679-8925f8799e6a",
   "metadata": {},
   "outputs": [
    {
     "data": {},
     "metadata": {},
     "output_type": "display_data"
    },
    {
     "data": {
      "application/vnd.holoviews_exec.v0+json": "",
      "text/html": [
       "<div id='4247'>\n",
       "\n",
       "\n",
       "\n",
       "\n",
       "\n",
       "  <div class=\"bk-root\" id=\"1cc2acf8-452e-44c9-931c-124d0cea6c83\" data-root-id=\"4247\"></div>\n",
       "</div>\n",
       "<script type=\"application/javascript\">(function(root) {\n",
       "  function embed_document(root) {\n",
       "    var docs_json = {\"f06ff87a-99de-4c96-a163-2f06493cda25\":{\"defs\":[{\"extends\":null,\"module\":null,\"name\":\"ReactiveHTML1\",\"overrides\":[],\"properties\":[]},{\"extends\":null,\"module\":null,\"name\":\"FlexBox1\",\"overrides\":[],\"properties\":[{\"default\":\"flex-start\",\"kind\":null,\"name\":\"align_content\"},{\"default\":\"flex-start\",\"kind\":null,\"name\":\"align_items\"},{\"default\":\"row\",\"kind\":null,\"name\":\"flex_direction\"},{\"default\":\"wrap\",\"kind\":null,\"name\":\"flex_wrap\"},{\"default\":\"flex-start\",\"kind\":null,\"name\":\"justify_content\"}]},{\"extends\":null,\"module\":null,\"name\":\"GridStack1\",\"overrides\":[],\"properties\":[{\"default\":\"warn\",\"kind\":null,\"name\":\"mode\"},{\"default\":null,\"kind\":null,\"name\":\"ncols\"},{\"default\":null,\"kind\":null,\"name\":\"nrows\"},{\"default\":true,\"kind\":null,\"name\":\"allow_resize\"},{\"default\":true,\"kind\":null,\"name\":\"allow_drag\"},{\"default\":[],\"kind\":null,\"name\":\"state\"}]},{\"extends\":null,\"module\":null,\"name\":\"click1\",\"overrides\":[],\"properties\":[{\"default\":\"\",\"kind\":null,\"name\":\"terminal_output\"},{\"default\":\"\",\"kind\":null,\"name\":\"debug_name\"},{\"default\":0,\"kind\":null,\"name\":\"clears\"}]},{\"extends\":null,\"module\":null,\"name\":\"NotificationAreaBase1\",\"overrides\":[],\"properties\":[{\"default\":\"bottom-right\",\"kind\":null,\"name\":\"position\"},{\"default\":0,\"kind\":null,\"name\":\"_clear\"}]},{\"extends\":null,\"module\":null,\"name\":\"NotificationArea1\",\"overrides\":[],\"properties\":[{\"default\":[],\"kind\":null,\"name\":\"notifications\"},{\"default\":\"bottom-right\",\"kind\":null,\"name\":\"position\"},{\"default\":0,\"kind\":null,\"name\":\"_clear\"},{\"default\":[{\"background\":\"#ffc107\",\"icon\":{\"className\":\"fas fa-exclamation-triangle\",\"color\":\"white\",\"tagName\":\"i\"},\"type\":\"warning\"},{\"background\":\"#007bff\",\"icon\":{\"className\":\"fas fa-info-circle\",\"color\":\"white\",\"tagName\":\"i\"},\"type\":\"info\"}],\"kind\":null,\"name\":\"types\"}]},{\"extends\":null,\"module\":null,\"name\":\"Notification\",\"overrides\":[],\"properties\":[{\"default\":null,\"kind\":null,\"name\":\"background\"},{\"default\":3000,\"kind\":null,\"name\":\"duration\"},{\"default\":null,\"kind\":null,\"name\":\"icon\"},{\"default\":\"\",\"kind\":null,\"name\":\"message\"},{\"default\":null,\"kind\":null,\"name\":\"notification_type\"},{\"default\":false,\"kind\":null,\"name\":\"_destroyed\"}]},{\"extends\":null,\"module\":null,\"name\":\"TemplateActions1\",\"overrides\":[],\"properties\":[{\"default\":0,\"kind\":null,\"name\":\"open_modal\"},{\"default\":0,\"kind\":null,\"name\":\"close_modal\"}]},{\"extends\":null,\"module\":null,\"name\":\"MaterialTemplateActions1\",\"overrides\":[],\"properties\":[{\"default\":0,\"kind\":null,\"name\":\"open_modal\"},{\"default\":0,\"kind\":null,\"name\":\"close_modal\"}]}],\"roots\":{\"references\":[{\"attributes\":{\"below\":[{\"id\":\"4262\"}],\"center\":[{\"id\":\"4265\"},{\"id\":\"4269\"}],\"height\":300,\"left\":[{\"id\":\"4266\"}],\"margin\":[5,5,5,5],\"min_border_bottom\":10,\"min_border_left\":10,\"min_border_right\":10,\"min_border_top\":10,\"renderers\":[{\"id\":\"4295\"},{\"id\":\"4316\"}],\"right\":[{\"id\":\"4307\"}],\"sizing_mode\":\"fixed\",\"title\":{\"id\":\"4254\"},\"toolbar\":{\"id\":\"4276\"},\"width\":700,\"x_range\":{\"id\":\"4249\"},\"x_scale\":{\"id\":\"4258\"},\"y_range\":{\"id\":\"4250\"},\"y_scale\":{\"id\":\"4260\"}},\"id\":\"4253\",\"subtype\":\"Figure\",\"type\":\"Plot\"},{\"attributes\":{\"coordinates\":null,\"data_source\":{\"id\":\"4310\"},\"glyph\":{\"id\":\"4313\"},\"group\":null,\"hover_glyph\":null,\"muted_glyph\":{\"id\":\"4315\"},\"nonselection_glyph\":{\"id\":\"4314\"},\"selection_glyph\":{\"id\":\"4331\"},\"view\":{\"id\":\"4317\"}},\"id\":\"4316\",\"type\":\"GlyphRenderer\"},{\"attributes\":{\"line_alpha\":0.2,\"line_color\":\"#fc4f30\",\"line_width\":2,\"x\":{\"field\":\"Year\"},\"y\":{\"field\":\"value\"}},\"id\":\"4315\",\"type\":\"Line\"},{\"attributes\":{\"coordinates\":null,\"group\":null,\"text_color\":\"black\",\"text_font_size\":\"12pt\"},\"id\":\"4254\",\"type\":\"Title\"},{\"attributes\":{},\"id\":\"4258\",\"type\":\"LinearScale\"},{\"attributes\":{\"callback\":null,\"renderers\":[{\"id\":\"4295\"},{\"id\":\"4316\"}],\"tags\":[\"hv_created\"],\"tooltips\":[[\"Variable\",\"@{Variable}\"],[\"Year\",\"@{Year}\"],[\"value\",\"@{value}\"]]},\"id\":\"4251\",\"type\":\"HoverTool\"},{\"attributes\":{\"label\":{\"value\":\"seventies_inflation\"},\"renderers\":[{\"id\":\"4316\"}]},\"id\":\"4330\",\"type\":\"LegendItem\"},{\"attributes\":{},\"id\":\"4267\",\"type\":\"BasicTicker\"},{\"attributes\":{\"axis\":{\"id\":\"4262\"},\"coordinates\":null,\"grid_line_color\":null,\"group\":null,\"ticker\":null},\"id\":\"4265\",\"type\":\"Grid\"},{\"attributes\":{},\"id\":\"4327\",\"type\":\"UnionRenderers\"},{\"attributes\":{\"axis_label\":\"Year\",\"coordinates\":null,\"formatter\":{\"id\":\"4284\"},\"group\":null,\"major_label_policy\":{\"id\":\"4285\"},\"ticker\":{\"id\":\"4263\"}},\"id\":\"4262\",\"type\":\"LinearAxis\"},{\"attributes\":{\"margin\":[5,5,5,5],\"name\":\"HSpacer08689\",\"sizing_mode\":\"stretch_width\"},\"id\":\"4248\",\"type\":\"Spacer\"},{\"attributes\":{\"axis_label\":\"\",\"coordinates\":null,\"formatter\":{\"id\":\"4287\"},\"group\":null,\"major_label_policy\":{\"id\":\"4288\"},\"ticker\":{\"id\":\"4267\"}},\"id\":\"4266\",\"type\":\"LinearAxis\"},{\"attributes\":{},\"id\":\"4260\",\"type\":\"LinearScale\"},{\"attributes\":{\"margin\":[5,5,5,5],\"name\":\"HSpacer08690\",\"sizing_mode\":\"stretch_width\"},\"id\":\"4428\",\"type\":\"Spacer\"},{\"attributes\":{},\"id\":\"4263\",\"type\":\"BasicTicker\"},{\"attributes\":{},\"id\":\"4287\",\"type\":\"BasicTickFormatter\"},{\"attributes\":{},\"id\":\"4272\",\"type\":\"WheelZoomTool\"},{\"attributes\":{},\"id\":\"4284\",\"type\":\"BasicTickFormatter\"},{\"attributes\":{},\"id\":\"4288\",\"type\":\"AllLabels\"},{\"attributes\":{\"axis\":{\"id\":\"4266\"},\"coordinates\":null,\"dimension\":1,\"grid_line_color\":null,\"group\":null,\"ticker\":null},\"id\":\"4269\",\"type\":\"Grid\"},{\"attributes\":{},\"id\":\"4285\",\"type\":\"AllLabels\"},{\"attributes\":{},\"id\":\"4270\",\"type\":\"SaveTool\"},{\"attributes\":{},\"id\":\"4271\",\"type\":\"PanTool\"},{\"attributes\":{\"children\":[{\"id\":\"4248\"},{\"id\":\"4253\"},{\"id\":\"4428\"}],\"margin\":[0,0,0,0],\"name\":\"Row08685\",\"tags\":[\"embedded\"]},\"id\":\"4247\",\"type\":\"Row\"},{\"attributes\":{\"line_alpha\":0.2,\"line_color\":\"#30a2da\",\"line_width\":2,\"x\":{\"field\":\"Year\"},\"y\":{\"field\":\"value\"}},\"id\":\"4294\",\"type\":\"Line\"},{\"attributes\":{\"data\":{\"Variable\":[\"seventies_return\",\"seventies_return\",\"seventies_return\",\"seventies_return\",\"seventies_return\",\"seventies_return\",\"seventies_return\",\"seventies_return\",\"seventies_return\",\"seventies_return\",\"seventies_return\",\"seventies_return\",\"seventies_return\"],\"Year\":[1966,1967,1968,1969,1970,1971,1972,1973,1974,1975,1976,1977,1978],\"value\":{\"__ndarray__\":\"H4XrUbgeJMB7FK5H4fo3QB+F61G4HiZAAAAAAAAAIcAK16NwPQoQQB+F61G4nixAexSuR+H6MkBSuB6F61EtwLgehetReDrAmpmZmZmZQkDXo3A9Ctc3QLgehetRuBzAPQrXo3A9GkA=\",\"dtype\":\"float64\",\"order\":\"little\",\"shape\":[13]}},\"selected\":{\"id\":\"4290\"},\"selection_policy\":{\"id\":\"4304\"}},\"id\":\"4289\",\"type\":\"ColumnDataSource\"},{\"attributes\":{\"overlay\":{\"id\":\"4275\"}},\"id\":\"4273\",\"type\":\"BoxZoomTool\"},{\"attributes\":{},\"id\":\"4274\",\"type\":\"ResetTool\"},{\"attributes\":{\"bottom_units\":\"screen\",\"coordinates\":null,\"fill_alpha\":0.5,\"fill_color\":\"lightgrey\",\"group\":null,\"left_units\":\"screen\",\"level\":\"overlay\",\"line_alpha\":1.0,\"line_color\":\"black\",\"line_dash\":[4,4],\"line_width\":2,\"right_units\":\"screen\",\"syncable\":false,\"top_units\":\"screen\"},\"id\":\"4275\",\"type\":\"BoxAnnotation\"},{\"attributes\":{},\"id\":\"4304\",\"type\":\"UnionRenderers\"},{\"attributes\":{\"line_alpha\":0.1,\"line_color\":\"#30a2da\",\"line_width\":2,\"x\":{\"field\":\"Year\"},\"y\":{\"field\":\"value\"}},\"id\":\"4293\",\"type\":\"Line\"},{\"attributes\":{\"tools\":[{\"id\":\"4251\"},{\"id\":\"4270\"},{\"id\":\"4271\"},{\"id\":\"4272\"},{\"id\":\"4273\"},{\"id\":\"4274\"}]},\"id\":\"4276\",\"type\":\"Toolbar\"},{\"attributes\":{\"line_color\":\"#fc4f30\",\"line_width\":2,\"x\":{\"field\":\"Year\"},\"y\":{\"field\":\"value\"}},\"id\":\"4313\",\"type\":\"Line\"},{\"attributes\":{\"source\":{\"id\":\"4289\"}},\"id\":\"4296\",\"type\":\"CDSView\"},{\"attributes\":{\"line_color\":\"#30a2da\",\"line_width\":2,\"x\":{\"field\":\"Year\"},\"y\":{\"field\":\"value\"}},\"id\":\"4309\",\"type\":\"Line\"},{\"attributes\":{\"coordinates\":null,\"data_source\":{\"id\":\"4289\"},\"glyph\":{\"id\":\"4292\"},\"group\":null,\"hover_glyph\":null,\"muted_glyph\":{\"id\":\"4294\"},\"nonselection_glyph\":{\"id\":\"4293\"},\"selection_glyph\":{\"id\":\"4309\"},\"view\":{\"id\":\"4296\"}},\"id\":\"4295\",\"type\":\"GlyphRenderer\"},{\"attributes\":{},\"id\":\"4290\",\"type\":\"Selection\"},{\"attributes\":{\"data\":{\"Variable\":[\"seventies_inflation\",\"seventies_inflation\",\"seventies_inflation\",\"seventies_inflation\",\"seventies_inflation\",\"seventies_inflation\",\"seventies_inflation\",\"seventies_inflation\",\"seventies_inflation\",\"seventies_inflation\",\"seventies_inflation\",\"seventies_inflation\",\"seventies_inflation\"],\"Year\":[1966,1967,1968,1969,1970,1971,1972,1973,1974,1975,1976,1977,1978],\"value\":{\"__ndarray__\":\"ZmZmZmZmCkAAAAAAAAAMQAAAAAAAAARAZmZmZmZmCkAzMzMzMzMLQGZmZmZmZhhAAAAAAAAAGEAzMzMzMzMiQM3MzMzMzC5AZmZmZmZmLkCamZmZmZkqQJqZmZmZmShAAAAAAAAAIEA=\",\"dtype\":\"float64\",\"order\":\"little\",\"shape\":[13]}},\"selected\":{\"id\":\"4311\"},\"selection_policy\":{\"id\":\"4327\"}},\"id\":\"4310\",\"type\":\"ColumnDataSource\"},{\"attributes\":{\"click_policy\":\"mute\",\"coordinates\":null,\"group\":null,\"items\":[{\"id\":\"4308\"},{\"id\":\"4330\"}],\"location\":[0,0],\"title\":\"Variable\"},\"id\":\"4307\",\"type\":\"Legend\"},{\"attributes\":{\"end\":1978.0,\"reset_end\":1978.0,\"reset_start\":1966.0,\"start\":1966.0,\"tags\":[[[\"Year\",\"Year\",null]]]},\"id\":\"4249\",\"type\":\"Range1d\"},{\"attributes\":{\"line_alpha\":0.1,\"line_color\":\"#fc4f30\",\"line_width\":2,\"x\":{\"field\":\"Year\"},\"y\":{\"field\":\"value\"}},\"id\":\"4314\",\"type\":\"Line\"},{\"attributes\":{\"label\":{\"value\":\"seventies_return\"},\"renderers\":[{\"id\":\"4295\"}]},\"id\":\"4308\",\"type\":\"LegendItem\"},{\"attributes\":{\"line_color\":\"#30a2da\",\"line_width\":2,\"x\":{\"field\":\"Year\"},\"y\":{\"field\":\"value\"}},\"id\":\"4292\",\"type\":\"Line\"},{\"attributes\":{\"line_color\":\"#fc4f30\",\"line_width\":2,\"x\":{\"field\":\"Year\"},\"y\":{\"field\":\"value\"}},\"id\":\"4331\",\"type\":\"Line\"},{\"attributes\":{\"end\":43.56700000000001,\"reset_end\":43.56700000000001,\"reset_start\":-32.837,\"start\":-32.837,\"tags\":[[[\"value\",\"value\",null]]]},\"id\":\"4250\",\"type\":\"Range1d\"},{\"attributes\":{\"source\":{\"id\":\"4310\"}},\"id\":\"4317\",\"type\":\"CDSView\"},{\"attributes\":{},\"id\":\"4311\",\"type\":\"Selection\"}],\"root_ids\":[\"4247\"]},\"title\":\"Bokeh Application\",\"version\":\"2.4.1\"}};\n",
       "    var render_items = [{\"docid\":\"f06ff87a-99de-4c96-a163-2f06493cda25\",\"root_ids\":[\"4247\"],\"roots\":{\"4247\":\"1cc2acf8-452e-44c9-931c-124d0cea6c83\"}}];\n",
       "    root.Bokeh.embed.embed_items_notebook(docs_json, render_items);\n",
       "  }\n",
       "  if (root.Bokeh !== undefined && root.Bokeh.Panel !== undefined) {\n",
       "    embed_document(root);\n",
       "  } else {\n",
       "    var attempts = 0;\n",
       "    var timer = setInterval(function(root) {\n",
       "      if (root.Bokeh !== undefined && root.Bokeh.Panel !== undefined) {\n",
       "        clearInterval(timer);\n",
       "        embed_document(root);\n",
       "      } else if (document.readyState == \"complete\") {\n",
       "        attempts++;\n",
       "        if (attempts > 200) {\n",
       "          clearInterval(timer);\n",
       "          console.log(\"Bokeh: ERROR: Unable to run BokehJS code because BokehJS library is missing\");\n",
       "        }\n",
       "      }\n",
       "    }, 25, root)\n",
       "  }\n",
       "})(window);</script>"
      ],
      "text/plain": [
       ":NdOverlay   [Variable]\n",
       "   :Curve   [Year]   (value)"
      ]
     },
     "execution_count": 59,
     "metadata": {
      "application/vnd.holoviews_exec.v0+json": {
       "id": "4247"
      }
     },
     "output_type": "execute_result"
    }
   ],
   "source": [
    "#here i plot the line graph showing returns in the seventies along side inflation at the same time\n",
    "\n",
    "seventies.hvplot()"
   ]
  },
  {
   "cell_type": "code",
   "execution_count": 60,
   "id": "84166aa6-300f-491c-8caf-e07da09fca81",
   "metadata": {},
   "outputs": [
    {
     "data": {},
     "metadata": {},
     "output_type": "display_data"
    },
    {
     "data": {
      "application/vnd.holoviews_exec.v0+json": "",
      "text/html": [
       "<div id='4490'>\n",
       "\n",
       "\n",
       "\n",
       "\n",
       "\n",
       "  <div class=\"bk-root\" id=\"e7c7e5c8-498c-41ad-9d80-6289336602b5\" data-root-id=\"4490\"></div>\n",
       "</div>\n",
       "<script type=\"application/javascript\">(function(root) {\n",
       "  function embed_document(root) {\n",
       "    var docs_json = {\"167413d5-404f-4d34-b6a9-c8135180e09a\":{\"defs\":[{\"extends\":null,\"module\":null,\"name\":\"ReactiveHTML1\",\"overrides\":[],\"properties\":[]},{\"extends\":null,\"module\":null,\"name\":\"FlexBox1\",\"overrides\":[],\"properties\":[{\"default\":\"flex-start\",\"kind\":null,\"name\":\"align_content\"},{\"default\":\"flex-start\",\"kind\":null,\"name\":\"align_items\"},{\"default\":\"row\",\"kind\":null,\"name\":\"flex_direction\"},{\"default\":\"wrap\",\"kind\":null,\"name\":\"flex_wrap\"},{\"default\":\"flex-start\",\"kind\":null,\"name\":\"justify_content\"}]},{\"extends\":null,\"module\":null,\"name\":\"GridStack1\",\"overrides\":[],\"properties\":[{\"default\":\"warn\",\"kind\":null,\"name\":\"mode\"},{\"default\":null,\"kind\":null,\"name\":\"ncols\"},{\"default\":null,\"kind\":null,\"name\":\"nrows\"},{\"default\":true,\"kind\":null,\"name\":\"allow_resize\"},{\"default\":true,\"kind\":null,\"name\":\"allow_drag\"},{\"default\":[],\"kind\":null,\"name\":\"state\"}]},{\"extends\":null,\"module\":null,\"name\":\"click1\",\"overrides\":[],\"properties\":[{\"default\":\"\",\"kind\":null,\"name\":\"terminal_output\"},{\"default\":\"\",\"kind\":null,\"name\":\"debug_name\"},{\"default\":0,\"kind\":null,\"name\":\"clears\"}]},{\"extends\":null,\"module\":null,\"name\":\"NotificationAreaBase1\",\"overrides\":[],\"properties\":[{\"default\":\"bottom-right\",\"kind\":null,\"name\":\"position\"},{\"default\":0,\"kind\":null,\"name\":\"_clear\"}]},{\"extends\":null,\"module\":null,\"name\":\"NotificationArea1\",\"overrides\":[],\"properties\":[{\"default\":[],\"kind\":null,\"name\":\"notifications\"},{\"default\":\"bottom-right\",\"kind\":null,\"name\":\"position\"},{\"default\":0,\"kind\":null,\"name\":\"_clear\"},{\"default\":[{\"background\":\"#ffc107\",\"icon\":{\"className\":\"fas fa-exclamation-triangle\",\"color\":\"white\",\"tagName\":\"i\"},\"type\":\"warning\"},{\"background\":\"#007bff\",\"icon\":{\"className\":\"fas fa-info-circle\",\"color\":\"white\",\"tagName\":\"i\"},\"type\":\"info\"}],\"kind\":null,\"name\":\"types\"}]},{\"extends\":null,\"module\":null,\"name\":\"Notification\",\"overrides\":[],\"properties\":[{\"default\":null,\"kind\":null,\"name\":\"background\"},{\"default\":3000,\"kind\":null,\"name\":\"duration\"},{\"default\":null,\"kind\":null,\"name\":\"icon\"},{\"default\":\"\",\"kind\":null,\"name\":\"message\"},{\"default\":null,\"kind\":null,\"name\":\"notification_type\"},{\"default\":false,\"kind\":null,\"name\":\"_destroyed\"}]},{\"extends\":null,\"module\":null,\"name\":\"TemplateActions1\",\"overrides\":[],\"properties\":[{\"default\":0,\"kind\":null,\"name\":\"open_modal\"},{\"default\":0,\"kind\":null,\"name\":\"close_modal\"}]},{\"extends\":null,\"module\":null,\"name\":\"MaterialTemplateActions1\",\"overrides\":[],\"properties\":[{\"default\":0,\"kind\":null,\"name\":\"open_modal\"},{\"default\":0,\"kind\":null,\"name\":\"close_modal\"}]}],\"roots\":{\"references\":[{\"attributes\":{\"end\":2020.0,\"reset_end\":2020.0,\"reset_start\":2010.0,\"start\":2010.0,\"tags\":[[[\"Year\",\"Year\",null]]]},\"id\":\"4492\",\"type\":\"Range1d\"},{\"attributes\":{\"data\":{\"Variable\":[\"twenties_return\",\"twenties_return\",\"twenties_return\",\"twenties_return\",\"twenties_return\",\"twenties_return\",\"twenties_return\",\"twenties_return\",\"twenties_return\",\"twenties_return\",\"twenties_return\"],\"Year\":[2010,2011,2012,2013,2014,2015,2016,2017,2018,2019,2020],\"value\":{\"__ndarray__\":\"H4XrUbgeLkDhehSuR+EAQAAAAAAAADBAUrgehesxQEDhehSuR2ErQBSuR+F6FPY/7FG4HoXrJ0AUrkfhetQ1QIXrUbgehRHAPQrXo3B9P0BmZmZmZmYyQA==\",\"dtype\":\"float64\",\"order\":\"little\",\"shape\":[11]}},\"selected\":{\"id\":\"4533\"},\"selection_policy\":{\"id\":\"4547\"}},\"id\":\"4532\",\"type\":\"ColumnDataSource\"},{\"attributes\":{\"margin\":[5,5,5,5],\"name\":\"HSpacer09187\",\"sizing_mode\":\"stretch_width\"},\"id\":\"4671\",\"type\":\"Spacer\"},{\"attributes\":{},\"id\":\"4517\",\"type\":\"ResetTool\"},{\"attributes\":{\"bottom_units\":\"screen\",\"coordinates\":null,\"fill_alpha\":0.5,\"fill_color\":\"lightgrey\",\"group\":null,\"left_units\":\"screen\",\"level\":\"overlay\",\"line_alpha\":1.0,\"line_color\":\"black\",\"line_dash\":[4,4],\"line_width\":2,\"right_units\":\"screen\",\"syncable\":false,\"top_units\":\"screen\"},\"id\":\"4518\",\"type\":\"BoxAnnotation\"},{\"attributes\":{},\"id\":\"4515\",\"type\":\"WheelZoomTool\"},{\"attributes\":{\"line_alpha\":0.1,\"line_color\":\"#30a2da\",\"line_width\":2,\"x\":{\"field\":\"Year\"},\"y\":{\"field\":\"value\"}},\"id\":\"4536\",\"type\":\"Line\"},{\"attributes\":{},\"id\":\"4514\",\"type\":\"PanTool\"},{\"attributes\":{\"line_alpha\":0.2,\"line_color\":\"#30a2da\",\"line_width\":2,\"x\":{\"field\":\"Year\"},\"y\":{\"field\":\"value\"}},\"id\":\"4537\",\"type\":\"Line\"},{\"attributes\":{},\"id\":\"4533\",\"type\":\"Selection\"},{\"attributes\":{\"source\":{\"id\":\"4532\"}},\"id\":\"4539\",\"type\":\"CDSView\"},{\"attributes\":{\"line_color\":\"#fc4f30\",\"line_width\":2,\"x\":{\"field\":\"Year\"},\"y\":{\"field\":\"value\"}},\"id\":\"4556\",\"type\":\"Line\"},{\"attributes\":{},\"id\":\"4547\",\"type\":\"UnionRenderers\"},{\"attributes\":{\"line_color\":\"#30a2da\",\"line_width\":2,\"x\":{\"field\":\"Year\"},\"y\":{\"field\":\"value\"}},\"id\":\"4552\",\"type\":\"Line\"},{\"attributes\":{\"margin\":[5,5,5,5],\"name\":\"HSpacer09186\",\"sizing_mode\":\"stretch_width\"},\"id\":\"4491\",\"type\":\"Spacer\"},{\"attributes\":{\"end\":36.067,\"reset_end\":36.067,\"reset_start\":-8.057,\"start\":-8.057,\"tags\":[[[\"value\",\"value\",null]]]},\"id\":\"4493\",\"type\":\"Range1d\"},{\"attributes\":{\"children\":[{\"id\":\"4491\"},{\"id\":\"4496\"},{\"id\":\"4671\"}],\"margin\":[0,0,0,0],\"name\":\"Row09182\",\"tags\":[\"embedded\"]},\"id\":\"4490\",\"type\":\"Row\"},{\"attributes\":{\"below\":[{\"id\":\"4505\"}],\"center\":[{\"id\":\"4508\"},{\"id\":\"4512\"}],\"height\":300,\"left\":[{\"id\":\"4509\"}],\"margin\":[5,5,5,5],\"min_border_bottom\":10,\"min_border_left\":10,\"min_border_right\":10,\"min_border_top\":10,\"renderers\":[{\"id\":\"4538\"},{\"id\":\"4559\"}],\"right\":[{\"id\":\"4550\"}],\"sizing_mode\":\"fixed\",\"title\":{\"id\":\"4497\"},\"toolbar\":{\"id\":\"4519\"},\"width\":700,\"x_range\":{\"id\":\"4492\"},\"x_scale\":{\"id\":\"4501\"},\"y_range\":{\"id\":\"4493\"},\"y_scale\":{\"id\":\"4503\"}},\"id\":\"4496\",\"subtype\":\"Figure\",\"type\":\"Plot\"},{\"attributes\":{\"tools\":[{\"id\":\"4494\"},{\"id\":\"4513\"},{\"id\":\"4514\"},{\"id\":\"4515\"},{\"id\":\"4516\"},{\"id\":\"4517\"}]},\"id\":\"4519\",\"type\":\"Toolbar\"},{\"attributes\":{},\"id\":\"4501\",\"type\":\"LinearScale\"},{\"attributes\":{\"line_alpha\":0.1,\"line_color\":\"#fc4f30\",\"line_width\":2,\"x\":{\"field\":\"Year\"},\"y\":{\"field\":\"value\"}},\"id\":\"4557\",\"type\":\"Line\"},{\"attributes\":{\"coordinates\":null,\"group\":null,\"text_color\":\"black\",\"text_font_size\":\"12pt\"},\"id\":\"4497\",\"type\":\"Title\"},{\"attributes\":{\"axis\":{\"id\":\"4505\"},\"coordinates\":null,\"grid_line_color\":null,\"group\":null,\"ticker\":null},\"id\":\"4508\",\"type\":\"Grid\"},{\"attributes\":{\"callback\":null,\"renderers\":[{\"id\":\"4538\"},{\"id\":\"4559\"}],\"tags\":[\"hv_created\"],\"tooltips\":[[\"Variable\",\"@{Variable}\"],[\"Year\",\"@{Year}\"],[\"value\",\"@{value}\"]]},\"id\":\"4494\",\"type\":\"HoverTool\"},{\"attributes\":{},\"id\":\"4528\",\"type\":\"AllLabels\"},{\"attributes\":{\"source\":{\"id\":\"4553\"}},\"id\":\"4560\",\"type\":\"CDSView\"},{\"attributes\":{},\"id\":\"4531\",\"type\":\"AllLabels\"},{\"attributes\":{},\"id\":\"4554\",\"type\":\"Selection\"},{\"attributes\":{\"line_color\":\"#fc4f30\",\"line_width\":2,\"x\":{\"field\":\"Year\"},\"y\":{\"field\":\"value\"}},\"id\":\"4574\",\"type\":\"Line\"},{\"attributes\":{\"coordinates\":null,\"data_source\":{\"id\":\"4532\"},\"glyph\":{\"id\":\"4535\"},\"group\":null,\"hover_glyph\":null,\"muted_glyph\":{\"id\":\"4537\"},\"nonselection_glyph\":{\"id\":\"4536\"},\"selection_glyph\":{\"id\":\"4552\"},\"view\":{\"id\":\"4539\"}},\"id\":\"4538\",\"type\":\"GlyphRenderer\"},{\"attributes\":{\"line_color\":\"#30a2da\",\"line_width\":2,\"x\":{\"field\":\"Year\"},\"y\":{\"field\":\"value\"}},\"id\":\"4535\",\"type\":\"Line\"},{\"attributes\":{\"coordinates\":null,\"data_source\":{\"id\":\"4553\"},\"glyph\":{\"id\":\"4556\"},\"group\":null,\"hover_glyph\":null,\"muted_glyph\":{\"id\":\"4558\"},\"nonselection_glyph\":{\"id\":\"4557\"},\"selection_glyph\":{\"id\":\"4574\"},\"view\":{\"id\":\"4560\"}},\"id\":\"4559\",\"type\":\"GlyphRenderer\"},{\"attributes\":{\"axis_label\":\"Year\",\"coordinates\":null,\"formatter\":{\"id\":\"4527\"},\"group\":null,\"major_label_policy\":{\"id\":\"4528\"},\"ticker\":{\"id\":\"4506\"}},\"id\":\"4505\",\"type\":\"LinearAxis\"},{\"attributes\":{\"line_alpha\":0.2,\"line_color\":\"#fc4f30\",\"line_width\":2,\"x\":{\"field\":\"Year\"},\"y\":{\"field\":\"value\"}},\"id\":\"4558\",\"type\":\"Line\"},{\"attributes\":{\"label\":{\"value\":\"twenties_return\"},\"renderers\":[{\"id\":\"4538\"}]},\"id\":\"4551\",\"type\":\"LegendItem\"},{\"attributes\":{\"click_policy\":\"mute\",\"coordinates\":null,\"group\":null,\"items\":[{\"id\":\"4551\"},{\"id\":\"4573\"}],\"location\":[0,0],\"title\":\"Variable\"},\"id\":\"4550\",\"type\":\"Legend\"},{\"attributes\":{},\"id\":\"4510\",\"type\":\"BasicTicker\"},{\"attributes\":{},\"id\":\"4503\",\"type\":\"LinearScale\"},{\"attributes\":{\"label\":{\"value\":\"twenties_inflation\"},\"renderers\":[{\"id\":\"4559\"}]},\"id\":\"4573\",\"type\":\"LegendItem\"},{\"attributes\":{},\"id\":\"4530\",\"type\":\"BasicTickFormatter\"},{\"attributes\":{\"overlay\":{\"id\":\"4518\"}},\"id\":\"4516\",\"type\":\"BoxZoomTool\"},{\"attributes\":{},\"id\":\"4506\",\"type\":\"BasicTicker\"},{\"attributes\":{\"axis\":{\"id\":\"4509\"},\"coordinates\":null,\"dimension\":1,\"grid_line_color\":null,\"group\":null,\"ticker\":null},\"id\":\"4512\",\"type\":\"Grid\"},{\"attributes\":{\"axis_label\":\"\",\"coordinates\":null,\"formatter\":{\"id\":\"4530\"},\"group\":null,\"major_label_policy\":{\"id\":\"4531\"},\"ticker\":{\"id\":\"4510\"}},\"id\":\"4509\",\"type\":\"LinearAxis\"},{\"attributes\":{},\"id\":\"4570\",\"type\":\"UnionRenderers\"},{\"attributes\":{},\"id\":\"4527\",\"type\":\"BasicTickFormatter\"},{\"attributes\":{\"data\":{\"Variable\":[\"twenties_inflation\",\"twenties_inflation\",\"twenties_inflation\",\"twenties_inflation\",\"twenties_inflation\",\"twenties_inflation\",\"twenties_inflation\",\"twenties_inflation\",\"twenties_inflation\",\"twenties_inflation\",\"twenties_inflation\"],\"Year\":[2010,2011,2012,2013,2014,2015,2016,2017,2018,2019,2020],\"value\":{\"__ndarray__\":\"MzMzMzMzB0BmZmZmZmYKQM3MzMzMzPw/MzMzMzMzA0AAAAAAAAAEQAAAAAAAAPg/zczMzMzM9D9mZmZmZmb+P2ZmZmZmZv4/mpmZmZmZ+T+amZmZmZnpPw==\",\"dtype\":\"float64\",\"order\":\"little\",\"shape\":[11]}},\"selected\":{\"id\":\"4554\"},\"selection_policy\":{\"id\":\"4570\"}},\"id\":\"4553\",\"type\":\"ColumnDataSource\"},{\"attributes\":{},\"id\":\"4513\",\"type\":\"SaveTool\"}],\"root_ids\":[\"4490\"]},\"title\":\"Bokeh Application\",\"version\":\"2.4.1\"}};\n",
       "    var render_items = [{\"docid\":\"167413d5-404f-4d34-b6a9-c8135180e09a\",\"root_ids\":[\"4490\"],\"roots\":{\"4490\":\"e7c7e5c8-498c-41ad-9d80-6289336602b5\"}}];\n",
       "    root.Bokeh.embed.embed_items_notebook(docs_json, render_items);\n",
       "  }\n",
       "  if (root.Bokeh !== undefined && root.Bokeh.Panel !== undefined) {\n",
       "    embed_document(root);\n",
       "  } else {\n",
       "    var attempts = 0;\n",
       "    var timer = setInterval(function(root) {\n",
       "      if (root.Bokeh !== undefined && root.Bokeh.Panel !== undefined) {\n",
       "        clearInterval(timer);\n",
       "        embed_document(root);\n",
       "      } else if (document.readyState == \"complete\") {\n",
       "        attempts++;\n",
       "        if (attempts > 200) {\n",
       "          clearInterval(timer);\n",
       "          console.log(\"Bokeh: ERROR: Unable to run BokehJS code because BokehJS library is missing\");\n",
       "        }\n",
       "      }\n",
       "    }, 25, root)\n",
       "  }\n",
       "})(window);</script>"
      ],
      "text/plain": [
       ":NdOverlay   [Variable]\n",
       "   :Curve   [Year]   (value)"
      ]
     },
     "execution_count": 60,
     "metadata": {
      "application/vnd.holoviews_exec.v0+json": {
       "id": "4490"
      }
     },
     "output_type": "execute_result"
    }
   ],
   "source": [
    "#here i plot the line graph showing returns in the twenties along side inflation at the same time\n",
    "\n",
    "twenties.hvplot()"
   ]
  },
  {
   "cell_type": "code",
   "execution_count": null,
   "id": "46db285c-6963-4ad5-b6de-7bd441796bab",
   "metadata": {},
   "outputs": [],
   "source": []
  }
 ],
 "metadata": {
  "kernelspec": {
   "display_name": "Python 3 (ipykernel)",
   "language": "python",
   "name": "python3"
  },
  "language_info": {
   "codemirror_mode": {
    "name": "ipython",
    "version": 3
   },
   "file_extension": ".py",
   "mimetype": "text/x-python",
   "name": "python",
   "nbconvert_exporter": "python",
   "pygments_lexer": "ipython3",
   "version": "3.7.13"
  }
 },
 "nbformat": 4,
 "nbformat_minor": 5
}
