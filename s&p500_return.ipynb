{
 "cells": [
  {
   "cell_type": "code",
   "execution_count": 32,
   "id": "a430df55-c925-475f-8d79-cdaee2e3fadf",
   "metadata": {
    "tags": []
   },
   "outputs": [],
   "source": [
    "import pandas as pd\n",
    "import numpy as np\n",
    "from pathlib import Path\n",
    "import hvplot.pandas\n",
    "from datetime import datetime \n",
    "%matplotlib inline"
   ]
  },
  {
   "cell_type": "code",
<<<<<<< HEAD
   "execution_count": 2,
=======
   "execution_count": 33,
>>>>>>> b27697b5e4ac3a132be72c4d6d58e32203fc9fde
   "id": "22de949d-ab06-4823-8f2d-923683dc2f93",
   "metadata": {
    "tags": []
   },
   "outputs": [],
   "source": [
    "sp500_path = Path(\"S&P500 returns.csv\")"
   ]
  },
  {
   "cell_type": "code",
<<<<<<< HEAD
   "execution_count": 3,
=======
   "execution_count": 34,
>>>>>>> b27697b5e4ac3a132be72c4d6d58e32203fc9fde
   "id": "a17696b5-20c7-4403-800c-29232eac0a35",
   "metadata": {},
   "outputs": [
    {
     "data": {
      "text/html": [
       "<div>\n",
       "<style scoped>\n",
       "    .dataframe tbody tr th:only-of-type {\n",
       "        vertical-align: middle;\n",
       "    }\n",
       "\n",
       "    .dataframe tbody tr th {\n",
       "        vertical-align: top;\n",
       "    }\n",
       "\n",
       "    .dataframe thead th {\n",
       "        text-align: right;\n",
       "    }\n",
       "</style>\n",
       "<table border=\"1\" class=\"dataframe\">\n",
       "  <thead>\n",
       "    <tr style=\"text-align: right;\">\n",
       "      <th></th>\n",
       "      <th>Year</th>\n",
       "      <th>Return</th>\n",
       "    </tr>\n",
       "  </thead>\n",
       "  <tbody>\n",
       "    <tr>\n",
       "      <th>0</th>\n",
       "      <td>2021</td>\n",
       "      <td>28.71</td>\n",
       "    </tr>\n",
       "    <tr>\n",
       "      <th>1</th>\n",
       "      <td>2020</td>\n",
       "      <td>18.40</td>\n",
       "    </tr>\n",
       "    <tr>\n",
       "      <th>2</th>\n",
       "      <td>2019</td>\n",
       "      <td>31.49</td>\n",
       "    </tr>\n",
       "    <tr>\n",
       "      <th>3</th>\n",
       "      <td>2018</td>\n",
       "      <td>-4.38</td>\n",
       "    </tr>\n",
       "    <tr>\n",
       "      <th>4</th>\n",
       "      <td>2017</td>\n",
       "      <td>21.83</td>\n",
       "    </tr>\n",
       "    <tr>\n",
       "      <th>...</th>\n",
       "      <td>...</td>\n",
       "      <td>...</td>\n",
       "    </tr>\n",
       "    <tr>\n",
       "      <th>91</th>\n",
       "      <td>1930</td>\n",
       "      <td>-24.90</td>\n",
       "    </tr>\n",
       "    <tr>\n",
       "      <th>92</th>\n",
       "      <td>1929</td>\n",
       "      <td>-8.42</td>\n",
       "    </tr>\n",
       "    <tr>\n",
       "      <th>93</th>\n",
       "      <td>1928</td>\n",
       "      <td>43.61</td>\n",
       "    </tr>\n",
       "    <tr>\n",
       "      <th>94</th>\n",
       "      <td>1927</td>\n",
       "      <td>37.49</td>\n",
       "    </tr>\n",
       "    <tr>\n",
       "      <th>95</th>\n",
       "      <td>1926</td>\n",
       "      <td>11.62</td>\n",
       "    </tr>\n",
       "  </tbody>\n",
       "</table>\n",
       "<p>96 rows × 2 columns</p>\n",
       "</div>"
      ],
      "text/plain": [
       "    Year  Return\n",
       "0   2021   28.71\n",
       "1   2020   18.40\n",
       "2   2019   31.49\n",
       "3   2018   -4.38\n",
       "4   2017   21.83\n",
       "..   ...     ...\n",
       "91  1930  -24.90\n",
       "92  1929   -8.42\n",
       "93  1928   43.61\n",
       "94  1927   37.49\n",
       "95  1926   11.62\n",
       "\n",
       "[96 rows x 2 columns]"
      ]
     },
     "execution_count": 34,
     "metadata": {},
     "output_type": "execute_result"
    }
   ],
   "source": [
    "sp500_return = pd.read_csv(Path(\"S&P500 returns.csv\"))\n",
    "sp500_return"
   ]
  },
  {
   "cell_type": "code",
   "execution_count": 35,
   "id": "32793cc3-30b8-452a-bcef-48654d1469dc",
   "metadata": {
    "tags": []
   },
   "outputs": [
    {
     "data": {
      "text/plain": [
       "Int64Index([2021, 2020, 2019, 2018, 2017, 2016, 2015, 2014, 2013, 2012, 2011,\n",
       "            2010, 2009, 2008, 2007, 2006, 2005, 2004, 2003, 2002, 2001, 2000,\n",
       "            1999, 1998, 1997, 1996, 1995, 1994, 1993, 1992, 1991, 1990, 1989,\n",
       "            1988, 1987, 1986, 1985, 1984, 1983, 1982, 1981, 1980, 1979, 1978,\n",
       "            1977, 1976, 1975, 1974, 1973, 1972, 1971, 1970, 1969, 1968, 1967,\n",
       "            1966, 1965, 1964, 1963, 1962, 1961, 1960, 1959, 1958, 1957, 1956,\n",
       "            1955, 1954, 1953, 1952, 1951, 1950, 1949, 1948, 1947, 1946, 1945,\n",
       "            1944, 1943, 1942, 1941, 1940, 1939, 1938, 1937, 1936, 1935, 1934,\n",
       "            1933, 1932, 1931, 1930, 1929, 1928, 1927, 1926],\n",
       "           dtype='int64', name='Year')"
      ]
     },
     "execution_count": 35,
     "metadata": {},
     "output_type": "execute_result"
    }
   ],
   "source": [
    "sp500_return = sp500_return.set_index(\"Year\")\n",
    "sp500_return.index"
   ]
  },
  {
   "cell_type": "code",
   "execution_count": 36,
   "id": "cf4b26a3-aec3-48f5-864f-1277dbf0f568",
   "metadata": {},
   "outputs": [
    {
     "data": {
      "text/html": [
       "<div>\n",
       "<style scoped>\n",
       "    .dataframe tbody tr th:only-of-type {\n",
       "        vertical-align: middle;\n",
       "    }\n",
       "\n",
       "    .dataframe tbody tr th {\n",
       "        vertical-align: top;\n",
       "    }\n",
       "\n",
       "    .dataframe thead th {\n",
       "        text-align: right;\n",
       "    }\n",
       "</style>\n",
       "<table border=\"1\" class=\"dataframe\">\n",
       "  <thead>\n",
       "    <tr style=\"text-align: right;\">\n",
       "      <th></th>\n",
       "      <th>Return</th>\n",
       "    </tr>\n",
       "    <tr>\n",
       "      <th>Year</th>\n",
       "      <th></th>\n",
       "    </tr>\n",
       "  </thead>\n",
       "  <tbody>\n",
       "    <tr>\n",
       "      <th>2021</th>\n",
       "      <td>28.71</td>\n",
       "    </tr>\n",
       "    <tr>\n",
       "      <th>2020</th>\n",
       "      <td>18.40</td>\n",
       "    </tr>\n",
       "    <tr>\n",
       "      <th>2019</th>\n",
       "      <td>31.49</td>\n",
       "    </tr>\n",
       "    <tr>\n",
       "      <th>2018</th>\n",
       "      <td>-4.38</td>\n",
       "    </tr>\n",
       "    <tr>\n",
       "      <th>2017</th>\n",
       "      <td>21.83</td>\n",
       "    </tr>\n",
       "  </tbody>\n",
       "</table>\n",
       "</div>"
      ],
      "text/plain": [
       "      Return\n",
       "Year        \n",
       "2021   28.71\n",
       "2020   18.40\n",
       "2019   31.49\n",
       "2018   -4.38\n",
       "2017   21.83"
      ]
     },
<<<<<<< HEAD
     "execution_count": 3,
=======
     "execution_count": 36,
>>>>>>> b27697b5e4ac3a132be72c4d6d58e32203fc9fde
     "metadata": {},
     "output_type": "execute_result"
    }
   ],
   "source": [
    "sp500_return.head()"
   ]
  },
  {
   "cell_type": "code",
<<<<<<< HEAD
   "execution_count": 4,
=======
   "execution_count": 37,
   "id": "9c06847b-8d67-4cc8-87ac-c29cc9bb6c01",
   "metadata": {},
   "outputs": [
    {
     "data": {
      "text/html": [
       "<div>\n",
       "<style scoped>\n",
       "    .dataframe tbody tr th:only-of-type {\n",
       "        vertical-align: middle;\n",
       "    }\n",
       "\n",
       "    .dataframe tbody tr th {\n",
       "        vertical-align: top;\n",
       "    }\n",
       "\n",
       "    .dataframe thead th {\n",
       "        text-align: right;\n",
       "    }\n",
       "</style>\n",
       "<table border=\"1\" class=\"dataframe\">\n",
       "  <thead>\n",
       "    <tr style=\"text-align: right;\">\n",
       "      <th></th>\n",
       "      <th>Annual_sp500Return</th>\n",
       "    </tr>\n",
       "    <tr>\n",
       "      <th>Year</th>\n",
       "      <th></th>\n",
       "    </tr>\n",
       "  </thead>\n",
       "  <tbody>\n",
       "    <tr>\n",
       "      <th>2021</th>\n",
       "      <td>28.71</td>\n",
       "    </tr>\n",
       "    <tr>\n",
       "      <th>2020</th>\n",
       "      <td>18.40</td>\n",
       "    </tr>\n",
       "    <tr>\n",
       "      <th>2019</th>\n",
       "      <td>31.49</td>\n",
       "    </tr>\n",
       "    <tr>\n",
       "      <th>2018</th>\n",
       "      <td>-4.38</td>\n",
       "    </tr>\n",
       "    <tr>\n",
       "      <th>2017</th>\n",
       "      <td>21.83</td>\n",
       "    </tr>\n",
       "    <tr>\n",
       "      <th>...</th>\n",
       "      <td>...</td>\n",
       "    </tr>\n",
       "    <tr>\n",
       "      <th>1930</th>\n",
       "      <td>-24.90</td>\n",
       "    </tr>\n",
       "    <tr>\n",
       "      <th>1929</th>\n",
       "      <td>-8.42</td>\n",
       "    </tr>\n",
       "    <tr>\n",
       "      <th>1928</th>\n",
       "      <td>43.61</td>\n",
       "    </tr>\n",
       "    <tr>\n",
       "      <th>1927</th>\n",
       "      <td>37.49</td>\n",
       "    </tr>\n",
       "    <tr>\n",
       "      <th>1926</th>\n",
       "      <td>11.62</td>\n",
       "    </tr>\n",
       "  </tbody>\n",
       "</table>\n",
       "<p>96 rows × 1 columns</p>\n",
       "</div>"
      ],
      "text/plain": [
       "      Annual_sp500Return\n",
       "Year                    \n",
       "2021               28.71\n",
       "2020               18.40\n",
       "2019               31.49\n",
       "2018               -4.38\n",
       "2017               21.83\n",
       "...                  ...\n",
       "1930              -24.90\n",
       "1929               -8.42\n",
       "1928               43.61\n",
       "1927               37.49\n",
       "1926               11.62\n",
       "\n",
       "[96 rows x 1 columns]"
      ]
     },
     "execution_count": 37,
     "metadata": {},
     "output_type": "execute_result"
    }
   ],
   "source": [
    "# Here I rename the Annual column as this will conflict with CPI dataset\n",
    "\n",
    "sp500_return.rename(columns = {'Return':'Annual_sp500Return'}, inplace = True)\n",
    "sp500_return"
   ]
  },
  {
   "cell_type": "code",
   "execution_count": 38,
   "id": "c0c18629-533b-4f86-bd9c-02e058ce1666",
   "metadata": {},
   "outputs": [
    {
     "data": {},
     "metadata": {},
     "output_type": "display_data"
    },
    {
     "data": {
      "application/vnd.holoviews_exec.v0+json": "",
      "text/html": [
       "<div id='1002'>\n",
       "\n",
       "\n",
       "\n",
       "\n",
       "\n",
       "  <div class=\"bk-root\" id=\"bdb8c30a-a7b6-4a03-8bda-0577faaf845b\" data-root-id=\"1002\"></div>\n",
       "</div>\n",
       "<script type=\"application/javascript\">(function(root) {\n",
       "  function embed_document(root) {\n",
       "    var docs_json = {\"69553812-f923-484f-9a4f-a9d9abc06888\":{\"defs\":[{\"extends\":null,\"module\":null,\"name\":\"ReactiveHTML1\",\"overrides\":[],\"properties\":[]},{\"extends\":null,\"module\":null,\"name\":\"FlexBox1\",\"overrides\":[],\"properties\":[{\"default\":\"flex-start\",\"kind\":null,\"name\":\"align_content\"},{\"default\":\"flex-start\",\"kind\":null,\"name\":\"align_items\"},{\"default\":\"row\",\"kind\":null,\"name\":\"flex_direction\"},{\"default\":\"wrap\",\"kind\":null,\"name\":\"flex_wrap\"},{\"default\":\"flex-start\",\"kind\":null,\"name\":\"justify_content\"}]},{\"extends\":null,\"module\":null,\"name\":\"GridStack1\",\"overrides\":[],\"properties\":[{\"default\":\"warn\",\"kind\":null,\"name\":\"mode\"},{\"default\":null,\"kind\":null,\"name\":\"ncols\"},{\"default\":null,\"kind\":null,\"name\":\"nrows\"},{\"default\":true,\"kind\":null,\"name\":\"allow_resize\"},{\"default\":true,\"kind\":null,\"name\":\"allow_drag\"},{\"default\":[],\"kind\":null,\"name\":\"state\"}]},{\"extends\":null,\"module\":null,\"name\":\"click1\",\"overrides\":[],\"properties\":[{\"default\":\"\",\"kind\":null,\"name\":\"terminal_output\"},{\"default\":\"\",\"kind\":null,\"name\":\"debug_name\"},{\"default\":0,\"kind\":null,\"name\":\"clears\"}]},{\"extends\":null,\"module\":null,\"name\":\"NotificationAreaBase1\",\"overrides\":[],\"properties\":[{\"default\":\"bottom-right\",\"kind\":null,\"name\":\"position\"},{\"default\":0,\"kind\":null,\"name\":\"_clear\"}]},{\"extends\":null,\"module\":null,\"name\":\"NotificationArea1\",\"overrides\":[],\"properties\":[{\"default\":[],\"kind\":null,\"name\":\"notifications\"},{\"default\":\"bottom-right\",\"kind\":null,\"name\":\"position\"},{\"default\":0,\"kind\":null,\"name\":\"_clear\"},{\"default\":[{\"background\":\"#ffc107\",\"icon\":{\"className\":\"fas fa-exclamation-triangle\",\"color\":\"white\",\"tagName\":\"i\"},\"type\":\"warning\"},{\"background\":\"#007bff\",\"icon\":{\"className\":\"fas fa-info-circle\",\"color\":\"white\",\"tagName\":\"i\"},\"type\":\"info\"}],\"kind\":null,\"name\":\"types\"}]},{\"extends\":null,\"module\":null,\"name\":\"Notification\",\"overrides\":[],\"properties\":[{\"default\":null,\"kind\":null,\"name\":\"background\"},{\"default\":3000,\"kind\":null,\"name\":\"duration\"},{\"default\":null,\"kind\":null,\"name\":\"icon\"},{\"default\":\"\",\"kind\":null,\"name\":\"message\"},{\"default\":null,\"kind\":null,\"name\":\"notification_type\"},{\"default\":false,\"kind\":null,\"name\":\"_destroyed\"}]},{\"extends\":null,\"module\":null,\"name\":\"TemplateActions1\",\"overrides\":[],\"properties\":[{\"default\":0,\"kind\":null,\"name\":\"open_modal\"},{\"default\":0,\"kind\":null,\"name\":\"close_modal\"}]},{\"extends\":null,\"module\":null,\"name\":\"MaterialTemplateActions1\",\"overrides\":[],\"properties\":[{\"default\":0,\"kind\":null,\"name\":\"open_modal\"},{\"default\":0,\"kind\":null,\"name\":\"close_modal\"}]}],\"roots\":{\"references\":[{\"attributes\":{},\"id\":\"1014\",\"type\":\"LinearScale\"},{\"attributes\":{},\"id\":\"1051\",\"type\":\"AllLabels\"},{\"attributes\":{},\"id\":\"1012\",\"type\":\"LinearScale\"},{\"attributes\":{},\"id\":\"1048\",\"type\":\"AllLabels\"},{\"attributes\":{\"callback\":null,\"renderers\":[{\"id\":\"1043\"}],\"tags\":[\"hv_created\"],\"tooltips\":[[\"Year\",\"@{Year}\"],[\"Annual_sp500Return\",\"@{Annual_sp500Return}\"]]},\"id\":\"1006\",\"type\":\"HoverTool\"},{\"attributes\":{\"below\":[{\"id\":\"1016\"}],\"center\":[{\"id\":\"1019\"},{\"id\":\"1023\"}],\"height\":300,\"left\":[{\"id\":\"1020\"}],\"margin\":[5,5,5,5],\"min_border_bottom\":10,\"min_border_left\":10,\"min_border_right\":10,\"min_border_top\":10,\"renderers\":[{\"id\":\"1043\"}],\"sizing_mode\":\"fixed\",\"title\":{\"id\":\"1008\"},\"toolbar\":{\"id\":\"1030\"},\"width\":700,\"x_range\":{\"id\":\"1004\"},\"x_scale\":{\"id\":\"1012\"},\"y_range\":{\"id\":\"1005\"},\"y_scale\":{\"id\":\"1014\"}},\"id\":\"1007\",\"subtype\":\"Figure\",\"type\":\"Plot\"},{\"attributes\":{\"coordinates\":null,\"group\":null,\"text\":\"Annual Return\",\"text_color\":\"black\",\"text_font_size\":\"12pt\"},\"id\":\"1008\",\"type\":\"Title\"},{\"attributes\":{},\"id\":\"1025\",\"type\":\"PanTool\"},{\"attributes\":{},\"id\":\"1050\",\"type\":\"BasicTickFormatter\"},{\"attributes\":{\"axis\":{\"id\":\"1016\"},\"coordinates\":null,\"grid_line_color\":null,\"group\":null,\"ticker\":null},\"id\":\"1019\",\"type\":\"Grid\"},{\"attributes\":{\"margin\":[5,5,5,5],\"name\":\"HSpacer01687\",\"sizing_mode\":\"stretch_width\"},\"id\":\"1062\",\"type\":\"Spacer\"},{\"attributes\":{\"axis_label\":\"Year\",\"coordinates\":null,\"formatter\":{\"id\":\"1047\"},\"group\":null,\"major_label_policy\":{\"id\":\"1048\"},\"ticker\":{\"id\":\"1017\"}},\"id\":\"1016\",\"type\":\"LinearAxis\"},{\"attributes\":{\"axis_label\":\"sp500 Return\",\"coordinates\":null,\"formatter\":{\"id\":\"1050\"},\"group\":null,\"major_label_policy\":{\"id\":\"1051\"},\"ticker\":{\"id\":\"1021\"}},\"id\":\"1020\",\"type\":\"LinearAxis\"},{\"attributes\":{\"coordinates\":null,\"data_source\":{\"id\":\"1037\"},\"glyph\":{\"id\":\"1040\"},\"group\":null,\"hover_glyph\":null,\"muted_glyph\":{\"id\":\"1042\"},\"nonselection_glyph\":{\"id\":\"1041\"},\"selection_glyph\":{\"id\":\"1045\"},\"view\":{\"id\":\"1044\"}},\"id\":\"1043\",\"type\":\"GlyphRenderer\"},{\"attributes\":{},\"id\":\"1017\",\"type\":\"BasicTicker\"},{\"attributes\":{},\"id\":\"1026\",\"type\":\"WheelZoomTool\"},{\"attributes\":{\"data\":{\"Annual_sp500Return\":{\"__ndarray__\":\"9ihcj8K1PEBmZmZmZmYyQD0K16NwfT9AhetRuB6FEcAUrkfhetQ1QOxRuB6F6ydAFK5H4XoU9j/hehSuR2ErQFK4HoXrMUBAAAAAAAAAMEDhehSuR+EAQB+F61G4Hi5A9ihcj8J1OkAAAAAAAIBCwPYoXI/C9RVAFK5H4XqUL0CkcD0K16MTQMP1KFyPwiVArkfhehSuPECamZmZmRk2wEjhehSuxyfAMzMzMzMzIsAK16NwPQo1QBSuR+F6lDxArkfhehSuQED2KFyPwvU2QArXo3A9ykJAH4XrUbge9T8pXI/C9SgkQHsUrkfheh5AuB6F61F4PkDNzMzMzMwIwHE9CtejsD9AXI/C9SicMEAAAAAAAAAVQOxRuB6FqzJAexSuR+G6P0AUrkfhehQZQI/C9ShcjzZAzczMzMyMNUCkcD0K16MTwPYoXI/CNUBAcT0K16NwMkA9CtejcD0aQLgehetRuBzA16NwPQrXN0CamZmZmZlCQLgehetReDrAUrgehetRLcB7FK5H4foyQB+F61G4nixACtejcD0KEEAAAAAAAAAhwB+F61G4HiZAexSuR+H6N0AfhetRuB4kwGZmZmZm5ihAexSuR+F6MEDNzMzMzMw2QPYoXI/CdSHApHA9CtfjOkAUrkfhehTeP+xRuB6F6ydArkfhehSuRUCPwvUoXI8lwD0K16NwPRpAj8L1KFyPP0CPwvUoXE9KQK5H4XoUru+/H4XrUbheMkCF61G4HgU4QPYoXI/CtT9ACtejcD3KMkAAAAAAAAAWQNejcD0K1xZApHA9CtcjIMC4HoXrUThCQAAAAAAAwDNAZmZmZmbmOUDXo3A9Clc0QK5H4XoULifAj8L1KFyPI8A9CtejcD3avx+F61G4Hj9ApHA9CteDQcD2KFyPwvVAQPYoXI/C1UdACtejcD0K978fhetRuP5KQOF6FK5HYSDA7FG4HoWrRcBmZmZmZuY4wNejcD0K1yDArkfhehTORUAfhetRuL5CQD0K16NwPSdA\",\"dtype\":\"float64\",\"order\":\"little\",\"shape\":[96]},\"Year\":[2021,2020,2019,2018,2017,2016,2015,2014,2013,2012,2011,2010,2009,2008,2007,2006,2005,2004,2003,2002,2001,2000,1999,1998,1997,1996,1995,1994,1993,1992,1991,1990,1989,1988,1987,1986,1985,1984,1983,1982,1981,1980,1979,1978,1977,1976,1975,1974,1973,1972,1971,1970,1969,1968,1967,1966,1965,1964,1963,1962,1961,1960,1959,1958,1957,1956,1955,1954,1953,1952,1951,1950,1949,1948,1947,1946,1945,1944,1943,1942,1941,1940,1939,1938,1937,1936,1935,1934,1933,1932,1931,1930,1929,1928,1927,1926]},\"selected\":{\"id\":\"1038\"},\"selection_policy\":{\"id\":\"1059\"}},\"id\":\"1037\",\"type\":\"ColumnDataSource\"},{\"attributes\":{\"axis\":{\"id\":\"1020\"},\"coordinates\":null,\"dimension\":1,\"grid_line_color\":null,\"group\":null,\"ticker\":null},\"id\":\"1023\",\"type\":\"Grid\"},{\"attributes\":{},\"id\":\"1021\",\"type\":\"BasicTicker\"},{\"attributes\":{\"source\":{\"id\":\"1037\"}},\"id\":\"1044\",\"type\":\"CDSView\"},{\"attributes\":{},\"id\":\"1024\",\"type\":\"SaveTool\"},{\"attributes\":{},\"id\":\"1038\",\"type\":\"Selection\"},{\"attributes\":{\"overlay\":{\"id\":\"1029\"}},\"id\":\"1027\",\"type\":\"BoxZoomTool\"},{\"attributes\":{},\"id\":\"1028\",\"type\":\"ResetTool\"},{\"attributes\":{\"children\":[{\"id\":\"1003\"},{\"id\":\"1007\"},{\"id\":\"1062\"}],\"margin\":[0,0,0,0],\"name\":\"Row01682\",\"tags\":[\"embedded\"]},\"id\":\"1002\",\"type\":\"Row\"},{\"attributes\":{\"bottom_units\":\"screen\",\"coordinates\":null,\"fill_alpha\":0.5,\"fill_color\":\"lightgrey\",\"group\":null,\"left_units\":\"screen\",\"level\":\"overlay\",\"line_alpha\":1.0,\"line_color\":\"black\",\"line_dash\":[4,4],\"line_width\":2,\"right_units\":\"screen\",\"syncable\":false,\"top_units\":\"screen\"},\"id\":\"1029\",\"type\":\"BoxAnnotation\"},{\"attributes\":{\"margin\":[5,5,5,5],\"name\":\"HSpacer01686\",\"sizing_mode\":\"stretch_width\"},\"id\":\"1003\",\"type\":\"Spacer\"},{\"attributes\":{\"line_alpha\":0.1,\"line_color\":\"#30a2da\",\"line_width\":2,\"x\":{\"field\":\"Year\"},\"y\":{\"field\":\"Annual_sp500Return\"}},\"id\":\"1041\",\"type\":\"Line\"},{\"attributes\":{},\"id\":\"1047\",\"type\":\"BasicTickFormatter\"},{\"attributes\":{\"line_color\":\"#30a2da\",\"line_width\":2,\"x\":{\"field\":\"Year\"},\"y\":{\"field\":\"Annual_sp500Return\"}},\"id\":\"1040\",\"type\":\"Line\"},{\"attributes\":{\"line_alpha\":0.2,\"line_color\":\"#30a2da\",\"line_width\":2,\"x\":{\"field\":\"Year\"},\"y\":{\"field\":\"Annual_sp500Return\"}},\"id\":\"1042\",\"type\":\"Line\"},{\"attributes\":{\"end\":63.723000000000006,\"reset_end\":63.723000000000006,\"reset_start\":-53.07300000000001,\"start\":-53.07300000000001,\"tags\":[[[\"Annual_sp500Return\",\"Annual_sp500Return\",null]]]},\"id\":\"1005\",\"type\":\"Range1d\"},{\"attributes\":{},\"id\":\"1059\",\"type\":\"UnionRenderers\"},{\"attributes\":{\"line_color\":\"#30a2da\",\"line_width\":2,\"x\":{\"field\":\"Year\"},\"y\":{\"field\":\"Annual_sp500Return\"}},\"id\":\"1045\",\"type\":\"Line\"},{\"attributes\":{\"end\":2021.0,\"reset_end\":2021.0,\"reset_start\":1926.0,\"start\":1926.0,\"tags\":[[[\"Year\",\"Year\",null]]]},\"id\":\"1004\",\"type\":\"Range1d\"},{\"attributes\":{\"tools\":[{\"id\":\"1006\"},{\"id\":\"1024\"},{\"id\":\"1025\"},{\"id\":\"1026\"},{\"id\":\"1027\"},{\"id\":\"1028\"}]},\"id\":\"1030\",\"type\":\"Toolbar\"}],\"root_ids\":[\"1002\"]},\"title\":\"Bokeh Application\",\"version\":\"2.4.1\"}};\n",
       "    var render_items = [{\"docid\":\"69553812-f923-484f-9a4f-a9d9abc06888\",\"root_ids\":[\"1002\"],\"roots\":{\"1002\":\"bdb8c30a-a7b6-4a03-8bda-0577faaf845b\"}}];\n",
       "    root.Bokeh.embed.embed_items_notebook(docs_json, render_items);\n",
       "  }\n",
       "  if (root.Bokeh !== undefined && root.Bokeh.Panel !== undefined) {\n",
       "    embed_document(root);\n",
       "  } else {\n",
       "    var attempts = 0;\n",
       "    var timer = setInterval(function(root) {\n",
       "      if (root.Bokeh !== undefined && root.Bokeh.Panel !== undefined) {\n",
       "        clearInterval(timer);\n",
       "        embed_document(root);\n",
       "      } else if (document.readyState == \"complete\") {\n",
       "        attempts++;\n",
       "        if (attempts > 200) {\n",
       "          clearInterval(timer);\n",
       "          console.log(\"Bokeh: ERROR: Unable to run BokehJS code because BokehJS library is missing\");\n",
       "        }\n",
       "      }\n",
       "    }, 25, root)\n",
       "  }\n",
       "})(window);</script>"
      ],
      "text/plain": [
       ":Curve   [Year]   (Annual_sp500Return)"
      ]
     },
     "execution_count": 38,
     "metadata": {
      "application/vnd.holoviews_exec.v0+json": {
       "id": "1002"
      }
     },
     "output_type": "execute_result"
    }
   ],
   "source": [
    "sp500_return[\"Annual_sp500Return\"].hvplot(\n",
    "    label=\"Annual Return\",\n",
    "    xlabel=\"Year\",\n",
    "    ylabel=\"sp500 Return\"\n",
    ")"
   ]
  },
  {
   "cell_type": "code",
   "execution_count": 41,
   "id": "37f1e04f-a006-462a-b7a4-166a707bd911",
   "metadata": {},
   "outputs": [
    {
     "data": {
      "text/plain": [
       "Year\n",
       "1978     6.56\n",
       "1977    -7.18\n",
       "1976    23.84\n",
       "1975    37.20\n",
       "1974   -26.47\n",
       "1973   -14.66\n",
       "1972    18.98\n",
       "1971    14.31\n",
       "1970     4.01\n",
       "1969    -8.50\n",
       "1968    11.06\n",
       "1967    23.98\n",
       "1966   -10.06\n",
       "Name: seventies_return, dtype: float64"
      ]
     },
     "execution_count": 41,
     "metadata": {},
     "output_type": "execute_result"
    }
   ],
   "source": [
    "seventies_return_df = sp500_return.rename(columns = {'Annual_sp500Return':'seventies_return'})\n",
    "seventies_return_df = seventies_return_df[\"seventies_return\"].iloc[43:56]\n",
    "seventies_return_df"
   ]
  },
  {
   "cell_type": "code",
   "execution_count": 45,
   "id": "0fe1461f-3b6b-4523-920b-7336020f0f38",
   "metadata": {},
   "outputs": [
    {
     "data": {},
     "metadata": {},
     "output_type": "display_data"
    },
    {
     "data": {
      "application/vnd.holoviews_exec.v0+json": "",
      "text/html": [
       "<div id='1226'>\n",
       "\n",
       "\n",
       "\n",
       "\n",
       "\n",
       "  <div class=\"bk-root\" id=\"f3c6c5d8-74c3-41dc-bd0c-f090230a7ef3\" data-root-id=\"1226\"></div>\n",
       "</div>\n",
       "<script type=\"application/javascript\">(function(root) {\n",
       "  function embed_document(root) {\n",
       "    var docs_json = {\"b2044a05-8582-4ac8-895f-66dd36eba51f\":{\"defs\":[{\"extends\":null,\"module\":null,\"name\":\"ReactiveHTML1\",\"overrides\":[],\"properties\":[]},{\"extends\":null,\"module\":null,\"name\":\"FlexBox1\",\"overrides\":[],\"properties\":[{\"default\":\"flex-start\",\"kind\":null,\"name\":\"align_content\"},{\"default\":\"flex-start\",\"kind\":null,\"name\":\"align_items\"},{\"default\":\"row\",\"kind\":null,\"name\":\"flex_direction\"},{\"default\":\"wrap\",\"kind\":null,\"name\":\"flex_wrap\"},{\"default\":\"flex-start\",\"kind\":null,\"name\":\"justify_content\"}]},{\"extends\":null,\"module\":null,\"name\":\"GridStack1\",\"overrides\":[],\"properties\":[{\"default\":\"warn\",\"kind\":null,\"name\":\"mode\"},{\"default\":null,\"kind\":null,\"name\":\"ncols\"},{\"default\":null,\"kind\":null,\"name\":\"nrows\"},{\"default\":true,\"kind\":null,\"name\":\"allow_resize\"},{\"default\":true,\"kind\":null,\"name\":\"allow_drag\"},{\"default\":[],\"kind\":null,\"name\":\"state\"}]},{\"extends\":null,\"module\":null,\"name\":\"click1\",\"overrides\":[],\"properties\":[{\"default\":\"\",\"kind\":null,\"name\":\"terminal_output\"},{\"default\":\"\",\"kind\":null,\"name\":\"debug_name\"},{\"default\":0,\"kind\":null,\"name\":\"clears\"}]},{\"extends\":null,\"module\":null,\"name\":\"NotificationAreaBase1\",\"overrides\":[],\"properties\":[{\"default\":\"bottom-right\",\"kind\":null,\"name\":\"position\"},{\"default\":0,\"kind\":null,\"name\":\"_clear\"}]},{\"extends\":null,\"module\":null,\"name\":\"NotificationArea1\",\"overrides\":[],\"properties\":[{\"default\":[],\"kind\":null,\"name\":\"notifications\"},{\"default\":\"bottom-right\",\"kind\":null,\"name\":\"position\"},{\"default\":0,\"kind\":null,\"name\":\"_clear\"},{\"default\":[{\"background\":\"#ffc107\",\"icon\":{\"className\":\"fas fa-exclamation-triangle\",\"color\":\"white\",\"tagName\":\"i\"},\"type\":\"warning\"},{\"background\":\"#007bff\",\"icon\":{\"className\":\"fas fa-info-circle\",\"color\":\"white\",\"tagName\":\"i\"},\"type\":\"info\"}],\"kind\":null,\"name\":\"types\"}]},{\"extends\":null,\"module\":null,\"name\":\"Notification\",\"overrides\":[],\"properties\":[{\"default\":null,\"kind\":null,\"name\":\"background\"},{\"default\":3000,\"kind\":null,\"name\":\"duration\"},{\"default\":null,\"kind\":null,\"name\":\"icon\"},{\"default\":\"\",\"kind\":null,\"name\":\"message\"},{\"default\":null,\"kind\":null,\"name\":\"notification_type\"},{\"default\":false,\"kind\":null,\"name\":\"_destroyed\"}]},{\"extends\":null,\"module\":null,\"name\":\"TemplateActions1\",\"overrides\":[],\"properties\":[{\"default\":0,\"kind\":null,\"name\":\"open_modal\"},{\"default\":0,\"kind\":null,\"name\":\"close_modal\"}]},{\"extends\":null,\"module\":null,\"name\":\"MaterialTemplateActions1\",\"overrides\":[],\"properties\":[{\"default\":0,\"kind\":null,\"name\":\"open_modal\"},{\"default\":0,\"kind\":null,\"name\":\"close_modal\"}]}],\"roots\":{\"references\":[{\"attributes\":{\"axis\":{\"id\":\"1240\"},\"coordinates\":null,\"grid_line_color\":null,\"group\":null,\"ticker\":null},\"id\":\"1243\",\"type\":\"Grid\"},{\"attributes\":{\"end\":43.56700000000001,\"reset_end\":43.56700000000001,\"reset_start\":-32.837,\"start\":-32.837,\"tags\":[[[\"seventies_return\",\"seventies_return\",null]]]},\"id\":\"1229\",\"type\":\"Range1d\"},{\"attributes\":{},\"id\":\"1241\",\"type\":\"BasicTicker\"},{\"attributes\":{\"end\":1978.0,\"reset_end\":1978.0,\"reset_start\":1966.0,\"start\":1966.0,\"tags\":[[[\"Year\",\"Year\",null]]]},\"id\":\"1228\",\"type\":\"Range1d\"},{\"attributes\":{\"coordinates\":null,\"group\":null,\"text\":\"Seventies Return\",\"text_color\":\"black\",\"text_font_size\":\"12pt\"},\"id\":\"1232\",\"type\":\"Title\"},{\"attributes\":{},\"id\":\"1271\",\"type\":\"BasicTickFormatter\"},{\"attributes\":{\"below\":[{\"id\":\"1240\"}],\"center\":[{\"id\":\"1243\"},{\"id\":\"1247\"}],\"height\":300,\"left\":[{\"id\":\"1244\"}],\"margin\":[5,5,5,5],\"min_border_bottom\":10,\"min_border_left\":10,\"min_border_right\":10,\"min_border_top\":10,\"renderers\":[{\"id\":\"1267\"}],\"sizing_mode\":\"fixed\",\"title\":{\"id\":\"1232\"},\"toolbar\":{\"id\":\"1254\"},\"width\":700,\"x_range\":{\"id\":\"1228\"},\"x_scale\":{\"id\":\"1236\"},\"y_range\":{\"id\":\"1229\"},\"y_scale\":{\"id\":\"1238\"}},\"id\":\"1231\",\"subtype\":\"Figure\",\"type\":\"Plot\"},{\"attributes\":{\"axis\":{\"id\":\"1244\"},\"coordinates\":null,\"dimension\":1,\"grid_line_color\":null,\"group\":null,\"ticker\":null},\"id\":\"1247\",\"type\":\"Grid\"},{\"attributes\":{\"line_color\":\"#30a2da\",\"line_width\":2,\"x\":{\"field\":\"Year\"},\"y\":{\"field\":\"seventies_return\"}},\"id\":\"1264\",\"type\":\"Line\"},{\"attributes\":{\"axis_label\":\"Year\",\"coordinates\":null,\"formatter\":{\"id\":\"1271\"},\"group\":null,\"major_label_policy\":{\"id\":\"1272\"},\"ticker\":{\"id\":\"1241\"}},\"id\":\"1240\",\"type\":\"LinearAxis\"},{\"attributes\":{\"line_alpha\":0.1,\"line_color\":\"#30a2da\",\"line_width\":2,\"x\":{\"field\":\"Year\"},\"y\":{\"field\":\"seventies_return\"}},\"id\":\"1265\",\"type\":\"Line\"},{\"attributes\":{},\"id\":\"1249\",\"type\":\"PanTool\"},{\"attributes\":{\"axis_label\":\"sp500 Return\",\"coordinates\":null,\"formatter\":{\"id\":\"1274\"},\"group\":null,\"major_label_policy\":{\"id\":\"1275\"},\"ticker\":{\"id\":\"1245\"}},\"id\":\"1244\",\"type\":\"LinearAxis\"},{\"attributes\":{\"line_color\":\"#30a2da\",\"line_width\":2,\"x\":{\"field\":\"Year\"},\"y\":{\"field\":\"seventies_return\"}},\"id\":\"1269\",\"type\":\"Line\"},{\"attributes\":{},\"id\":\"1245\",\"type\":\"BasicTicker\"},{\"attributes\":{},\"id\":\"1275\",\"type\":\"AllLabels\"},{\"attributes\":{},\"id\":\"1250\",\"type\":\"WheelZoomTool\"},{\"attributes\":{},\"id\":\"1262\",\"type\":\"Selection\"},{\"attributes\":{},\"id\":\"1248\",\"type\":\"SaveTool\"},{\"attributes\":{\"children\":[{\"id\":\"1227\"},{\"id\":\"1231\"},{\"id\":\"1286\"}],\"margin\":[0,0,0,0],\"name\":\"Row02148\",\"tags\":[\"embedded\"]},\"id\":\"1226\",\"type\":\"Row\"},{\"attributes\":{\"line_alpha\":0.2,\"line_color\":\"#30a2da\",\"line_width\":2,\"x\":{\"field\":\"Year\"},\"y\":{\"field\":\"seventies_return\"}},\"id\":\"1266\",\"type\":\"Line\"},{\"attributes\":{\"data\":{\"Year\":[1978,1977,1976,1975,1974,1973,1972,1971,1970,1969,1968,1967,1966],\"seventies_return\":{\"__ndarray__\":\"PQrXo3A9GkC4HoXrUbgcwNejcD0K1zdAmpmZmZmZQkC4HoXrUXg6wFK4HoXrUS3AexSuR+H6MkAfhetRuJ4sQArXo3A9ChBAAAAAAAAAIcAfhetRuB4mQHsUrkfh+jdAH4XrUbgeJMA=\",\"dtype\":\"float64\",\"order\":\"little\",\"shape\":[13]}},\"selected\":{\"id\":\"1262\"},\"selection_policy\":{\"id\":\"1283\"}},\"id\":\"1261\",\"type\":\"ColumnDataSource\"},{\"attributes\":{\"overlay\":{\"id\":\"1253\"}},\"id\":\"1251\",\"type\":\"BoxZoomTool\"},{\"attributes\":{\"coordinates\":null,\"data_source\":{\"id\":\"1261\"},\"glyph\":{\"id\":\"1264\"},\"group\":null,\"hover_glyph\":null,\"muted_glyph\":{\"id\":\"1266\"},\"nonselection_glyph\":{\"id\":\"1265\"},\"selection_glyph\":{\"id\":\"1269\"},\"view\":{\"id\":\"1268\"}},\"id\":\"1267\",\"type\":\"GlyphRenderer\"},{\"attributes\":{},\"id\":\"1252\",\"type\":\"ResetTool\"},{\"attributes\":{\"source\":{\"id\":\"1261\"}},\"id\":\"1268\",\"type\":\"CDSView\"},{\"attributes\":{},\"id\":\"1238\",\"type\":\"LinearScale\"},{\"attributes\":{\"bottom_units\":\"screen\",\"coordinates\":null,\"fill_alpha\":0.5,\"fill_color\":\"lightgrey\",\"group\":null,\"left_units\":\"screen\",\"level\":\"overlay\",\"line_alpha\":1.0,\"line_color\":\"black\",\"line_dash\":[4,4],\"line_width\":2,\"right_units\":\"screen\",\"syncable\":false,\"top_units\":\"screen\"},\"id\":\"1253\",\"type\":\"BoxAnnotation\"},{\"attributes\":{\"tools\":[{\"id\":\"1230\"},{\"id\":\"1248\"},{\"id\":\"1249\"},{\"id\":\"1250\"},{\"id\":\"1251\"},{\"id\":\"1252\"}]},\"id\":\"1254\",\"type\":\"Toolbar\"},{\"attributes\":{},\"id\":\"1272\",\"type\":\"AllLabels\"},{\"attributes\":{\"margin\":[5,5,5,5],\"name\":\"HSpacer02152\",\"sizing_mode\":\"stretch_width\"},\"id\":\"1227\",\"type\":\"Spacer\"},{\"attributes\":{},\"id\":\"1283\",\"type\":\"UnionRenderers\"},{\"attributes\":{},\"id\":\"1274\",\"type\":\"BasicTickFormatter\"},{\"attributes\":{\"margin\":[5,5,5,5],\"name\":\"HSpacer02153\",\"sizing_mode\":\"stretch_width\"},\"id\":\"1286\",\"type\":\"Spacer\"},{\"attributes\":{\"callback\":null,\"renderers\":[{\"id\":\"1267\"}],\"tags\":[\"hv_created\"],\"tooltips\":[[\"Year\",\"@{Year}\"],[\"seventies_return\",\"@{seventies_return}\"]]},\"id\":\"1230\",\"type\":\"HoverTool\"},{\"attributes\":{},\"id\":\"1236\",\"type\":\"LinearScale\"}],\"root_ids\":[\"1226\"]},\"title\":\"Bokeh Application\",\"version\":\"2.4.1\"}};\n",
       "    var render_items = [{\"docid\":\"b2044a05-8582-4ac8-895f-66dd36eba51f\",\"root_ids\":[\"1226\"],\"roots\":{\"1226\":\"f3c6c5d8-74c3-41dc-bd0c-f090230a7ef3\"}}];\n",
       "    root.Bokeh.embed.embed_items_notebook(docs_json, render_items);\n",
       "  }\n",
       "  if (root.Bokeh !== undefined && root.Bokeh.Panel !== undefined) {\n",
       "    embed_document(root);\n",
       "  } else {\n",
       "    var attempts = 0;\n",
       "    var timer = setInterval(function(root) {\n",
       "      if (root.Bokeh !== undefined && root.Bokeh.Panel !== undefined) {\n",
       "        clearInterval(timer);\n",
       "        embed_document(root);\n",
       "      } else if (document.readyState == \"complete\") {\n",
       "        attempts++;\n",
       "        if (attempts > 200) {\n",
       "          clearInterval(timer);\n",
       "          console.log(\"Bokeh: ERROR: Unable to run BokehJS code because BokehJS library is missing\");\n",
       "        }\n",
       "      }\n",
       "    }, 25, root)\n",
       "  }\n",
       "})(window);</script>"
      ],
      "text/plain": [
       ":Curve   [Year]   (seventies_return)"
      ]
     },
     "execution_count": 45,
     "metadata": {
      "application/vnd.holoviews_exec.v0+json": {
       "id": "1226"
      }
     },
     "output_type": "execute_result"
    }
   ],
   "source": [
    "seventies_return_df.hvplot(\n",
    "    label=\"Seventies Return\",\n",
    "    xlabel=\"Year\",\n",
    "    ylabel=\"sp500 Return\"\n",
    ")"
   ]
  },
  {
   "cell_type": "code",
   "execution_count": 46,
>>>>>>> b27697b5e4ac3a132be72c4d6d58e32203fc9fde
   "id": "c77eeb6e-1dd8-46f6-bacd-5487edaeae93",
   "metadata": {
    "tags": []
   },
   "outputs": [],
   "source": [
    "twenties_return_df = sp500_return.rename(columns = {'Annual_sp500Return':'twenties_return'})\n",
    "twenties_return_df = twenties_return_df.iloc[1:12]"
   ]
  },
  {
   "cell_type": "code",
   "execution_count": 47,
   "id": "b3027167-a9d9-46b2-be11-947e3af365b9",
   "metadata": {},
   "outputs": [
    {
     "data": {},
     "metadata": {},
     "output_type": "display_data"
    },
    {
     "data": {
      "application/vnd.holoviews_exec.v0+json": "",
      "text/html": [
       "<div id='1338'>\n",
       "\n",
       "\n",
       "\n",
       "\n",
       "\n",
       "  <div class=\"bk-root\" id=\"fab15952-dea5-453e-8314-0271e12cb294\" data-root-id=\"1338\"></div>\n",
       "</div>\n",
       "<script type=\"application/javascript\">(function(root) {\n",
       "  function embed_document(root) {\n",
       "    var docs_json = {\"3703d890-530f-4e77-a5fe-7fe089a34d8c\":{\"defs\":[{\"extends\":null,\"module\":null,\"name\":\"ReactiveHTML1\",\"overrides\":[],\"properties\":[]},{\"extends\":null,\"module\":null,\"name\":\"FlexBox1\",\"overrides\":[],\"properties\":[{\"default\":\"flex-start\",\"kind\":null,\"name\":\"align_content\"},{\"default\":\"flex-start\",\"kind\":null,\"name\":\"align_items\"},{\"default\":\"row\",\"kind\":null,\"name\":\"flex_direction\"},{\"default\":\"wrap\",\"kind\":null,\"name\":\"flex_wrap\"},{\"default\":\"flex-start\",\"kind\":null,\"name\":\"justify_content\"}]},{\"extends\":null,\"module\":null,\"name\":\"GridStack1\",\"overrides\":[],\"properties\":[{\"default\":\"warn\",\"kind\":null,\"name\":\"mode\"},{\"default\":null,\"kind\":null,\"name\":\"ncols\"},{\"default\":null,\"kind\":null,\"name\":\"nrows\"},{\"default\":true,\"kind\":null,\"name\":\"allow_resize\"},{\"default\":true,\"kind\":null,\"name\":\"allow_drag\"},{\"default\":[],\"kind\":null,\"name\":\"state\"}]},{\"extends\":null,\"module\":null,\"name\":\"click1\",\"overrides\":[],\"properties\":[{\"default\":\"\",\"kind\":null,\"name\":\"terminal_output\"},{\"default\":\"\",\"kind\":null,\"name\":\"debug_name\"},{\"default\":0,\"kind\":null,\"name\":\"clears\"}]},{\"extends\":null,\"module\":null,\"name\":\"NotificationAreaBase1\",\"overrides\":[],\"properties\":[{\"default\":\"bottom-right\",\"kind\":null,\"name\":\"position\"},{\"default\":0,\"kind\":null,\"name\":\"_clear\"}]},{\"extends\":null,\"module\":null,\"name\":\"NotificationArea1\",\"overrides\":[],\"properties\":[{\"default\":[],\"kind\":null,\"name\":\"notifications\"},{\"default\":\"bottom-right\",\"kind\":null,\"name\":\"position\"},{\"default\":0,\"kind\":null,\"name\":\"_clear\"},{\"default\":[{\"background\":\"#ffc107\",\"icon\":{\"className\":\"fas fa-exclamation-triangle\",\"color\":\"white\",\"tagName\":\"i\"},\"type\":\"warning\"},{\"background\":\"#007bff\",\"icon\":{\"className\":\"fas fa-info-circle\",\"color\":\"white\",\"tagName\":\"i\"},\"type\":\"info\"}],\"kind\":null,\"name\":\"types\"}]},{\"extends\":null,\"module\":null,\"name\":\"Notification\",\"overrides\":[],\"properties\":[{\"default\":null,\"kind\":null,\"name\":\"background\"},{\"default\":3000,\"kind\":null,\"name\":\"duration\"},{\"default\":null,\"kind\":null,\"name\":\"icon\"},{\"default\":\"\",\"kind\":null,\"name\":\"message\"},{\"default\":null,\"kind\":null,\"name\":\"notification_type\"},{\"default\":false,\"kind\":null,\"name\":\"_destroyed\"}]},{\"extends\":null,\"module\":null,\"name\":\"TemplateActions1\",\"overrides\":[],\"properties\":[{\"default\":0,\"kind\":null,\"name\":\"open_modal\"},{\"default\":0,\"kind\":null,\"name\":\"close_modal\"}]},{\"extends\":null,\"module\":null,\"name\":\"MaterialTemplateActions1\",\"overrides\":[],\"properties\":[{\"default\":0,\"kind\":null,\"name\":\"open_modal\"},{\"default\":0,\"kind\":null,\"name\":\"close_modal\"}]}],\"roots\":{\"references\":[{\"attributes\":{},\"id\":\"1362\",\"type\":\"WheelZoomTool\"},{\"attributes\":{\"line_alpha\":0.1,\"line_color\":\"#30a2da\",\"line_width\":2,\"x\":{\"field\":\"Year\"},\"y\":{\"field\":\"twenties_return\"}},\"id\":\"1377\",\"type\":\"Line\"},{\"attributes\":{\"line_alpha\":0.2,\"line_color\":\"#30a2da\",\"line_width\":2,\"x\":{\"field\":\"Year\"},\"y\":{\"field\":\"twenties_return\"}},\"id\":\"1378\",\"type\":\"Line\"},{\"attributes\":{},\"id\":\"1360\",\"type\":\"SaveTool\"},{\"attributes\":{\"coordinates\":null,\"data_source\":{\"id\":\"1373\"},\"glyph\":{\"id\":\"1376\"},\"group\":null,\"hover_glyph\":null,\"muted_glyph\":{\"id\":\"1378\"},\"nonselection_glyph\":{\"id\":\"1377\"},\"selection_glyph\":{\"id\":\"1381\"},\"view\":{\"id\":\"1380\"}},\"id\":\"1379\",\"type\":\"GlyphRenderer\"},{\"attributes\":{},\"id\":\"1350\",\"type\":\"LinearScale\"},{\"attributes\":{\"overlay\":{\"id\":\"1365\"}},\"id\":\"1363\",\"type\":\"BoxZoomTool\"},{\"attributes\":{\"line_color\":\"#30a2da\",\"line_width\":2,\"x\":{\"field\":\"Year\"},\"y\":{\"field\":\"twenties_return\"}},\"id\":\"1381\",\"type\":\"Line\"},{\"attributes\":{},\"id\":\"1364\",\"type\":\"ResetTool\"},{\"attributes\":{\"source\":{\"id\":\"1373\"}},\"id\":\"1380\",\"type\":\"CDSView\"},{\"attributes\":{\"bottom_units\":\"screen\",\"coordinates\":null,\"fill_alpha\":0.5,\"fill_color\":\"lightgrey\",\"group\":null,\"left_units\":\"screen\",\"level\":\"overlay\",\"line_alpha\":1.0,\"line_color\":\"black\",\"line_dash\":[4,4],\"line_width\":2,\"right_units\":\"screen\",\"syncable\":false,\"top_units\":\"screen\"},\"id\":\"1365\",\"type\":\"BoxAnnotation\"},{\"attributes\":{},\"id\":\"1387\",\"type\":\"AllLabels\"},{\"attributes\":{},\"id\":\"1386\",\"type\":\"BasicTickFormatter\"},{\"attributes\":{\"line_color\":\"#30a2da\",\"line_width\":2,\"x\":{\"field\":\"Year\"},\"y\":{\"field\":\"twenties_return\"}},\"id\":\"1376\",\"type\":\"Line\"},{\"attributes\":{},\"id\":\"1395\",\"type\":\"UnionRenderers\"},{\"attributes\":{\"margin\":[5,5,5,5],\"name\":\"HSpacer02386\",\"sizing_mode\":\"stretch_width\"},\"id\":\"1398\",\"type\":\"Spacer\"},{\"attributes\":{\"tools\":[{\"id\":\"1342\"},{\"id\":\"1360\"},{\"id\":\"1361\"},{\"id\":\"1362\"},{\"id\":\"1363\"},{\"id\":\"1364\"}]},\"id\":\"1366\",\"type\":\"Toolbar\"},{\"attributes\":{\"callback\":null,\"renderers\":[{\"id\":\"1379\"}],\"tags\":[\"hv_created\"],\"tooltips\":[[\"Year\",\"@{Year}\"],[\"twenties_return\",\"@{twenties_return}\"]]},\"id\":\"1342\",\"type\":\"HoverTool\"},{\"attributes\":{\"end\":2020.0,\"reset_end\":2020.0,\"reset_start\":2010.0,\"start\":2010.0,\"tags\":[[[\"Year\",\"Year\",null]]]},\"id\":\"1340\",\"type\":\"Range1d\"},{\"attributes\":{\"margin\":[5,5,5,5],\"name\":\"HSpacer02385\",\"sizing_mode\":\"stretch_width\"},\"id\":\"1339\",\"type\":\"Spacer\"},{\"attributes\":{},\"id\":\"1348\",\"type\":\"LinearScale\"},{\"attributes\":{\"axis\":{\"id\":\"1352\"},\"coordinates\":null,\"grid_line_color\":null,\"group\":null,\"ticker\":null},\"id\":\"1355\",\"type\":\"Grid\"},{\"attributes\":{\"end\":36.067,\"reset_end\":36.067,\"reset_start\":-8.057,\"start\":-8.057,\"tags\":[[[\"twenties_return\",\"twenties_return\",null]]]},\"id\":\"1341\",\"type\":\"Range1d\"},{\"attributes\":{},\"id\":\"1374\",\"type\":\"Selection\"},{\"attributes\":{},\"id\":\"1353\",\"type\":\"BasicTicker\"},{\"attributes\":{\"coordinates\":null,\"group\":null,\"text\":\"Twenties_return\",\"text_color\":\"black\",\"text_font_size\":\"12pt\"},\"id\":\"1344\",\"type\":\"Title\"},{\"attributes\":{\"below\":[{\"id\":\"1352\"}],\"center\":[{\"id\":\"1355\"},{\"id\":\"1359\"}],\"height\":300,\"left\":[{\"id\":\"1356\"}],\"margin\":[5,5,5,5],\"min_border_bottom\":10,\"min_border_left\":10,\"min_border_right\":10,\"min_border_top\":10,\"renderers\":[{\"id\":\"1379\"}],\"sizing_mode\":\"fixed\",\"title\":{\"id\":\"1344\"},\"toolbar\":{\"id\":\"1366\"},\"width\":700,\"x_range\":{\"id\":\"1340\"},\"x_scale\":{\"id\":\"1348\"},\"y_range\":{\"id\":\"1341\"},\"y_scale\":{\"id\":\"1350\"}},\"id\":\"1343\",\"subtype\":\"Figure\",\"type\":\"Plot\"},{\"attributes\":{\"children\":[{\"id\":\"1339\"},{\"id\":\"1343\"},{\"id\":\"1398\"}],\"margin\":[0,0,0,0],\"name\":\"Row02381\",\"tags\":[\"embedded\"]},\"id\":\"1338\",\"type\":\"Row\"},{\"attributes\":{},\"id\":\"1383\",\"type\":\"BasicTickFormatter\"},{\"attributes\":{\"axis\":{\"id\":\"1356\"},\"coordinates\":null,\"dimension\":1,\"grid_line_color\":null,\"group\":null,\"ticker\":null},\"id\":\"1359\",\"type\":\"Grid\"},{\"attributes\":{\"data\":{\"Year\":[2020,2019,2018,2017,2016,2015,2014,2013,2012,2011,2010],\"twenties_return\":{\"__ndarray__\":\"ZmZmZmZmMkA9CtejcH0/QIXrUbgehRHAFK5H4XrUNUDsUbgehesnQBSuR+F6FPY/4XoUrkdhK0BSuB6F6zFAQAAAAAAAADBA4XoUrkfhAEAfhetRuB4uQA==\",\"dtype\":\"float64\",\"order\":\"little\",\"shape\":[11]}},\"selected\":{\"id\":\"1374\"},\"selection_policy\":{\"id\":\"1395\"}},\"id\":\"1373\",\"type\":\"ColumnDataSource\"},{\"attributes\":{},\"id\":\"1384\",\"type\":\"AllLabels\"},{\"attributes\":{\"axis_label\":\"Year\",\"coordinates\":null,\"formatter\":{\"id\":\"1383\"},\"group\":null,\"major_label_policy\":{\"id\":\"1384\"},\"ticker\":{\"id\":\"1353\"}},\"id\":\"1352\",\"type\":\"LinearAxis\"},{\"attributes\":{},\"id\":\"1361\",\"type\":\"PanTool\"},{\"attributes\":{\"axis_label\":\"sp500 Return\",\"coordinates\":null,\"formatter\":{\"id\":\"1386\"},\"group\":null,\"major_label_policy\":{\"id\":\"1387\"},\"ticker\":{\"id\":\"1357\"}},\"id\":\"1356\",\"type\":\"LinearAxis\"},{\"attributes\":{},\"id\":\"1357\",\"type\":\"BasicTicker\"}],\"root_ids\":[\"1338\"]},\"title\":\"Bokeh Application\",\"version\":\"2.4.1\"}};\n",
       "    var render_items = [{\"docid\":\"3703d890-530f-4e77-a5fe-7fe089a34d8c\",\"root_ids\":[\"1338\"],\"roots\":{\"1338\":\"fab15952-dea5-453e-8314-0271e12cb294\"}}];\n",
       "    root.Bokeh.embed.embed_items_notebook(docs_json, render_items);\n",
       "  }\n",
       "  if (root.Bokeh !== undefined && root.Bokeh.Panel !== undefined) {\n",
       "    embed_document(root);\n",
       "  } else {\n",
       "    var attempts = 0;\n",
       "    var timer = setInterval(function(root) {\n",
       "      if (root.Bokeh !== undefined && root.Bokeh.Panel !== undefined) {\n",
       "        clearInterval(timer);\n",
       "        embed_document(root);\n",
       "      } else if (document.readyState == \"complete\") {\n",
       "        attempts++;\n",
       "        if (attempts > 200) {\n",
       "          clearInterval(timer);\n",
       "          console.log(\"Bokeh: ERROR: Unable to run BokehJS code because BokehJS library is missing\");\n",
       "        }\n",
       "      }\n",
       "    }, 25, root)\n",
       "  }\n",
       "})(window);</script>"
      ],
      "text/plain": [
       ":Curve   [Year]   (twenties_return)"
      ]
     },
     "execution_count": 47,
     "metadata": {
      "application/vnd.holoviews_exec.v0+json": {
       "id": "1338"
      }
     },
     "output_type": "execute_result"
    }
   ],
   "source": [
    "twenties_return_df.hvplot(\n",
    "    label=\"Twenties_return\",\n",
    "    xlabel=\"Year\",\n",
    "    ylabel=\"sp500 Return\"\n",
    ")"
   ]
  },
  {
   "cell_type": "code",
   "execution_count": 49,
   "id": "e77623f6-653a-4432-9f7a-76cb4acc8e28",
   "metadata": {},
   "outputs": [
    {
     "data": {
      "text/html": [
       "<div>\n",
       "<style scoped>\n",
       "    .dataframe tbody tr th:only-of-type {\n",
       "        vertical-align: middle;\n",
       "    }\n",
       "\n",
       "    .dataframe tbody tr th {\n",
       "        vertical-align: top;\n",
       "    }\n",
       "\n",
       "    .dataframe thead th {\n",
       "        text-align: right;\n",
       "    }\n",
       "</style>\n",
       "<table border=\"1\" class=\"dataframe\">\n",
       "  <thead>\n",
       "    <tr style=\"text-align: right;\">\n",
       "      <th></th>\n",
       "      <th>seventies_return</th>\n",
       "      <th>twenties_return</th>\n",
       "    </tr>\n",
       "    <tr>\n",
       "      <th>Year</th>\n",
       "      <th></th>\n",
       "      <th></th>\n",
       "    </tr>\n",
       "  </thead>\n",
       "  <tbody>\n",
       "    <tr>\n",
       "      <th>1966</th>\n",
       "      <td>-10.06</td>\n",
       "      <td>NaN</td>\n",
       "    </tr>\n",
       "    <tr>\n",
       "      <th>1967</th>\n",
       "      <td>23.98</td>\n",
       "      <td>NaN</td>\n",
       "    </tr>\n",
       "    <tr>\n",
       "      <th>1968</th>\n",
       "      <td>11.06</td>\n",
       "      <td>NaN</td>\n",
       "    </tr>\n",
       "    <tr>\n",
       "      <th>1969</th>\n",
       "      <td>-8.50</td>\n",
       "      <td>NaN</td>\n",
       "    </tr>\n",
       "    <tr>\n",
       "      <th>1970</th>\n",
       "      <td>4.01</td>\n",
       "      <td>NaN</td>\n",
       "    </tr>\n",
       "    <tr>\n",
       "      <th>1971</th>\n",
       "      <td>14.31</td>\n",
       "      <td>NaN</td>\n",
       "    </tr>\n",
       "    <tr>\n",
       "      <th>1972</th>\n",
       "      <td>18.98</td>\n",
       "      <td>NaN</td>\n",
       "    </tr>\n",
       "    <tr>\n",
       "      <th>1973</th>\n",
       "      <td>-14.66</td>\n",
       "      <td>NaN</td>\n",
       "    </tr>\n",
       "    <tr>\n",
       "      <th>1974</th>\n",
       "      <td>-26.47</td>\n",
       "      <td>NaN</td>\n",
       "    </tr>\n",
       "    <tr>\n",
       "      <th>1975</th>\n",
       "      <td>37.20</td>\n",
       "      <td>NaN</td>\n",
       "    </tr>\n",
       "    <tr>\n",
       "      <th>1976</th>\n",
       "      <td>23.84</td>\n",
       "      <td>NaN</td>\n",
       "    </tr>\n",
       "    <tr>\n",
       "      <th>1977</th>\n",
       "      <td>-7.18</td>\n",
       "      <td>NaN</td>\n",
       "    </tr>\n",
       "    <tr>\n",
       "      <th>1978</th>\n",
       "      <td>6.56</td>\n",
       "      <td>NaN</td>\n",
       "    </tr>\n",
       "    <tr>\n",
       "      <th>2010</th>\n",
       "      <td>NaN</td>\n",
       "      <td>15.06</td>\n",
       "    </tr>\n",
       "    <tr>\n",
       "      <th>2011</th>\n",
       "      <td>NaN</td>\n",
       "      <td>2.11</td>\n",
       "    </tr>\n",
       "    <tr>\n",
       "      <th>2012</th>\n",
       "      <td>NaN</td>\n",
       "      <td>16.00</td>\n",
       "    </tr>\n",
       "    <tr>\n",
       "      <th>2013</th>\n",
       "      <td>NaN</td>\n",
       "      <td>32.39</td>\n",
       "    </tr>\n",
       "    <tr>\n",
       "      <th>2014</th>\n",
       "      <td>NaN</td>\n",
       "      <td>13.69</td>\n",
       "    </tr>\n",
       "    <tr>\n",
       "      <th>2015</th>\n",
       "      <td>NaN</td>\n",
       "      <td>1.38</td>\n",
       "    </tr>\n",
       "    <tr>\n",
       "      <th>2016</th>\n",
       "      <td>NaN</td>\n",
       "      <td>11.96</td>\n",
       "    </tr>\n",
       "    <tr>\n",
       "      <th>2017</th>\n",
       "      <td>NaN</td>\n",
       "      <td>21.83</td>\n",
       "    </tr>\n",
       "    <tr>\n",
       "      <th>2018</th>\n",
       "      <td>NaN</td>\n",
       "      <td>-4.38</td>\n",
       "    </tr>\n",
       "    <tr>\n",
       "      <th>2019</th>\n",
       "      <td>NaN</td>\n",
       "      <td>31.49</td>\n",
       "    </tr>\n",
       "    <tr>\n",
       "      <th>2020</th>\n",
       "      <td>NaN</td>\n",
       "      <td>18.40</td>\n",
       "    </tr>\n",
       "  </tbody>\n",
       "</table>\n",
       "</div>"
      ],
      "text/plain": [
       "      seventies_return  twenties_return\n",
       "Year                                   \n",
       "1966            -10.06              NaN\n",
       "1967             23.98              NaN\n",
       "1968             11.06              NaN\n",
       "1969             -8.50              NaN\n",
       "1970              4.01              NaN\n",
       "1971             14.31              NaN\n",
       "1972             18.98              NaN\n",
       "1973            -14.66              NaN\n",
       "1974            -26.47              NaN\n",
       "1975             37.20              NaN\n",
       "1976             23.84              NaN\n",
       "1977             -7.18              NaN\n",
       "1978              6.56              NaN\n",
       "2010               NaN            15.06\n",
       "2011               NaN             2.11\n",
       "2012               NaN            16.00\n",
       "2013               NaN            32.39\n",
       "2014               NaN            13.69\n",
       "2015               NaN             1.38\n",
       "2016               NaN            11.96\n",
       "2017               NaN            21.83\n",
       "2018               NaN            -4.38\n",
       "2019               NaN            31.49\n",
       "2020               NaN            18.40"
      ]
     },
<<<<<<< HEAD
     "execution_count": 4,
=======
     "execution_count": 49,
>>>>>>> b27697b5e4ac3a132be72c4d6d58e32203fc9fde
     "metadata": {},
     "output_type": "execute_result"
    }
   ],
   "source": [
    "comparison = pd.concat([seventies_return_df, twenties_return_df], axis=1)\n",
    "comparison"
   ]
  },
  {
   "cell_type": "code",
   "execution_count": 50,
   "id": "bc19cd70-f6cd-4ee6-9eb4-996a379c4ddf",
   "metadata": {},
   "outputs": [
    {
     "data": {
      "text/plain": [
       "<AxesSubplot:xlabel='Year'>"
      ]
     },
     "execution_count": 50,
     "metadata": {},
     "output_type": "execute_result"
    },
    {
     "data": {
      "image/png": "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\n",
      "text/plain": [
       "<Figure size 432x288 with 1 Axes>"
      ]
     },
     "metadata": {
      "needs_background": "light"
     },
     "output_type": "display_data"
    }
   ],
   "source": [
    "ax = seventies_return_df.plot()\n",
    "twenties_return_df.plot(ax=ax)"
   ]
  },
  {
   "cell_type": "code",
   "execution_count": 51,
   "id": "734b6ad9-758a-420a-8eb6-640d202ac7f7",
   "metadata": {},
   "outputs": [
    {
     "data": {},
     "metadata": {},
     "output_type": "display_data"
    },
    {
     "data": {
      "application/vnd.holoviews_exec.v0+json": "",
      "text/html": [
       "<div id='1450'>\n",
       "\n",
       "\n",
       "\n",
       "\n",
       "\n",
       "  <div class=\"bk-root\" id=\"9a7caf8f-fa4d-4bbf-a294-c7b1f85f59c2\" data-root-id=\"1450\"></div>\n",
       "</div>\n",
       "<script type=\"application/javascript\">(function(root) {\n",
       "  function embed_document(root) {\n",
       "    var docs_json = {\"a5f859b2-abb1-4d8e-a0b4-e4688a3a7079\":{\"defs\":[{\"extends\":null,\"module\":null,\"name\":\"ReactiveHTML1\",\"overrides\":[],\"properties\":[]},{\"extends\":null,\"module\":null,\"name\":\"FlexBox1\",\"overrides\":[],\"properties\":[{\"default\":\"flex-start\",\"kind\":null,\"name\":\"align_content\"},{\"default\":\"flex-start\",\"kind\":null,\"name\":\"align_items\"},{\"default\":\"row\",\"kind\":null,\"name\":\"flex_direction\"},{\"default\":\"wrap\",\"kind\":null,\"name\":\"flex_wrap\"},{\"default\":\"flex-start\",\"kind\":null,\"name\":\"justify_content\"}]},{\"extends\":null,\"module\":null,\"name\":\"GridStack1\",\"overrides\":[],\"properties\":[{\"default\":\"warn\",\"kind\":null,\"name\":\"mode\"},{\"default\":null,\"kind\":null,\"name\":\"ncols\"},{\"default\":null,\"kind\":null,\"name\":\"nrows\"},{\"default\":true,\"kind\":null,\"name\":\"allow_resize\"},{\"default\":true,\"kind\":null,\"name\":\"allow_drag\"},{\"default\":[],\"kind\":null,\"name\":\"state\"}]},{\"extends\":null,\"module\":null,\"name\":\"click1\",\"overrides\":[],\"properties\":[{\"default\":\"\",\"kind\":null,\"name\":\"terminal_output\"},{\"default\":\"\",\"kind\":null,\"name\":\"debug_name\"},{\"default\":0,\"kind\":null,\"name\":\"clears\"}]},{\"extends\":null,\"module\":null,\"name\":\"NotificationAreaBase1\",\"overrides\":[],\"properties\":[{\"default\":\"bottom-right\",\"kind\":null,\"name\":\"position\"},{\"default\":0,\"kind\":null,\"name\":\"_clear\"}]},{\"extends\":null,\"module\":null,\"name\":\"NotificationArea1\",\"overrides\":[],\"properties\":[{\"default\":[],\"kind\":null,\"name\":\"notifications\"},{\"default\":\"bottom-right\",\"kind\":null,\"name\":\"position\"},{\"default\":0,\"kind\":null,\"name\":\"_clear\"},{\"default\":[{\"background\":\"#ffc107\",\"icon\":{\"className\":\"fas fa-exclamation-triangle\",\"color\":\"white\",\"tagName\":\"i\"},\"type\":\"warning\"},{\"background\":\"#007bff\",\"icon\":{\"className\":\"fas fa-info-circle\",\"color\":\"white\",\"tagName\":\"i\"},\"type\":\"info\"}],\"kind\":null,\"name\":\"types\"}]},{\"extends\":null,\"module\":null,\"name\":\"Notification\",\"overrides\":[],\"properties\":[{\"default\":null,\"kind\":null,\"name\":\"background\"},{\"default\":3000,\"kind\":null,\"name\":\"duration\"},{\"default\":null,\"kind\":null,\"name\":\"icon\"},{\"default\":\"\",\"kind\":null,\"name\":\"message\"},{\"default\":null,\"kind\":null,\"name\":\"notification_type\"},{\"default\":false,\"kind\":null,\"name\":\"_destroyed\"}]},{\"extends\":null,\"module\":null,\"name\":\"TemplateActions1\",\"overrides\":[],\"properties\":[{\"default\":0,\"kind\":null,\"name\":\"open_modal\"},{\"default\":0,\"kind\":null,\"name\":\"close_modal\"}]},{\"extends\":null,\"module\":null,\"name\":\"MaterialTemplateActions1\",\"overrides\":[],\"properties\":[{\"default\":0,\"kind\":null,\"name\":\"open_modal\"},{\"default\":0,\"kind\":null,\"name\":\"close_modal\"}]}],\"roots\":{\"references\":[{\"attributes\":{},\"id\":\"1461\",\"type\":\"LinearScale\"},{\"attributes\":{\"line_color\":\"#fc4f30\",\"line_width\":2,\"x\":{\"field\":\"Year\"},\"y\":{\"field\":\"value\"}},\"id\":\"1516\",\"type\":\"Line\"},{\"attributes\":{},\"id\":\"1490\",\"type\":\"BasicTickFormatter\"},{\"attributes\":{\"line_color\":\"#30a2da\",\"line_width\":2,\"x\":{\"field\":\"Year\"},\"y\":{\"field\":\"value\"}},\"id\":\"1512\",\"type\":\"Line\"},{\"attributes\":{\"callback\":null,\"renderers\":[{\"id\":\"1498\"},{\"id\":\"1519\"}],\"tags\":[\"hv_created\"],\"tooltips\":[[\"Variable\",\"@{Variable}\"],[\"Year\",\"@{Year}\"],[\"value\",\"@{value}\"]]},\"id\":\"1454\",\"type\":\"HoverTool\"},{\"attributes\":{\"children\":[{\"id\":\"1451\"},{\"id\":\"1456\"},{\"id\":\"1631\"}],\"margin\":[0,0,0,0],\"name\":\"Row02633\",\"tags\":[\"embedded\"]},\"id\":\"1450\",\"type\":\"Row\"},{\"attributes\":{\"coordinates\":null,\"group\":null,\"text_color\":\"black\",\"text_font_size\":\"12pt\"},\"id\":\"1457\",\"type\":\"Title\"},{\"attributes\":{\"end\":43.56700000000001,\"reset_end\":43.56700000000001,\"reset_start\":-32.837,\"start\":-32.837,\"tags\":[[[\"value\",\"value\",null]]]},\"id\":\"1453\",\"type\":\"Range1d\"},{\"attributes\":{\"bottom_units\":\"screen\",\"coordinates\":null,\"fill_alpha\":0.5,\"fill_color\":\"lightgrey\",\"group\":null,\"left_units\":\"screen\",\"level\":\"overlay\",\"line_alpha\":1.0,\"line_color\":\"black\",\"line_dash\":[4,4],\"line_width\":2,\"right_units\":\"screen\",\"syncable\":false,\"top_units\":\"screen\"},\"id\":\"1478\",\"type\":\"BoxAnnotation\"},{\"attributes\":{\"axis\":{\"id\":\"1465\"},\"coordinates\":null,\"grid_line_color\":null,\"group\":null,\"ticker\":null},\"id\":\"1468\",\"type\":\"Grid\"},{\"attributes\":{\"line_alpha\":0.1,\"line_color\":\"#fc4f30\",\"line_width\":2,\"x\":{\"field\":\"Year\"},\"y\":{\"field\":\"value\"}},\"id\":\"1517\",\"type\":\"Line\"},{\"attributes\":{\"data\":{\"Variable\":[\"seventies_return\",\"seventies_return\",\"seventies_return\",\"seventies_return\",\"seventies_return\",\"seventies_return\",\"seventies_return\",\"seventies_return\",\"seventies_return\",\"seventies_return\",\"seventies_return\",\"seventies_return\",\"seventies_return\",\"seventies_return\",\"seventies_return\",\"seventies_return\",\"seventies_return\",\"seventies_return\",\"seventies_return\",\"seventies_return\",\"seventies_return\",\"seventies_return\",\"seventies_return\",\"seventies_return\"],\"Year\":[1966,1967,1968,1969,1970,1971,1972,1973,1974,1975,1976,1977,1978,2010,2011,2012,2013,2014,2015,2016,2017,2018,2019,2020],\"value\":{\"__ndarray__\":\"H4XrUbgeJMB7FK5H4fo3QB+F61G4HiZAAAAAAAAAIcAK16NwPQoQQB+F61G4nixAexSuR+H6MkBSuB6F61EtwLgehetReDrAmpmZmZmZQkDXo3A9Ctc3QLgehetRuBzAPQrXo3A9GkAAAAAAAAD4fwAAAAAAAPh/AAAAAAAA+H8AAAAAAAD4fwAAAAAAAPh/AAAAAAAA+H8AAAAAAAD4fwAAAAAAAPh/AAAAAAAA+H8AAAAAAAD4fwAAAAAAAPh/\",\"dtype\":\"float64\",\"order\":\"little\",\"shape\":[24]}},\"selected\":{\"id\":\"1493\"},\"selection_policy\":{\"id\":\"1507\"}},\"id\":\"1492\",\"type\":\"ColumnDataSource\"},{\"attributes\":{\"below\":[{\"id\":\"1465\"}],\"center\":[{\"id\":\"1468\"},{\"id\":\"1472\"}],\"height\":300,\"left\":[{\"id\":\"1469\"}],\"margin\":[5,5,5,5],\"min_border_bottom\":10,\"min_border_left\":10,\"min_border_right\":10,\"min_border_top\":10,\"renderers\":[{\"id\":\"1498\"},{\"id\":\"1519\"}],\"right\":[{\"id\":\"1510\"}],\"sizing_mode\":\"fixed\",\"title\":{\"id\":\"1457\"},\"toolbar\":{\"id\":\"1479\"},\"width\":700,\"x_range\":{\"id\":\"1452\"},\"x_scale\":{\"id\":\"1461\"},\"y_range\":{\"id\":\"1453\"},\"y_scale\":{\"id\":\"1463\"}},\"id\":\"1456\",\"subtype\":\"Figure\",\"type\":\"Plot\"},{\"attributes\":{},\"id\":\"1474\",\"type\":\"PanTool\"},{\"attributes\":{\"source\":{\"id\":\"1513\"}},\"id\":\"1520\",\"type\":\"CDSView\"},{\"attributes\":{},\"id\":\"1514\",\"type\":\"Selection\"},{\"attributes\":{\"line_color\":\"#fc4f30\",\"line_width\":2,\"x\":{\"field\":\"Year\"},\"y\":{\"field\":\"value\"}},\"id\":\"1534\",\"type\":\"Line\"},{\"attributes\":{\"axis_label\":\"Year\",\"coordinates\":null,\"formatter\":{\"id\":\"1487\"},\"group\":null,\"major_label_policy\":{\"id\":\"1488\"},\"ticker\":{\"id\":\"1466\"}},\"id\":\"1465\",\"type\":\"LinearAxis\"},{\"attributes\":{\"coordinates\":null,\"data_source\":{\"id\":\"1513\"},\"glyph\":{\"id\":\"1516\"},\"group\":null,\"hover_glyph\":null,\"muted_glyph\":{\"id\":\"1518\"},\"nonselection_glyph\":{\"id\":\"1517\"},\"selection_glyph\":{\"id\":\"1534\"},\"view\":{\"id\":\"1520\"}},\"id\":\"1519\",\"type\":\"GlyphRenderer\"},{\"attributes\":{},\"id\":\"1470\",\"type\":\"BasicTicker\"},{\"attributes\":{\"tools\":[{\"id\":\"1454\"},{\"id\":\"1473\"},{\"id\":\"1474\"},{\"id\":\"1475\"},{\"id\":\"1476\"},{\"id\":\"1477\"}]},\"id\":\"1479\",\"type\":\"Toolbar\"},{\"attributes\":{},\"id\":\"1463\",\"type\":\"LinearScale\"},{\"attributes\":{\"line_alpha\":0.2,\"line_color\":\"#fc4f30\",\"line_width\":2,\"x\":{\"field\":\"Year\"},\"y\":{\"field\":\"value\"}},\"id\":\"1518\",\"type\":\"Line\"},{\"attributes\":{},\"id\":\"1488\",\"type\":\"AllLabels\"},{\"attributes\":{\"coordinates\":null,\"data_source\":{\"id\":\"1492\"},\"glyph\":{\"id\":\"1495\"},\"group\":null,\"hover_glyph\":null,\"muted_glyph\":{\"id\":\"1497\"},\"nonselection_glyph\":{\"id\":\"1496\"},\"selection_glyph\":{\"id\":\"1512\"},\"view\":{\"id\":\"1499\"}},\"id\":\"1498\",\"type\":\"GlyphRenderer\"},{\"attributes\":{},\"id\":\"1466\",\"type\":\"BasicTicker\"},{\"attributes\":{\"end\":2020.0,\"reset_end\":2020.0,\"reset_start\":1966.0,\"start\":1966.0,\"tags\":[[[\"Year\",\"Year\",null]]]},\"id\":\"1452\",\"type\":\"Range1d\"},{\"attributes\":{\"axis\":{\"id\":\"1469\"},\"coordinates\":null,\"dimension\":1,\"grid_line_color\":null,\"group\":null,\"ticker\":null},\"id\":\"1472\",\"type\":\"Grid\"},{\"attributes\":{\"label\":{\"value\":\"twenties_return\"},\"renderers\":[{\"id\":\"1519\"}]},\"id\":\"1533\",\"type\":\"LegendItem\"},{\"attributes\":{\"axis_label\":\"\",\"coordinates\":null,\"formatter\":{\"id\":\"1490\"},\"group\":null,\"major_label_policy\":{\"id\":\"1491\"},\"ticker\":{\"id\":\"1470\"}},\"id\":\"1469\",\"type\":\"LinearAxis\"},{\"attributes\":{},\"id\":\"1487\",\"type\":\"BasicTickFormatter\"},{\"attributes\":{\"line_color\":\"#30a2da\",\"line_width\":2,\"x\":{\"field\":\"Year\"},\"y\":{\"field\":\"value\"}},\"id\":\"1495\",\"type\":\"Line\"},{\"attributes\":{},\"id\":\"1491\",\"type\":\"AllLabels\"},{\"attributes\":{},\"id\":\"1475\",\"type\":\"WheelZoomTool\"},{\"attributes\":{\"label\":{\"value\":\"seventies_return\"},\"renderers\":[{\"id\":\"1498\"}]},\"id\":\"1511\",\"type\":\"LegendItem\"},{\"attributes\":{},\"id\":\"1530\",\"type\":\"UnionRenderers\"},{\"attributes\":{},\"id\":\"1473\",\"type\":\"SaveTool\"},{\"attributes\":{},\"id\":\"1507\",\"type\":\"UnionRenderers\"},{\"attributes\":{\"overlay\":{\"id\":\"1478\"}},\"id\":\"1476\",\"type\":\"BoxZoomTool\"},{\"attributes\":{\"margin\":[5,5,5,5],\"name\":\"HSpacer02637\",\"sizing_mode\":\"stretch_width\"},\"id\":\"1451\",\"type\":\"Spacer\"},{\"attributes\":{},\"id\":\"1477\",\"type\":\"ResetTool\"},{\"attributes\":{\"data\":{\"Variable\":[\"twenties_return\",\"twenties_return\",\"twenties_return\",\"twenties_return\",\"twenties_return\",\"twenties_return\",\"twenties_return\",\"twenties_return\",\"twenties_return\",\"twenties_return\",\"twenties_return\",\"twenties_return\",\"twenties_return\",\"twenties_return\",\"twenties_return\",\"twenties_return\",\"twenties_return\",\"twenties_return\",\"twenties_return\",\"twenties_return\",\"twenties_return\",\"twenties_return\",\"twenties_return\",\"twenties_return\"],\"Year\":[1966,1967,1968,1969,1970,1971,1972,1973,1974,1975,1976,1977,1978,2010,2011,2012,2013,2014,2015,2016,2017,2018,2019,2020],\"value\":{\"__ndarray__\":\"AAAAAAAA+H8AAAAAAAD4fwAAAAAAAPh/AAAAAAAA+H8AAAAAAAD4fwAAAAAAAPh/AAAAAAAA+H8AAAAAAAD4fwAAAAAAAPh/AAAAAAAA+H8AAAAAAAD4fwAAAAAAAPh/AAAAAAAA+H8fhetRuB4uQOF6FK5H4QBAAAAAAAAAMEBSuB6F6zFAQOF6FK5HYStAFK5H4XoU9j/sUbgehesnQBSuR+F61DVAhetRuB6FEcA9CtejcH0/QGZmZmZmZjJA\",\"dtype\":\"float64\",\"order\":\"little\",\"shape\":[24]}},\"selected\":{\"id\":\"1514\"},\"selection_policy\":{\"id\":\"1530\"}},\"id\":\"1513\",\"type\":\"ColumnDataSource\"},{\"attributes\":{\"margin\":[5,5,5,5],\"name\":\"HSpacer02638\",\"sizing_mode\":\"stretch_width\"},\"id\":\"1631\",\"type\":\"Spacer\"},{\"attributes\":{\"line_alpha\":0.1,\"line_color\":\"#30a2da\",\"line_width\":2,\"x\":{\"field\":\"Year\"},\"y\":{\"field\":\"value\"}},\"id\":\"1496\",\"type\":\"Line\"},{\"attributes\":{\"line_alpha\":0.2,\"line_color\":\"#30a2da\",\"line_width\":2,\"x\":{\"field\":\"Year\"},\"y\":{\"field\":\"value\"}},\"id\":\"1497\",\"type\":\"Line\"},{\"attributes\":{\"click_policy\":\"mute\",\"coordinates\":null,\"group\":null,\"items\":[{\"id\":\"1511\"},{\"id\":\"1533\"}],\"location\":[0,0],\"title\":\"Variable\"},\"id\":\"1510\",\"type\":\"Legend\"},{\"attributes\":{},\"id\":\"1493\",\"type\":\"Selection\"},{\"attributes\":{\"source\":{\"id\":\"1492\"}},\"id\":\"1499\",\"type\":\"CDSView\"}],\"root_ids\":[\"1450\"]},\"title\":\"Bokeh Application\",\"version\":\"2.4.1\"}};\n",
       "    var render_items = [{\"docid\":\"a5f859b2-abb1-4d8e-a0b4-e4688a3a7079\",\"root_ids\":[\"1450\"],\"roots\":{\"1450\":\"9a7caf8f-fa4d-4bbf-a294-c7b1f85f59c2\"}}];\n",
       "    root.Bokeh.embed.embed_items_notebook(docs_json, render_items);\n",
       "  }\n",
       "  if (root.Bokeh !== undefined && root.Bokeh.Panel !== undefined) {\n",
       "    embed_document(root);\n",
       "  } else {\n",
       "    var attempts = 0;\n",
       "    var timer = setInterval(function(root) {\n",
       "      if (root.Bokeh !== undefined && root.Bokeh.Panel !== undefined) {\n",
       "        clearInterval(timer);\n",
       "        embed_document(root);\n",
       "      } else if (document.readyState == \"complete\") {\n",
       "        attempts++;\n",
       "        if (attempts > 200) {\n",
       "          clearInterval(timer);\n",
       "          console.log(\"Bokeh: ERROR: Unable to run BokehJS code because BokehJS library is missing\");\n",
       "        }\n",
       "      }\n",
       "    }, 25, root)\n",
       "  }\n",
       "})(window);</script>"
      ],
      "text/plain": [
       ":NdOverlay   [Variable]\n",
       "   :Curve   [Year]   (value)"
      ]
     },
     "execution_count": 51,
     "metadata": {
      "application/vnd.holoviews_exec.v0+json": {
       "id": "1450"
      }
     },
     "output_type": "execute_result"
    }
   ],
   "source": [
    "comparison.hvplot()"
   ]
  },
  {
   "cell_type": "code",
<<<<<<< HEAD
   "execution_count": 5,
   "id": "7b6cfc83-eafe-423f-829b-91e073b7a7f2",
=======
   "execution_count": null,
   "id": "a639295d-cb9d-4a08-bfcf-458a5b364b14",
>>>>>>> b27697b5e4ac3a132be72c4d6d58e32203fc9fde
   "metadata": {},
   "outputs": [
    {
     "data": {
      "text/html": [
       "<div>\n",
       "<style scoped>\n",
       "    .dataframe tbody tr th:only-of-type {\n",
       "        vertical-align: middle;\n",
       "    }\n",
       "\n",
       "    .dataframe tbody tr th {\n",
       "        vertical-align: top;\n",
       "    }\n",
       "\n",
       "    .dataframe thead th {\n",
       "        text-align: right;\n",
       "    }\n",
       "</style>\n",
       "<table border=\"1\" class=\"dataframe\">\n",
       "  <thead>\n",
       "    <tr style=\"text-align: right;\">\n",
       "      <th></th>\n",
       "      <th>Month</th>\n",
       "      <th>Return (%)</th>\n",
       "    </tr>\n",
       "  </thead>\n",
       "  <tbody>\n",
       "    <tr>\n",
       "      <th>0</th>\n",
       "      <td>Jan-60</td>\n",
       "      <td>-3.61%</td>\n",
       "    </tr>\n",
       "    <tr>\n",
       "      <th>1</th>\n",
       "      <td>Feb-60</td>\n",
       "      <td>-1.08%</td>\n",
       "    </tr>\n",
       "    <tr>\n",
       "      <th>2</th>\n",
       "      <td>Mar-60</td>\n",
       "      <td>1.58%</td>\n",
       "    </tr>\n",
       "    <tr>\n",
       "      <th>3</th>\n",
       "      <td>Apr-60</td>\n",
       "      <td>-0.62%</td>\n",
       "    </tr>\n",
       "    <tr>\n",
       "      <th>4</th>\n",
       "      <td>May-60</td>\n",
       "      <td>3.99%</td>\n",
       "    </tr>\n",
       "    <tr>\n",
       "      <th>...</th>\n",
       "      <td>...</td>\n",
       "      <td>...</td>\n",
       "    </tr>\n",
       "    <tr>\n",
       "      <th>151</th>\n",
       "      <td>Aug-72</td>\n",
       "      <td>-1.21%</td>\n",
       "    </tr>\n",
       "    <tr>\n",
       "      <th>152</th>\n",
       "      <td>Sep-72</td>\n",
       "      <td>0.42%</td>\n",
       "    </tr>\n",
       "    <tr>\n",
       "      <th>153</th>\n",
       "      <td>Oct-72</td>\n",
       "      <td>5.25%</td>\n",
       "    </tr>\n",
       "    <tr>\n",
       "      <th>154</th>\n",
       "      <td>Nov-72</td>\n",
       "      <td>2.31%</td>\n",
       "    </tr>\n",
       "    <tr>\n",
       "      <th>155</th>\n",
       "      <td>Dec-72</td>\n",
       "      <td>0.99%</td>\n",
       "    </tr>\n",
       "  </tbody>\n",
       "</table>\n",
       "<p>156 rows × 2 columns</p>\n",
       "</div>"
      ],
      "text/plain": [
       "      Month Return (%)\n",
       "0    Jan-60     -3.61%\n",
       "1    Feb-60     -1.08%\n",
       "2    Mar-60      1.58%\n",
       "3    Apr-60     -0.62%\n",
       "4    May-60      3.99%\n",
       "..      ...        ...\n",
       "151  Aug-72     -1.21%\n",
       "152  Sep-72      0.42%\n",
       "153  Oct-72      5.25%\n",
       "154  Nov-72      2.31%\n",
       "155  Dec-72      0.99%\n",
       "\n",
       "[156 rows x 2 columns]"
      ]
     },
     "execution_count": 5,
     "metadata": {},
     "output_type": "execute_result"
    }
   ],
   "source": [
    "sp500_return"
   ]
  },
  {
   "cell_type": "code",
   "execution_count": null,
   "id": "0f9492d1-709e-4ac3-a436-ab3677105a19",
   "metadata": {},
   "outputs": [],
   "source": []
  }
 ],
 "metadata": {
  "kernelspec": {
   "display_name": "Python 3 (ipykernel)",
   "language": "python",
   "name": "python3"
  },
  "language_info": {
   "codemirror_mode": {
    "name": "ipython",
    "version": 3
   },
   "file_extension": ".py",
   "mimetype": "text/x-python",
   "name": "python",
   "nbconvert_exporter": "python",
   "pygments_lexer": "ipython3",
<<<<<<< HEAD
   "version": "3.7.13"
=======
   "version": "3.9.7"
>>>>>>> b27697b5e4ac3a132be72c4d6d58e32203fc9fde
  }
 },
 "nbformat": 4,
 "nbformat_minor": 5
}
